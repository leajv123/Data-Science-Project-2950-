{
 "cells": [
  {
   "cell_type": "markdown",
   "metadata": {},
   "source": [
    "# Phase IV Fatima Work"
   ]
  },
  {
   "cell_type": "code",
   "execution_count": 3,
   "metadata": {},
   "outputs": [],
   "source": [
    "# Load libraries.\n",
    "import pandas as pd\n",
    "import numpy as np\n",
    "import matplotlib.pyplot as plt\n",
    "from scipy import stats\n",
    "from sklearn.linear_model import LogisticRegression\n",
    "from sklearn.model_selection import train_test_split"
   ]
  },
  {
   "cell_type": "code",
   "execution_count": 4,
   "metadata": {},
   "outputs": [],
   "source": [
    "sqf2011= pd.read_csv('sqf2011_final_sample')\n",
    "\n",
    "sqf2019= pd.read_csv('sqf2019_final_sample')"
   ]
  },
  {
   "cell_type": "markdown",
   "metadata": {},
   "source": [
    "## Logistic Regression models"
   ]
  },
  {
   "cell_type": "markdown",
   "metadata": {},
   "source": [
    "## Frisked (2011)"
   ]
  },
  {
   "cell_type": "code",
   "execution_count": 59,
   "metadata": {},
   "outputs": [],
   "source": [
    "sqf2011copy1 = sqf2011.copy()"
   ]
  },
  {
   "cell_type": "code",
   "execution_count": 60,
   "metadata": {},
   "outputs": [],
   "source": [
    "logistic_data = sqf2011copy1[['frisked', 'obs_duration', 'age']]  # first, just the 'frisked', 'obs_duration', 'age' columns\n",
    "getbinary=sqf2011copy1[['sex', 'race', 'boro']]\n",
    "input_cols = list(getbinary.columns)\n",
    "for col in input_cols:   # get dummies for each predictor variable and add to df\n",
    "    logistic_data = pd.concat(\n",
    "        [\n",
    "            logistic_data, \n",
    "            pd.get_dummies(getbinary[col], prefix=col)\n",
    "        ]\n",
    "        , axis='columns'\n",
    "    )   \n",
    "\n",
    "#logistic_data.head()"
   ]
  },
  {
   "cell_type": "code",
   "execution_count": 62,
   "metadata": {},
   "outputs": [
    {
     "name": "stdout",
     "output_type": "stream",
     "text": [
      "The prediction accuracy as a percentage is 62.0.\n"
     ]
    },
    {
     "name": "stderr",
     "output_type": "stream",
     "text": [
      "C:\\Users\\fatim\\anaconda3\\lib\\site-packages\\sklearn\\linear_model\\_logistic.py:762: ConvergenceWarning: lbfgs failed to converge (status=1):\n",
      "STOP: TOTAL NO. of ITERATIONS REACHED LIMIT.\n",
      "\n",
      "Increase the number of iterations (max_iter) or scale the data as shown in:\n",
      "    https://scikit-learn.org/stable/modules/preprocessing.html\n",
      "Please also refer to the documentation for alternative solver options:\n",
      "    https://scikit-learn.org/stable/modules/linear_model.html#logistic-regression\n",
      "  n_iter_i = _check_optimize_result(\n"
     ]
    }
   ],
   "source": [
    "predictors2011 = list(logistic_data.columns)\n",
    "predictors2011.remove('frisked')\n",
    "\n",
    "train,test = train_test_split(logistic_data, test_size=0.2, random_state=15)\n",
    "\n",
    "logmod = LogisticRegression();\n",
    "logmod.fit(train[predictors2011], train['frisked'])\n",
    "\n",
    "tepreds=logmod.predict(test[predictors2011])\n",
    "print(\"The prediction accuracy as a percentage is {:.1f}.\".format(np.sum(tepreds==test['frisked'])/len(tepreds)*100))"
   ]
  },
  {
   "cell_type": "code",
   "execution_count": 63,
   "metadata": {},
   "outputs": [
    {
     "name": "stdout",
     "output_type": "stream",
     "text": [
      "-0.004\tobs_duration\n",
      "-0.020\tage\n",
      "-0.505\tsex_FEMALE\n",
      "0.447\tsex_MALE\n",
      "0.242\tsex_UNKNOWN\n",
      "0.016\trace_AMERICAN INDIAN/ALASKAN NATIVE\n",
      "-0.239\trace_ASIAN/PACIFIC ISLANDER\n",
      "0.279\trace_BLACK\n",
      "0.194\trace_BLACK HISPANIC\n",
      "-0.031\trace_UNKNOWN\n",
      "-0.178\trace_WHITE\n",
      "0.142\trace_WHITE HISPANIC\n",
      "0.411\tboro_BRONX\n",
      "-0.162\tboro_BROOKLYN\n",
      "-0.102\tboro_MANHATTAN\n",
      "0.294\tboro_QUEENS\n",
      "-0.255\tboro_STATEN IS\n"
     ]
    }
   ],
   "source": [
    "# print the coefficients legibly\n",
    "for i, predictor in enumerate(predictors2011):\n",
    "    print(f'{frisked2011model.coef_[0,i]:.3f}\\t{predictor}')"
   ]
  },
  {
   "cell_type": "code",
   "execution_count": 64,
   "metadata": {},
   "outputs": [
    {
     "data": {
      "image/png": "[encoded data removed]",
      "text/plain": [
       "<Figure size 432x288 with 1 Axes>"
      ]
     },
     "metadata": {
      "needs_background": "light"
     },
     "output_type": "display_data"
    }
   ],
   "source": [
    "# plot predictors by lean\n",
    "df = pd.DataFrame({'coef':frisked2011model.coef_[0]}, index=predictors2011)\n",
    "df.sort_values(by='coef').plot.barh(legend=False);"
   ]
  },
  {
   "cell_type": "code",
   "execution_count": null,
   "metadata": {},
   "outputs": [],
   "source": [
    "#it looks like being a male, in the bronx or queens, being black"
   ]
  },
  {
   "cell_type": "markdown",
   "metadata": {},
   "source": [
    "# Optimized Frisked (2011)"
   ]
  },
  {
   "cell_type": "markdown",
   "metadata": {},
   "source": [
    "Based on the Chi square tests, the  sex, race, and boro categories have a statisticalaly significant association with whether someone is Frisked."
   ]
  },
  {
   "cell_type": "code",
   "execution_count": 65,
   "metadata": {},
   "outputs": [
    {
     "ename": "IndentationError",
     "evalue": "expected an indented block (<ipython-input-65-3a00f7ff9b7d>, line 8)",
     "output_type": "error",
     "traceback": [
      "\u001b[1;36m  File \u001b[1;32m\"<ipython-input-65-3a00f7ff9b7d>\"\u001b[1;36m, line \u001b[1;32m8\u001b[0m\n\u001b[1;33m    logistic_data = pd.concat(\u001b[0m\n\u001b[1;37m    ^\u001b[0m\n\u001b[1;31mIndentationError\u001b[0m\u001b[1;31m:\u001b[0m expected an indented block\n"
     ]
    }
   ],
   "source": [
    "def sqfLogData(logistic_data, getbinary):\n",
    "    \"\"\" Creates a dataframe with only the variables we are interested in for a logistic regression model\n",
    "    logistic_data is a df with columns that do not need to be given indicator variables.\n",
    "    getbinary is a dataframe with columns that need to be given indicator variables and will then be added on to the logistic_data df.\"\"\"\n",
    "   \n",
    "    input_cols = list(getbinary.columns)\n",
    "    for col in input_cols:   # get dummies for each predictor variable and add to df\n",
    "         logistic_data = pd.concat(\n",
    "            [\n",
    "                logistic_data, \n",
    "                pd.get_dummies(getbinary[col], prefix=col)\n",
    "            ]\n",
    "            , axis='columns'\n",
    "        )   "
   ]
  },
  {
   "cell_type": "code",
   "execution_count": null,
   "metadata": {},
   "outputs": [],
   "source": []
  }
 ],
 "metadata": {
  "kernelspec": {
   "display_name": "Python 3",
   "language": "python",
   "name": "python3"
  },
  "language_info": {
   "codemirror_mode": {
    "name": "ipython",
    "version": 3
   },
   "file_extension": ".py",
   "mimetype": "text/x-python",
   "name": "python",
   "nbconvert_exporter": "python",
   "pygments_lexer": "ipython3",
   "version": "3.8.5"
  }
 },
 "nbformat": 4,
 "nbformat_minor": 4
}
