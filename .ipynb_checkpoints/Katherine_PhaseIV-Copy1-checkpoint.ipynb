{
 "cells": [
  {
   "cell_type": "markdown",
   "metadata": {},
   "source": [
    "# Phase IV Data Analysis"
   ]
  },
  {
   "cell_type": "code",
   "execution_count": 1,
   "metadata": {},
   "outputs": [],
   "source": [
    "# Load libraries.\n",
    "import pandas as pd\n",
    "import numpy as np\n",
    "import matplotlib.pyplot as plt\n",
    "from scipy import stats\n",
    "from sklearn.linear_model import LinearRegression"
   ]
  },
  {
   "cell_type": "markdown",
   "metadata": {},
   "source": [
    "## Linear Regression Analysis of Stop-and Frisk's Efficacy"
   ]
  },
  {
   "cell_type": "markdown",
   "metadata": {},
   "source": [
    "### Using a Linear Regression Model to Predict the Number of Annual Offenses\n",
    "\n",
    "This linear regression model will predict the total number of criminal offenses reported annually in NYC from the number of stops recorded annually in NYC. \n",
    "\n",
    "The purpose of this model is to investigate whether the NYPD's Stop and Frisk Program had a tangible and quantifiable effect on criminal activity reported in NYC from 2011 to 2019."
   ]
  },
  {
   "cell_type": "code",
   "execution_count": 2,
   "metadata": {},
   "outputs": [
    {
     "data": {
      "text/html": [
       "<div>\n",
       "<style scoped>\n",
       "    .dataframe tbody tr th:only-of-type {\n",
       "        vertical-align: middle;\n",
       "    }\n",
       "\n",
       "    .dataframe tbody tr th {\n",
       "        vertical-align: top;\n",
       "    }\n",
       "\n",
       "    .dataframe thead th {\n",
       "        text-align: right;\n",
       "    }\n",
       "</style>\n",
       "<table border=\"1\" class=\"dataframe\">\n",
       "  <thead>\n",
       "    <tr style=\"text-align: right;\">\n",
       "      <th></th>\n",
       "      <th>offense</th>\n",
       "      <th>2009</th>\n",
       "      <th>2010</th>\n",
       "      <th>2011</th>\n",
       "      <th>2012</th>\n",
       "      <th>2013</th>\n",
       "      <th>2014</th>\n",
       "      <th>2015</th>\n",
       "      <th>2016</th>\n",
       "      <th>2017</th>\n",
       "      <th>2018</th>\n",
       "      <th>2019</th>\n",
       "      <th>status</th>\n",
       "    </tr>\n",
       "  </thead>\n",
       "  <tbody>\n",
       "    <tr>\n",
       "      <th>0</th>\n",
       "      <td>murder</td>\n",
       "      <td>471</td>\n",
       "      <td>536</td>\n",
       "      <td>515</td>\n",
       "      <td>419</td>\n",
       "      <td>335</td>\n",
       "      <td>333</td>\n",
       "      <td>352</td>\n",
       "      <td>335</td>\n",
       "      <td>292</td>\n",
       "      <td>295</td>\n",
       "      <td>319</td>\n",
       "      <td>major_felony</td>\n",
       "    </tr>\n",
       "    <tr>\n",
       "      <th>1</th>\n",
       "      <td>rape</td>\n",
       "      <td>1205</td>\n",
       "      <td>1373</td>\n",
       "      <td>1420</td>\n",
       "      <td>1445</td>\n",
       "      <td>1378</td>\n",
       "      <td>1352</td>\n",
       "      <td>1438</td>\n",
       "      <td>1438</td>\n",
       "      <td>1449</td>\n",
       "      <td>1794</td>\n",
       "      <td>1755</td>\n",
       "      <td>major_felony</td>\n",
       "    </tr>\n",
       "    <tr>\n",
       "      <th>2</th>\n",
       "      <td>robbery</td>\n",
       "      <td>18601</td>\n",
       "      <td>19486</td>\n",
       "      <td>19717</td>\n",
       "      <td>20144</td>\n",
       "      <td>19128</td>\n",
       "      <td>16539</td>\n",
       "      <td>16931</td>\n",
       "      <td>15500</td>\n",
       "      <td>13956</td>\n",
       "      <td>12913</td>\n",
       "      <td>13371</td>\n",
       "      <td>major_felony</td>\n",
       "    </tr>\n",
       "    <tr>\n",
       "      <th>3</th>\n",
       "      <td>felony_assault</td>\n",
       "      <td>16773</td>\n",
       "      <td>16956</td>\n",
       "      <td>18482</td>\n",
       "      <td>19381</td>\n",
       "      <td>20297</td>\n",
       "      <td>20207</td>\n",
       "      <td>20270</td>\n",
       "      <td>20847</td>\n",
       "      <td>20052</td>\n",
       "      <td>20208</td>\n",
       "      <td>20698</td>\n",
       "      <td>major_felony</td>\n",
       "    </tr>\n",
       "    <tr>\n",
       "      <th>4</th>\n",
       "      <td>burglary</td>\n",
       "      <td>19430</td>\n",
       "      <td>18600</td>\n",
       "      <td>18720</td>\n",
       "      <td>19168</td>\n",
       "      <td>17429</td>\n",
       "      <td>16765</td>\n",
       "      <td>15125</td>\n",
       "      <td>12990</td>\n",
       "      <td>12083</td>\n",
       "      <td>11687</td>\n",
       "      <td>10783</td>\n",
       "      <td>major_felony</td>\n",
       "    </tr>\n",
       "  </tbody>\n",
       "</table>\n",
       "</div>"
      ],
      "text/plain": [
       "          offense   2009   2010   2011   2012   2013   2014   2015   2016  \\\n",
       "0          murder    471    536    515    419    335    333    352    335   \n",
       "1            rape   1205   1373   1420   1445   1378   1352   1438   1438   \n",
       "2         robbery  18601  19486  19717  20144  19128  16539  16931  15500   \n",
       "3  felony_assault  16773  16956  18482  19381  20297  20207  20270  20847   \n",
       "4        burglary  19430  18600  18720  19168  17429  16765  15125  12990   \n",
       "\n",
       "    2017   2018   2019        status  \n",
       "0    292    295    319  major_felony  \n",
       "1   1449   1794   1755  major_felony  \n",
       "2  13956  12913  13371  major_felony  \n",
       "3  20052  20208  20698  major_felony  \n",
       "4  12083  11687  10783  major_felony  "
      ]
     },
     "execution_count": 2,
     "metadata": {},
     "output_type": "execute_result"
    }
   ],
   "source": [
    "# Load Crime Offenses dataset\n",
    "nyc_crime = pd.read_csv('/Users/katherinevella/Desktop/Data Science/Data-Science-Project-2950-/PhaseIV_Submission/nyc_crime')\n",
    "nyc_crime = nyc_crime.drop(columns = 'Unnamed: 0')\n",
    "nyc_crime.head()"
   ]
  },
  {
   "cell_type": "markdown",
   "metadata": {},
   "source": [
    "#### Gathering the Data:"
   ]
  },
  {
   "cell_type": "code",
   "execution_count": 3,
   "metadata": {},
   "outputs": [
    {
     "name": "stdout",
     "output_type": "stream",
     "text": [
      "Total Criminal Offenses Reported Annually (2011-2019): \n",
      "[605815, 603544, 589372, 577059, 549155, 542586, 519973, 491701, 476605]\n"
     ]
    }
   ],
   "source": [
    "# Get the total number of criminal offenses recorded each year (2011-2019)\n",
    "offense_types = nyc_crime['offense'].count()\n",
    "\n",
    "annual_offenses = []\n",
    "for year in nyc_crime.columns[3:12]:\n",
    "    count = 0\n",
    "    for offense in range(offense_types):\n",
    "        count = count + nyc_crime[year][offense]\n",
    "        \n",
    "    annual_offenses = annual_offenses + [count]\n",
    "print('Total Criminal Offenses Reported Annually (2011-2019): ')\n",
    "print(annual_offenses)"
   ]
  },
  {
   "cell_type": "code",
   "execution_count": 4,
   "metadata": {},
   "outputs": [
    {
     "name": "stdout",
     "output_type": "stream",
     "text": [
      "Total Stops Reported Annually (2011-2019): \n",
      "[685724 532911 191851  45787  22565  12404  11629  11008  13450]\n"
     ]
    }
   ],
   "source": [
    "# Get the total number of stops reported\n",
    "\n",
    "# Source: https://www.nyclu.org/en/stop-and-frisk-data\n",
    "\n",
    "annual_stops = np.array([685724, 532911, 191851, 45787, 22565, 12404, 11629, 11008, 13450])\n",
    "\n",
    "print('Total Stops Reported Annually (2011-2019): ')\n",
    "print(annual_stops)"
   ]
  },
  {
   "cell_type": "markdown",
   "metadata": {},
   "source": [
    "#### Performing the Linear Regression to Predict Total Offenses:"
   ]
  },
  {
   "cell_type": "code",
   "execution_count": 5,
   "metadata": {},
   "outputs": [
    {
     "data": {
      "image/png": "[encoded data removed]",
      "text/plain": [
       "<Figure size 432x288 with 1 Axes>"
      ]
     },
     "metadata": {
      "needs_background": "light"
     },
     "output_type": "display_data"
    }
   ],
   "source": [
    "# Perform linear regression with number of stops each year as predictor var X and total number of offenses as criterion var y\n",
    "\n",
    "linear_model = LinearRegression().fit(annual_stops.reshape(-1,1), annual_offenses)\n",
    "\n",
    "# Scatterplot of observed values and predicted values\n",
    "plt.scatter(annual_stops, annual_offenses, label = 'Observed Values')\n",
    "predicted_offenses = linear_model.predict(annual_stops.reshape(-1,1))\n",
    "plt.scatter(annual_stops, predicted_offenses, label = 'Predicted Values')\n",
    "plt.title('Annual Stops vs. Annual Offenses')\n",
    "plt.xlabel('Annual Stops')\n",
    "plt.ylabel('Annual Offenses')\n",
    "plt.legend(loc='lower right')\n",
    "plt.show()"
   ]
  },
  {
   "cell_type": "code",
   "execution_count": 6,
   "metadata": {},
   "outputs": [
    {
     "name": "stdout",
     "output_type": "stream",
     "text": [
      "Estimated slope: 0.14\n",
      "Estimated intercept: 527641.34\n",
      "Coefficient of Determination (r^2): 0.55\n"
     ]
    }
   ],
   "source": [
    "# print slope, intercept, and coefficient of determination (r^2)\n",
    "print('Estimated slope: {:.2f}'.format(linear_model.coef_[0]))\n",
    "print('Estimated intercept: {:.2f}'.format(linear_model.intercept_))\n",
    "print('Coefficient of Determination (r^2): {:.2f}'.format(linear_model.score(annual_stops.reshape(-1,1), annual_offenses)))"
   ]
  },
  {
   "cell_type": "markdown",
   "metadata": {},
   "source": [
    "The estimated slope of this linear regression model is 0.14. This value indicates that as the number of annual stops increases by 1, the number of annual offenses is predicted to increase by 0.14.\n",
    "\n",
    "We see here that number of stops is a moderate predictor of number of offenses overall. \n",
    "The r<sup>2</sup> value (the coefficient of determination) is 0.55, indicating that only 55% of the variation in the number of total annual offenses can be predicted by the number of annual stops."
   ]
  },
  {
   "cell_type": "markdown",
   "metadata": {},
   "source": [
    "Let's narrow this down to the two offenses specifically targeted by stop and frisk, drugs and weapons.\n",
    "\n",
    "The two illegal activities specifically targeted by the NYPD's Stop and Frisk Program are drug and weapon possession. Therefore, it is necessary to perform another linear regression analysis specifically modeling the relationship between the total number of stops reported annually and the number of drug & weapon offenses reported annually in NYC during this period."
   ]
  },
  {
   "cell_type": "markdown",
   "metadata": {},
   "source": [
    "### Using a Linear Regression Model to Predict the Number of Annual Drug & Weapons Offenses\n",
    "\n",
    "This linear regression model will predict the total number of criminal drug & weapons offenses reported annually in NYC from the number of stops recorded annually in NYC. The stop-and-frisk program primarily targets civilians suspected of drug- and/or weapons-related offenses, so one might anticipate that the number of stops to have a greater effect on the rates of these specific crimes than criminal offenses overall."
   ]
  },
  {
   "cell_type": "markdown",
   "metadata": {},
   "source": [
    "#### Gathering the Data:"
   ]
  },
  {
   "cell_type": "code",
   "execution_count": 7,
   "metadata": {},
   "outputs": [
    {
     "name": "stdout",
     "output_type": "stream",
     "text": [
      "Drug & Weapons Offenses Reported Annual (2011-2019):\n",
      "[115405, 99693, 86777, 80719, 64283, 61165, 55721, 39077, 26738]\n"
     ]
    }
   ],
   "source": [
    "# Get the number of drug & weapons offenses reported annually (2011-2019)\n",
    "drugs_weapons = nyc_crime.loc[(nyc_crime['offense'] == 'drugs') | (nyc_crime['offense'] == 'weapons')]\n",
    "\n",
    "annual_drugsWeapons = []\n",
    "for year in nyc_crime.columns[3:12]:\n",
    "    count = 0\n",
    "    for offense in drugs_weapons[year]:\n",
    "        count = count + offense\n",
    "    annual_drugsWeapons = annual_drugsWeapons + [count]\n",
    "        \n",
    "print('Drug & Weapons Offenses Reported Annual (2011-2019):')\n",
    "print(annual_drugsWeapons)"
   ]
  },
  {
   "cell_type": "markdown",
   "metadata": {},
   "source": [
    "### Performing the Linear Regression:"
   ]
  },
  {
   "cell_type": "code",
   "execution_count": 8,
   "metadata": {},
   "outputs": [
    {
     "data": {
      "image/png": "[encoded data removed]",
      "text/plain": [
       "<Figure size 432x288 with 1 Axes>"
      ]
     },
     "metadata": {
      "needs_background": "light"
     },
     "output_type": "display_data"
    }
   ],
   "source": [
    "# Perform linear regression with number of stops each year as predictor var X and number of drug & weapons offenses as criterion var y\n",
    "dw_linear_model = LinearRegression().fit(annual_stops.reshape(-1,1), annual_drugsWeapons)\n",
    "\n",
    "# Scatterplot of observed values and predicted values\n",
    "plt.scatter(annual_stops, annual_drugsWeapons, label = 'Observed Values')\n",
    "predicted_dw = dw_linear_model.predict(annual_stops.reshape(-1,1))\n",
    "plt.scatter(annual_stops, predicted_dw, label = 'Predicted Values')\n",
    "plt.title('Annual Stops vs. Annual Offenses (Drug and Weapon Charges)')\n",
    "plt.xlabel('Annual Stops')\n",
    "plt.ylabel('Annual Offenses')\n",
    "plt.legend(loc='lower right')\n",
    "plt.show()"
   ]
  },
  {
   "cell_type": "code",
   "execution_count": 9,
   "metadata": {},
   "outputs": [
    {
     "name": "stdout",
     "output_type": "stream",
     "text": [
      "Estimated slope: 0.09\n",
      "Estimated intercept: 54279.79\n",
      "r^2: 0.70\n"
     ]
    }
   ],
   "source": [
    "# print slope, intercept, and r^2\n",
    "print('Estimated slope: {:.2f}'.format(dw_linear_model.coef_[0]))\n",
    "print('Estimated intercept: {:.2f}'.format(dw_linear_model.intercept_))\n",
    "print('r^2: {:.2f}'.format(dw_linear_model.score(annual_stops.reshape(-1,1), annual_drugsWeapons)))"
   ]
  },
  {
   "cell_type": "markdown",
   "metadata": {},
   "source": [
    "The number of stops serves as a stronger predictor of the number of drug & weapons offenses rather than total offenses.\n",
    "\n",
    "The r^2 value (the coefficient of determination) of this model is 0.70, indicating that 70% of the variation in the number of annual offenses can be predicted by the number of annual stops for drugs & weapons. "
   ]
  },
  {
   "cell_type": "markdown",
   "metadata": {},
   "source": [
    "### Let's do this again. Just drugs"
   ]
  },
  {
   "cell_type": "code",
   "execution_count": 10,
   "metadata": {},
   "outputs": [
    {
     "data": {
      "text/plain": [
       "[101767, 87578, 75100, 69948, 53750, 50694, 47034, 31179, 20441]"
      ]
     },
     "execution_count": 10,
     "metadata": {},
     "output_type": "execute_result"
    }
   ],
   "source": [
    "# Get number of drug and weapons offenses per year\n",
    "\n",
    "drugs = nyc_crime.loc[nyc_crime['offense'] == 'drugs']\n",
    "\n",
    "annual_drugs = []\n",
    "# iterate through each year\n",
    "for year in nyc_crime.columns[3:12]:\n",
    "\n",
    "    count = 0\n",
    "    \n",
    "    # iterate through each type of charge\n",
    "    for offense in drugs[year]:\n",
    "        count = count + offense\n",
    "        \n",
    "    annual_drugs = annual_drugs + [count]\n",
    "        \n",
    "annual_drugs"
   ]
  },
  {
   "cell_type": "code",
   "execution_count": 11,
   "metadata": {},
   "outputs": [
    {
     "name": "stdout",
     "output_type": "stream",
     "text": [
      "Estimated slope:  0.08571397378404974\n",
      "Estimated intercept:  45175.2846815979\n"
     ]
    }
   ],
   "source": [
    "# Perform linear regression with number of stops each year as predictor var X and number of drug offenses as criterion var y\n",
    "\n",
    "d_linear_model = LinearRegression().fit(annual_stops.reshape(-1,1), annual_drugs)\n",
    "\n",
    "# print slope and intercept\n",
    "print('Estimated slope: ', d_linear_model.coef_[0])\n",
    "print('Estimated intercept: ',d_linear_model.intercept_) "
   ]
  },
  {
   "cell_type": "code",
   "execution_count": 12,
   "metadata": {},
   "outputs": [
    {
     "data": {
      "image/png": "[encoded data removed]",
      "text/plain": [
       "<Figure size 432x288 with 1 Axes>"
      ]
     },
     "metadata": {
      "needs_background": "light"
     },
     "output_type": "display_data"
    }
   ],
   "source": [
    "# Scatterplot of observed values and predicted values\n",
    "plt.scatter(annual_stops, annual_drugs, label = 'Observed Values')\n",
    "\n",
    "predicted_d = d_linear_model.predict(annual_stops.reshape(-1,1))\n",
    "plt.scatter(annual_stops, predicted_d, label = 'Predicted Values')\n",
    "\n",
    "plt.title('Annual Stops vs. Annual Offenses (Drug Charges)')\n",
    "plt.xlabel('Annual Stops')\n",
    "plt.ylabel('Annual Offenses')\n",
    "plt.show()"
   ]
  },
  {
   "cell_type": "code",
   "execution_count": 13,
   "metadata": {},
   "outputs": [
    {
     "name": "stdout",
     "output_type": "stream",
     "text": [
      "r^2: 0.71\n"
     ]
    }
   ],
   "source": [
    "print('r^2: {:.2f}'.format(d_linear_model.score(annual_stops.reshape(-1,1), annual_drugs)))"
   ]
  },
  {
   "cell_type": "markdown",
   "metadata": {},
   "source": [
    "### Let's do this again. Just weapons"
   ]
  },
  {
   "cell_type": "code",
   "execution_count": 14,
   "metadata": {},
   "outputs": [
    {
     "data": {
      "text/plain": [
       "[13638, 12115, 11677, 10771, 10533, 10471, 8687, 7898, 6297]"
      ]
     },
     "execution_count": 14,
     "metadata": {},
     "output_type": "execute_result"
    }
   ],
   "source": [
    "# Get number of drug and weapons offenses per year\n",
    "\n",
    "weapons = nyc_crime.loc[nyc_crime['offense'] == 'weapons']\n",
    "\n",
    "annual_weapons = []\n",
    "# iterate through each year\n",
    "for year in nyc_crime.columns[3:12]:\n",
    "\n",
    "    count = 0\n",
    "    \n",
    "    # iterate through each type of charge\n",
    "    for offense in weapons[year]:\n",
    "        count = count + offense\n",
    "        \n",
    "    annual_weapons = annual_weapons + [count]\n",
    "        \n",
    "annual_weapons"
   ]
  },
  {
   "cell_type": "code",
   "execution_count": 15,
   "metadata": {},
   "outputs": [
    {
     "name": "stdout",
     "output_type": "stream",
     "text": [
      "Estimated slope:  0.00664325780298151\n",
      "Estimated intercept:  9104.506633670006\n"
     ]
    }
   ],
   "source": [
    "# Perform linear regression with number of stops each year as predictor var X and number of WEAPONS offenses as criterion var y\n",
    "\n",
    "weapons_linear_model = LinearRegression().fit(annual_stops.reshape(-1,1), annual_weapons)\n",
    "\n",
    "# print slope and intercept\n",
    "print('Estimated slope: ', weapons_linear_model.coef_[0])\n",
    "print('Estimated intercept: ', weapons_linear_model.intercept_) "
   ]
  },
  {
   "cell_type": "code",
   "execution_count": 16,
   "metadata": {},
   "outputs": [
    {
     "data": {
      "image/png": "[encoded data removed]",
      "text/plain": [
       "<Figure size 432x288 with 1 Axes>"
      ]
     },
     "metadata": {
      "needs_background": "light"
     },
     "output_type": "display_data"
    }
   ],
   "source": [
    "# Scatterplot of observed values and predicted values\n",
    "plt.scatter(annual_stops, annual_weapons, label = 'Observed Values')\n",
    "\n",
    "predicted_weapons = weapons_linear_model.predict(annual_stops.reshape(-1,1))\n",
    "plt.scatter(annual_stops, predicted_weapons, label = 'Predicted Values')\n",
    "\n",
    "plt.title('Annual Stops vs. Annual Offenses (Weapons Charges)')\n",
    "plt.xlabel('Annual Stops')\n",
    "plt.ylabel('Annual Offenses')\n",
    "plt.show()"
   ]
  },
  {
   "cell_type": "code",
   "execution_count": 17,
   "metadata": {},
   "outputs": [
    {
     "name": "stdout",
     "output_type": "stream",
     "text": [
      "r^2: 0.58\n"
     ]
    }
   ],
   "source": [
    "print('r^2: {:.2f}'.format(weapons_linear_model.score(annual_stops.reshape(-1,1), annual_weapons)))"
   ]
  },
  {
   "cell_type": "markdown",
   "metadata": {},
   "source": [
    "## Stacked Bar Graph:"
   ]
  },
  {
   "cell_type": "code",
   "execution_count": 109,
   "metadata": {},
   "outputs": [
    {
     "data": {
      "text/html": [
       "<div>\n",
       "<style scoped>\n",
       "    .dataframe tbody tr th:only-of-type {\n",
       "        vertical-align: middle;\n",
       "    }\n",
       "\n",
       "    .dataframe tbody tr th {\n",
       "        vertical-align: top;\n",
       "    }\n",
       "\n",
       "    .dataframe thead th {\n",
       "        text-align: right;\n",
       "    }\n",
       "</style>\n",
       "<table border=\"1\" class=\"dataframe\">\n",
       "  <thead>\n",
       "    <tr style=\"text-align: right;\">\n",
       "      <th></th>\n",
       "      <th>offense</th>\n",
       "      <th>2009</th>\n",
       "      <th>2010</th>\n",
       "      <th>2011</th>\n",
       "      <th>2012</th>\n",
       "      <th>2013</th>\n",
       "      <th>2014</th>\n",
       "      <th>2015</th>\n",
       "      <th>2016</th>\n",
       "      <th>2017</th>\n",
       "      <th>2018</th>\n",
       "      <th>2019</th>\n",
       "      <th>status</th>\n",
       "    </tr>\n",
       "  </thead>\n",
       "  <tbody>\n",
       "    <tr>\n",
       "      <th>0</th>\n",
       "      <td>murder</td>\n",
       "      <td>471</td>\n",
       "      <td>536</td>\n",
       "      <td>515</td>\n",
       "      <td>419</td>\n",
       "      <td>335</td>\n",
       "      <td>333</td>\n",
       "      <td>352</td>\n",
       "      <td>335</td>\n",
       "      <td>292</td>\n",
       "      <td>295</td>\n",
       "      <td>319</td>\n",
       "      <td>major_felony</td>\n",
       "    </tr>\n",
       "    <tr>\n",
       "      <th>1</th>\n",
       "      <td>rape</td>\n",
       "      <td>1205</td>\n",
       "      <td>1373</td>\n",
       "      <td>1420</td>\n",
       "      <td>1445</td>\n",
       "      <td>1378</td>\n",
       "      <td>1352</td>\n",
       "      <td>1438</td>\n",
       "      <td>1438</td>\n",
       "      <td>1449</td>\n",
       "      <td>1794</td>\n",
       "      <td>1755</td>\n",
       "      <td>major_felony</td>\n",
       "    </tr>\n",
       "    <tr>\n",
       "      <th>2</th>\n",
       "      <td>robbery</td>\n",
       "      <td>18601</td>\n",
       "      <td>19486</td>\n",
       "      <td>19717</td>\n",
       "      <td>20144</td>\n",
       "      <td>19128</td>\n",
       "      <td>16539</td>\n",
       "      <td>16931</td>\n",
       "      <td>15500</td>\n",
       "      <td>13956</td>\n",
       "      <td>12913</td>\n",
       "      <td>13371</td>\n",
       "      <td>major_felony</td>\n",
       "    </tr>\n",
       "    <tr>\n",
       "      <th>3</th>\n",
       "      <td>felony_assault</td>\n",
       "      <td>16773</td>\n",
       "      <td>16956</td>\n",
       "      <td>18482</td>\n",
       "      <td>19381</td>\n",
       "      <td>20297</td>\n",
       "      <td>20207</td>\n",
       "      <td>20270</td>\n",
       "      <td>20847</td>\n",
       "      <td>20052</td>\n",
       "      <td>20208</td>\n",
       "      <td>20698</td>\n",
       "      <td>major_felony</td>\n",
       "    </tr>\n",
       "    <tr>\n",
       "      <th>4</th>\n",
       "      <td>burglary</td>\n",
       "      <td>19430</td>\n",
       "      <td>18600</td>\n",
       "      <td>18720</td>\n",
       "      <td>19168</td>\n",
       "      <td>17429</td>\n",
       "      <td>16765</td>\n",
       "      <td>15125</td>\n",
       "      <td>12990</td>\n",
       "      <td>12083</td>\n",
       "      <td>11687</td>\n",
       "      <td>10783</td>\n",
       "      <td>major_felony</td>\n",
       "    </tr>\n",
       "    <tr>\n",
       "      <th>5</th>\n",
       "      <td>grand_larceny</td>\n",
       "      <td>39580</td>\n",
       "      <td>37835</td>\n",
       "      <td>38501</td>\n",
       "      <td>42497</td>\n",
       "      <td>45368</td>\n",
       "      <td>43862</td>\n",
       "      <td>44005</td>\n",
       "      <td>44279</td>\n",
       "      <td>43150</td>\n",
       "      <td>43558</td>\n",
       "      <td>43250</td>\n",
       "      <td>major_felony</td>\n",
       "    </tr>\n",
       "    <tr>\n",
       "      <th>6</th>\n",
       "      <td>grand_larceny_of_motor_vehicle</td>\n",
       "      <td>10670</td>\n",
       "      <td>10329</td>\n",
       "      <td>9314</td>\n",
       "      <td>8093</td>\n",
       "      <td>7400</td>\n",
       "      <td>7664</td>\n",
       "      <td>7332</td>\n",
       "      <td>6327</td>\n",
       "      <td>5676</td>\n",
       "      <td>5428</td>\n",
       "      <td>5430</td>\n",
       "      <td>major_felony</td>\n",
       "    </tr>\n",
       "    <tr>\n",
       "      <th>7</th>\n",
       "      <td>stolen_property</td>\n",
       "      <td>823</td>\n",
       "      <td>864</td>\n",
       "      <td>823</td>\n",
       "      <td>711</td>\n",
       "      <td>689</td>\n",
       "      <td>1090</td>\n",
       "      <td>904</td>\n",
       "      <td>769</td>\n",
       "      <td>1019</td>\n",
       "      <td>951</td>\n",
       "      <td>733</td>\n",
       "      <td>nonmajor_felony</td>\n",
       "    </tr>\n",
       "    <tr>\n",
       "      <th>8</th>\n",
       "      <td>forgery_fraud_identity_theft</td>\n",
       "      <td>10225</td>\n",
       "      <td>10055</td>\n",
       "      <td>9876</td>\n",
       "      <td>10233</td>\n",
       "      <td>9493</td>\n",
       "      <td>9520</td>\n",
       "      <td>10400</td>\n",
       "      <td>11079</td>\n",
       "      <td>10063</td>\n",
       "      <td>9413</td>\n",
       "      <td>8684</td>\n",
       "      <td>nonmajor_felony</td>\n",
       "    </tr>\n",
       "    <tr>\n",
       "      <th>9</th>\n",
       "      <td>arson</td>\n",
       "      <td>1474</td>\n",
       "      <td>1467</td>\n",
       "      <td>1264</td>\n",
       "      <td>1253</td>\n",
       "      <td>1187</td>\n",
       "      <td>1205</td>\n",
       "      <td>1026</td>\n",
       "      <td>802</td>\n",
       "      <td>680</td>\n",
       "      <td>741</td>\n",
       "      <td>711</td>\n",
       "      <td>nonmajor_felony</td>\n",
       "    </tr>\n",
       "    <tr>\n",
       "      <th>10</th>\n",
       "      <td>sex_crimes</td>\n",
       "      <td>914</td>\n",
       "      <td>1053</td>\n",
       "      <td>1028</td>\n",
       "      <td>1380</td>\n",
       "      <td>1073</td>\n",
       "      <td>1135</td>\n",
       "      <td>1152</td>\n",
       "      <td>1336</td>\n",
       "      <td>1367</td>\n",
       "      <td>1615</td>\n",
       "      <td>1562</td>\n",
       "      <td>nonmajor_felony</td>\n",
       "    </tr>\n",
       "    <tr>\n",
       "      <th>11</th>\n",
       "      <td>drugs</td>\n",
       "      <td>26025</td>\n",
       "      <td>22913</td>\n",
       "      <td>21305</td>\n",
       "      <td>19680</td>\n",
       "      <td>19571</td>\n",
       "      <td>17113</td>\n",
       "      <td>15279</td>\n",
       "      <td>14712</td>\n",
       "      <td>13348</td>\n",
       "      <td>11236</td>\n",
       "      <td>9587</td>\n",
       "      <td>nonmajor_felony</td>\n",
       "    </tr>\n",
       "    <tr>\n",
       "      <th>12</th>\n",
       "      <td>weapons</td>\n",
       "      <td>5952</td>\n",
       "      <td>5413</td>\n",
       "      <td>5037</td>\n",
       "      <td>4979</td>\n",
       "      <td>5155</td>\n",
       "      <td>4605</td>\n",
       "      <td>4848</td>\n",
       "      <td>5465</td>\n",
       "      <td>4843</td>\n",
       "      <td>4639</td>\n",
       "      <td>4219</td>\n",
       "      <td>nonmajor_felony</td>\n",
       "    </tr>\n",
       "    <tr>\n",
       "      <th>13</th>\n",
       "      <td>criminal_mischief</td>\n",
       "      <td>6397</td>\n",
       "      <td>6006</td>\n",
       "      <td>6374</td>\n",
       "      <td>6737</td>\n",
       "      <td>7468</td>\n",
       "      <td>8466</td>\n",
       "      <td>9253</td>\n",
       "      <td>9966</td>\n",
       "      <td>10073</td>\n",
       "      <td>10427</td>\n",
       "      <td>11302</td>\n",
       "      <td>nonmajor_felony</td>\n",
       "    </tr>\n",
       "    <tr>\n",
       "      <th>14</th>\n",
       "      <td>other_felonies</td>\n",
       "      <td>11950</td>\n",
       "      <td>11616</td>\n",
       "      <td>11533</td>\n",
       "      <td>11929</td>\n",
       "      <td>13014</td>\n",
       "      <td>13735</td>\n",
       "      <td>13658</td>\n",
       "      <td>14217</td>\n",
       "      <td>13514</td>\n",
       "      <td>13645</td>\n",
       "      <td>14686</td>\n",
       "      <td>nonmajor_felony</td>\n",
       "    </tr>\n",
       "    <tr>\n",
       "      <th>15</th>\n",
       "      <td>stolen_property</td>\n",
       "      <td>2023</td>\n",
       "      <td>2240</td>\n",
       "      <td>2853</td>\n",
       "      <td>2662</td>\n",
       "      <td>2337</td>\n",
       "      <td>1469</td>\n",
       "      <td>1145</td>\n",
       "      <td>932</td>\n",
       "      <td>957</td>\n",
       "      <td>835</td>\n",
       "      <td>679</td>\n",
       "      <td>misdemeanor</td>\n",
       "    </tr>\n",
       "    <tr>\n",
       "      <th>16</th>\n",
       "      <td>sex_crimes</td>\n",
       "      <td>4459</td>\n",
       "      <td>4512</td>\n",
       "      <td>4632</td>\n",
       "      <td>4480</td>\n",
       "      <td>4064</td>\n",
       "      <td>4246</td>\n",
       "      <td>4555</td>\n",
       "      <td>4947</td>\n",
       "      <td>5424</td>\n",
       "      <td>5827</td>\n",
       "      <td>5805</td>\n",
       "      <td>misdemeanor</td>\n",
       "    </tr>\n",
       "    <tr>\n",
       "      <th>17</th>\n",
       "      <td>drugs</td>\n",
       "      <td>79302</td>\n",
       "      <td>79908</td>\n",
       "      <td>80462</td>\n",
       "      <td>67898</td>\n",
       "      <td>55529</td>\n",
       "      <td>52835</td>\n",
       "      <td>38471</td>\n",
       "      <td>35982</td>\n",
       "      <td>33686</td>\n",
       "      <td>19943</td>\n",
       "      <td>10854</td>\n",
       "      <td>misdemeanor</td>\n",
       "    </tr>\n",
       "    <tr>\n",
       "      <th>18</th>\n",
       "      <td>weapons</td>\n",
       "      <td>8367</td>\n",
       "      <td>8716</td>\n",
       "      <td>8601</td>\n",
       "      <td>7136</td>\n",
       "      <td>6522</td>\n",
       "      <td>6166</td>\n",
       "      <td>5685</td>\n",
       "      <td>5006</td>\n",
       "      <td>3844</td>\n",
       "      <td>3259</td>\n",
       "      <td>2078</td>\n",
       "      <td>misdemeanor</td>\n",
       "    </tr>\n",
       "    <tr>\n",
       "      <th>19</th>\n",
       "      <td>petit_larceny</td>\n",
       "      <td>80928</td>\n",
       "      <td>81522</td>\n",
       "      <td>81160</td>\n",
       "      <td>82947</td>\n",
       "      <td>85602</td>\n",
       "      <td>85121</td>\n",
       "      <td>81598</td>\n",
       "      <td>81274</td>\n",
       "      <td>83569</td>\n",
       "      <td>86489</td>\n",
       "      <td>89314</td>\n",
       "      <td>misdemeanor</td>\n",
       "    </tr>\n",
       "    <tr>\n",
       "      <th>20</th>\n",
       "      <td>assault3</td>\n",
       "      <td>50216</td>\n",
       "      <td>52716</td>\n",
       "      <td>50972</td>\n",
       "      <td>54495</td>\n",
       "      <td>53738</td>\n",
       "      <td>53847</td>\n",
       "      <td>42654</td>\n",
       "      <td>42422</td>\n",
       "      <td>41665</td>\n",
       "      <td>43126</td>\n",
       "      <td>42529</td>\n",
       "      <td>misdemeanor</td>\n",
       "    </tr>\n",
       "    <tr>\n",
       "      <th>21</th>\n",
       "      <td>dui</td>\n",
       "      <td>7700</td>\n",
       "      <td>6691</td>\n",
       "      <td>6027</td>\n",
       "      <td>6723</td>\n",
       "      <td>8238</td>\n",
       "      <td>7875</td>\n",
       "      <td>5933</td>\n",
       "      <td>5964</td>\n",
       "      <td>5652</td>\n",
       "      <td>4987</td>\n",
       "      <td>4369</td>\n",
       "      <td>misdemeanor</td>\n",
       "    </tr>\n",
       "    <tr>\n",
       "      <th>22</th>\n",
       "      <td>vehicle_and_traffic_laws</td>\n",
       "      <td>6178</td>\n",
       "      <td>6624</td>\n",
       "      <td>5802</td>\n",
       "      <td>5577</td>\n",
       "      <td>6106</td>\n",
       "      <td>5841</td>\n",
       "      <td>6266</td>\n",
       "      <td>6580</td>\n",
       "      <td>6457</td>\n",
       "      <td>6722</td>\n",
       "      <td>6777</td>\n",
       "      <td>misdemeanor</td>\n",
       "    </tr>\n",
       "    <tr>\n",
       "      <th>23</th>\n",
       "      <td>criminal_mischief</td>\n",
       "      <td>45770</td>\n",
       "      <td>44930</td>\n",
       "      <td>42995</td>\n",
       "      <td>41024</td>\n",
       "      <td>36765</td>\n",
       "      <td>38793</td>\n",
       "      <td>39606</td>\n",
       "      <td>38893</td>\n",
       "      <td>39289</td>\n",
       "      <td>36835</td>\n",
       "      <td>35876</td>\n",
       "      <td>misdemeanor</td>\n",
       "    </tr>\n",
       "    <tr>\n",
       "      <th>24</th>\n",
       "      <td>trespass</td>\n",
       "      <td>20904</td>\n",
       "      <td>19858</td>\n",
       "      <td>18297</td>\n",
       "      <td>15719</td>\n",
       "      <td>13459</td>\n",
       "      <td>14540</td>\n",
       "      <td>11473</td>\n",
       "      <td>9799</td>\n",
       "      <td>8218</td>\n",
       "      <td>6445</td>\n",
       "      <td>5405</td>\n",
       "      <td>misdemeanor</td>\n",
       "    </tr>\n",
       "    <tr>\n",
       "      <th>25</th>\n",
       "      <td>unauthorized_use_of_vehicle</td>\n",
       "      <td>1181</td>\n",
       "      <td>1274</td>\n",
       "      <td>1285</td>\n",
       "      <td>1416</td>\n",
       "      <td>1491</td>\n",
       "      <td>1704</td>\n",
       "      <td>1601</td>\n",
       "      <td>1809</td>\n",
       "      <td>1668</td>\n",
       "      <td>1640</td>\n",
       "      <td>1604</td>\n",
       "      <td>misdemeanor</td>\n",
       "    </tr>\n",
       "    <tr>\n",
       "      <th>26</th>\n",
       "      <td>offenses_against_person</td>\n",
       "      <td>1122</td>\n",
       "      <td>1205</td>\n",
       "      <td>1207</td>\n",
       "      <td>1248</td>\n",
       "      <td>1380</td>\n",
       "      <td>1334</td>\n",
       "      <td>1293</td>\n",
       "      <td>1225</td>\n",
       "      <td>1354</td>\n",
       "      <td>1150</td>\n",
       "      <td>1266</td>\n",
       "      <td>misdemeanor</td>\n",
       "    </tr>\n",
       "    <tr>\n",
       "      <th>27</th>\n",
       "      <td>offenses_against_public_administration</td>\n",
       "      <td>11217</td>\n",
       "      <td>11129</td>\n",
       "      <td>11067</td>\n",
       "      <td>10728</td>\n",
       "      <td>10687</td>\n",
       "      <td>10303</td>\n",
       "      <td>9405</td>\n",
       "      <td>8929</td>\n",
       "      <td>8021</td>\n",
       "      <td>7554</td>\n",
       "      <td>7640</td>\n",
       "      <td>misdemeanor</td>\n",
       "    </tr>\n",
       "    <tr>\n",
       "      <th>28</th>\n",
       "      <td>administrative_code</td>\n",
       "      <td>1010</td>\n",
       "      <td>975</td>\n",
       "      <td>982</td>\n",
       "      <td>1003</td>\n",
       "      <td>1019</td>\n",
       "      <td>1011</td>\n",
       "      <td>985</td>\n",
       "      <td>942</td>\n",
       "      <td>830</td>\n",
       "      <td>961</td>\n",
       "      <td>1045</td>\n",
       "      <td>misdemeanor</td>\n",
       "    </tr>\n",
       "    <tr>\n",
       "      <th>29</th>\n",
       "      <td>fraud</td>\n",
       "      <td>5155</td>\n",
       "      <td>5422</td>\n",
       "      <td>5180</td>\n",
       "      <td>5254</td>\n",
       "      <td>4936</td>\n",
       "      <td>5331</td>\n",
       "      <td>4788</td>\n",
       "      <td>4640</td>\n",
       "      <td>4017</td>\n",
       "      <td>3775</td>\n",
       "      <td>3180</td>\n",
       "      <td>misdemeanor</td>\n",
       "    </tr>\n",
       "    <tr>\n",
       "      <th>30</th>\n",
       "      <td>aggravated_harassment</td>\n",
       "      <td>30852</td>\n",
       "      <td>30037</td>\n",
       "      <td>27819</td>\n",
       "      <td>27240</td>\n",
       "      <td>26972</td>\n",
       "      <td>19725</td>\n",
       "      <td>20511</td>\n",
       "      <td>21328</td>\n",
       "      <td>20325</td>\n",
       "      <td>19375</td>\n",
       "      <td>18120</td>\n",
       "      <td>misdemeanor</td>\n",
       "    </tr>\n",
       "    <tr>\n",
       "      <th>31</th>\n",
       "      <td>other</td>\n",
       "      <td>30381</td>\n",
       "      <td>34133</td>\n",
       "      <td>33767</td>\n",
       "      <td>38814</td>\n",
       "      <td>40505</td>\n",
       "      <td>38230</td>\n",
       "      <td>46879</td>\n",
       "      <td>44253</td>\n",
       "      <td>35378</td>\n",
       "      <td>22707</td>\n",
       "      <td>19497</td>\n",
       "      <td>misdemeanor</td>\n",
       "    </tr>\n",
       "    <tr>\n",
       "      <th>32</th>\n",
       "      <td>harassment</td>\n",
       "      <td>58600</td>\n",
       "      <td>57376</td>\n",
       "      <td>54216</td>\n",
       "      <td>57045</td>\n",
       "      <td>57654</td>\n",
       "      <td>61972</td>\n",
       "      <td>62121</td>\n",
       "      <td>65938</td>\n",
       "      <td>66522</td>\n",
       "      <td>70421</td>\n",
       "      <td>72031</td>\n",
       "      <td>violation</td>\n",
       "    </tr>\n",
       "    <tr>\n",
       "      <th>33</th>\n",
       "      <td>other</td>\n",
       "      <td>5094</td>\n",
       "      <td>4291</td>\n",
       "      <td>4582</td>\n",
       "      <td>4086</td>\n",
       "      <td>3383</td>\n",
       "      <td>3125</td>\n",
       "      <td>2213</td>\n",
       "      <td>1661</td>\n",
       "      <td>1532</td>\n",
       "      <td>1100</td>\n",
       "      <td>1446</td>\n",
       "      <td>violation</td>\n",
       "    </tr>\n",
       "  </tbody>\n",
       "</table>\n",
       "</div>"
      ],
      "text/plain": [
       "                                   offense   2009   2010   2011   2012   2013  \\\n",
       "0                                   murder    471    536    515    419    335   \n",
       "1                                     rape   1205   1373   1420   1445   1378   \n",
       "2                                  robbery  18601  19486  19717  20144  19128   \n",
       "3                           felony_assault  16773  16956  18482  19381  20297   \n",
       "4                                 burglary  19430  18600  18720  19168  17429   \n",
       "5                            grand_larceny  39580  37835  38501  42497  45368   \n",
       "6           grand_larceny_of_motor_vehicle  10670  10329   9314   8093   7400   \n",
       "7                          stolen_property    823    864    823    711    689   \n",
       "8             forgery_fraud_identity_theft  10225  10055   9876  10233   9493   \n",
       "9                                    arson   1474   1467   1264   1253   1187   \n",
       "10                              sex_crimes    914   1053   1028   1380   1073   \n",
       "11                                   drugs  26025  22913  21305  19680  19571   \n",
       "12                                 weapons   5952   5413   5037   4979   5155   \n",
       "13                       criminal_mischief   6397   6006   6374   6737   7468   \n",
       "14                          other_felonies  11950  11616  11533  11929  13014   \n",
       "15                         stolen_property   2023   2240   2853   2662   2337   \n",
       "16                              sex_crimes   4459   4512   4632   4480   4064   \n",
       "17                                   drugs  79302  79908  80462  67898  55529   \n",
       "18                                 weapons   8367   8716   8601   7136   6522   \n",
       "19                           petit_larceny  80928  81522  81160  82947  85602   \n",
       "20                                assault3  50216  52716  50972  54495  53738   \n",
       "21                                     dui   7700   6691   6027   6723   8238   \n",
       "22                vehicle_and_traffic_laws   6178   6624   5802   5577   6106   \n",
       "23                       criminal_mischief  45770  44930  42995  41024  36765   \n",
       "24                                trespass  20904  19858  18297  15719  13459   \n",
       "25             unauthorized_use_of_vehicle   1181   1274   1285   1416   1491   \n",
       "26                 offenses_against_person   1122   1205   1207   1248   1380   \n",
       "27  offenses_against_public_administration  11217  11129  11067  10728  10687   \n",
       "28                     administrative_code   1010    975    982   1003   1019   \n",
       "29                                   fraud   5155   5422   5180   5254   4936   \n",
       "30                   aggravated_harassment  30852  30037  27819  27240  26972   \n",
       "31                                   other  30381  34133  33767  38814  40505   \n",
       "32                              harassment  58600  57376  54216  57045  57654   \n",
       "33                                   other   5094   4291   4582   4086   3383   \n",
       "\n",
       "     2014   2015   2016   2017   2018   2019           status  \n",
       "0     333    352    335    292    295    319     major_felony  \n",
       "1    1352   1438   1438   1449   1794   1755     major_felony  \n",
       "2   16539  16931  15500  13956  12913  13371     major_felony  \n",
       "3   20207  20270  20847  20052  20208  20698     major_felony  \n",
       "4   16765  15125  12990  12083  11687  10783     major_felony  \n",
       "5   43862  44005  44279  43150  43558  43250     major_felony  \n",
       "6    7664   7332   6327   5676   5428   5430     major_felony  \n",
       "7    1090    904    769   1019    951    733  nonmajor_felony  \n",
       "8    9520  10400  11079  10063   9413   8684  nonmajor_felony  \n",
       "9    1205   1026    802    680    741    711  nonmajor_felony  \n",
       "10   1135   1152   1336   1367   1615   1562  nonmajor_felony  \n",
       "11  17113  15279  14712  13348  11236   9587  nonmajor_felony  \n",
       "12   4605   4848   5465   4843   4639   4219  nonmajor_felony  \n",
       "13   8466   9253   9966  10073  10427  11302  nonmajor_felony  \n",
       "14  13735  13658  14217  13514  13645  14686  nonmajor_felony  \n",
       "15   1469   1145    932    957    835    679      misdemeanor  \n",
       "16   4246   4555   4947   5424   5827   5805      misdemeanor  \n",
       "17  52835  38471  35982  33686  19943  10854      misdemeanor  \n",
       "18   6166   5685   5006   3844   3259   2078      misdemeanor  \n",
       "19  85121  81598  81274  83569  86489  89314      misdemeanor  \n",
       "20  53847  42654  42422  41665  43126  42529      misdemeanor  \n",
       "21   7875   5933   5964   5652   4987   4369      misdemeanor  \n",
       "22   5841   6266   6580   6457   6722   6777      misdemeanor  \n",
       "23  38793  39606  38893  39289  36835  35876      misdemeanor  \n",
       "24  14540  11473   9799   8218   6445   5405      misdemeanor  \n",
       "25   1704   1601   1809   1668   1640   1604      misdemeanor  \n",
       "26   1334   1293   1225   1354   1150   1266      misdemeanor  \n",
       "27  10303   9405   8929   8021   7554   7640      misdemeanor  \n",
       "28   1011    985    942    830    961   1045      misdemeanor  \n",
       "29   5331   4788   4640   4017   3775   3180      misdemeanor  \n",
       "30  19725  20511  21328  20325  19375  18120      misdemeanor  \n",
       "31  38230  46879  44253  35378  22707  19497      misdemeanor  \n",
       "32  61972  62121  65938  66522  70421  72031        violation  \n",
       "33   3125   2213   1661   1532   1100   1446        violation  "
      ]
     },
     "execution_count": 109,
     "metadata": {},
     "output_type": "execute_result"
    }
   ],
   "source": [
    "nyc_crime"
   ]
  },
  {
   "cell_type": "code",
   "execution_count": 97,
   "metadata": {},
   "outputs": [
    {
     "data": {
      "text/plain": [
       "<matplotlib.legend.Legend at 0x7ff552e6d370>"
      ]
     },
     "execution_count": 97,
     "metadata": {},
     "output_type": "execute_result"
    },
    {
     "data": {
      "image/png": "[encoded data removed]",
      "text/plain": [
       "<Figure size 432x288 with 1 Axes>"
      ]
     },
     "metadata": {
      "needs_background": "light"
     },
     "output_type": "display_data"
    }
   ],
   "source": [
    "labels = nyc_crime.columns[1:12]\n",
    "\n",
    "width = 0.35       # the width of the bars\n",
    "\n",
    "fig, ax = plt.subplots()\n",
    "\n",
    "for i in nyc_crime['offense']:\n",
    "    crime = nyc_crime.loc[nyc_crime['offense'] == i].iloc[0,1:12]\n",
    "    crime.name = i\n",
    "    \n",
    "    ax.bar(labels, crime, width, label=i)\n",
    "\n",
    "ax.legend()"
   ]
  },
  {
   "cell_type": "code",
   "execution_count": 111,
   "metadata": {},
   "outputs": [
    {
     "data": {
      "text/plain": [
       "<matplotlib.legend.Legend at 0x7ff5541a9c70>"
      ]
     },
     "execution_count": 111,
     "metadata": {},
     "output_type": "execute_result"
    },
    {
     "data": {
      "image/png": "[encoded data removed]",
      "text/plain": [
       "<Figure size 432x288 with 1 Axes>"
      ]
     },
     "metadata": {
      "needs_background": "light"
     },
     "output_type": "display_data"
    }
   ],
   "source": [
    "labels = nyc_crime.columns[1:12]\n",
    "\n",
    "width = 0.35       # the width of the bars\n",
    "\n",
    "fig, ax = plt.subplots()\n",
    "\n",
    "drugs = nyc_crime.loc[(nyc_crime['offense'] == 'drugs')].iloc[0,1:12]\n",
    "ax.bar(labels, drugs, width, label='drugs')\n",
    "\n",
    "weapons = nyc_crime.loc[nyc_crime['offense'] == 'weapons'].iloc[0,1:12]\n",
    "ax.bar(labels, weapons, width, label='weapons')\n",
    "\n",
    "ax.legend()"
   ]
  },
  {
   "cell_type": "code",
   "execution_count": 156,
   "metadata": {},
   "outputs": [
    {
     "data": {
      "text/plain": [
       "<matplotlib.legend.Legend at 0x7ff53a3603d0>"
      ]
     },
     "execution_count": 156,
     "metadata": {},
     "output_type": "execute_result"
    },
    {
     "data": {
      "image/png": "[encoded data removed]",
      "text/plain": [
       "<Figure size 432x288 with 1 Axes>"
      ]
     },
     "metadata": {
      "needs_background": "light"
     },
     "output_type": "display_data"
    },
    {
     "data": {
      "image/png": "[encoded data removed]",
      "text/plain": [
       "<Figure size 432x288 with 1 Axes>"
      ]
     },
     "metadata": {
      "needs_background": "light"
     },
     "output_type": "display_data"
    }
   ],
   "source": [
    "nyc_crime.loc[(nyc_crime['status'] == 'major_felony')].iloc[:,1:12]['2009'].sum()\n",
    "\n",
    "major_felony = []\n",
    "nonmajor_felony = []\n",
    "misdemeanor = []\n",
    "violation = []\n",
    "for i in labels:\n",
    "    major_felony.append(nyc_crime.loc[(nyc_crime['status'] == 'major_felony')].iloc[:,1:12][i].sum())\n",
    "    nonmajor_felony.append(nyc_crime.loc[(nyc_crime['status'] == 'nonmajor_felony')].iloc[:,1:12][i].sum())\n",
    "    misdemeanor.append(nyc_crime.loc[(nyc_crime['status'] == 'misdemeanor')].iloc[:,1:12][i].sum())\n",
    "    violation.append(nyc_crime.loc[(nyc_crime['status'] == 'violation')].iloc[:,1:12][i].sum())\n",
    "\n",
    "width = 0.35       # the width of the bars\n",
    "fig, ax1 = plt.subplots()\n",
    "ax1.bar(labels, major_felony, width, label='Major Felony')\n",
    "ax1.bar(labels, nonmajor_felony, width, label='Non-Major Felony')\\\n",
    "ax1.legend()\n",
    "\n",
    "fig, ax2 = plt.subplots()\n",
    "ax2.bar(labels, misdemeanor, width, label='Misdemeanor')\n",
    "ax2.bar(labels, violation, width, label='Violation')\n",
    "ax2.legend()"
   ]
  },
  {
   "cell_type": "code",
   "execution_count": null,
   "metadata": {},
   "outputs": [],
   "source": []
  }
 ],
 "metadata": {
  "kernelspec": {
   "display_name": "Python 3",
   "language": "python",
   "name": "python3"
  },
  "language_info": {
   "codemirror_mode": {
    "name": "ipython",
    "version": 3
   },
   "file_extension": ".py",
   "mimetype": "text/x-python",
   "name": "python",
   "nbconvert_exporter": "python",
   "pygments_lexer": "ipython3",
   "version": "3.8.5"
  }
 },
 "nbformat": 4,
 "nbformat_minor": 4
}
