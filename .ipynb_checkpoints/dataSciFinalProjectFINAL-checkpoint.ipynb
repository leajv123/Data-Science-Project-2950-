{
 "cells": [
  {
   "cell_type": "markdown",
   "metadata": {},
   "source": [
    "# INFO 2950 Final Project\n",
    "\n",
    "## Phase II: Data Cleaning\n",
    "\n",
    "In this Notebook, we will be cleaning our datasets and performing relevant summary statistics and plots. We have 4 datasets in total: New York City Seven Major Felony Offenses (2000-2020), New York City Non-Seven Major Felony Offenses (2000-2020). Stop, Question, and Frisk (2011), and Stop, Question, and Frisk (2019)."
   ]
  },
  {
   "cell_type": "code",
   "execution_count": 1,
   "metadata": {},
   "outputs": [],
   "source": [
    "# Load libraries.\n",
    "import pandas as pd\n",
    "import numpy as np\n",
    "import matplotlib.pyplot as plt\n",
    "from scipy import stats"
   ]
  },
  {
   "cell_type": "markdown",
   "metadata": {},
   "source": [
    "Load in the Stop and Frisk (2011) raw dataset:"
   ]
  },
  {
   "cell_type": "code",
   "execution_count": 2,
   "metadata": {},
   "outputs": [
    {
     "name": "stderr",
     "output_type": "stream",
     "text": [
      "/Users/leajih-vieira/opt/anaconda3/lib/python3.8/site-packages/IPython/core/interactiveshell.py:3146: DtypeWarning: Columns (73,103) have mixed types.Specify dtype option on import or set low_memory=False.\n",
      "  has_raised = await self.run_ast_nodes(code_ast.body, cell_name,\n"
     ]
    }
   ],
   "source": [
    "SandF_2011_raw = pd.read_csv('/Users/leajih-vieira/Downloads/Data Science Project/2011.csv', encoding = 'latin1')"
   ]
  },
  {
   "cell_type": "markdown",
   "metadata": {},
   "source": [
    "Load in the Stop and Frisk (2019) raw dataset:"
   ]
  },
  {
   "cell_type": "code",
   "execution_count": 3,
   "metadata": {},
   "outputs": [],
   "source": [
    "sqf2019 = pd.read_csv(\"/Users/leajih-vieira/Downloads/Data Science Project/sqf-2019.csv\")"
   ]
  },
  {
   "cell_type": "markdown",
   "metadata": {},
   "source": [
    "Because we are using two Stop and Frisk datasets from 2011 and 2019, we must match columns to each other and assign them identical column names for ease of analysis. We also must identify columns that are unable to be used since the data were only recorded in one dataset and not the other, etc. The following steps deal with this process."
   ]
  },
  {
   "cell_type": "markdown",
   "metadata": {},
   "source": [
    "Create a list of the column names that will be dropped from the SandF_2011 dataset titled drop_cols_for_2011. Drop the columns in this list that are unnecessary for our project:"
   ]
  },
  {
   "cell_type": "code",
   "execution_count": 4,
   "metadata": {},
   "outputs": [],
   "source": [
    "drop_cols_for_2011 = ['pct', 'ser_num', 'recstat', 'inout', 'trhsloc', 'typeofid', 'sumoffen', 'compyear', 'comppct', 'offunif', 'officrid', 'adtlrept', 'radio', 'ac_rept', 'ac_inves', 'ac_proxm', 'ac_evasv', 'ac_assoc', 'ac_cgdir', 'ac_incid', 'ac_time', 'ac_stsnd', 'ac_other', 'repcmd', 'revcmd', 'offverb', 'offshld', 'forceuse', 'dob', 'ht_feet', 'ht_inch', 'weight', 'haircolr', 'eyecolor', 'build', 'othfeatr', 'addrtyp', 'rescode', 'premtype', 'premname', 'addrnum', 'stname', 'stinter', 'crossst', 'aptnum', 'state', 'zip', 'addrpct', 'sector', 'beat', 'post', 'xcoord', 'ycoord', 'dettypcm', 'linecm', 'detailcm']\n",
    "\n",
    "SandF_2011 = SandF_2011_raw.drop(labels = drop_cols_for_2011, axis = 1)\n"
   ]
  },
  {
   "cell_type": "markdown",
   "metadata": {},
   "source": [
    "Keep only these columns from the 2019 stop and frisk data:"
   ]
  },
  {
   "cell_type": "code",
   "execution_count": 5,
   "metadata": {},
   "outputs": [],
   "source": [
    "#keep only these columns from the 2019 stop and frisk data\n",
    "sqf2019=sqf2019[['STOP_FRISK_DATE', 'STOP_FRISK_TIME', 'YEAR2', 'OBSERVED_DURATION_MINUTES', 'SUSPECTED_CRIME_DESCRIPTION',\n",
    "       'STOP_DURATION_MINUTES', 'OFFICER_EXPLAINED_STOP_FLAG', 'OTHER_PERSON_STOPPED_FLAG',\n",
    "       'SUSPECT_ARRESTED_FLAG', 'SUSPECT_ARREST_OFFENSE','SUMMONS_ISSUED_FLAG', 'FRISKED_FLAG', 'SEARCHED_FLAG', 'OTHER_CONTRABAND_FLAG', 'FIREARM_FLAG',\n",
    "       'KNIFE_CUTTER_FLAG', 'OTHER_WEAPON_FLAG', 'WEAPON_FOUND_FLAG',\n",
    "       'PHYSICAL_FORCE_CEW_FLAG', 'PHYSICAL_FORCE_DRAW_POINT_FIREARM_FLAG',\n",
    "       'PHYSICAL_FORCE_HANDCUFF_SUSPECT_FLAG',\n",
    "       'PHYSICAL_FORCE_OC_SPRAY_USED_FLAG', 'PHYSICAL_FORCE_OTHER_FLAG',\n",
    "       'PHYSICAL_FORCE_RESTRAINT_USED_FLAG',\n",
    "       'PHYSICAL_FORCE_VERBAL_INSTRUCTION_FLAG',\n",
    "       'PHYSICAL_FORCE_WEAPON_IMPACT_FLAG', 'SUSPECT_REPORTED_AGE', 'SUSPECT_SEX',\n",
    "       'SUSPECT_RACE_DESCRIPTION', 'STOP_LOCATION_BORO_NAME']]"
   ]
  },
  {
   "cell_type": "markdown",
   "metadata": {},
   "source": [
    "Another aspect of the data that we are not interested in that is included in this dataset is the reason a suspect was stopped, the reason a suspect was frisked, and the basis of the search (if any). Because we are analyzing crime statistics in New York City as a whole, we are not interested in understanding why a suspect was stopped, frisked, searched, etc. If we were analyzing the Stop and Frisk program and its efficacy, this might be more relevant information to determine if the program had any effects on crime rate. Since we are more interested in whether or not a person was stopped, frisked, arrested, etc., knowing the underlying reason(s) why they were stopped is irrelevant to this analysis."
   ]
  },
  {
   "cell_type": "code",
   "execution_count": 6,
   "metadata": {},
   "outputs": [],
   "source": [
    "drop_reasons_cols_for_2011 = ['rf_vcrim', 'rf_othsw', 'rf_attir', 'cs_objcs', 'cs_descr', 'cs_casng', 'cs_lkout', 'rf_vcact', 'cs_cloth', 'cs_drgtr', 'cs_furtv', 'rf_rfcmp', 'rf_verbl', 'cs_vcrim', 'cs_bulge', 'rf_knowl', 'sb_hdobj', 'sb_outln', 'sb_admis', 'sb_other', 'rf_furt', 'rf_bulg', 'cs_other']\n",
    "\n",
    "SandF_2011 = SandF_2011.drop(labels = drop_reasons_cols_for_2011, axis = 1)\n"
   ]
  },
  {
   "cell_type": "markdown",
   "metadata": {},
   "source": [
    "Rename columns so that they have more easily understandable names:"
   ]
  },
  {
   "cell_type": "code",
   "execution_count": 7,
   "metadata": {},
   "outputs": [],
   "source": [
    "SandF_2011 = SandF_2011.rename(columns={\"datestop\": \"date\", \"timestop\": \"time\", \"perobs\": \"obs_duration\", \"crimsusp\": \"crime_sus\", \"perstop\": \"stop_duration\", \"explnstp\": \"off_explain\", \"othpers\": \"other_stop\", \"contrabn\": \"contraband\", \"knifcuti\": \"knife\", \"othrweap\": \"other_weapon\", \"city\": \"boro\"})\n"
   ]
  },
  {
   "cell_type": "code",
   "execution_count": 8,
   "metadata": {},
   "outputs": [],
   "source": [
    "#renaming columns from the 2019 Stop and Frisk data\n",
    "sqf2019=sqf2019.rename(columns={'STOP_FRISK_DATE':'date','STOP_FRISK_TIME' : 'time', 'YEAR2' :'year', 'OBSERVED_DURATION_MINUTES' : 'obs_duration', 'SUSPECTED_CRIME_DESCRIPTION': 'crime_sus',\n",
    "       'STOP_DURATION_MINUTES' : 'stop_duration', 'OFFICER_EXPLAINED_STOP_FLAG' : 'off_explain', 'OTHER_PERSON_STOPPED_FLAG':'other_stop',\n",
    "       'SUSPECT_ARRESTED_FLAG':'arstmade', 'SUSPECT_ARREST_OFFENSE':'arstoffn', 'SUMMONS_ISSUED_FLAG': 'sumissue','FRISKED_FLAG':'frisked', 'SEARCHED_FLAG':'searched', 'OTHER_CONTRABAND_FLAG':'contraband', 'FIREARM_FLAG':'firearm',\n",
    "       'KNIFE_CUTTER_FLAG':'knife',\n",
    "         'SUSPECT_REPORTED_AGE': 'age', 'SUSPECT_SEX':'sex',\n",
    "       'SUSPECT_RACE_DESCRIPTION':'race', 'STOP_LOCATION_BORO_NAME':'boro'})"
   ]
  },
  {
   "cell_type": "markdown",
   "metadata": {},
   "source": [
    "The Stop and Frisk (2011) dataset has data recorded on if weapons were found on the supsect, and if so, what kind of weapon it was. There are multiple differences between the 2011 and 2019 dataset on the weapons categories. To solve this difference between the datasets, we decided to reorganize the weapons columns into three categories: firearm, knife, and other weapon. The following cell reformats the weapons categories and renames them. "
   ]
  },
  {
   "cell_type": "code",
   "execution_count": 9,
   "metadata": {},
   "outputs": [],
   "source": [
    "sus_firearm_str = SandF_2011.pistol + SandF_2011.riflshot + SandF_2011.asltweap + SandF_2011.machgun\n",
    "\n",
    "sus_firearm = sus_firearm_str.str.contains(pat = 'Y')\n",
    "\n",
    "# Add the firearms column to the SandF_2011 DataFrame.\n",
    "SandF_2011['firearm'] = sus_firearm\n",
    "\n",
    "# Drop the unnecessary firearms columns.\n",
    "drop_cols_firearm = ['pistol', 'riflshot', 'asltweap', 'machgun']\n",
    "\n",
    "SandF_2011 = SandF_2011.drop(labels = drop_cols_firearm, axis = 1)\n"
   ]
  },
  {
   "cell_type": "markdown",
   "metadata": {},
   "source": [
    "The Stop and Frisk 2019 dataset has columns labeled \"weapons_found_flag\" and \"other_weapon_flag\" separate from firearm and knife cutter categories. The 2011 dataset has a category for just other weapons. To give the two datasets a common other weapons column, the following cell combined data to just one column named \"other_weapon\"."
   ]
  },
  {
   "cell_type": "code",
   "execution_count": 10,
   "metadata": {},
   "outputs": [],
   "source": [
    "#combine other weapon and weapon to just 1 weapon column:\n",
    "weaponstr= sqf2019.OTHER_WEAPON_FLAG + sqf2019.WEAPON_FOUND_FLAG\n",
    "weapon = weaponstr.str.contains(pat = 'Y')\n",
    "sqf2019['other_weapon']=weapon\n",
    "# Drop the unnecessary weapons columns.\n",
    "drop_cols_weapons = ['OTHER_WEAPON_FLAG', 'WEAPON_FOUND_FLAG']\n",
    "sqf2019 = sqf2019.drop(labels = drop_cols_weapons, axis = 1)\n",
    "sqf2019['firearm']=sqf2019.firearm.str.contains(pat='Y')\n",
    "sqf2019['knife']=sqf2019.knife.str.contains(pat='Y')"
   ]
  },
  {
   "cell_type": "markdown",
   "metadata": {},
   "source": [
    "When an officer uses physical force on a suspect, there are many categories that the physical force can be classified into: hands, suspect against wall, suspect on ground, weapon drawn, weapon pointed, baton, handcuffs, pepper spray, and other. We are mainly interested in whether or not a weapon was drawn, a weapon was pointed, and if the suspect was handcuffed. In order to condense the physical force data, we made a general physical force column that records whether or not any physical force was used during the encounter, but will be keeping the separate weapon drawn, weapon pointed, and handcuffs columns. These edits are done in the cell below:"
   ]
  },
  {
   "cell_type": "code",
   "execution_count": 11,
   "metadata": {},
   "outputs": [],
   "source": [
    "# Condense the 'Point Weapon' column and the 'draw weapon' column into one - 'Point and / or Draw Weapon'.\n",
    "pt_draw_weapon_str = SandF_2011.pf_drwep + SandF_2011.pf_ptwep\n",
    "\n",
    "pt_draw_force = pt_draw_weapon_str.str.contains(pat = 'Y')\n",
    "\n",
    "# Add Point and / or Draw Weapon column to the SandF_2011 DataFrame.\n",
    "SandF_2011['pt_draw_force'] = pt_draw_force\n",
    "\n",
    "# Condense all use of physical force into one column.\n",
    "phys_force_str = SandF_2011.pf_hands + SandF_2011.pf_wall + SandF_2011.pf_grnd + SandF_2011.pf_drwep + SandF_2011.pf_ptwep + SandF_2011.pf_baton + SandF_2011.pf_hcuff + SandF_2011.pf_pepsp + SandF_2011.pf_other\n",
    "\n",
    "phys_force = phys_force_str.str.contains(pat = 'Y')\n",
    "\n",
    "# Add the physical force column to the SandF_2011 DataFrame.\n",
    "SandF_2011['phys_force'] = phys_force\n",
    "\n",
    "# Drop the unnecessary physical force columns.\n",
    "drop_cols_phys_force = ['pf_hands', 'pf_wall', 'pf_grnd', 'pf_drwep', 'pf_ptwep', 'pf_baton', 'pf_hcuff', 'pf_pepsp', 'pf_other']\n",
    "\n",
    "SandF_2011 = SandF_2011.drop(labels = drop_cols_phys_force, axis = 1)\n"
   ]
  },
  {
   "cell_type": "markdown",
   "metadata": {},
   "source": [
    "The same reformatting for physical force columns is done in the following cell to the 2019 Stop and Frisk dataset."
   ]
  },
  {
   "cell_type": "code",
   "execution_count": 12,
   "metadata": {},
   "outputs": [
    {
     "data": {
      "text/html": [
       "<div>\n",
       "<style scoped>\n",
       "    .dataframe tbody tr th:only-of-type {\n",
       "        vertical-align: middle;\n",
       "    }\n",
       "\n",
       "    .dataframe tbody tr th {\n",
       "        vertical-align: top;\n",
       "    }\n",
       "\n",
       "    .dataframe thead th {\n",
       "        text-align: right;\n",
       "    }\n",
       "</style>\n",
       "<table border=\"1\" class=\"dataframe\">\n",
       "  <thead>\n",
       "    <tr style=\"text-align: right;\">\n",
       "      <th></th>\n",
       "      <th>date</th>\n",
       "      <th>time</th>\n",
       "      <th>year</th>\n",
       "      <th>obs_duration</th>\n",
       "      <th>crime_sus</th>\n",
       "      <th>stop_duration</th>\n",
       "      <th>off_explain</th>\n",
       "      <th>other_stop</th>\n",
       "      <th>arstmade</th>\n",
       "      <th>arstoffn</th>\n",
       "      <th>...</th>\n",
       "      <th>contraband</th>\n",
       "      <th>firearm</th>\n",
       "      <th>knife</th>\n",
       "      <th>age</th>\n",
       "      <th>sex</th>\n",
       "      <th>race</th>\n",
       "      <th>boro</th>\n",
       "      <th>other_weapon</th>\n",
       "      <th>phys_force</th>\n",
       "      <th>pt_draw_force</th>\n",
       "    </tr>\n",
       "  </thead>\n",
       "  <tbody>\n",
       "    <tr>\n",
       "      <th>0</th>\n",
       "      <td>1/2/2019</td>\n",
       "      <td>14:30:00</td>\n",
       "      <td>2019</td>\n",
       "      <td>1</td>\n",
       "      <td>PETIT LARCENY</td>\n",
       "      <td>10</td>\n",
       "      <td>Y</td>\n",
       "      <td>N</td>\n",
       "      <td>N</td>\n",
       "      <td>(null)</td>\n",
       "      <td>...</td>\n",
       "      <td>N</td>\n",
       "      <td>False</td>\n",
       "      <td>False</td>\n",
       "      <td>30</td>\n",
       "      <td>MALE</td>\n",
       "      <td>BLACK</td>\n",
       "      <td>MANHATTAN</td>\n",
       "      <td>False</td>\n",
       "      <td>True</td>\n",
       "      <td>False</td>\n",
       "    </tr>\n",
       "    <tr>\n",
       "      <th>1</th>\n",
       "      <td>1/8/2019</td>\n",
       "      <td>2:30:00</td>\n",
       "      <td>2019</td>\n",
       "      <td>1</td>\n",
       "      <td>GRAND LARCENY</td>\n",
       "      <td>10</td>\n",
       "      <td>Y</td>\n",
       "      <td>N</td>\n",
       "      <td>Y</td>\n",
       "      <td>GRAND LARCENY</td>\n",
       "      <td>...</td>\n",
       "      <td>N</td>\n",
       "      <td>False</td>\n",
       "      <td>False</td>\n",
       "      <td>22</td>\n",
       "      <td>MALE</td>\n",
       "      <td>BLACK</td>\n",
       "      <td>MANHATTAN</td>\n",
       "      <td>False</td>\n",
       "      <td>True</td>\n",
       "      <td>False</td>\n",
       "    </tr>\n",
       "    <tr>\n",
       "      <th>2</th>\n",
       "      <td>1/12/2019</td>\n",
       "      <td>16:54:00</td>\n",
       "      <td>2019</td>\n",
       "      <td>1</td>\n",
       "      <td>PETIT LARCENY</td>\n",
       "      <td>4</td>\n",
       "      <td>Y</td>\n",
       "      <td>N</td>\n",
       "      <td>Y</td>\n",
       "      <td>PETIT LARCENY</td>\n",
       "      <td>...</td>\n",
       "      <td>N</td>\n",
       "      <td>False</td>\n",
       "      <td>False</td>\n",
       "      <td>56</td>\n",
       "      <td>MALE</td>\n",
       "      <td>WHITE</td>\n",
       "      <td>MANHATTAN</td>\n",
       "      <td>False</td>\n",
       "      <td>True</td>\n",
       "      <td>False</td>\n",
       "    </tr>\n",
       "    <tr>\n",
       "      <th>3</th>\n",
       "      <td>1/14/2019</td>\n",
       "      <td>21:21:00</td>\n",
       "      <td>2019</td>\n",
       "      <td>0</td>\n",
       "      <td>ROBBERY</td>\n",
       "      <td>5</td>\n",
       "      <td>Y</td>\n",
       "      <td>N</td>\n",
       "      <td>N</td>\n",
       "      <td>(null)</td>\n",
       "      <td>...</td>\n",
       "      <td>N</td>\n",
       "      <td>False</td>\n",
       "      <td>False</td>\n",
       "      <td>(null)</td>\n",
       "      <td>MALE</td>\n",
       "      <td>BLACK</td>\n",
       "      <td>MANHATTAN</td>\n",
       "      <td>False</td>\n",
       "      <td>True</td>\n",
       "      <td>False</td>\n",
       "    </tr>\n",
       "    <tr>\n",
       "      <th>4</th>\n",
       "      <td>1/15/2019</td>\n",
       "      <td>18:50:00</td>\n",
       "      <td>2019</td>\n",
       "      <td>1</td>\n",
       "      <td>ASSAULT</td>\n",
       "      <td>5</td>\n",
       "      <td>Y</td>\n",
       "      <td>N</td>\n",
       "      <td>Y</td>\n",
       "      <td>ASSAULT</td>\n",
       "      <td>...</td>\n",
       "      <td>N</td>\n",
       "      <td>False</td>\n",
       "      <td>False</td>\n",
       "      <td>21</td>\n",
       "      <td>MALE</td>\n",
       "      <td>BLACK</td>\n",
       "      <td>MANHATTAN</td>\n",
       "      <td>False</td>\n",
       "      <td>True</td>\n",
       "      <td>False</td>\n",
       "    </tr>\n",
       "  </tbody>\n",
       "</table>\n",
       "<p>5 rows × 23 columns</p>\n",
       "</div>"
      ],
      "text/plain": [
       "        date      time  year  obs_duration      crime_sus  stop_duration  \\\n",
       "0   1/2/2019  14:30:00  2019             1  PETIT LARCENY             10   \n",
       "1   1/8/2019   2:30:00  2019             1  GRAND LARCENY             10   \n",
       "2  1/12/2019  16:54:00  2019             1  PETIT LARCENY              4   \n",
       "3  1/14/2019  21:21:00  2019             0        ROBBERY              5   \n",
       "4  1/15/2019  18:50:00  2019             1        ASSAULT              5   \n",
       "\n",
       "  off_explain other_stop arstmade       arstoffn  ... contraband firearm  \\\n",
       "0           Y          N        N         (null)  ...          N   False   \n",
       "1           Y          N        Y  GRAND LARCENY  ...          N   False   \n",
       "2           Y          N        Y  PETIT LARCENY  ...          N   False   \n",
       "3           Y          N        N         (null)  ...          N   False   \n",
       "4           Y          N        Y        ASSAULT  ...          N   False   \n",
       "\n",
       "   knife     age   sex   race       boro other_weapon phys_force pt_draw_force  \n",
       "0  False      30  MALE  BLACK  MANHATTAN        False       True         False  \n",
       "1  False      22  MALE  BLACK  MANHATTAN        False       True         False  \n",
       "2  False      56  MALE  WHITE  MANHATTAN        False       True         False  \n",
       "3  False  (null)  MALE  BLACK  MANHATTAN        False       True         False  \n",
       "4  False      21  MALE  BLACK  MANHATTAN        False       True         False  \n",
       "\n",
       "[5 rows x 23 columns]"
      ]
     },
     "execution_count": 12,
     "metadata": {},
     "output_type": "execute_result"
    }
   ],
   "source": [
    "#combine physical forces into one\n",
    "physforcestr= sqf2019.PHYSICAL_FORCE_CEW_FLAG + sqf2019.PHYSICAL_FORCE_DRAW_POINT_FIREARM_FLAG+ sqf2019.PHYSICAL_FORCE_HANDCUFF_SUSPECT_FLAG + sqf2019.PHYSICAL_FORCE_OC_SPRAY_USED_FLAG + sqf2019.PHYSICAL_FORCE_OTHER_FLAG + sqf2019.PHYSICAL_FORCE_RESTRAINT_USED_FLAG + sqf2019.PHYSICAL_FORCE_VERBAL_INSTRUCTION_FLAG +sqf2019.PHYSICAL_FORCE_WEAPON_IMPACT_FLAG \n",
    "physforce = physforcestr.str.contains(pat = 'Y')\n",
    "sqf2019['phys_force']= physforce\n",
    "# Drop the unnecessary physforce columns. \n",
    "#keep'PHYSICAL_FORCE_DRAW_POINT_FIREARM_FLAG' even though it is in phys_force\n",
    "pt_drawforce= sqf2019.PHYSICAL_FORCE_DRAW_POINT_FIREARM_FLAG.str.contains(pat='Y')\n",
    "sqf2019['pt_draw_force']= pt_drawforce\n",
    "sqf2019= sqf2019.drop(labels= 'PHYSICAL_FORCE_DRAW_POINT_FIREARM_FLAG', axis=1)\n",
    "drop_cols_pf = ['PHYSICAL_FORCE_CEW_FLAG', 'PHYSICAL_FORCE_HANDCUFF_SUSPECT_FLAG','PHYSICAL_FORCE_OC_SPRAY_USED_FLAG', 'PHYSICAL_FORCE_OTHER_FLAG','PHYSICAL_FORCE_RESTRAINT_USED_FLAG', 'PHYSICAL_FORCE_VERBAL_INSTRUCTION_FLAG','PHYSICAL_FORCE_WEAPON_IMPACT_FLAG']\n",
    "sqf2019 = sqf2019.drop(labels = drop_cols_pf, axis = 1)\n",
    "sqf2019.head()"
   ]
  },
  {
   "cell_type": "code",
   "execution_count": 13,
   "metadata": {},
   "outputs": [
    {
     "data": {
      "text/html": [
       "<div>\n",
       "<style scoped>\n",
       "    .dataframe tbody tr th:only-of-type {\n",
       "        vertical-align: middle;\n",
       "    }\n",
       "\n",
       "    .dataframe tbody tr th {\n",
       "        vertical-align: top;\n",
       "    }\n",
       "\n",
       "    .dataframe thead th {\n",
       "        text-align: right;\n",
       "    }\n",
       "</style>\n",
       "<table border=\"1\" class=\"dataframe\">\n",
       "  <thead>\n",
       "    <tr style=\"text-align: right;\">\n",
       "      <th></th>\n",
       "      <th>year</th>\n",
       "      <th>date</th>\n",
       "      <th>time</th>\n",
       "      <th>obs_duration</th>\n",
       "      <th>crime_sus</th>\n",
       "      <th>stop_duration</th>\n",
       "      <th>off_explain</th>\n",
       "      <th>other_stop</th>\n",
       "      <th>arstmade</th>\n",
       "      <th>arstoffn</th>\n",
       "      <th>...</th>\n",
       "      <th>contraband</th>\n",
       "      <th>knife</th>\n",
       "      <th>other_weapon</th>\n",
       "      <th>sex</th>\n",
       "      <th>race</th>\n",
       "      <th>age</th>\n",
       "      <th>boro</th>\n",
       "      <th>firearm</th>\n",
       "      <th>pt_draw_force</th>\n",
       "      <th>phys_force</th>\n",
       "    </tr>\n",
       "  </thead>\n",
       "  <tbody>\n",
       "    <tr>\n",
       "      <th>0</th>\n",
       "      <td>2011</td>\n",
       "      <td>1012011</td>\n",
       "      <td>0</td>\n",
       "      <td>1</td>\n",
       "      <td>BURGLARY</td>\n",
       "      <td>6</td>\n",
       "      <td>Y</td>\n",
       "      <td>N</td>\n",
       "      <td>N</td>\n",
       "      <td></td>\n",
       "      <td>...</td>\n",
       "      <td>N</td>\n",
       "      <td>N</td>\n",
       "      <td>N</td>\n",
       "      <td>M</td>\n",
       "      <td>A</td>\n",
       "      <td>21</td>\n",
       "      <td>QUEENS</td>\n",
       "      <td>False</td>\n",
       "      <td>False</td>\n",
       "      <td>True</td>\n",
       "    </tr>\n",
       "    <tr>\n",
       "      <th>1</th>\n",
       "      <td>2011</td>\n",
       "      <td>1012011</td>\n",
       "      <td>5</td>\n",
       "      <td>1</td>\n",
       "      <td>FEL</td>\n",
       "      <td>2</td>\n",
       "      <td>Y</td>\n",
       "      <td>N</td>\n",
       "      <td>N</td>\n",
       "      <td></td>\n",
       "      <td>...</td>\n",
       "      <td>N</td>\n",
       "      <td>N</td>\n",
       "      <td>N</td>\n",
       "      <td>M</td>\n",
       "      <td>B</td>\n",
       "      <td>15</td>\n",
       "      <td>QUEENS</td>\n",
       "      <td>False</td>\n",
       "      <td>False</td>\n",
       "      <td>False</td>\n",
       "    </tr>\n",
       "    <tr>\n",
       "      <th>2</th>\n",
       "      <td>2011</td>\n",
       "      <td>1012011</td>\n",
       "      <td>7</td>\n",
       "      <td>1</td>\n",
       "      <td>CPW</td>\n",
       "      <td>2</td>\n",
       "      <td>Y</td>\n",
       "      <td>Y</td>\n",
       "      <td>N</td>\n",
       "      <td></td>\n",
       "      <td>...</td>\n",
       "      <td>N</td>\n",
       "      <td>N</td>\n",
       "      <td>N</td>\n",
       "      <td>M</td>\n",
       "      <td>B</td>\n",
       "      <td>17</td>\n",
       "      <td>QUEENS</td>\n",
       "      <td>False</td>\n",
       "      <td>False</td>\n",
       "      <td>True</td>\n",
       "    </tr>\n",
       "    <tr>\n",
       "      <th>3</th>\n",
       "      <td>2011</td>\n",
       "      <td>1012011</td>\n",
       "      <td>7</td>\n",
       "      <td>1</td>\n",
       "      <td>CPW</td>\n",
       "      <td>2</td>\n",
       "      <td>Y</td>\n",
       "      <td>Y</td>\n",
       "      <td>N</td>\n",
       "      <td></td>\n",
       "      <td>...</td>\n",
       "      <td>N</td>\n",
       "      <td>N</td>\n",
       "      <td>N</td>\n",
       "      <td>M</td>\n",
       "      <td>B</td>\n",
       "      <td>17</td>\n",
       "      <td>QUEENS</td>\n",
       "      <td>False</td>\n",
       "      <td>False</td>\n",
       "      <td>True</td>\n",
       "    </tr>\n",
       "    <tr>\n",
       "      <th>4</th>\n",
       "      <td>2011</td>\n",
       "      <td>1012011</td>\n",
       "      <td>7</td>\n",
       "      <td>1</td>\n",
       "      <td>CPW</td>\n",
       "      <td>2</td>\n",
       "      <td>Y</td>\n",
       "      <td>Y</td>\n",
       "      <td>N</td>\n",
       "      <td></td>\n",
       "      <td>...</td>\n",
       "      <td>N</td>\n",
       "      <td>N</td>\n",
       "      <td>N</td>\n",
       "      <td>M</td>\n",
       "      <td>B</td>\n",
       "      <td>20</td>\n",
       "      <td>QUEENS</td>\n",
       "      <td>False</td>\n",
       "      <td>False</td>\n",
       "      <td>True</td>\n",
       "    </tr>\n",
       "  </tbody>\n",
       "</table>\n",
       "<p>5 rows × 23 columns</p>\n",
       "</div>"
      ],
      "text/plain": [
       "   year     date  time  obs_duration crime_sus  stop_duration off_explain  \\\n",
       "0  2011  1012011     0             1  BURGLARY              6           Y   \n",
       "1  2011  1012011     5             1       FEL              2           Y   \n",
       "2  2011  1012011     7             1       CPW              2           Y   \n",
       "3  2011  1012011     7             1       CPW              2           Y   \n",
       "4  2011  1012011     7             1       CPW              2           Y   \n",
       "\n",
       "  other_stop arstmade arstoffn  ... contraband knife other_weapon sex race  \\\n",
       "0          N        N           ...          N     N            N   M    A   \n",
       "1          N        N           ...          N     N            N   M    B   \n",
       "2          Y        N           ...          N     N            N   M    B   \n",
       "3          Y        N           ...          N     N            N   M    B   \n",
       "4          Y        N           ...          N     N            N   M    B   \n",
       "\n",
       "  age    boro firearm  pt_draw_force phys_force  \n",
       "0  21  QUEENS   False          False       True  \n",
       "1  15  QUEENS   False          False      False  \n",
       "2  17  QUEENS   False          False       True  \n",
       "3  17  QUEENS   False          False       True  \n",
       "4  20  QUEENS   False          False       True  \n",
       "\n",
       "[5 rows x 23 columns]"
      ]
     },
     "execution_count": 13,
     "metadata": {},
     "output_type": "execute_result"
    }
   ],
   "source": [
    "SandF_2011.head()"
   ]
  },
  {
   "cell_type": "code",
   "execution_count": 14,
   "metadata": {},
   "outputs": [],
   "source": [
    "SandF_2011.to_csv(path_or_buf = 'SandF_2011_size_test')"
   ]
  },
  {
   "cell_type": "code",
   "execution_count": 15,
   "metadata": {},
   "outputs": [],
   "source": [
    "sqf2019.to_csv(path_or_buf='sqf2019_size_test')"
   ]
  },
  {
   "cell_type": "code",
   "execution_count": null,
   "metadata": {},
   "outputs": [],
   "source": []
  },
  {
   "cell_type": "code",
   "execution_count": null,
   "metadata": {},
   "outputs": [],
   "source": []
  }
 ],
 "metadata": {
  "kernelspec": {
   "display_name": "Python 3",
   "language": "python",
   "name": "python3"
  },
  "language_info": {
   "codemirror_mode": {
    "name": "ipython",
    "version": 3
   },
   "file_extension": ".py",
   "mimetype": "text/x-python",
   "name": "python",
   "nbconvert_exporter": "python",
   "pygments_lexer": "ipython3",
   "version": "3.8.5"
  }
 },
 "nbformat": 4,
 "nbformat_minor": 4
}
