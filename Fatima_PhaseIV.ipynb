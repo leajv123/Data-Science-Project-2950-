{
 "cells": [
  {
   "cell_type": "markdown",
   "metadata": {},
   "source": [
    "# Phase IV Fatima Work"
   ]
  },
  {
   "cell_type": "code",
   "execution_count": 3,
   "metadata": {},
   "outputs": [],
   "source": [
    "# Load libraries.\n",
    "import pandas as pd\n",
    "import numpy as np\n",
    "import matplotlib.pyplot as plt\n",
    "from scipy import stats\n",
    "from sklearn.linear_model import LogisticRegression\n",
    "from sklearn.model_selection import train_test_split"
   ]
  },
  {
   "cell_type": "code",
   "execution_count": 4,
   "metadata": {},
   "outputs": [],
   "source": [
    "sqf2011= pd.read_csv('sqf2011_final_sample')\n",
    "sqf2019= pd.read_csv('sqf2019_final_sample')"
   ]
  },
  {
   "cell_type": "code",
   "execution_count": 59,
   "metadata": {},
   "outputs": [],
   "source": [
    "sqf2011copy1 = sqf2011.copy()\n",
    "sqf2019copy1 = sqf2019.copy()"
   ]
  },
  {
   "cell_type": "markdown",
   "metadata": {},
   "source": [
    "## Defining Functions"
   ]
  },
  {
   "cell_type": "markdown",
   "metadata": {},
   "source": [
    "### a) Logistic Regression Prediction Accuracy Function:"
   ]
  },
  {
   "cell_type": "code",
   "execution_count": 231,
   "metadata": {},
   "outputs": [],
   "source": [
    "def LogR(logdf, getbinary, targetvar):\n",
    "    \"\"\" creates a df with only vars of interest with indicator variables, runs a logistic regression on that and returns a prediction accuracy percentage.\n",
    "    logdf is a df with only the variables in interest for logistic regression. \n",
    "    targetvar is a string of the target variable for the logistic regression.\n",
    "    getbinary is a dataframe with columns that need to be given indicator variables and will then be added on to the logistic_data df.\n",
    "   \n",
    "    input_cols = list(getbinary.columns)\n",
    "    for col in input_cols:   # get dummies for each predictor variable and add to df\n",
    "         logdf = pd.concat(\n",
    "            [\n",
    "                logdf, \n",
    "                pd.get_dummies(getbinary[col], prefix=col)\n",
    "            ]\n",
    "            , axis='columns'\n",
    "        )          \"\"\"\n",
    "    newgetbinary = pd.get_dummies(getbinary)\n",
    "    newlogdf = pd.concat([logdf, newgetbinary], axis=1)\n",
    "    \n",
    "    predictors = list(newlogdf.columns)\n",
    "    predictors.remove(targetvar)\n",
    "    train,test = train_test_split(newlogdf, test_size=0.2, random_state=15)\n",
    "    logmod = LogisticRegression();\n",
    "    logmod.fit(train[predictors], train[targetvar])\n",
    "    tepreds=logmod.predict(test[predictors])\n",
    "    return \"the prediction accuracy as a percentage is {:.1f}.\".format(np.sum(tepreds==test[targetvar])/len(tepreds)*100)   "
   ]
  },
  {
   "cell_type": "markdown",
   "metadata": {},
   "source": [
    "### b) Predictors Coefficients Function:"
   ]
  },
  {
   "cell_type": "code",
   "execution_count": 239,
   "metadata": {},
   "outputs": [],
   "source": [
    "def coeffs(logdf, getbinary, targetvar): \n",
    "    \"\"\"Prints a list of coefficients and displays a plot of the coefficents in descedning order o.\n",
    "    input_cols = list(getbinary.columns)\n",
    "    for col in input_cols:   # get dummies for each predictor variable and add to df\n",
    "         logdf = pd.concat(\n",
    "            [\n",
    "                logdf, \n",
    "                pd.get_dummies(getbinary[col], prefix=col)\n",
    "            ]\n",
    "            , axis='columns'\n",
    "        )          \"\"\"\n",
    "    newgetbinary = pd.get_dummies(getbinary)\n",
    "    newlogdf = pd.concat([logdf, newgetbinary], axis=1)\n",
    "    \n",
    "    predictors = list(newlogdf.columns);\n",
    "    predictors.remove(targetvar);\n",
    "    train,test = train_test_split(newlogdf, test_size=0.2, random_state=15);\n",
    "    logmod = LogisticRegression();\n",
    "    logmod.fit(train[predictors], train[targetvar]);\n",
    "    \n",
    "    # print the coefficients legibly\n",
    "    for i, predictor in enumerate(predictors):\n",
    "        print(f'{logmod.coef_[0,i]:.3f}\\t{predictor}')\n",
    "\n",
    "    # plot predictors by lean\n",
    "    df = pd.DataFrame({'coef':logmod.coef_[0]}, index=predictors)\n",
    "    df.sort_values(by='coef').plot.barh(legend=False);"
   ]
  },
  {
   "cell_type": "markdown",
   "metadata": {},
   "source": [
    "## Logistic Regression Models"
   ]
  },
  {
   "cell_type": "markdown",
   "metadata": {},
   "source": [
    "### Frisked (2011)"
   ]
  },
  {
   "cell_type": "code",
   "execution_count": 232,
   "metadata": {},
   "outputs": [
    {
     "name": "stdout",
     "output_type": "stream",
     "text": [
      "Using the model to predict whether one is frisked in the 2011 test set:\n"
     ]
    },
    {
     "name": "stderr",
     "output_type": "stream",
     "text": [
      "C:\\Users\\fatim\\anaconda3\\lib\\site-packages\\sklearn\\linear_model\\_logistic.py:762: ConvergenceWarning: lbfgs failed to converge (status=1):\n",
      "STOP: TOTAL NO. of ITERATIONS REACHED LIMIT.\n",
      "\n",
      "Increase the number of iterations (max_iter) or scale the data as shown in:\n",
      "    https://scikit-learn.org/stable/modules/preprocessing.html\n",
      "Please also refer to the documentation for alternative solver options:\n",
      "    https://scikit-learn.org/stable/modules/linear_model.html#logistic-regression\n",
      "  n_iter_i = _check_optimize_result(\n"
     ]
    },
    {
     "data": {
      "text/plain": [
       "'the prediction accuracy as a percentage is 62.0.'"
      ]
     },
     "execution_count": 232,
     "metadata": {},
     "output_type": "execute_result"
    }
   ],
   "source": [
    "flogdf2011 = sqf2011copy1[['frisked', 'obs_duration', 'age']]  # first, just the 'frisked', 'obs_duration', 'age' columns\n",
    "fgetbinary2011 = sqf2011copy1[['sex', 'race', 'boro']]\n",
    "print(\"Using the model to predict whether one is frisked in the 2011 test set:\")\n",
    "LogR(flogdf2011, fgetbinary2011, 'frisked')"
   ]
  },
  {
   "cell_type": "markdown",
   "metadata": {},
   "source": [
    "Based on the Chi square tests all the predictor vairbales have a statistically significant association with whether someone is Frisked in 2011."
   ]
  },
  {
   "cell_type": "code",
   "execution_count": 240,
   "metadata": {},
   "outputs": [
    {
     "name": "stderr",
     "output_type": "stream",
     "text": [
      "C:\\Users\\fatim\\anaconda3\\lib\\site-packages\\sklearn\\linear_model\\_logistic.py:762: ConvergenceWarning: lbfgs failed to converge (status=1):\n",
      "STOP: TOTAL NO. of ITERATIONS REACHED LIMIT.\n",
      "\n",
      "Increase the number of iterations (max_iter) or scale the data as shown in:\n",
      "    https://scikit-learn.org/stable/modules/preprocessing.html\n",
      "Please also refer to the documentation for alternative solver options:\n",
      "    https://scikit-learn.org/stable/modules/linear_model.html#logistic-regression\n",
      "  n_iter_i = _check_optimize_result(\n"
     ]
    },
    {
     "name": "stdout",
     "output_type": "stream",
     "text": [
      "-0.004\tobs_duration\n",
      "-0.019\tage\n",
      "-0.491\tsex_FEMALE\n",
      "0.451\tsex_MALE\n",
      "0.216\tsex_UNKNOWN\n",
      "0.011\trace_AMERICAN INDIAN/ALASKAN NATIVE\n",
      "-0.218\trace_ASIAN/PACIFIC ISLANDER\n",
      "0.266\trace_BLACK\n",
      "0.173\trace_BLACK HISPANIC\n",
      "-0.011\trace_UNKNOWN\n",
      "-0.175\trace_WHITE\n",
      "0.130\trace_WHITE HISPANIC\n",
      "0.412\tboro_BRONX\n",
      "-0.173\tboro_BROOKLYN\n",
      "-0.106\tboro_MANHATTAN\n",
      "0.293\tboro_QUEENS\n",
      "-0.250\tboro_STATEN IS\n"
     ]
    },
    {
     "data": {
      "image/png": "[encoded data removed]",
      "text/plain": [
       "<Figure size 432x288 with 1 Axes>"
      ]
     },
     "metadata": {
      "needs_background": "light"
     },
     "output_type": "display_data"
    }
   ],
   "source": [
    "coeffs(flogdf2011, fgetbinary2011, 'frisked')"
   ]
  },
  {
   "cell_type": "markdown",
   "metadata": {},
   "source": [
    "According to the plot, the four most influential variables on getting frisked are being a male, being in the Bronx or Queens, and being black."
   ]
  },
  {
   "cell_type": "markdown",
   "metadata": {},
   "source": [
    "## Frisked 2019"
   ]
  },
  {
   "cell_type": "code",
   "execution_count": 180,
   "metadata": {},
   "outputs": [
    {
     "name": "stdout",
     "output_type": "stream",
     "text": [
      "Using the model to predict whether one is frisked in the 2019 test set:\n"
     ]
    },
    {
     "name": "stderr",
     "output_type": "stream",
     "text": [
      "C:\\Users\\fatim\\anaconda3\\lib\\site-packages\\sklearn\\linear_model\\_logistic.py:762: ConvergenceWarning: lbfgs failed to converge (status=1):\n",
      "STOP: TOTAL NO. of ITERATIONS REACHED LIMIT.\n",
      "\n",
      "Increase the number of iterations (max_iter) or scale the data as shown in:\n",
      "    https://scikit-learn.org/stable/modules/preprocessing.html\n",
      "Please also refer to the documentation for alternative solver options:\n",
      "    https://scikit-learn.org/stable/modules/linear_model.html#logistic-regression\n",
      "  n_iter_i = _check_optimize_result(\n"
     ]
    },
    {
     "data": {
      "text/plain": [
       "'The prediction accuracy as a percentage is 64.0.'"
      ]
     },
     "execution_count": 180,
     "metadata": {},
     "output_type": "execute_result"
    }
   ],
   "source": [
    "flogdf2019 = sqf2019copy1[['frisked', 'obs_duration', 'age']]  # first, just the 'frisked', 'obs_duration', 'age' columns\n",
    "fgetbinary2019 = sqf2019copy1[['sex', 'race', 'boro']]\n",
    "print(\"Using the model to predict whether one is frisked in the 2019 test set:\")\n",
    "LogR(flogdf2019, fgetbinary2019, 'frisked')"
   ]
  },
  {
   "cell_type": "markdown",
   "metadata": {},
   "source": [
    "## Optimized Frisked 2019"
   ]
  },
  {
   "cell_type": "markdown",
   "metadata": {},
   "source": [
    "Based on our chi squared tests, sex, race and boro have a statistically significant association with whether someone is frisked in 2019. "
   ]
  },
  {
   "cell_type": "code",
   "execution_count": 241,
   "metadata": {},
   "outputs": [
    {
     "name": "stdout",
     "output_type": "stream",
     "text": [
      "Using the *optimized* model to predict whether one is frisked in the 2019 test set:\n"
     ]
    },
    {
     "data": {
      "text/plain": [
       "'the prediction accuracy as a percentage is 62.2.'"
      ]
     },
     "execution_count": 241,
     "metadata": {},
     "output_type": "execute_result"
    }
   ],
   "source": [
    "optflogdf2019 = sqf2019copy1[['frisked']]\n",
    "optfgetbinary2019 = sqf2019copy1[['sex', 'race', 'boro']]\n",
    "print(\"Using the *optimized* model to predict whether one is frisked in the 2019 test set:\")\n",
    "LogR(optflogdf2019, optfgetbinary2019, 'frisked')"
   ]
  },
  {
   "cell_type": "code",
   "execution_count": 242,
   "metadata": {},
   "outputs": [
    {
     "name": "stdout",
     "output_type": "stream",
     "text": [
      "-0.322\tsex_FEMALE\n",
      "0.612\tsex_MALE\n",
      "-0.292\tsex_UNKNOWN\n",
      "-0.017\trace_AMERICAN INDIAN/ALASKAN N\n",
      "-0.148\trace_ASIAN / PACIFIC ISLANDER\n",
      "0.162\trace_BLACK\n",
      "-0.048\trace_BLACK HISPANIC\n",
      "0.101\trace_UNKNOWN\n",
      "-0.211\trace_WHITE\n",
      "0.158\trace_WHITE HISPANIC\n",
      "0.491\tboro_BRONX\n",
      "0.278\tboro_BROOKLYN\n",
      "-0.143\tboro_MANHATTAN\n",
      "-0.091\tboro_QUEENS\n",
      "-0.538\tboro_STATEN ISLAND\n"
     ]
    },
    {
     "data": {
      "image/png": "[encoded data removed]",
      "text/plain": [
       "<Figure size 432x288 with 1 Axes>"
      ]
     },
     "metadata": {
      "needs_background": "light"
     },
     "output_type": "display_data"
    }
   ],
   "source": [
    "coeffs(optflogdf2019, optfgetbinary2019, 'frisked')"
   ]
  },
  {
   "cell_type": "markdown",
   "metadata": {},
   "source": [
    "According to the plot, the four variables with the most impact on whether one is frisked in 2019 are being a male, being in the Bronx or Brooklyn, and being black."
   ]
  },
  {
   "cell_type": "markdown",
   "metadata": {},
   "source": [
    "## Searched 2011"
   ]
  },
  {
   "cell_type": "code",
   "execution_count": 234,
   "metadata": {},
   "outputs": [
    {
     "name": "stderr",
     "output_type": "stream",
     "text": [
      "C:\\Users\\fatim\\anaconda3\\lib\\site-packages\\sklearn\\linear_model\\_logistic.py:762: ConvergenceWarning: lbfgs failed to converge (status=1):\n",
      "STOP: TOTAL NO. of ITERATIONS REACHED LIMIT.\n",
      "\n",
      "Increase the number of iterations (max_iter) or scale the data as shown in:\n",
      "    https://scikit-learn.org/stable/modules/preprocessing.html\n",
      "Please also refer to the documentation for alternative solver options:\n",
      "    https://scikit-learn.org/stable/modules/linear_model.html#logistic-regression\n",
      "  n_iter_i = _check_optimize_result(\n"
     ]
    },
    {
     "data": {
      "text/plain": [
       "'the prediction accuracy as a percentage is 91.6.'"
      ]
     },
     "execution_count": 234,
     "metadata": {},
     "output_type": "execute_result"
    }
   ],
   "source": [
    "slogdf2011 = sqf2011copy1[['searched', 'obs_duration', 'age']]  # first, just the 'searched', 'obs_duration', 'age' columns\n",
    "sgetbinary2011 = sqf2011copy1[['sex', 'race', 'boro']]\n",
    "LogR(slogdf2011, sgetbinary2011, 'searched')"
   ]
  },
  {
   "cell_type": "markdown",
   "metadata": {},
   "source": [
    "## Optimized Searched 2011"
   ]
  },
  {
   "cell_type": "markdown",
   "metadata": {},
   "source": [
    "Based on our chi-squared tests, sex, race, and boro have a statistically significant association with whether one is searched in 2011."
   ]
  },
  {
   "cell_type": "code",
   "execution_count": 235,
   "metadata": {},
   "outputs": [
    {
     "name": "stdout",
     "output_type": "stream",
     "text": [
      "Using the *optimized* model to predict whether one is searched in the 2011 test set:\n"
     ]
    },
    {
     "data": {
      "text/plain": [
       "'the prediction accuracy as a percentage is 91.6.'"
      ]
     },
     "execution_count": 235,
     "metadata": {},
     "output_type": "execute_result"
    }
   ],
   "source": [
    "soptlogdf2011 = sqf2011copy1[['searched']]  # first, just the 'searched'\n",
    "soptgetbinary2011 = sqf2011copy1[['sex', 'race', 'boro']]\n",
    "print(\"Using the *optimized* model to predict whether one is searched in the 2011 test set:\")\n",
    "LogR(soptlogdf2011, soptgetbinary2011, 'searched')"
   ]
  },
  {
   "cell_type": "code",
   "execution_count": 243,
   "metadata": {},
   "outputs": [
    {
     "name": "stdout",
     "output_type": "stream",
     "text": [
      "-0.016\tsex_FEMALE\n",
      "0.128\tsex_MALE\n",
      "-0.108\tsex_UNKNOWN\n",
      "-0.054\trace_AMERICAN INDIAN/ALASKAN NATIVE\n",
      "0.066\trace_ASIAN/PACIFIC ISLANDER\n",
      "0.067\trace_BLACK\n",
      "-0.091\trace_BLACK HISPANIC\n",
      "-0.183\trace_UNKNOWN\n",
      "0.163\trace_WHITE\n",
      "0.036\trace_WHITE HISPANIC\n",
      "0.025\tboro_BRONX\n",
      "-0.226\tboro_BROOKLYN\n",
      "0.110\tboro_MANHATTAN\n",
      "0.168\tboro_QUEENS\n",
      "-0.073\tboro_STATEN IS\n"
     ]
    },
    {
     "data": {
      "image/png": "[encoded data removed]",
      "text/plain": [
       "<Figure size 432x288 with 1 Axes>"
      ]
     },
     "metadata": {
      "needs_background": "light"
     },
     "output_type": "display_data"
    }
   ],
   "source": [
    "coeffs(soptlogdf2011, soptgetbinary2011, 'searched')"
   ]
  },
  {
   "cell_type": "markdown",
   "metadata": {},
   "source": [
    "According to the plot, the four variables with the most impact on whether one is searched in 2011 are being being in Queens, being White, being a male, and being in Manhattan."
   ]
  },
  {
   "cell_type": "markdown",
   "metadata": {},
   "source": [
    "## Seached 2019"
   ]
  },
  {
   "cell_type": "code",
   "execution_count": 245,
   "metadata": {},
   "outputs": [
    {
     "name": "stderr",
     "output_type": "stream",
     "text": [
      "C:\\Users\\fatim\\anaconda3\\lib\\site-packages\\sklearn\\linear_model\\_logistic.py:762: ConvergenceWarning: lbfgs failed to converge (status=1):\n",
      "STOP: TOTAL NO. of ITERATIONS REACHED LIMIT.\n",
      "\n",
      "Increase the number of iterations (max_iter) or scale the data as shown in:\n",
      "    https://scikit-learn.org/stable/modules/preprocessing.html\n",
      "Please also refer to the documentation for alternative solver options:\n",
      "    https://scikit-learn.org/stable/modules/linear_model.html#logistic-regression\n",
      "  n_iter_i = _check_optimize_result(\n"
     ]
    },
    {
     "data": {
      "text/plain": [
       "'the prediction accuracy as a percentage is 58.9.'"
      ]
     },
     "execution_count": 245,
     "metadata": {},
     "output_type": "execute_result"
    }
   ],
   "source": [
    "slogdf2019 = sqf2019copy1[['searched', 'obs_duration', 'age']]  # first, just the 'searched', 'obs_duration', 'age' columns\n",
    "sgetbinary2019 = sqf2019copy1[['sex', 'race', 'boro']]\n",
    "LogR(slogdf2019, sgetbinary2019, 'searched')"
   ]
  },
  {
   "cell_type": "code",
   "execution_count": 248,
   "metadata": {},
   "outputs": [
    {
     "name": "stderr",
     "output_type": "stream",
     "text": [
      "C:\\Users\\fatim\\anaconda3\\lib\\site-packages\\sklearn\\linear_model\\_logistic.py:762: ConvergenceWarning: lbfgs failed to converge (status=1):\n",
      "STOP: TOTAL NO. of ITERATIONS REACHED LIMIT.\n",
      "\n",
      "Increase the number of iterations (max_iter) or scale the data as shown in:\n",
      "    https://scikit-learn.org/stable/modules/preprocessing.html\n",
      "Please also refer to the documentation for alternative solver options:\n",
      "    https://scikit-learn.org/stable/modules/linear_model.html#logistic-regression\n",
      "  n_iter_i = _check_optimize_result(\n"
     ]
    },
    {
     "name": "stdout",
     "output_type": "stream",
     "text": [
      "0.010\tobs_duration\n",
      "0.002\tage\n",
      "-0.008\tsex_FEMALE\n",
      "0.233\tsex_MALE\n",
      "-0.788\tsex_UNKNOWN\n",
      "0.195\trace_AMERICAN INDIAN/ALASKAN N\n",
      "0.093\trace_ASIAN / PACIFIC ISLANDER\n",
      "0.113\trace_BLACK\n",
      "0.053\trace_BLACK HISPANIC\n",
      "-1.167\trace_UNKNOWN\n",
      "0.003\trace_WHITE\n",
      "0.147\trace_WHITE HISPANIC\n",
      "-0.197\tboro_BRONX\n",
      "-0.133\tboro_BROOKLYN\n",
      "-0.168\tboro_MANHATTAN\n",
      "-0.121\tboro_QUEENS\n",
      "0.057\tboro_STATEN ISLAND\n"
     ]
    },
    {
     "data": {
      "image/png": "[encoded data removed]",
      "text/plain": [
       "<Figure size 432x288 with 1 Axes>"
      ]
     },
     "metadata": {
      "needs_background": "light"
     },
     "output_type": "display_data"
    }
   ],
   "source": [
    "# *doing this just because im curious to see the coefficients of the other variables.. bc in the chi-sq test, sex was the only signicant variable - Fatima*\n",
    "coeffs(slogdf2019, sgetbinary2019, 'searched')"
   ]
  },
  {
   "cell_type": "markdown",
   "metadata": {},
   "source": [
    "## Optimized Searched 2019"
   ]
  },
  {
   "cell_type": "markdown",
   "metadata": {},
   "source": [
    "Based on chi squared tests, sex has a statistically significant association with whether someone is searched through the stop and frisk program in 2019. "
   ]
  },
  {
   "cell_type": "code",
   "execution_count": 246,
   "metadata": {},
   "outputs": [
    {
     "name": "stdout",
     "output_type": "stream",
     "text": [
      "Using the *optimized* model to predict whether one is searched in the 2019 test set:\n"
     ]
    },
    {
     "data": {
      "text/plain": [
       "'the prediction accuracy as a percentage is 59.3.'"
      ]
     },
     "execution_count": 246,
     "metadata": {},
     "output_type": "execute_result"
    }
   ],
   "source": [
    "optslogdf2019 = sqf2019copy1[['searched']]  # first, just the 'searched'\n",
    "optsgetbinary2019 = sqf2019copy1[['sex']]\n",
    "print(\"Using the *optimized* model to predict whether one is searched in the 2019 test set:\")\n",
    "LogR(optslogdf2019, optsgetbinary2019, 'searched')"
   ]
  },
  {
   "cell_type": "code",
   "execution_count": 247,
   "metadata": {},
   "outputs": [
    {
     "name": "stdout",
     "output_type": "stream",
     "text": [
      "0.295\tsex_FEMALE\n",
      "0.522\tsex_MALE\n",
      "-0.818\tsex_UNKNOWN\n"
     ]
    },
    {
     "data": {
      "image/png": "[encoded data removed]",
      "text/plain": [
       "<Figure size 432x288 with 1 Axes>"
      ]
     },
     "metadata": {
      "needs_background": "light"
     },
     "output_type": "display_data"
    }
   ],
   "source": [
    "coeffs(optslogdf2019, optsgetbinary2019, 'searched')"
   ]
  },
  {
   "cell_type": "markdown",
   "metadata": {},
   "source": [
    "According to the plot, being a male is what has the most impact on whether one is searched in 2019."
   ]
  },
  {
   "cell_type": "markdown",
   "metadata": {},
   "source": [
    "## Arrest Made 2011"
   ]
  },
  {
   "cell_type": "code",
   "execution_count": 191,
   "metadata": {},
   "outputs": [
    {
     "name": "stderr",
     "output_type": "stream",
     "text": [
      "C:\\Users\\fatim\\anaconda3\\lib\\site-packages\\sklearn\\linear_model\\_logistic.py:762: ConvergenceWarning: lbfgs failed to converge (status=1):\n",
      "STOP: TOTAL NO. of ITERATIONS REACHED LIMIT.\n",
      "\n",
      "Increase the number of iterations (max_iter) or scale the data as shown in:\n",
      "    https://scikit-learn.org/stable/modules/preprocessing.html\n",
      "Please also refer to the documentation for alternative solver options:\n",
      "    https://scikit-learn.org/stable/modules/linear_model.html#logistic-regression\n",
      "  n_iter_i = _check_optimize_result(\n"
     ]
    },
    {
     "data": {
      "text/plain": [
       "'The prediction accuracy as a percentage is 93.7.'"
      ]
     },
     "execution_count": 191,
     "metadata": {},
     "output_type": "execute_result"
    }
   ],
   "source": [
    "amlogdf2011 = sqf2011copy1[['arstmade', 'obs_duration', 'age']]  # first, just the 'arstmade', 'obs_duration', 'age' columns\n",
    "amgetbinary2011 = sqf2011copy1[['sex', 'race', 'boro']]\n",
    "LogR(amlogdf2011, amgetbinary2011, 'arstmade')"
   ]
  },
  {
   "cell_type": "markdown",
   "metadata": {},
   "source": [
    "## Optimized Arrest Made 2011"
   ]
  },
  {
   "cell_type": "markdown",
   "metadata": {},
   "source": [
    "Based on the chi-squared test, sex, race, and boro have a statisitcally significant association with whether one is arrested throug stop and frisk program in 2011."
   ]
  },
  {
   "cell_type": "code",
   "execution_count": 192,
   "metadata": {},
   "outputs": [
    {
     "name": "stdout",
     "output_type": "stream",
     "text": [
      "Using the *optimized* model to predict whether one is arrested in the 2011 test set:\n"
     ]
    },
    {
     "data": {
      "text/plain": [
       "'The prediction accuracy as a percentage is 93.7.'"
      ]
     },
     "execution_count": 192,
     "metadata": {},
     "output_type": "execute_result"
    }
   ],
   "source": [
    "optamlogdf2011 = sqf2011copy1[['arstmade']]  # first, just the 'arstmade'\n",
    "optamgetbinary2011 = sqf2011copy1[['sex', 'race', 'boro']]\n",
    "print(\"Using the *optimized* model to predict whether one is arrested in the 2011 test set:\")\n",
    "LogR(optamlogdf2011, optamgetbinary2011, 'arstmade')"
   ]
  },
  {
   "cell_type": "code",
   "execution_count": 249,
   "metadata": {},
   "outputs": [
    {
     "name": "stdout",
     "output_type": "stream",
     "text": [
      "0.378\tsex_FEMALE\n",
      "-0.020\tsex_MALE\n",
      "-0.360\tsex_UNKNOWN\n",
      "0.269\trace_AMERICAN INDIAN/ALASKAN NATIVE\n",
      "-0.036\trace_ASIAN/PACIFIC ISLANDER\n",
      "0.042\trace_BLACK\n",
      "-0.121\trace_BLACK HISPANIC\n",
      "-0.231\trace_UNKNOWN\n",
      "0.128\trace_WHITE\n",
      "-0.053\trace_WHITE HISPANIC\n",
      "-0.020\tboro_BRONX\n",
      "-0.312\tboro_BROOKLYN\n",
      "0.366\tboro_MANHATTAN\n",
      "0.030\tboro_QUEENS\n",
      "-0.065\tboro_STATEN IS\n"
     ]
    },
    {
     "data": {
      "image/png": "[encoded data removed]",
      "text/plain": [
       "<Figure size 432x288 with 1 Axes>"
      ]
     },
     "metadata": {
      "needs_background": "light"
     },
     "output_type": "display_data"
    }
   ],
   "source": [
    "coeffs(optamlogdf2011, optamgetbinary2011, 'arstmade')"
   ]
  },
  {
   "cell_type": "markdown",
   "metadata": {},
   "source": [
    "According to the plot, the four variables that have the most impact on whether one is arrested through a stop and frisk in 2011 are being female, being in Manhattan, being American Indian/Alaskan Native, and being white."
   ]
  },
  {
   "cell_type": "markdown",
   "metadata": {},
   "source": [
    "## Arrest Made 2019"
   ]
  },
  {
   "cell_type": "code",
   "execution_count": 194,
   "metadata": {},
   "outputs": [
    {
     "name": "stderr",
     "output_type": "stream",
     "text": [
      "C:\\Users\\fatim\\anaconda3\\lib\\site-packages\\sklearn\\linear_model\\_logistic.py:762: ConvergenceWarning: lbfgs failed to converge (status=1):\n",
      "STOP: TOTAL NO. of ITERATIONS REACHED LIMIT.\n",
      "\n",
      "Increase the number of iterations (max_iter) or scale the data as shown in:\n",
      "    https://scikit-learn.org/stable/modules/preprocessing.html\n",
      "Please also refer to the documentation for alternative solver options:\n",
      "    https://scikit-learn.org/stable/modules/linear_model.html#logistic-regression\n",
      "  n_iter_i = _check_optimize_result(\n"
     ]
    },
    {
     "data": {
      "text/plain": [
       "'The prediction accuracy as a percentage is 63.6.'"
      ]
     },
     "execution_count": 194,
     "metadata": {},
     "output_type": "execute_result"
    }
   ],
   "source": [
    "amlogdf2019 = sqf2019copy1[['arstmade', 'obs_duration', 'age']]  # first, just the 'arstmade', 'obs_duration', 'age' columns\n",
    "amgetbinary2019 = sqf2019copy1[['sex', 'race', 'boro']]\n",
    "LogR(amlogdf2019, amgetbinary2019, 'arstmade')"
   ]
  },
  {
   "cell_type": "markdown",
   "metadata": {},
   "source": [
    "Based on the chi-squared tests, none of the predictor variables have a statistically significant association with whether one is arrested thorugh the stop and frisk program in 2019."
   ]
  },
  {
   "cell_type": "code",
   "execution_count": 250,
   "metadata": {},
   "outputs": [
    {
     "name": "stderr",
     "output_type": "stream",
     "text": [
      "C:\\Users\\fatim\\anaconda3\\lib\\site-packages\\sklearn\\linear_model\\_logistic.py:762: ConvergenceWarning: lbfgs failed to converge (status=1):\n",
      "STOP: TOTAL NO. of ITERATIONS REACHED LIMIT.\n",
      "\n",
      "Increase the number of iterations (max_iter) or scale the data as shown in:\n",
      "    https://scikit-learn.org/stable/modules/preprocessing.html\n",
      "Please also refer to the documentation for alternative solver options:\n",
      "    https://scikit-learn.org/stable/modules/linear_model.html#logistic-regression\n",
      "  n_iter_i = _check_optimize_result(\n"
     ]
    },
    {
     "name": "stdout",
     "output_type": "stream",
     "text": [
      "0.001\tobs_duration\n",
      "-0.004\tage\n",
      "-0.078\tsex_FEMALE\n",
      "-0.288\tsex_MALE\n",
      "0.113\tsex_UNKNOWN\n",
      "0.246\trace_AMERICAN INDIAN/ALASKAN N\n",
      "-0.321\trace_ASIAN / PACIFIC ISLANDER\n",
      "0.128\trace_BLACK\n",
      "-0.108\trace_BLACK HISPANIC\n",
      "-0.293\trace_UNKNOWN\n",
      "0.064\trace_WHITE\n",
      "0.030\trace_WHITE HISPANIC\n",
      "-0.206\tboro_BRONX\n",
      "-0.212\tboro_BROOKLYN\n",
      "0.020\tboro_MANHATTAN\n",
      "-0.051\tboro_QUEENS\n",
      "0.196\tboro_STATEN ISLAND\n"
     ]
    },
    {
     "data": {
      "image/png": "[encoded data removed]",
      "text/plain": [
       "<Figure size 432x288 with 1 Axes>"
      ]
     },
     "metadata": {
      "needs_background": "light"
     },
     "output_type": "display_data"
    }
   ],
   "source": [
    "coeffs(amlogdf2019, amgetbinary2019, 'arstmade')"
   ]
  },
  {
   "cell_type": "markdown",
   "metadata": {},
   "source": [
    "According to the plot, the variables with the most influence on whether one is arrested through stop and frisk in 2019 are being American Indian/Alaskan Native, being in Staten Island, and being black."
   ]
  }
 ],
 "metadata": {
  "kernelspec": {
   "display_name": "Python 3",
   "language": "python",
   "name": "python3"
  },
  "language_info": {
   "codemirror_mode": {
    "name": "ipython",
    "version": 3
   },
   "file_extension": ".py",
   "mimetype": "text/x-python",
   "name": "python",
   "nbconvert_exporter": "python",
   "pygments_lexer": "ipython3",
   "version": "3.8.5"
  }
 },
 "nbformat": 4,
 "nbformat_minor": 4
}
