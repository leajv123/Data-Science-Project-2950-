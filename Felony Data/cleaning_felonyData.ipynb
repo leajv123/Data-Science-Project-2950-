{
 "cells": [
  {
   "cell_type": "code",
   "execution_count": 292,
   "metadata": {},
   "outputs": [],
   "source": [
    "# Load libraries\n",
    "import pandas as pd\n",
    "import numpy as np\n",
    "import matplotlib.pyplot as plt\n",
    "from scipy import stats"
   ]
  },
  {
   "cell_type": "code",
   "execution_count": 293,
   "metadata": {},
   "outputs": [],
   "source": [
    "# Load raw datasets\n",
    "major_felony_raw = pd.read_csv('seven-major-felony-offenses-2000-2020.csv')\n",
    "nonmajor_felony_raw = pd.read_csv('non-seven-major-felony-offenses-2000-2020.csv')"
   ]
  },
  {
   "cell_type": "code",
   "execution_count": 294,
   "metadata": {},
   "outputs": [
    {
     "name": "stdout",
     "output_type": "stream",
     "text": [
      "                           offense   2009   2010   2011   2012   2013   2014  \\\n",
      "0  murder & non-negl. manslaughter    471    536    515    419    335    333   \n",
      "1                             rape   1205   1373   1420   1445   1378   1352   \n",
      "2                          robbery  18601  19486  19717  20144  19128  16539   \n",
      "3                   felony assault  16773  16956  18482  19381  20297  20207   \n",
      "4                         burglary  19430  18600  18720  19168  17429  16765   \n",
      "5                    grand larceny  39580  37835  38501  42497  45368  43862   \n",
      "6   grand larceny of motor vehicle  10670  10329   9314   8093   7400   7664   \n",
      "\n",
      "    2015   2016   2017   2018   2019  \n",
      "0    352    335    292    295    319  \n",
      "1   1438   1438   1449   1794   1755  \n",
      "2  16931  15500  13956  12913  13371  \n",
      "3  20270  20847  20052  20208  20698  \n",
      "4  15125  12990  12083  11687  10783  \n",
      "5  44005  44279  43150  43558  43250  \n",
      "6   7332   6327   5676   5428   5430  \n"
     ]
    }
   ],
   "source": [
    "# Cleaning Major Felony Dataset\n",
    "\n",
    "# Column names did not import properly (they imported as a row in the data), so we renamed the Columns and dropped that row along with NaN values\n",
    "major_felony = major_felony_raw.copy().drop([0, 1, 2])\n",
    "new_colnames_major = [i for i in major_felony_raw.iloc[3]]\n",
    "major_felony.columns = new_colnames_major\n",
    "major_felony = major_felony.drop([3])\n",
    "\n",
    "# Drop Statistical Notes and NaN values\n",
    "major_felony = major_felony.drop([12, 13, 14, 15, 16, 17, 18, 19])\n",
    "\n",
    "# Drop Columns 2000 - 2009 and 2020\n",
    "major_felony = major_felony.drop(['2000', '2001', '2002', '2003', '2004', '2005', '2006', '2007', '2008', 2020.0], axis=1)\n",
    "\n",
    "# Reset Indeces\n",
    "major_felony = major_felony.reset_index(drop=True)\n",
    "\n",
    "# Rename Columns\n",
    "major_felony = major_felony.rename(columns={\"OFFENSE\": \"offense\", '2009': 2009, '2010': 2010, '2011': 2011, '2012': 2012, '2013': 2013, '2014': 2014, '2015': 2015, '2016': 2016, '2017': 2017, '2018': 2018, 2019.0: 2019})\n",
    "\n",
    "# Make All Data Entries the Same Type (Int)\n",
    "major_felony[2019.0] = [int(i) for i in major_felony[2019.0]] \n",
    "major_felony.iloc[7, 1:11] = [int(i.replace(',', '')) for i in major_felony.iloc[7, 1:11]] \n",
    "for x in range(0, 7):\n",
    "    major_felony.iloc[x, 1:11] = [int(i) for i in major_felony.iloc[x, 1:11]]\n",
    "\n",
    "# Make Offense Types Lowercase\n",
    "major_felony.loc[:, \"offense\"] = major_felony.loc[:, \"offense\"].str.lower()\n",
    "\n",
    "# Drop Totals Row \n",
    "major_felony = major_felony.drop([7])\n",
    "\n",
    "print(major_felony)"
   ]
  },
  {
   "cell_type": "code",
   "execution_count": 295,
   "metadata": {},
   "outputs": [
    {
     "name": "stdout",
     "output_type": "stream",
     "text": [
      "                                     offense   2009   2010   2011   2012  \\\n",
      "0       felony possession of stolen property    823    864    823    711   \n",
      "1         forgery/theft_fraud/identity theft  10225  10055   9876  10233   \n",
      "2                                      arson   1474   1467   1264   1253   \n",
      "3                      felony sex crimes (3)    914   1053   1028   1380   \n",
      "4                 felony dangerous drugs (1)  26025  22913  21305  19680   \n",
      "5               felony dangerous weapons (2)   5952   5413   5037   4979   \n",
      "6  fel. criminal mischief & related offenses   6397   6006   6374   6737   \n",
      "7                         other felonies (4)  11950  11616  11533  11929   \n",
      "\n",
      "    2013   2014   2015   2016   2017   2018   2019  \n",
      "0    689   1090    904    769   1019    951    733  \n",
      "1   9493   9520  10400  11079  10063   9413   8684  \n",
      "2   1187   1205   1026    802    680    741    711  \n",
      "3   1073   1135   1152   1336   1367   1615   1562  \n",
      "4  19571  17113  15279  14712  13348  11236   9587  \n",
      "5   5155   4605   4848   5465   4843   4639   4219  \n",
      "6   7468   8466   9253   9966  10073  10427  11302  \n",
      "7  13014  13735  13658  14217  13514  13645  14686  \n"
     ]
    }
   ],
   "source": [
    "# Cleaning NON-Major Felony Dataset\n",
    "\n",
    "# Column names did not import properly (they imported as a row in the data), so we renamed the Columns and dropped that row along with NaN values\n",
    "nonmajor_felony = nonmajor_felony_raw.copy().drop([0, 1])\n",
    "new_colnames_nonmajor = [i for i in nonmajor_felony_raw.iloc[2]]\n",
    "nonmajor_felony.columns = new_colnames_nonmajor\n",
    "nonmajor_felony = nonmajor_felony.drop([2])\n",
    "\n",
    "# Drop Statistical Notes and NaN values\n",
    "nonmajor_felony = nonmajor_felony.drop([12, 13, 14, 15, 16, 17, 18, 19, 20, 21, 22, 23, 24, 25, 26, 27, 28, 29, 30, 31])\n",
    "\n",
    "# Drop Columns 2000 - 2009 and 2020\n",
    "nonmajor_felony = nonmajor_felony.drop([2000.0, 2001.0, 2002.0, 2003.0, 2004.0, 2005.0, 2006.0, 2007.0, 2008.0, 2020.0], axis=1)\n",
    "\n",
    "# Reset Indeces\n",
    "nonmajor_felony = nonmajor_felony.reset_index(drop=True)\n",
    "\n",
    "# Rename Columns\n",
    "nonmajor_felony = nonmajor_felony.rename(columns={\"OFFENSE\": \"offense\"})\n",
    "nonmajor_felony = nonmajor_felony.rename(columns={2009.0: 2009, 2010.0: 2010, 2011.0: 2011, 2012.0: 2012, 2013.0: 2013, 2014.0: 2014, 2015.0: 2015, 2016.0: 2016, 2017.0: 2017, 2018.0: 2018, 2019.0: 2019})\n",
    "\n",
    "# Make All Data Entries the Same Type (Int)\n",
    "nonmajor_felony[2009] = nonmajor_felony[2009].astype(int)\n",
    "nonmajor_felony[2010] = nonmajor_felony[2010].astype(int)\n",
    "nonmajor_felony[2011] = nonmajor_felony[2011].astype(int)\n",
    "nonmajor_felony[2012] = nonmajor_felony[2012].astype(int)\n",
    "nonmajor_felony[2013] = nonmajor_felony[2013].astype(int)\n",
    "nonmajor_felony[2014] = nonmajor_felony[2014].astype(int)\n",
    "nonmajor_felony[2015] = nonmajor_felony[2015].astype(int)\n",
    "nonmajor_felony[2016] = nonmajor_felony[2016].astype(int)\n",
    "nonmajor_felony[2017] = nonmajor_felony[2017].astype(int)\n",
    "nonmajor_felony[2018] = nonmajor_felony[2018].astype(int)\n",
    "nonmajor_felony[2019] = nonmajor_felony[2019].astype(int)\n",
    "\n",
    "# Make Offense Types Lowercase\n",
    "nonmajor_felony.loc[:, \"offense\"] = nonmajor_felony.loc[:, \"offense\"].str.lower()\n",
    "\n",
    "# Drop Totals Row \n",
    "nonmajor_felony = nonmajor_felony.drop([8])\n",
    "\n",
    "print(nonmajor_felony)"
   ]
  },
  {
   "cell_type": "code",
   "execution_count": 300,
   "metadata": {},
   "outputs": [
    {
     "name": "stdout",
     "output_type": "stream",
     "text": [
      "                                      offense   2009   2010   2011   2012  \\\n",
      "0             murder & non-negl. manslaughter    471    536    515    419   \n",
      "1                                        rape   1205   1373   1420   1445   \n",
      "2                                     robbery  18601  19486  19717  20144   \n",
      "3                              felony assault  16773  16956  18482  19381   \n",
      "4                                    burglary  19430  18600  18720  19168   \n",
      "5                               grand larceny  39580  37835  38501  42497   \n",
      "6              grand larceny of motor vehicle  10670  10329   9314   8093   \n",
      "7        felony possession of stolen property    823    864    823    711   \n",
      "8          forgery/theft_fraud/identity theft  10225  10055   9876  10233   \n",
      "9                                       arson   1474   1467   1264   1253   \n",
      "10                      felony sex crimes (3)    914   1053   1028   1380   \n",
      "11                 felony dangerous drugs (1)  26025  22913  21305  19680   \n",
      "12               felony dangerous weapons (2)   5952   5413   5037   4979   \n",
      "13  fel. criminal mischief & related offenses   6397   6006   6374   6737   \n",
      "14                         other felonies (4)  11950  11616  11533  11929   \n",
      "\n",
      "     2013   2014   2015   2016   2017   2018   2019  major_nonmajor  \n",
      "0     335    333    352    335    292    295    319               1  \n",
      "1    1378   1352   1438   1438   1449   1794   1755               1  \n",
      "2   19128  16539  16931  15500  13956  12913  13371               1  \n",
      "3   20297  20207  20270  20847  20052  20208  20698               1  \n",
      "4   17429  16765  15125  12990  12083  11687  10783               1  \n",
      "5   45368  43862  44005  44279  43150  43558  43250               1  \n",
      "6    7400   7664   7332   6327   5676   5428   5430               1  \n",
      "7     689   1090    904    769   1019    951    733               0  \n",
      "8    9493   9520  10400  11079  10063   9413   8684               0  \n",
      "9    1187   1205   1026    802    680    741    711               0  \n",
      "10   1073   1135   1152   1336   1367   1615   1562               0  \n",
      "11  19571  17113  15279  14712  13348  11236   9587               0  \n",
      "12   5155   4605   4848   5465   4843   4639   4219               0  \n",
      "13   7468   8466   9253   9966  10073  10427  11302               0  \n",
      "14  13014  13735  13658  14217  13514  13645  14686               0  \n"
     ]
    }
   ],
   "source": [
    "# Combine the two datasets\n",
    "\n",
    "# Add Column to indicate whether the offense is a Major felony or Nonmajor felony\n",
    "major_felony['major_nonmajor'] = [1, 1, 1, 1, 1, 1, 1]\n",
    "nonmajor_felony['major_nonmajor'] = [0, 0, 0, 0, 0, 0, 0, 0]\n",
    "\n",
    "felony_data = major_felony.copy().append(nonmajor_felony.copy(), ignore_index = True)\n",
    "\n",
    "print(felony_data)"
   ]
  },
  {
   "cell_type": "code",
   "execution_count": null,
   "metadata": {},
   "outputs": [],
   "source": []
  }
 ],
 "metadata": {
  "kernelspec": {
   "display_name": "Python 3",
   "language": "python",
   "name": "python3"
  },
  "language_info": {
   "codemirror_mode": {
    "name": "ipython",
    "version": 3
   },
   "file_extension": ".py",
   "mimetype": "text/x-python",
   "name": "python",
   "nbconvert_exporter": "python",
   "pygments_lexer": "ipython3",
   "version": "3.8.5"
  }
 },
 "nbformat": 4,
 "nbformat_minor": 4
}
