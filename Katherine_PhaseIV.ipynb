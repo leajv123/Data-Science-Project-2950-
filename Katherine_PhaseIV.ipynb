{
 "cells": [
  {
   "cell_type": "markdown",
   "metadata": {},
   "source": [
    "# Phase IV Data Analysis"
   ]
  },
  {
   "cell_type": "code",
   "execution_count": 1,
   "metadata": {},
   "outputs": [],
   "source": [
    "# Load libraries.\n",
    "import pandas as pd\n",
    "import numpy as np\n",
    "import matplotlib.pyplot as plt\n",
    "from scipy import stats\n",
    "from sklearn.linear_model import LinearRegression"
   ]
  },
  {
   "cell_type": "markdown",
   "metadata": {},
   "source": [
    "## Linear Regression Analysis of Stop-and Frisk's Efficacy"
   ]
  },
  {
   "cell_type": "markdown",
   "metadata": {},
   "source": [
    "### Using a Linear Regression Model to Predict the Number of Annual Offenses\n",
    "\n",
    "This linear regression model will predict the total number of criminal offenses reported annually in NYC from the number of stops recorded annually in NYC. \n",
    "\n",
    "The purpose of this model is to investigate whether the NYPD's Stop and Frisk Program had a tangible and quantifiable effect on criminal activity reported in NYC from 2011 to 2019."
   ]
  },
  {
   "cell_type": "code",
   "execution_count": 2,
   "metadata": {},
   "outputs": [
    {
     "data": {
      "text/html": [
       "<div>\n",
       "<style scoped>\n",
       "    .dataframe tbody tr th:only-of-type {\n",
       "        vertical-align: middle;\n",
       "    }\n",
       "\n",
       "    .dataframe tbody tr th {\n",
       "        vertical-align: top;\n",
       "    }\n",
       "\n",
       "    .dataframe thead th {\n",
       "        text-align: right;\n",
       "    }\n",
       "</style>\n",
       "<table border=\"1\" class=\"dataframe\">\n",
       "  <thead>\n",
       "    <tr style=\"text-align: right;\">\n",
       "      <th></th>\n",
       "      <th>offense</th>\n",
       "      <th>2009</th>\n",
       "      <th>2010</th>\n",
       "      <th>2011</th>\n",
       "      <th>2012</th>\n",
       "      <th>2013</th>\n",
       "      <th>2014</th>\n",
       "      <th>2015</th>\n",
       "      <th>2016</th>\n",
       "      <th>2017</th>\n",
       "      <th>2018</th>\n",
       "      <th>2019</th>\n",
       "      <th>status</th>\n",
       "    </tr>\n",
       "  </thead>\n",
       "  <tbody>\n",
       "    <tr>\n",
       "      <th>0</th>\n",
       "      <td>murder</td>\n",
       "      <td>471</td>\n",
       "      <td>536</td>\n",
       "      <td>515</td>\n",
       "      <td>419</td>\n",
       "      <td>335</td>\n",
       "      <td>333</td>\n",
       "      <td>352</td>\n",
       "      <td>335</td>\n",
       "      <td>292</td>\n",
       "      <td>295</td>\n",
       "      <td>319</td>\n",
       "      <td>major_felony</td>\n",
       "    </tr>\n",
       "    <tr>\n",
       "      <th>1</th>\n",
       "      <td>rape</td>\n",
       "      <td>1205</td>\n",
       "      <td>1373</td>\n",
       "      <td>1420</td>\n",
       "      <td>1445</td>\n",
       "      <td>1378</td>\n",
       "      <td>1352</td>\n",
       "      <td>1438</td>\n",
       "      <td>1438</td>\n",
       "      <td>1449</td>\n",
       "      <td>1794</td>\n",
       "      <td>1755</td>\n",
       "      <td>major_felony</td>\n",
       "    </tr>\n",
       "    <tr>\n",
       "      <th>2</th>\n",
       "      <td>robbery</td>\n",
       "      <td>18601</td>\n",
       "      <td>19486</td>\n",
       "      <td>19717</td>\n",
       "      <td>20144</td>\n",
       "      <td>19128</td>\n",
       "      <td>16539</td>\n",
       "      <td>16931</td>\n",
       "      <td>15500</td>\n",
       "      <td>13956</td>\n",
       "      <td>12913</td>\n",
       "      <td>13371</td>\n",
       "      <td>major_felony</td>\n",
       "    </tr>\n",
       "    <tr>\n",
       "      <th>3</th>\n",
       "      <td>felony_assault</td>\n",
       "      <td>16773</td>\n",
       "      <td>16956</td>\n",
       "      <td>18482</td>\n",
       "      <td>19381</td>\n",
       "      <td>20297</td>\n",
       "      <td>20207</td>\n",
       "      <td>20270</td>\n",
       "      <td>20847</td>\n",
       "      <td>20052</td>\n",
       "      <td>20208</td>\n",
       "      <td>20698</td>\n",
       "      <td>major_felony</td>\n",
       "    </tr>\n",
       "    <tr>\n",
       "      <th>4</th>\n",
       "      <td>burglary</td>\n",
       "      <td>19430</td>\n",
       "      <td>18600</td>\n",
       "      <td>18720</td>\n",
       "      <td>19168</td>\n",
       "      <td>17429</td>\n",
       "      <td>16765</td>\n",
       "      <td>15125</td>\n",
       "      <td>12990</td>\n",
       "      <td>12083</td>\n",
       "      <td>11687</td>\n",
       "      <td>10783</td>\n",
       "      <td>major_felony</td>\n",
       "    </tr>\n",
       "  </tbody>\n",
       "</table>\n",
       "</div>"
      ],
      "text/plain": [
       "          offense   2009   2010   2011   2012   2013   2014   2015   2016  \\\n",
       "0          murder    471    536    515    419    335    333    352    335   \n",
       "1            rape   1205   1373   1420   1445   1378   1352   1438   1438   \n",
       "2         robbery  18601  19486  19717  20144  19128  16539  16931  15500   \n",
       "3  felony_assault  16773  16956  18482  19381  20297  20207  20270  20847   \n",
       "4        burglary  19430  18600  18720  19168  17429  16765  15125  12990   \n",
       "\n",
       "    2017   2018   2019        status  \n",
       "0    292    295    319  major_felony  \n",
       "1   1449   1794   1755  major_felony  \n",
       "2  13956  12913  13371  major_felony  \n",
       "3  20052  20208  20698  major_felony  \n",
       "4  12083  11687  10783  major_felony  "
      ]
     },
     "execution_count": 2,
     "metadata": {},
     "output_type": "execute_result"
    }
   ],
   "source": [
    "# Load Crime Offenses dataset\n",
    "nyc_crime = pd.read_csv('/Users/katherinevella/Desktop/Data Science/Data-Science-Project-2950-/Final Submission/nyc_crime')\n",
    "nyc_crime = nyc_crime.drop(columns = 'Unnamed: 0')\n",
    "nyc_crime.head()"
   ]
  },
  {
   "cell_type": "markdown",
   "metadata": {},
   "source": [
    "#### Gathering the Data:"
   ]
  },
  {
   "cell_type": "code",
   "execution_count": 3,
   "metadata": {},
   "outputs": [
    {
     "name": "stdout",
     "output_type": "stream",
     "text": [
      "Total Criminal Offenses Reported Annually (2011-2019): \n",
      "[605815, 603544, 589372, 577059, 549155, 542586, 519973, 491701, 476605]\n"
     ]
    }
   ],
   "source": [
    "# Get the total number of criminal offenses recorded each year (2011-2019)\n",
    "offense_types = nyc_crime['offense'].count()\n",
    "\n",
    "annual_offenses = []\n",
    "for year in nyc_crime.columns[3:12]:\n",
    "    count = 0\n",
    "    for offense in range(offense_types):\n",
    "        count = count + nyc_crime[year][offense]\n",
    "        \n",
    "    annual_offenses = annual_offenses + [count]\n",
    "print('Total Criminal Offenses Reported Annually (2011-2019): ')\n",
    "print(annual_offenses)"
   ]
  },
  {
   "cell_type": "code",
   "execution_count": 4,
   "metadata": {},
   "outputs": [
    {
     "name": "stdout",
     "output_type": "stream",
     "text": [
      "Total Stops Reported Annually (2011-2019): \n",
      "[685724 532911 191851  45787  22565  12404  11629  11008  13450]\n"
     ]
    }
   ],
   "source": [
    "# Get the total number of stops reported\n",
    "\n",
    "# Source: https://www.nyclu.org/en/stop-and-frisk-data\n",
    "\n",
    "annual_stops = np.array([685724, 532911, 191851, 45787, 22565, 12404, 11629, 11008, 13450])\n",
    "\n",
    "print('Total Stops Reported Annually (2011-2019): ')\n",
    "print(annual_stops)"
   ]
  },
  {
   "cell_type": "markdown",
   "metadata": {},
   "source": [
    "#### Performing the Linear Regression to Predict Total Offenses:"
   ]
  },
  {
   "cell_type": "code",
   "execution_count": 5,
   "metadata": {},
   "outputs": [
    {
     "data": {
      "image/png": "[encoded data removed]",
      "text/plain": [
       "<Figure size 432x288 with 1 Axes>"
      ]
     },
     "metadata": {
      "needs_background": "light"
     },
     "output_type": "display_data"
    }
   ],
   "source": [
    "# Perform linear regression with number of stops each year as predictor var X and total number of offenses as criterion var y\n",
    "\n",
    "linear_model = LinearRegression().fit(annual_stops.reshape(-1,1), annual_offenses)\n",
    "\n",
    "# Scatterplot of observed values and predicted values\n",
    "plt.scatter(annual_stops, annual_offenses, label = 'Observed Values')\n",
    "predicted_offenses = linear_model.predict(annual_stops.reshape(-1,1))\n",
    "plt.scatter(annual_stops, predicted_offenses, label = 'Predicted Values')\n",
    "plt.title('Annual Stops vs. Annual Offenses')\n",
    "plt.xlabel('Annual Stops')\n",
    "plt.ylabel('Annual Offenses')\n",
    "plt.legend(loc='lower right')\n",
    "plt.show()"
   ]
  },
  {
   "cell_type": "code",
   "execution_count": 6,
   "metadata": {},
   "outputs": [
    {
     "name": "stdout",
     "output_type": "stream",
     "text": [
      "Estimated slope: 0.14\n",
      "Estimated intercept: 527641.34\n",
      "Coefficient of Determination (r^2): 0.55\n"
     ]
    }
   ],
   "source": [
    "# print slope, intercept, and coefficient of determination (r^2)\n",
    "print('Estimated slope: {:.2f}'.format(linear_model.coef_[0]))\n",
    "print('Estimated intercept: {:.2f}'.format(linear_model.intercept_))\n",
    "print('Coefficient of Determination (r^2): {:.2f}'.format(linear_model.score(annual_stops.reshape(-1,1), annual_offenses)))"
   ]
  },
  {
   "cell_type": "markdown",
   "metadata": {},
   "source": [
    "The estimated slope of this linear regression model is 0.14. This value indicates that as the number of annual stops increases by 1, the number of annual offenses is predicted to increase by 0.14.\n",
    "\n",
    "We see here that number of stops is a moderate predictor of number of offenses overall. \n",
    "The r<sup>2</sup> value (the coefficient of determination) is 0.55, indicating that only 55% of the variation in the number of total annual offenses can be predicted by the number of annual stops."
   ]
  },
  {
   "cell_type": "markdown",
   "metadata": {},
   "source": [
    "Let's narrow this down to the two offenses specifically targeted by stop and frisk, drugs and weapons.\n",
    "\n",
    "The two illegal activities specifically targeted by the NYPD's Stop and Frisk Program are drug and weapon possession. Therefore, it is necessary to perform another linear regression analysis specifically modeling the relationship between the total number of stops reported annually and the number of drug & weapon offenses reported annually in NYC during this period."
   ]
  },
  {
   "cell_type": "markdown",
   "metadata": {},
   "source": [
    "### Using a Linear Regression Model to Predict the Number of Annual Drug & Weapons Offenses\n",
    "\n",
    "This linear regression model will predict the total number of criminal drug & weapons offenses reported annually in NYC from the number of stops recorded annually in NYC. The stop-and-frisk program primarily targets civilians suspected of drug- and/or weapons-related offenses, so one might anticipate that the number of stops to have a greater effect on the rates of these specific crimes than criminal offenses overall."
   ]
  },
  {
   "cell_type": "markdown",
   "metadata": {},
   "source": [
    "#### Gathering the Data:"
   ]
  },
  {
   "cell_type": "code",
   "execution_count": 7,
   "metadata": {},
   "outputs": [
    {
     "name": "stdout",
     "output_type": "stream",
     "text": [
      "Drug & Weapons Offenses Reported Annual (2011-2019):\n",
      "[115405, 99693, 86777, 80719, 64283, 61165, 55721, 39077, 26738]\n"
     ]
    }
   ],
   "source": [
    "# Get the number of drug & weapons offenses reported annually (2011-2019)\n",
    "drugs_weapons = nyc_crime.loc[(nyc_crime['offense'] == 'drugs') | (nyc_crime['offense'] == 'weapons')]\n",
    "\n",
    "annual_drugsWeapons = []\n",
    "for year in nyc_crime.columns[3:12]:\n",
    "    count = 0\n",
    "    for offense in drugs_weapons[year]:\n",
    "        count = count + offense\n",
    "    annual_drugsWeapons = annual_drugsWeapons + [count]\n",
    "        \n",
    "print('Drug & Weapons Offenses Reported Annual (2011-2019):')\n",
    "print(annual_drugsWeapons)"
   ]
  },
  {
   "cell_type": "markdown",
   "metadata": {},
   "source": [
    "### Performing the Linear Regression:"
   ]
  },
  {
   "cell_type": "code",
   "execution_count": 8,
   "metadata": {},
   "outputs": [
    {
     "data": {
      "image/png": "[encoded data removed]",
      "text/plain": [
       "<Figure size 432x288 with 1 Axes>"
      ]
     },
     "metadata": {
      "needs_background": "light"
     },
     "output_type": "display_data"
    }
   ],
   "source": [
    "# Perform linear regression with number of stops each year as predictor var X and number of drug & weapons offenses as criterion var y\n",
    "dw_linear_model = LinearRegression().fit(annual_stops.reshape(-1,1), annual_drugsWeapons)\n",
    "\n",
    "# Scatterplot of observed values and predicted values\n",
    "plt.scatter(annual_stops, annual_drugsWeapons, label = 'Observed Values')\n",
    "predicted_dw = dw_linear_model.predict(annual_stops.reshape(-1,1))\n",
    "plt.scatter(annual_stops, predicted_dw, label = 'Predicted Values')\n",
    "plt.title('Annual Stops vs. Annual Offenses (Drug and Weapon Charges)')\n",
    "plt.xlabel('Annual Stops')\n",
    "plt.ylabel('Annual Offenses')\n",
    "plt.legend(loc='lower right')\n",
    "plt.show()"
   ]
  },
  {
   "cell_type": "code",
   "execution_count": 9,
   "metadata": {},
   "outputs": [
    {
     "name": "stdout",
     "output_type": "stream",
     "text": [
      "Estimated slope: 0.09\n",
      "Estimated intercept: 54279.79\n",
      "r^2: 0.70\n"
     ]
    }
   ],
   "source": [
    "# print slope, intercept, and r^2\n",
    "print('Estimated slope: {:.2f}'.format(dw_linear_model.coef_[0]))\n",
    "print('Estimated intercept: {:.2f}'.format(dw_linear_model.intercept_))\n",
    "print('r^2: {:.2f}'.format(dw_linear_model.score(annual_stops.reshape(-1,1), annual_drugsWeapons)))"
   ]
  },
  {
   "cell_type": "markdown",
   "metadata": {},
   "source": [
    "The number of stops serves as a stronger predictor of the number of drug & weapons offenses rather than total offenses.\n",
    "\n",
    "The r^2 value (the coefficient of determination) of this model is 0.70, indicating that 70% of the variation in the number of annual offenses can be predicted by the number of annual stops for drugs & weapons. "
   ]
  },
  {
   "cell_type": "markdown",
   "metadata": {},
   "source": [
    "### Let's do this again. Just drugs"
   ]
  },
  {
   "cell_type": "code",
   "execution_count": 10,
   "metadata": {},
   "outputs": [
    {
     "data": {
      "text/plain": [
       "[101767, 87578, 75100, 69948, 53750, 50694, 47034, 31179, 20441]"
      ]
     },
     "execution_count": 10,
     "metadata": {},
     "output_type": "execute_result"
    }
   ],
   "source": [
    "# Get number of drug and weapons offenses per year\n",
    "\n",
    "drugs = nyc_crime.loc[nyc_crime['offense'] == 'drugs']\n",
    "\n",
    "annual_drugs = []\n",
    "# iterate through each year\n",
    "for year in nyc_crime.columns[3:12]:\n",
    "\n",
    "    count = 0\n",
    "    \n",
    "    # iterate through each type of charge\n",
    "    for offense in drugs[year]:\n",
    "        count = count + offense\n",
    "        \n",
    "    annual_drugs = annual_drugs + [count]\n",
    "        \n",
    "annual_drugs"
   ]
  },
  {
   "cell_type": "code",
   "execution_count": 11,
   "metadata": {},
   "outputs": [
    {
     "name": "stdout",
     "output_type": "stream",
     "text": [
      "Estimated slope:  0.08571397378404974\n",
      "Estimated intercept:  45175.2846815979\n"
     ]
    }
   ],
   "source": [
    "# Perform linear regression with number of stops each year as predictor var X and number of drug offenses as criterion var y\n",
    "\n",
    "d_linear_model = LinearRegression().fit(annual_stops.reshape(-1,1), annual_drugs)\n",
    "\n",
    "# print slope and intercept\n",
    "print('Estimated slope: ', d_linear_model.coef_[0])\n",
    "print('Estimated intercept: ',d_linear_model.intercept_) "
   ]
  },
  {
   "cell_type": "code",
   "execution_count": 12,
   "metadata": {},
   "outputs": [
    {
     "data": {
      "image/png": "[encoded data removed]",
      "text/plain": [
       "<Figure size 432x288 with 1 Axes>"
      ]
     },
     "metadata": {
      "needs_background": "light"
     },
     "output_type": "display_data"
    }
   ],
   "source": [
    "# Scatterplot of observed values and predicted values\n",
    "plt.scatter(annual_stops, annual_drugs, label = 'Observed Values')\n",
    "\n",
    "predicted_d = d_linear_model.predict(annual_stops.reshape(-1,1))\n",
    "plt.scatter(annual_stops, predicted_d, label = 'Predicted Values')\n",
    "\n",
    "plt.title('Annual Stops vs. Annual Offenses (Drug Charges)')\n",
    "plt.xlabel('Annual Stops')\n",
    "plt.ylabel('Annual Offenses')\n",
    "plt.show()"
   ]
  },
  {
   "cell_type": "code",
   "execution_count": 13,
   "metadata": {},
   "outputs": [
    {
     "name": "stdout",
     "output_type": "stream",
     "text": [
      "r^2: 0.71\n"
     ]
    }
   ],
   "source": [
    "print('r^2: {:.2f}'.format(d_linear_model.score(annual_stops.reshape(-1,1), annual_drugs)))"
   ]
  },
  {
   "cell_type": "markdown",
   "metadata": {},
   "source": [
    "### Let's do this again. Just weapons"
   ]
  },
  {
   "cell_type": "code",
   "execution_count": 14,
   "metadata": {},
   "outputs": [
    {
     "data": {
      "text/plain": [
       "[13638, 12115, 11677, 10771, 10533, 10471, 8687, 7898, 6297]"
      ]
     },
     "execution_count": 14,
     "metadata": {},
     "output_type": "execute_result"
    }
   ],
   "source": [
    "# Get number of drug and weapons offenses per year\n",
    "\n",
    "weapons = nyc_crime.loc[nyc_crime['offense'] == 'weapons']\n",
    "\n",
    "annual_weapons = []\n",
    "# iterate through each year\n",
    "for year in nyc_crime.columns[3:12]:\n",
    "\n",
    "    count = 0\n",
    "    \n",
    "    # iterate through each type of charge\n",
    "    for offense in weapons[year]:\n",
    "        count = count + offense\n",
    "        \n",
    "    annual_weapons = annual_weapons + [count]\n",
    "        \n",
    "annual_weapons"
   ]
  },
  {
   "cell_type": "code",
   "execution_count": 15,
   "metadata": {},
   "outputs": [
    {
     "name": "stdout",
     "output_type": "stream",
     "text": [
      "Estimated slope:  0.00664325780298151\n",
      "Estimated intercept:  9104.506633670006\n"
     ]
    }
   ],
   "source": [
    "# Perform linear regression with number of stops each year as predictor var X and number of WEAPONS offenses as criterion var y\n",
    "\n",
    "weapons_linear_model = LinearRegression().fit(annual_stops.reshape(-1,1), annual_weapons)\n",
    "\n",
    "# print slope and intercept\n",
    "print('Estimated slope: ', weapons_linear_model.coef_[0])\n",
    "print('Estimated intercept: ', weapons_linear_model.intercept_) "
   ]
  },
  {
   "cell_type": "code",
   "execution_count": 16,
   "metadata": {},
   "outputs": [
    {
     "data": {
      "image/png": "[encoded data removed]",
      "text/plain": [
       "<Figure size 432x288 with 1 Axes>"
      ]
     },
     "metadata": {
      "needs_background": "light"
     },
     "output_type": "display_data"
    }
   ],
   "source": [
    "# Scatterplot of observed values and predicted values\n",
    "plt.scatter(annual_stops, annual_weapons, label = 'Observed Values')\n",
    "\n",
    "predicted_weapons = weapons_linear_model.predict(annual_stops.reshape(-1,1))\n",
    "plt.scatter(annual_stops, predicted_weapons, label = 'Predicted Values')\n",
    "\n",
    "plt.title('Annual Stops vs. Annual Offenses (Weapons Charges)')\n",
    "plt.xlabel('Annual Stops')\n",
    "plt.ylabel('Annual Offenses')\n",
    "plt.show()"
   ]
  },
  {
   "cell_type": "code",
   "execution_count": 17,
   "metadata": {},
   "outputs": [
    {
     "name": "stdout",
     "output_type": "stream",
     "text": [
      "r^2: 0.58\n"
     ]
    }
   ],
   "source": [
    "print('r^2: {:.2f}'.format(weapons_linear_model.score(annual_stops.reshape(-1,1), annual_weapons)))"
   ]
  },
  {
   "cell_type": "markdown",
   "metadata": {},
   "source": [
    "## Stacked Bar Graphs"
   ]
  },
  {
   "cell_type": "code",
   "execution_count": 26,
   "metadata": {},
   "outputs": [
    {
     "data": {
      "text/plain": [
       "<matplotlib.legend.Legend at 0x7faa43c3eb50>"
      ]
     },
     "execution_count": 26,
     "metadata": {},
     "output_type": "execute_result"
    },
    {
     "data": {
      "image/png": "[encoded data removed]",
      "text/plain": [
       "<Figure size 432x288 with 1 Axes>"
      ]
     },
     "metadata": {
      "needs_background": "light"
     },
     "output_type": "display_data"
    },
    {
     "data": {
      "image/png": "[encoded data removed]",
      "text/plain": [
       "<Figure size 432x288 with 1 Axes>"
      ]
     },
     "metadata": {
      "needs_background": "light"
     },
     "output_type": "display_data"
    }
   ],
   "source": [
    "major_felony = []\n",
    "nonmajor_felony = []\n",
    "misdemeanor = []\n",
    "violation = []\n",
    "\n",
    "labels = nyc_crime.columns[1:12]\n",
    "\n",
    "for i in labels:\n",
    "    major_felony.append(nyc_crime.loc[(nyc_crime['status'] == 'major_felony')].iloc[:,1:12][i].sum())\n",
    "    nonmajor_felony.append(nyc_crime.loc[(nyc_crime['status'] == 'nonmajor_felony')].iloc[:,1:12][i].sum())\n",
    "    misdemeanor.append(nyc_crime.loc[(nyc_crime['status'] == 'misdemeanor')].iloc[:,1:12][i].sum())\n",
    "    violation.append(nyc_crime.loc[(nyc_crime['status'] == 'violation')].iloc[:,1:12][i].sum())\n",
    "    \n",
    "width = 0.35       # the width of the bars\n",
    "fig, ax1 = plt.subplots()\n",
    "ax1.bar(labels, major_felony, width, label='Major Felony')\n",
    "ax1.bar(labels, nonmajor_felony, width, label='Non-Major Felony')\n",
    "ax1.legend()\n",
    "\n",
    "fig, ax2 = plt.subplots()\n",
    "ax2.bar(labels, misdemeanor, width, label='Misdemeanor')\n",
    "ax2.bar(labels, violation, width, label='Violation')\n",
    "ax2.legend()"
   ]
  },
  {
   "cell_type": "code",
   "execution_count": null,
   "metadata": {},
   "outputs": [],
   "source": []
  }
 ],
 "metadata": {
  "kernelspec": {
   "display_name": "Python 3",
   "language": "python",
   "name": "python3"
  },
  "language_info": {
   "codemirror_mode": {
    "name": "ipython",
    "version": 3
   },
   "file_extension": ".py",
   "mimetype": "text/x-python",
   "name": "python",
   "nbconvert_exporter": "python",
   "pygments_lexer": "ipython3",
   "version": "3.8.5"
  }
 },
 "nbformat": 4,
 "nbformat_minor": 4
}
