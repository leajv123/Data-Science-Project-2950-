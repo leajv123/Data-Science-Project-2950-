{
 "cells": [
  {
   "cell_type": "markdown",
   "metadata": {},
   "source": [
    "## Phase IV Lea Work"
   ]
  },
  {
   "cell_type": "code",
   "execution_count": 1,
   "metadata": {},
   "outputs": [],
   "source": [
    "# Load libraries.\n",
    "import pandas as pd\n",
    "import numpy as np\n",
    "import matplotlib.pyplot as plt\n",
    "from scipy import stats"
   ]
  },
  {
   "cell_type": "code",
   "execution_count": 2,
   "metadata": {},
   "outputs": [],
   "source": [
    "sqf2011= pd.read_csv('sqf2011_final_sample')\n",
    "\n",
    "sqf2019= pd.read_csv('sqf2019_final_sample')"
   ]
  },
  {
   "cell_type": "markdown",
   "metadata": {},
   "source": [
    "## Defining Functions"
   ]
  },
  {
   "cell_type": "markdown",
   "metadata": {},
   "source": [
    "### (a) Bootstrapping Function"
   ]
  },
  {
   "cell_type": "code",
   "execution_count": 3,
   "metadata": {},
   "outputs": [],
   "source": [
    "def bootstrap(df, colname):\n",
    "    \"\"\" Calculate 5000 bootstraps on the colname column in df for a given year. \"\"\"\n",
    "    data= df[colname]\n",
    "    sample_size= data.size\n",
    "    \n",
    "    # Bootstrap 5000 times. For each resample, calculate the mean of the sample.\n",
    "    bootstraps= []\n",
    "\n",
    "    for i in np.arange(0, 5001):\n",
    "        resample= np.random.choice(data, sample_size)\n",
    "        resample_mean= np.average(resample)\n",
    "        bootstraps= np.append(bootstraps, resample_mean)\n",
    "        \n",
    "    return bootstraps"
   ]
  },
  {
   "cell_type": "markdown",
   "metadata": {},
   "source": [
    "### (b) Contingency Table Function"
   ]
  },
  {
   "cell_type": "code",
   "execution_count": 4,
   "metadata": {},
   "outputs": [],
   "source": [
    "def get_contingency_table(df, col1_name, col2_name):\n",
    "    \"\"\" Generate a contingency table using the DataFrame df, and the 2 column names provided (Strings) col1_name and col2_name. \"\"\"\n",
    "    \n",
    "    col_a_categories= df[col1_name].unique()\n",
    "    col_a= pd.Categorical(df[col1_name], categories= col_a_categories)\n",
    "    \n",
    "    col_b_categories= df[col2_name].unique()\n",
    "    col_b= pd.Categorical(df[col2_name], categories= col_b_categories)\n",
    "    \n",
    "    return pd.crosstab(col_a, col_b, rownames= [col1_name], colnames= [col2_name])"
   ]
  },
  {
   "cell_type": "markdown",
   "metadata": {},
   "source": [
    "### (c) Calculate Chi-Squared P-Value Function"
   ]
  },
  {
   "cell_type": "code",
   "execution_count": 5,
   "metadata": {},
   "outputs": [],
   "source": [
    "def calc_chi_squared(df, col1_name, col2_name):\n",
    "    \"\"\" Calculate the chi-squared p-value of 2 columns from a given DataFrame. \"\"\"\n",
    "    cTable= get_contingency_table(df, col1_name, col2_name)\n",
    "    \n",
    "    return stats.chi2_contingency(cTable)[1]"
   ]
  },
  {
   "cell_type": "markdown",
   "metadata": {},
   "source": [
    "## Frisked Predictors (2011)"
   ]
  },
  {
   "cell_type": "markdown",
   "metadata": {},
   "source": [
    "### (1) Observation Duration"
   ]
  },
  {
   "cell_type": "code",
   "execution_count": 6,
   "metadata": {},
   "outputs": [
    {
     "data": {
      "image/png": "[encoded data removed]",
      "text/plain": [
       "<Figure size 576x432 with 1 Axes>"
      ]
     },
     "metadata": {
      "needs_background": "light"
     },
     "output_type": "display_data"
    }
   ],
   "source": [
    "obs_duration_frisked= sqf2011.loc[sqf2011['frisked'] == True]\n",
    "\n",
    "obs_bootstraps2011= bootstrap(obs_duration_frisked, 'obs_duration')\n",
    "\n",
    "plt.figure(figsize= (8, 6))\n",
    "plt.hist(obs_bootstraps2011)\n",
    "plt.xlabel('Mean Observation Duration (Minutes)')\n",
    "plt.ylabel('Count')\n",
    "plt.title('Mean Observation Duration (Minutes) Distribution (2011)')\n",
    "plt.show()"
   ]
  },
  {
   "cell_type": "code",
   "execution_count": 7,
   "metadata": {},
   "outputs": [
    {
     "name": "stdout",
     "output_type": "stream",
     "text": [
      "The middle 95% confidence interval from the bootstrap estimates is (2.30,  2.38) minutes.\n"
     ]
    }
   ],
   "source": [
    "# Calculate the 95% confidence interval\n",
    "left_bound = np.percentile(obs_bootstraps2011, 2.5)\n",
    "right_bound = np.percentile(obs_bootstraps2011, 97.5)\n",
    "\n",
    "conf_interval_print= \"The middle 95% confidence interval from the bootstrap estimates is ({:.2f},  {:.2f}) minutes.\".format(left_bound, right_bound)\n",
    "print(conf_interval_print)"
   ]
  },
  {
   "cell_type": "code",
   "execution_count": 8,
   "metadata": {},
   "outputs": [
    {
     "data": {
      "text/plain": [
       "True"
      ]
     },
     "execution_count": 8,
     "metadata": {},
     "output_type": "execute_result"
    }
   ],
   "source": [
    "fObs_test_stat2011= np.average(sqf2011.obs_duration)\n",
    "fObs_pVal2011= sum(obs_bootstraps2011 >= fObs_test_stat2011) / len(obs_bootstraps2011)\n",
    "fObs_pVal2011 < 0.05"
   ]
  },
  {
   "cell_type": "markdown",
   "metadata": {},
   "source": [
    "### (2) Age"
   ]
  },
  {
   "cell_type": "code",
   "execution_count": 9,
   "metadata": {},
   "outputs": [
    {
     "data": {
      "image/png": "[encoded data removed]",
      "text/plain": [
       "<Figure size 576x432 with 1 Axes>"
      ]
     },
     "metadata": {
      "needs_background": "light"
     },
     "output_type": "display_data"
    }
   ],
   "source": [
    "age_frisked= sqf2011.loc[sqf2011['frisked'] == True]\n",
    "\n",
    "age_bootstraps2011= bootstrap(age_frisked, 'age')\n",
    "\n",
    "plt.figure(figsize= (8, 6))\n",
    "plt.hist(age_bootstraps2011)\n",
    "plt.xlabel('Mean Age (Years)')\n",
    "plt.ylabel('Count')\n",
    "plt.title('Mean Age (Years) Distribution (2011)')\n",
    "plt.show()"
   ]
  },
  {
   "cell_type": "code",
   "execution_count": 10,
   "metadata": {},
   "outputs": [
    {
     "name": "stdout",
     "output_type": "stream",
     "text": [
      "The middle 95% confidence interval from the bootstrap estimates is (26.70,  26.91) minutes.\n"
     ]
    }
   ],
   "source": [
    "# Calculate the 95% confidence interval\n",
    "left_bound = np.percentile(age_bootstraps2011, 2.5)\n",
    "right_bound = np.percentile(age_bootstraps2011, 97.5)\n",
    "\n",
    "conf_interval_print= \"The middle 95% confidence interval from the bootstrap estimates is ({:.2f},  {:.2f}) minutes.\".format(left_bound, right_bound)\n",
    "print(conf_interval_print)"
   ]
  },
  {
   "cell_type": "code",
   "execution_count": 11,
   "metadata": {},
   "outputs": [
    {
     "data": {
      "text/plain": [
       "True"
      ]
     },
     "execution_count": 11,
     "metadata": {},
     "output_type": "execute_result"
    }
   ],
   "source": [
    "fAge_test_stat2011= np.average(sqf2011.age)\n",
    "fAge_pVal2011= sum(age_bootstraps2011 >= fAge_test_stat2011) / len(age_bootstraps2011)\n",
    "fAge_pVal2011 < 0.05"
   ]
  },
  {
   "cell_type": "markdown",
   "metadata": {},
   "source": [
    "### (3) Sex"
   ]
  },
  {
   "cell_type": "code",
   "execution_count": 12,
   "metadata": {},
   "outputs": [
    {
     "data": {
      "text/plain": [
       "True"
      ]
     },
     "execution_count": 12,
     "metadata": {},
     "output_type": "execute_result"
    }
   ],
   "source": [
    "fSex_pVal2011= calc_chi_squared(sqf2011, 'frisked', 'sex')\n",
    "fSex_pVal2011 < 0.05"
   ]
  },
  {
   "cell_type": "markdown",
   "metadata": {},
   "source": [
    "### (4) Race"
   ]
  },
  {
   "cell_type": "code",
   "execution_count": 13,
   "metadata": {},
   "outputs": [
    {
     "data": {
      "text/plain": [
       "True"
      ]
     },
     "execution_count": 13,
     "metadata": {},
     "output_type": "execute_result"
    }
   ],
   "source": [
    "fRace_pVal2011= calc_chi_squared(sqf2011, 'frisked', 'race')\n",
    "fRace_pVal2011 < 0.05"
   ]
  },
  {
   "cell_type": "markdown",
   "metadata": {},
   "source": [
    "### (5) Boro"
   ]
  },
  {
   "cell_type": "code",
   "execution_count": 14,
   "metadata": {},
   "outputs": [
    {
     "data": {
      "text/plain": [
       "True"
      ]
     },
     "execution_count": 14,
     "metadata": {},
     "output_type": "execute_result"
    }
   ],
   "source": [
    "fBoro_pVal2011= calc_chi_squared(sqf2011, 'frisked', 'boro')\n",
    "fBoro_pVal2011 < 0.05"
   ]
  },
  {
   "cell_type": "markdown",
   "metadata": {},
   "source": [
    "## Searched Predictors (2011)"
   ]
  },
  {
   "cell_type": "markdown",
   "metadata": {},
   "source": [
    "### (1) Observation Duration"
   ]
  },
  {
   "cell_type": "code",
   "execution_count": 15,
   "metadata": {},
   "outputs": [
    {
     "data": {
      "image/png": "[encoded data removed]",
      "text/plain": [
       "<Figure size 576x432 with 1 Axes>"
      ]
     },
     "metadata": {
      "needs_background": "light"
     },
     "output_type": "display_data"
    }
   ],
   "source": [
    "obs_duration_searched= sqf2011.loc[sqf2011['searched'] == True]\n",
    "\n",
    "obs_bootstraps2011= bootstrap(obs_duration_searched, 'obs_duration')\n",
    "\n",
    "plt.figure(figsize= (8, 6))\n",
    "plt.hist(obs_bootstraps2011)\n",
    "plt.xlabel('Mean Observation Duration (Minutes)')\n",
    "plt.ylabel('Count')\n",
    "plt.title('Mean Observation Duration (Minutes) Distribution (2011)')\n",
    "plt.show()"
   ]
  },
  {
   "cell_type": "code",
   "execution_count": 16,
   "metadata": {},
   "outputs": [
    {
     "name": "stdout",
     "output_type": "stream",
     "text": [
      "The middle 95% confidence interval from the bootstrap estimates is (2.38,  2.63) minutes.\n"
     ]
    }
   ],
   "source": [
    "# Calculate the 95% confidence interval\n",
    "left_bound = np.percentile(obs_bootstraps2011, 2.5)\n",
    "right_bound = np.percentile(obs_bootstraps2011, 97.5)\n",
    "\n",
    "conf_interval_print= \"The middle 95% confidence interval from the bootstrap estimates is ({:.2f},  {:.2f}) minutes.\".format(left_bound, right_bound)\n",
    "print(conf_interval_print)"
   ]
  },
  {
   "cell_type": "code",
   "execution_count": 17,
   "metadata": {},
   "outputs": [
    {
     "data": {
      "text/plain": [
       "False"
      ]
     },
     "execution_count": 17,
     "metadata": {},
     "output_type": "execute_result"
    }
   ],
   "source": [
    "sObs_test_stat2011= np.average(sqf2011.obs_duration)\n",
    "sObs_pVal2011= sum(obs_bootstraps2011 >= sObs_test_stat2011) / len(obs_bootstraps2011)\n",
    "sObs_pVal2011 < 0.05"
   ]
  },
  {
   "cell_type": "markdown",
   "metadata": {},
   "source": [
    "### (2) Age"
   ]
  },
  {
   "cell_type": "code",
   "execution_count": 18,
   "metadata": {},
   "outputs": [
    {
     "data": {
      "image/png": "[encoded data removed]",
      "text/plain": [
       "<Figure size 576x432 with 1 Axes>"
      ]
     },
     "metadata": {
      "needs_background": "light"
     },
     "output_type": "display_data"
    }
   ],
   "source": [
    "age_searched= sqf2011.loc[sqf2011['searched'] == True]\n",
    "\n",
    "age_bootstraps2011= bootstrap(age_searched, 'age')\n",
    "\n",
    "plt.figure(figsize= (8, 6))\n",
    "plt.hist(age_bootstraps2011)\n",
    "plt.xlabel('Mean Age (Years)')\n",
    "plt.ylabel('Count')\n",
    "plt.title('Mean Age (Years) Distribution (2011)')\n",
    "plt.show()"
   ]
  },
  {
   "cell_type": "code",
   "execution_count": 19,
   "metadata": {},
   "outputs": [
    {
     "name": "stdout",
     "output_type": "stream",
     "text": [
      "The middle 95% confidence interval from the bootstrap estimates is (27.96,  28.57) minutes.\n"
     ]
    }
   ],
   "source": [
    "# Calculate the 95% confidence interval\n",
    "left_bound = np.percentile(age_bootstraps2011, 2.5)\n",
    "right_bound = np.percentile(age_bootstraps2011, 97.5)\n",
    "\n",
    "conf_interval_print= \"The middle 95% confidence interval from the bootstrap estimates is ({:.2f},  {:.2f}) minutes.\".format(left_bound, right_bound)\n",
    "print(conf_interval_print)"
   ]
  },
  {
   "cell_type": "code",
   "execution_count": 20,
   "metadata": {},
   "outputs": [
    {
     "data": {
      "text/plain": [
       "False"
      ]
     },
     "execution_count": 20,
     "metadata": {},
     "output_type": "execute_result"
    }
   ],
   "source": [
    "sAge_test_stat2011= np.average(sqf2011.age)\n",
    "sAge_pVal2011= sum(age_bootstraps2011 >= sAge_test_stat2011) / len(age_bootstraps2011)\n",
    "sAge_pVal2011 < 0.05"
   ]
  },
  {
   "cell_type": "markdown",
   "metadata": {},
   "source": [
    "### (3) Sex"
   ]
  },
  {
   "cell_type": "code",
   "execution_count": 21,
   "metadata": {},
   "outputs": [
    {
     "data": {
      "text/plain": [
       "True"
      ]
     },
     "execution_count": 21,
     "metadata": {},
     "output_type": "execute_result"
    }
   ],
   "source": [
    "sSex_pVal2011= calc_chi_squared(sqf2011, 'searched', 'sex')\n",
    "sSex_pVal2011 < 0.05"
   ]
  },
  {
   "cell_type": "markdown",
   "metadata": {},
   "source": [
    "### (4) Race"
   ]
  },
  {
   "cell_type": "code",
   "execution_count": 22,
   "metadata": {},
   "outputs": [
    {
     "data": {
      "text/plain": [
       "True"
      ]
     },
     "execution_count": 22,
     "metadata": {},
     "output_type": "execute_result"
    }
   ],
   "source": [
    "sRace_pVal2011= calc_chi_squared(sqf2011, 'searched', 'race')\n",
    "sRace_pVal2011 < 0.05"
   ]
  },
  {
   "cell_type": "markdown",
   "metadata": {},
   "source": [
    "### (5) Boro"
   ]
  },
  {
   "cell_type": "code",
   "execution_count": 23,
   "metadata": {},
   "outputs": [
    {
     "data": {
      "text/plain": [
       "True"
      ]
     },
     "execution_count": 23,
     "metadata": {},
     "output_type": "execute_result"
    }
   ],
   "source": [
    "sBoro_pVal2011= calc_chi_squared(sqf2011, 'searched', 'boro')\n",
    "sBoro_pVal2011 < 0.05"
   ]
  },
  {
   "cell_type": "markdown",
   "metadata": {},
   "source": [
    "## Arrest Made Predictors (2011)"
   ]
  },
  {
   "cell_type": "markdown",
   "metadata": {},
   "source": [
    "### (1) Observation Duration"
   ]
  },
  {
   "cell_type": "code",
   "execution_count": 24,
   "metadata": {},
   "outputs": [
    {
     "data": {
      "image/png": "[encoded data removed]",
      "text/plain": [
       "<Figure size 576x432 with 1 Axes>"
      ]
     },
     "metadata": {
      "needs_background": "light"
     },
     "output_type": "display_data"
    }
   ],
   "source": [
    "obs_duration_arrest= sqf2011.loc[sqf2011['arstmade'] == True]\n",
    "\n",
    "obs_bootstraps2011= bootstrap(obs_duration_arrest, 'obs_duration')\n",
    "\n",
    "plt.figure(figsize= (8, 6))\n",
    "plt.hist(obs_bootstraps2011)\n",
    "plt.xlabel('Mean Observation Duration (Minutes)')\n",
    "plt.ylabel('Count')\n",
    "plt.title('Mean Observation Duration (Minutes) Distribution (2011)')\n",
    "plt.show()"
   ]
  },
  {
   "cell_type": "code",
   "execution_count": 25,
   "metadata": {},
   "outputs": [
    {
     "name": "stdout",
     "output_type": "stream",
     "text": [
      "The middle 95% confidence interval from the bootstrap estimates is (2.66,  3.02) minutes.\n"
     ]
    }
   ],
   "source": [
    "# Calculate the 95% confidence interval\n",
    "left_bound = np.percentile(obs_bootstraps2011, 2.5)\n",
    "right_bound = np.percentile(obs_bootstraps2011, 97.5)\n",
    "\n",
    "conf_interval_print= \"The middle 95% confidence interval from the bootstrap estimates is ({:.2f},  {:.2f}) minutes.\".format(left_bound, right_bound)\n",
    "print(conf_interval_print)"
   ]
  },
  {
   "cell_type": "code",
   "execution_count": 26,
   "metadata": {},
   "outputs": [
    {
     "data": {
      "text/plain": [
       "False"
      ]
     },
     "execution_count": 26,
     "metadata": {},
     "output_type": "execute_result"
    }
   ],
   "source": [
    "aObs_test_stat2011= np.average(sqf2011.obs_duration)\n",
    "aObs_pVal2011= sum(obs_bootstraps2011 >= aObs_test_stat2011) / len(obs_bootstraps2011)\n",
    "aObs_pVal2011 < 0.05"
   ]
  },
  {
   "cell_type": "markdown",
   "metadata": {},
   "source": [
    "### (2) Age"
   ]
  },
  {
   "cell_type": "code",
   "execution_count": 27,
   "metadata": {},
   "outputs": [
    {
     "data": {
      "image/png": "[encoded data removed]",
      "text/plain": [
       "<Figure size 576x432 with 1 Axes>"
      ]
     },
     "metadata": {
      "needs_background": "light"
     },
     "output_type": "display_data"
    }
   ],
   "source": [
    "age_arrest= sqf2011.loc[sqf2011['arstmade'] == True]\n",
    "\n",
    "age_bootstraps2011= bootstrap(age_arrest, 'age')\n",
    "\n",
    "plt.figure(figsize= (8, 6))\n",
    "plt.hist(age_bootstraps2011)\n",
    "plt.xlabel('Mean Age (Years)')\n",
    "plt.ylabel('Count')\n",
    "plt.title('Mean Age (Years) Distribution (2011)')\n",
    "plt.show()"
   ]
  },
  {
   "cell_type": "code",
   "execution_count": 28,
   "metadata": {},
   "outputs": [
    {
     "name": "stdout",
     "output_type": "stream",
     "text": [
      "The middle 95% confidence interval from the bootstrap estimates is (28.96,  29.70) minutes.\n"
     ]
    }
   ],
   "source": [
    "# Calculate the 95% confidence interval\n",
    "left_bound = np.percentile(age_bootstraps2011, 2.5)\n",
    "right_bound = np.percentile(age_bootstraps2011, 97.5)\n",
    "\n",
    "conf_interval_print= \"The middle 95% confidence interval from the bootstrap estimates is ({:.2f},  {:.2f}) minutes.\".format(left_bound, right_bound)\n",
    "print(conf_interval_print)"
   ]
  },
  {
   "cell_type": "code",
   "execution_count": 29,
   "metadata": {},
   "outputs": [
    {
     "data": {
      "text/plain": [
       "False"
      ]
     },
     "execution_count": 29,
     "metadata": {},
     "output_type": "execute_result"
    }
   ],
   "source": [
    "aAge_test_stat2011= np.average(sqf2011.age)\n",
    "aAge_pVal2011= sum(age_bootstraps2011 >= aAge_test_stat2011) / len(age_bootstraps2011)\n",
    "aAge_pVal2011 < 0.05"
   ]
  },
  {
   "cell_type": "markdown",
   "metadata": {},
   "source": [
    "### (3) Sex"
   ]
  },
  {
   "cell_type": "code",
   "execution_count": 30,
   "metadata": {},
   "outputs": [
    {
     "data": {
      "text/plain": [
       "True"
      ]
     },
     "execution_count": 30,
     "metadata": {},
     "output_type": "execute_result"
    }
   ],
   "source": [
    "aSex_pVal2011= calc_chi_squared(sqf2011, 'arstmade', 'sex')\n",
    "aSex_pVal2011 < 0.05"
   ]
  },
  {
   "cell_type": "markdown",
   "metadata": {},
   "source": [
    "### (4) Race"
   ]
  },
  {
   "cell_type": "code",
   "execution_count": 31,
   "metadata": {},
   "outputs": [
    {
     "data": {
      "text/plain": [
       "True"
      ]
     },
     "execution_count": 31,
     "metadata": {},
     "output_type": "execute_result"
    }
   ],
   "source": [
    "aRace_pVal2011= calc_chi_squared(sqf2011, 'arstmade', 'race')\n",
    "aRace_pVal2011 < 0.05"
   ]
  },
  {
   "cell_type": "markdown",
   "metadata": {},
   "source": [
    "### (5) Boro"
   ]
  },
  {
   "cell_type": "code",
   "execution_count": 32,
   "metadata": {},
   "outputs": [
    {
     "data": {
      "text/plain": [
       "True"
      ]
     },
     "execution_count": 32,
     "metadata": {},
     "output_type": "execute_result"
    }
   ],
   "source": [
    "aBoro_pVal2011= calc_chi_squared(sqf2011, 'arstmade', 'boro')\n",
    "aBoro_pVal2011 < 0.05"
   ]
  },
  {
   "cell_type": "markdown",
   "metadata": {},
   "source": [
    "-------------"
   ]
  },
  {
   "cell_type": "markdown",
   "metadata": {},
   "source": [
    "## Frisked Predictors (2019)"
   ]
  },
  {
   "cell_type": "markdown",
   "metadata": {},
   "source": [
    "### (1) Observation Duration"
   ]
  },
  {
   "cell_type": "code",
   "execution_count": 33,
   "metadata": {},
   "outputs": [
    {
     "data": {
      "image/png": "[encoded data removed]",
      "text/plain": [
       "<Figure size 576x432 with 1 Axes>"
      ]
     },
     "metadata": {
      "needs_background": "light"
     },
     "output_type": "display_data"
    }
   ],
   "source": [
    "obs_duration_frisked= sqf2019.loc[sqf2019['frisked'] == True]\n",
    "\n",
    "obs_bootstraps2019= bootstrap(obs_duration_frisked, 'obs_duration')\n",
    "\n",
    "plt.figure(figsize= (8, 6))\n",
    "plt.hist(obs_bootstraps2019)\n",
    "plt.xlabel('Mean Observation Duration (Minutes)')\n",
    "plt.ylabel('Count')\n",
    "plt.title('Mean Observation Duration (Minutes) Distribution (2019)')\n",
    "plt.show()"
   ]
  },
  {
   "cell_type": "code",
   "execution_count": 34,
   "metadata": {},
   "outputs": [
    {
     "name": "stdout",
     "output_type": "stream",
     "text": [
      "The middle 95% confidence interval from the bootstrap estimates is (1.71,  8.10).\n"
     ]
    }
   ],
   "source": [
    "# Calculate the 95% confidence interval\n",
    "left_bound = np.percentile(obs_bootstraps2019, 2.5)\n",
    "right_bound = np.percentile(obs_bootstraps2019, 97.5)\n",
    "\n",
    "conf_interval_print= \"The middle 95% confidence interval from the bootstrap estimates is ({:.2f},  {:.2f}).\".format(left_bound, right_bound)\n",
    "print(conf_interval_print)"
   ]
  },
  {
   "cell_type": "code",
   "execution_count": 35,
   "metadata": {},
   "outputs": [
    {
     "data": {
      "text/plain": [
       "False"
      ]
     },
     "execution_count": 35,
     "metadata": {},
     "output_type": "execute_result"
    }
   ],
   "source": [
    "fObs_test_stat2019= np.average(sqf2019.obs_duration)\n",
    "fObs_pVal2019= sum(obs_bootstraps2019 >= fObs_test_stat2019) / len(obs_bootstraps2019)\n",
    "fObs_pVal2019 < 0.05"
   ]
  },
  {
   "cell_type": "markdown",
   "metadata": {},
   "source": [
    "### (2) Age"
   ]
  },
  {
   "cell_type": "code",
   "execution_count": 36,
   "metadata": {},
   "outputs": [
    {
     "data": {
      "image/png": "[encoded data removed]",
      "text/plain": [
       "<Figure size 576x432 with 1 Axes>"
      ]
     },
     "metadata": {
      "needs_background": "light"
     },
     "output_type": "display_data"
    }
   ],
   "source": [
    "age_frisked= sqf2019.loc[sqf2019['frisked'] == True]\n",
    "\n",
    "age_bootstraps2019= bootstrap(age_frisked, 'age')\n",
    "\n",
    "plt.figure(figsize= (8, 6))\n",
    "plt.hist(age_bootstraps2019)\n",
    "plt.xlabel('Mean Age (Years)')\n",
    "plt.ylabel('Count')\n",
    "plt.title('Mean Age (Years) Distribution (2019)')\n",
    "plt.show()"
   ]
  },
  {
   "cell_type": "code",
   "execution_count": 37,
   "metadata": {},
   "outputs": [
    {
     "name": "stdout",
     "output_type": "stream",
     "text": [
      "The middle 95% confidence interval from the bootstrap estimates is (26.79,  27.84) minutes.\n"
     ]
    }
   ],
   "source": [
    "# Calculate the 95% confidence interval\n",
    "left_bound = np.percentile(age_bootstraps2019, 2.5)\n",
    "right_bound = np.percentile(age_bootstraps2019, 97.5)\n",
    "\n",
    "conf_interval_print= \"The middle 95% confidence interval from the bootstrap estimates is ({:.2f},  {:.2f}) minutes.\".format(left_bound, right_bound)\n",
    "print(conf_interval_print)"
   ]
  },
  {
   "cell_type": "code",
   "execution_count": 38,
   "metadata": {},
   "outputs": [
    {
     "data": {
      "text/plain": [
       "False"
      ]
     },
     "execution_count": 38,
     "metadata": {},
     "output_type": "execute_result"
    }
   ],
   "source": [
    "fAge_test_stat2019= np.average(sqf2019.obs_duration)\n",
    "fObs_pVal2019= sum(obs_bootstraps2019 >= fAge_test_stat2019) / len(obs_bootstraps2019)\n",
    "fObs_pVal2019 < 0.05"
   ]
  },
  {
   "cell_type": "markdown",
   "metadata": {},
   "source": [
    "### (3) Sex"
   ]
  },
  {
   "cell_type": "code",
   "execution_count": 39,
   "metadata": {},
   "outputs": [
    {
     "data": {
      "text/plain": [
       "True"
      ]
     },
     "execution_count": 39,
     "metadata": {},
     "output_type": "execute_result"
    }
   ],
   "source": [
    "fSex_pVal2019= calc_chi_squared(sqf2019, 'frisked', 'sex')\n",
    "fSex_pVal2019 < 0.05"
   ]
  },
  {
   "cell_type": "markdown",
   "metadata": {},
   "source": [
    "### (4) Race"
   ]
  },
  {
   "cell_type": "code",
   "execution_count": 40,
   "metadata": {},
   "outputs": [
    {
     "data": {
      "text/plain": [
       "True"
      ]
     },
     "execution_count": 40,
     "metadata": {},
     "output_type": "execute_result"
    }
   ],
   "source": [
    "fRace_pVal2019= calc_chi_squared(sqf2019, 'frisked', 'race')\n",
    "fRace_pVal2019 < 0.05"
   ]
  },
  {
   "cell_type": "markdown",
   "metadata": {},
   "source": [
    "### (5) Boro"
   ]
  },
  {
   "cell_type": "code",
   "execution_count": 41,
   "metadata": {},
   "outputs": [
    {
     "data": {
      "text/plain": [
       "True"
      ]
     },
     "execution_count": 41,
     "metadata": {},
     "output_type": "execute_result"
    }
   ],
   "source": [
    "fBoro_pVal2019= calc_chi_squared(sqf2019, 'frisked', 'boro')\n",
    "fBoro_pVal2019 < 0.05"
   ]
  },
  {
   "cell_type": "markdown",
   "metadata": {},
   "source": [
    "## Searched Predictors (2019)"
   ]
  },
  {
   "cell_type": "markdown",
   "metadata": {},
   "source": [
    "### (1) Observation Duration"
   ]
  },
  {
   "cell_type": "code",
   "execution_count": 42,
   "metadata": {},
   "outputs": [
    {
     "data": {
      "image/png": "[encoded data removed]",
      "text/plain": [
       "<Figure size 576x432 with 1 Axes>"
      ]
     },
     "metadata": {
      "needs_background": "light"
     },
     "output_type": "display_data"
    }
   ],
   "source": [
    "obs_duration_searched= sqf2019.loc[sqf2019['searched'] == True]\n",
    "\n",
    "obs_bootstraps2019= bootstrap(obs_duration_searched, 'obs_duration')\n",
    "\n",
    "plt.figure(figsize= (8, 6))\n",
    "plt.hist(obs_bootstraps2019)\n",
    "plt.xlabel('Mean Observation Duration (Minutes)')\n",
    "plt.ylabel('Count')\n",
    "plt.title('Mean Observation Duration (Minutes) Distribution (2019)')\n",
    "plt.show()"
   ]
  },
  {
   "cell_type": "code",
   "execution_count": 43,
   "metadata": {},
   "outputs": [
    {
     "name": "stdout",
     "output_type": "stream",
     "text": [
      "The middle 95% confidence interval from the bootstrap estimates is (2.16,  8.51).\n"
     ]
    }
   ],
   "source": [
    "# Calculate the 95% confidence interval\n",
    "left_bound = np.percentile(obs_bootstraps2019, 2.5)\n",
    "right_bound = np.percentile(obs_bootstraps2019, 97.5)\n",
    "\n",
    "conf_interval_print= \"The middle 95% confidence interval from the bootstrap estimates is ({:.2f},  {:.2f}).\".format(left_bound, right_bound)\n",
    "print(conf_interval_print)"
   ]
  },
  {
   "cell_type": "code",
   "execution_count": 44,
   "metadata": {},
   "outputs": [
    {
     "data": {
      "text/plain": [
       "False"
      ]
     },
     "execution_count": 44,
     "metadata": {},
     "output_type": "execute_result"
    }
   ],
   "source": [
    "sObs_test_stat2019= np.average(sqf2019.obs_duration)\n",
    "sObs_pVal2019= sum(obs_bootstraps2019 >= sObs_test_stat2019) / len(obs_bootstraps2019)\n",
    "sObs_pVal2019 < 0.05"
   ]
  },
  {
   "cell_type": "markdown",
   "metadata": {},
   "source": [
    "### (2) Age"
   ]
  },
  {
   "cell_type": "code",
   "execution_count": 45,
   "metadata": {},
   "outputs": [
    {
     "data": {
      "image/png": "[encoded data removed]",
      "text/plain": [
       "<Figure size 576x432 with 1 Axes>"
      ]
     },
     "metadata": {
      "needs_background": "light"
     },
     "output_type": "display_data"
    }
   ],
   "source": [
    "age_searched= sqf2019.loc[sqf2019['searched'] == True]\n",
    "\n",
    "age_bootstraps2019= bootstrap(age_searched, 'age')\n",
    "\n",
    "plt.figure(figsize= (8, 6))\n",
    "plt.hist(age_bootstraps2019)\n",
    "plt.xlabel('Mean Age (Years)')\n",
    "plt.ylabel('Count')\n",
    "plt.title('Mean Age (Years) Distribution (2019)')\n",
    "plt.show()"
   ]
  },
  {
   "cell_type": "code",
   "execution_count": 46,
   "metadata": {},
   "outputs": [
    {
     "name": "stdout",
     "output_type": "stream",
     "text": [
      "The middle 95% confidence interval from the bootstrap estimates is (27.70,  29.12) minutes.\n"
     ]
    }
   ],
   "source": [
    "# Calculate the 95% confidence interval\n",
    "left_bound = np.percentile(age_bootstraps2019, 2.5)\n",
    "right_bound = np.percentile(age_bootstraps2019, 97.5)\n",
    "\n",
    "conf_interval_print= \"The middle 95% confidence interval from the bootstrap estimates is ({:.2f},  {:.2f}) minutes.\".format(left_bound, right_bound)\n",
    "print(conf_interval_print)"
   ]
  },
  {
   "cell_type": "code",
   "execution_count": 47,
   "metadata": {},
   "outputs": [
    {
     "data": {
      "text/plain": [
       "False"
      ]
     },
     "execution_count": 47,
     "metadata": {},
     "output_type": "execute_result"
    }
   ],
   "source": [
    "sAge_test_stat2019= np.average(sqf2019.obs_duration)\n",
    "sObs_pVal2019= sum(obs_bootstraps2019 >= sAge_test_stat2019) / len(obs_bootstraps2019)\n",
    "sObs_pVal2019 < 0.05"
   ]
  },
  {
   "cell_type": "markdown",
   "metadata": {},
   "source": [
    "### (3) Sex"
   ]
  },
  {
   "cell_type": "code",
   "execution_count": 48,
   "metadata": {},
   "outputs": [
    {
     "data": {
      "text/plain": [
       "True"
      ]
     },
     "execution_count": 48,
     "metadata": {},
     "output_type": "execute_result"
    }
   ],
   "source": [
    "sSex_pVal2019= calc_chi_squared(sqf2019, 'searched', 'sex')\n",
    "sSex_pVal2019 < 0.05"
   ]
  },
  {
   "cell_type": "markdown",
   "metadata": {},
   "source": [
    "### (4) Race"
   ]
  },
  {
   "cell_type": "code",
   "execution_count": 49,
   "metadata": {},
   "outputs": [
    {
     "data": {
      "text/plain": [
       "False"
      ]
     },
     "execution_count": 49,
     "metadata": {},
     "output_type": "execute_result"
    }
   ],
   "source": [
    "sRace_pVal2019= calc_chi_squared(sqf2019, 'searched', 'race')\n",
    "sRace_pVal2019 < 0.05"
   ]
  },
  {
   "cell_type": "markdown",
   "metadata": {},
   "source": [
    "### (5) Boro"
   ]
  },
  {
   "cell_type": "code",
   "execution_count": 50,
   "metadata": {},
   "outputs": [
    {
     "data": {
      "text/plain": [
       "False"
      ]
     },
     "execution_count": 50,
     "metadata": {},
     "output_type": "execute_result"
    }
   ],
   "source": [
    "sBoro_pVal2019= calc_chi_squared(sqf2019, 'searched', 'boro')\n",
    "sBoro_pVal2019 < 0.05"
   ]
  },
  {
   "cell_type": "markdown",
   "metadata": {},
   "source": [
    "## Arrest Made Predictors (2019)"
   ]
  },
  {
   "cell_type": "markdown",
   "metadata": {},
   "source": [
    "### (1) Observation Duration"
   ]
  },
  {
   "cell_type": "code",
   "execution_count": 51,
   "metadata": {},
   "outputs": [
    {
     "data": {
      "image/png": "[encoded data removed]",
      "text/plain": [
       "<Figure size 576x432 with 1 Axes>"
      ]
     },
     "metadata": {
      "needs_background": "light"
     },
     "output_type": "display_data"
    }
   ],
   "source": [
    "obs_duration_arrest= sqf2019.loc[sqf2019['arstmade'] == True]\n",
    "\n",
    "obs_bootstraps2019= bootstrap(obs_duration_arrest, 'obs_duration')\n",
    "\n",
    "plt.figure(figsize= (8, 6))\n",
    "plt.hist(obs_bootstraps2019)\n",
    "plt.xlabel('Mean Observation Duration (Minutes)')\n",
    "plt.ylabel('Count')\n",
    "plt.title('Mean Observation Duration (Minutes) Distribution (2019)')\n",
    "plt.show()"
   ]
  },
  {
   "cell_type": "code",
   "execution_count": 52,
   "metadata": {},
   "outputs": [
    {
     "name": "stdout",
     "output_type": "stream",
     "text": [
      "The middle 95% confidence interval from the bootstrap estimates is (1.97,  7.33).\n"
     ]
    }
   ],
   "source": [
    "# Calculate the 95% confidence interval\n",
    "left_bound = np.percentile(obs_bootstraps2019, 2.5)\n",
    "right_bound = np.percentile(obs_bootstraps2019, 97.5)\n",
    "\n",
    "conf_interval_print= \"The middle 95% confidence interval from the bootstrap estimates is ({:.2f},  {:.2f}).\".format(left_bound, right_bound)\n",
    "print(conf_interval_print)"
   ]
  },
  {
   "cell_type": "code",
   "execution_count": 53,
   "metadata": {},
   "outputs": [
    {
     "data": {
      "text/plain": [
       "False"
      ]
     },
     "execution_count": 53,
     "metadata": {},
     "output_type": "execute_result"
    }
   ],
   "source": [
    "aObs_test_stat2019= np.average(sqf2019.obs_duration)\n",
    "aObs_pVal2019= sum(obs_bootstraps2019 >= aObs_test_stat2019) / len(obs_bootstraps2019)\n",
    "aObs_pVal2019 < 0.05"
   ]
  },
  {
   "cell_type": "markdown",
   "metadata": {},
   "source": [
    "### (2) Age"
   ]
  },
  {
   "cell_type": "code",
   "execution_count": 54,
   "metadata": {},
   "outputs": [
    {
     "data": {
      "image/png": "[encoded data removed]",
      "text/plain": [
       "<Figure size 576x432 with 1 Axes>"
      ]
     },
     "metadata": {
      "needs_background": "light"
     },
     "output_type": "display_data"
    }
   ],
   "source": [
    "age_arrest= sqf2019.loc[sqf2019['arstmade'] == True]\n",
    "\n",
    "age_bootstraps2019= bootstrap(age_searched, 'age')\n",
    "\n",
    "plt.figure(figsize= (8, 6))\n",
    "plt.hist(age_bootstraps2019)\n",
    "plt.xlabel('Mean Age (Years)')\n",
    "plt.ylabel('Count')\n",
    "plt.title('Mean Age (Years) Distribution (2019)')\n",
    "plt.show()"
   ]
  },
  {
   "cell_type": "code",
   "execution_count": 55,
   "metadata": {},
   "outputs": [
    {
     "name": "stdout",
     "output_type": "stream",
     "text": [
      "The middle 95% confidence interval from the bootstrap estimates is (27.69,  29.11) minutes.\n"
     ]
    }
   ],
   "source": [
    "# Calculate the 95% confidence interval\n",
    "left_bound = np.percentile(age_bootstraps2019, 2.5)\n",
    "right_bound = np.percentile(age_bootstraps2019, 97.5)\n",
    "\n",
    "conf_interval_print= \"The middle 95% confidence interval from the bootstrap estimates is ({:.2f},  {:.2f}) minutes.\".format(left_bound, right_bound)\n",
    "print(conf_interval_print)"
   ]
  },
  {
   "cell_type": "code",
   "execution_count": 56,
   "metadata": {},
   "outputs": [
    {
     "data": {
      "text/plain": [
       "False"
      ]
     },
     "execution_count": 56,
     "metadata": {},
     "output_type": "execute_result"
    }
   ],
   "source": [
    "aAge_test_stat2019= np.average(sqf2019.obs_duration)\n",
    "aObs_pVal2019= sum(obs_bootstraps2019 >= aAge_test_stat2019) / len(obs_bootstraps2019)\n",
    "aObs_pVal2019 < 0.05"
   ]
  },
  {
   "cell_type": "markdown",
   "metadata": {},
   "source": [
    "### (3) Sex"
   ]
  },
  {
   "cell_type": "code",
   "execution_count": 57,
   "metadata": {},
   "outputs": [
    {
     "data": {
      "text/plain": [
       "False"
      ]
     },
     "execution_count": 57,
     "metadata": {},
     "output_type": "execute_result"
    }
   ],
   "source": [
    "aSex_pVal2019= calc_chi_squared(sqf2019, 'arstmade', 'sex')\n",
    "aSex_pVal2019 < 0.05"
   ]
  },
  {
   "cell_type": "markdown",
   "metadata": {},
   "source": [
    "### (4) Race"
   ]
  },
  {
   "cell_type": "code",
   "execution_count": 58,
   "metadata": {},
   "outputs": [
    {
     "data": {
      "text/plain": [
       "False"
      ]
     },
     "execution_count": 58,
     "metadata": {},
     "output_type": "execute_result"
    }
   ],
   "source": [
    "aRace_pVal2019= calc_chi_squared(sqf2019, 'arstmade', 'race')\n",
    "aRace_pVal2019 < 0.05"
   ]
  },
  {
   "cell_type": "markdown",
   "metadata": {},
   "source": [
    "### (5) Boro"
   ]
  },
  {
   "cell_type": "code",
   "execution_count": 59,
   "metadata": {},
   "outputs": [
    {
     "data": {
      "text/plain": [
       "False"
      ]
     },
     "execution_count": 59,
     "metadata": {},
     "output_type": "execute_result"
    }
   ],
   "source": [
    "aBoro_pVal2019= calc_chi_squared(sqf2019, 'arstmade', 'boro')\n",
    "aBoro_pVal2019 < 0.05"
   ]
  },
  {
   "cell_type": "markdown",
   "metadata": {},
   "source": [
    "--------"
   ]
  },
  {
   "cell_type": "markdown",
   "metadata": {},
   "source": [
    "## Notes:"
   ]
  },
  {
   "cell_type": "markdown",
   "metadata": {},
   "source": [
    "- How the Bootstraps were Calculated:\n",
    "    - Retrieved a subset of the data for a given predictor variable where the target variable == True (Ex: retrieved all age data where frisked == True)\n",
    "    - Bootstrapped this data 5,000 times (should we increase the number of bootstraps?)\n",
    "    - Calculated the test statistic for the Null Hypothesis by calculating the average of the entire sample for a given predictor variable\n",
    "    - Calculated the p-value by calculating the proportion of bootstrapped sample means >= the Null test statistic\n",
    "\n",
    "\n",
    "- The confidence intervals associated with each bootstrapping are not necessary. I calculated the confidence intervals in the event that we would want to use them in our analysis of the data."
   ]
  },
  {
   "cell_type": "markdown",
   "metadata": {},
   "source": [
    "## Source Code:"
   ]
  },
  {
   "cell_type": "markdown",
   "metadata": {},
   "source": [
    "- [Our GitHub Repository](https://github.com/leajv123/Data-Science-Project-2950-)"
   ]
  },
  {
   "cell_type": "markdown",
   "metadata": {},
   "source": [
    "## Acknowledgements:"
   ]
  },
  {
   "cell_type": "markdown",
   "metadata": {},
   "source": [
    "- INFO 2950: Introduction to Data Science Lecture Code.\n",
    "- INFO 2950: Introduction to Data Science Teaching Staff for answering questions during Class, Office Hours, and via email.\n",
    "- ORIE 1380: Data Science for All Homework and Lab Code (Spring 2020).\n",
    "- [Pandas](https://pandas.pydata.org/pandas-docs/stable/index.html), [NumPy](https://numpy.org/doc/), [SciKit-Learn](https://scikit-learn.org/stable/), and [MatPlotLib](https://matplotlib.org/) Documentation.\n",
    "- Consulted various [Stack Overflow](https://stackoverflow.com/) posts for clarification on how to use functions in the packages listed above.\n",
    "- Chi-Squared Test of Independence [Null and Alternative Hypothesis](https://www.statisticssolutions.com/non-parametric-analysis-chi-square/#:~:text=Alternative%20hypothesis%3A%20Assumes%20that%20there,association%20between%20the%20two%20variables.&text=If%20the%20observed%20chi%2Dsquare,interpret%20your%20analysis%20in%20minutes.) resources."
   ]
  },
  {
   "cell_type": "markdown",
   "metadata": {},
   "source": [
    "----------"
   ]
  },
  {
   "cell_type": "markdown",
   "metadata": {},
   "source": [
    "## Analyzing the Efficacy of Stopping and Frisking "
   ]
  },
  {
   "cell_type": "code",
   "execution_count": 86,
   "metadata": {},
   "outputs": [],
   "source": [
    "def percent_effective(df, numeratorColName, denominatorColName):\n",
    "    \"\"\" Calculate the percent efficacy of \"\"\"\n",
    "    if type(numeratorColName) == list:\n",
    "        num= sum(df.loc[df[denominatorColName] == True][numeratorColName].sum(axis= 1))\n",
    "        den= len(df[denominatorColName] == True)\n",
    "        return num / den * 100\n",
    "    \n",
    "    num= sum(df.loc[df[denominatorColName] == True][numeratorColName])\n",
    "    den= len(df[denominatorColName] == True)\n",
    "    return num / den * 100"
   ]
  },
  {
   "cell_type": "markdown",
   "metadata": {},
   "source": [
    "### Stop and Frisk (2011)"
   ]
  },
  {
   "cell_type": "markdown",
   "metadata": {},
   "source": [
    "#### (a) Out of the People Stopped, Who of Those that were Frisked Had a Weapon and/or Contraband on them?"
   ]
  },
  {
   "cell_type": "code",
   "execution_count": 87,
   "metadata": {},
   "outputs": [
    {
     "data": {
      "text/plain": [
       "2.447219002626212"
      ]
     },
     "execution_count": 87,
     "metadata": {},
     "output_type": "execute_result"
    }
   ],
   "source": [
    "# (People who had a weapon and/or contraband of those frisked) /(People frisked)\n",
    "percent_effective(sqf2011, ['contraband', 'firearm', 'knife', 'other_weapon'], 'frisked')"
   ]
  },
  {
   "cell_type": "markdown",
   "metadata": {},
   "source": [
    "#### (b) Out of the People Stopped, Who of Those that were Frisked Had a Weapon on them?"
   ]
  },
  {
   "cell_type": "code",
   "execution_count": 88,
   "metadata": {},
   "outputs": [
    {
     "data": {
      "text/plain": [
       "1.0240760574538945"
      ]
     },
     "execution_count": 88,
     "metadata": {},
     "output_type": "execute_result"
    }
   ],
   "source": [
    "# (People who had a weapon of those frisked) /(People frisked)\n",
    "percent_effective(sqf2011, ['firearm', 'knife', 'other_weapon'], 'frisked')"
   ]
  },
  {
   "cell_type": "markdown",
   "metadata": {},
   "source": [
    "#### (c) Out of the People Stopped, Who of Those that were Frisked Had Contraband on them?"
   ]
  },
  {
   "cell_type": "code",
   "execution_count": 93,
   "metadata": {},
   "outputs": [
    {
     "data": {
      "text/plain": [
       "1.4231429451723177"
      ]
     },
     "execution_count": 93,
     "metadata": {},
     "output_type": "execute_result"
    }
   ],
   "source": [
    "# (People who had contraband of those searched) /(People searched)\n",
    "percent_effective(sqf2011, 'contraband', 'frisked')"
   ]
  },
  {
   "cell_type": "markdown",
   "metadata": {},
   "source": [
    "#### (d) Out of the People Stopped, Who of Those that were Searched Had a Weapon and/or Contraband on them?"
   ]
  },
  {
   "cell_type": "code",
   "execution_count": 90,
   "metadata": {},
   "outputs": [
    {
     "data": {
      "text/plain": [
       "1.899969189688816"
      ]
     },
     "execution_count": 90,
     "metadata": {},
     "output_type": "execute_result"
    }
   ],
   "source": [
    "# (People who had a weapon and/or contraband of those searched) /(People searched)\n",
    "percent_effective(sqf2011, ['contraband', 'firearm', 'knife', 'other_weapon'], 'searched')"
   ]
  },
  {
   "cell_type": "markdown",
   "metadata": {},
   "source": [
    "#### (e) Out of the People Stopped, Who of Those that were Searched Had a Weapon on them?"
   ]
  },
  {
   "cell_type": "code",
   "execution_count": 94,
   "metadata": {},
   "outputs": [
    {
     "data": {
      "text/plain": [
       "0.7790607256561862"
      ]
     },
     "execution_count": 94,
     "metadata": {},
     "output_type": "execute_result"
    }
   ],
   "source": [
    "# (People who had a weapon of those searched) /(People searched)\n",
    "percent_effective(sqf2011, ['firearm', 'knife', 'other_weapon'], 'searched')"
   ]
  },
  {
   "cell_type": "markdown",
   "metadata": {},
   "source": [
    "#### (f) Out of the People Stopped, Who of Those that were Searched Had Contraband on them?"
   ]
  },
  {
   "cell_type": "code",
   "execution_count": 92,
   "metadata": {},
   "outputs": [
    {
     "data": {
      "text/plain": [
       "1.1209084640326297"
      ]
     },
     "execution_count": 92,
     "metadata": {},
     "output_type": "execute_result"
    }
   ],
   "source": [
    "# (People who had contraband of those searched) /(People searched)\n",
    "percent_effective(sqf2011, 'contraband', 'searched')"
   ]
  },
  {
   "cell_type": "markdown",
   "metadata": {},
   "source": [
    "### Stop and Frisk (2019)"
   ]
  },
  {
   "cell_type": "markdown",
   "metadata": {},
   "source": [
    "#### (a) Out of the People Stopped, Who of Those that were Frisked Had a Weapon and/or Contraband on them?"
   ]
  },
  {
   "cell_type": "code",
   "execution_count": 95,
   "metadata": {},
   "outputs": [
    {
     "data": {
      "text/plain": [
       "19.428200129954515"
      ]
     },
     "execution_count": 95,
     "metadata": {},
     "output_type": "execute_result"
    }
   ],
   "source": [
    "# (People who had a weapon and/or contraband of those frisked) /(People frisked)\n",
    "percent_effective(sqf2019, ['contraband', 'firearm', 'knife', 'other_weapon'], 'frisked')"
   ]
  },
  {
   "cell_type": "markdown",
   "metadata": {},
   "source": [
    "#### (b) Out of the People Stopped, Who of Those that were Frisked Had a Weapon on them?"
   ]
  },
  {
   "cell_type": "code",
   "execution_count": 96,
   "metadata": {},
   "outputs": [
    {
     "data": {
      "text/plain": [
       "14.587394411955815"
      ]
     },
     "execution_count": 96,
     "metadata": {},
     "output_type": "execute_result"
    }
   ],
   "source": [
    "# (People who had a weapon of those frisked) /(People frisked)\n",
    "percent_effective(sqf2019, ['firearm', 'knife', 'other_weapon'], 'frisked')"
   ]
  },
  {
   "cell_type": "markdown",
   "metadata": {},
   "source": [
    "#### (c) Out of the People Stopped, Who of Those that were Frisked Had Contraband on them?"
   ]
  },
  {
   "cell_type": "code",
   "execution_count": 97,
   "metadata": {},
   "outputs": [
    {
     "data": {
      "text/plain": [
       "4.8408057179987"
      ]
     },
     "execution_count": 97,
     "metadata": {},
     "output_type": "execute_result"
    }
   ],
   "source": [
    "# (People who had contraband of those searched) /(People searched)\n",
    "percent_effective(sqf2019, 'contraband', 'frisked')"
   ]
  },
  {
   "cell_type": "markdown",
   "metadata": {},
   "source": [
    "#### (d) Out of the People Stopped, Who of Those that were Searched Had a Weapon and/or Contraband on them?"
   ]
  },
  {
   "cell_type": "code",
   "execution_count": 98,
   "metadata": {},
   "outputs": [
    {
     "data": {
      "text/plain": [
       "21.604938271604937"
      ]
     },
     "execution_count": 98,
     "metadata": {},
     "output_type": "execute_result"
    }
   ],
   "source": [
    "# (People who had a weapon and/or contraband of those searched) /(People searched)\n",
    "percent_effective(sqf2019, ['contraband', 'firearm', 'knife', 'other_weapon'], 'searched')"
   ]
  },
  {
   "cell_type": "markdown",
   "metadata": {},
   "source": [
    "#### (e) Out of the People Stopped, Who of Those that were Searched Had a Weapon on them?"
   ]
  },
  {
   "cell_type": "code",
   "execution_count": 99,
   "metadata": {},
   "outputs": [
    {
     "data": {
      "text/plain": [
       "14.9772579597141"
      ]
     },
     "execution_count": 99,
     "metadata": {},
     "output_type": "execute_result"
    }
   ],
   "source": [
    "# (People who had a weapon of those searched) /(People searched)\n",
    "percent_effective(sqf2019, ['firearm', 'knife', 'other_weapon'], 'searched')"
   ]
  },
  {
   "cell_type": "markdown",
   "metadata": {},
   "source": [
    "#### (f) Out of the People Stopped, Who of Those that were Searched Had Contraband on them?"
   ]
  },
  {
   "cell_type": "code",
   "execution_count": 101,
   "metadata": {},
   "outputs": [
    {
     "data": {
      "text/plain": [
       "6.627680311890838"
      ]
     },
     "execution_count": 101,
     "metadata": {},
     "output_type": "execute_result"
    }
   ],
   "source": [
    "# (People who had contraband of those searched) /(People searched)\n",
    "percent_effective(sqf2019, 'contraband', 'searched')"
   ]
  },
  {
   "cell_type": "markdown",
   "metadata": {},
   "source": [
    "-------"
   ]
  },
  {
   "cell_type": "markdown",
   "metadata": {},
   "source": [
    "## X. Appendix: Data Cleaning Description"
   ]
  },
  {
   "cell_type": "markdown",
   "metadata": {},
   "source": [
    "#### Dataset #1: Stop, Question, and Frisk (2011)"
   ]
  },
  {
   "cell_type": "markdown",
   "metadata": {},
   "source": [
    "We are going to be using 2 Stop and Frisk datasets for this project, one from 2011 and the other from 2019. Over time, the NYPD has modified the methods in which the data is recorded, causing the 2011 and 2019 datasets to have a lot of the same data stored in different ways. A large portion of the data cleaning will be adjusting column names and re-encoding data in order to make analysis easier."
   ]
  },
  {
   "cell_type": "markdown",
   "metadata": {},
   "source": [
    "1. Dropped a list of column names that were irrelevant to our analysis, or columns that contained little to no data. The columns in this list are\n",
    "    - pct: PRECINCT OF STOP (FROM 1 TO 123)\n",
    "    - ser_num: UF250 SERIAL NUMBER\n",
    "    - recstat: RECORD STATUS\n",
    "    - inout: WAS STOP INSIDE OR OUTSIDE?\n",
    "    - trhsloc: WAS LOCATION HOUSING OR TRANSIT AUTHORITY\n",
    "    - typeofid: STOPPED PERSON'S IDENTIFICATION TYPE\n",
    "    - sumoffen: OFFENSE SUSPECT WAS SUMMONSED FOR\n",
    "    - compyear: COMPLAINT YEAR (IF COMPLAINT REPORT PREPARED)\n",
    "    - comppct: COMPLAINT PRECINCT (IF COMPLAINT REPORT PREPARED)\n",
    "    - offunif: WAS OFFICER IN UNIFORM?\n",
    "    - officrid: ID CARD PROVIDED BY OFFICER (IF NOT IN UNIFORM)\n",
    "    - adtlrept: WERE ADDITIONAL REPORTS PREPARED?\n",
    "    - radio: RADIO RUN\n",
    "    - ac_rept: ADDITIONAL CIRCUMSTANCES - REPORT BY VICTIM/WITNESS/OFFICER\n",
    "    - ac_inves: ADDITIONAL CIRCUMSTANCES - ONGOING INVESTIGATION\n",
    "    - rf_vcrim: REASON FOR FRISK - VIOLENT CRIME SUSPECTED\n",
    "    - rf_othsw: REASON FOR FRISK - OTHER SUSPICION OF WEAPONS\n",
    "    - ac_proxm: ADDITIONAL CIRCUMSTANCES - PROXIMITY TO SCENE OF OFFENSE\n",
    "    - rf_attir: REASON FOR FRISK - INAPPROPRIATE ATTIRE FOR SEASON\n",
    "    - cs_objcs: REASON FOR STOP - CARRYING SUSPICIOUS OBJECT\n",
    "    - cs_descr: REASON FOR STOP - FITS A RELEVANT DESCRIPTION\n",
    "    - cs_casng: REASON FOR STOP - CASING A VICTIM OR LOCATION\n",
    "    - cs_lkout: REASON FOR STOP - SUSPECT ACTING AS A LOOKOUT\n",
    "    - rf_vcact: REASON FOR FRISK-  ACTIONS OF ENGAGING IN A VIOLENT CRIME\n",
    "    - cs_cloth: REASON FOR STOP - WEARING CLOTHES COMMONLY USED IN A CRIME\n",
    "    - cs_drgtr: REASON FOR STOP - ACTIONS INDICATIVE OF A DRUG TRANSACTION\n",
    "    - ac_evasv: ADDITIONAL CIRCUMSTANCES - EVASIVE RESPONSE TO QUESTIONING\n",
    "    - ac_assoc: ADDITIONAL CIRCUMSTANCES - ASSOCIATING WITH KNOWN CRIMINALS\n",
    "    - cs_furtv: REASON FOR STOP - FURTIVE MOVEMENTS\n",
    "    - rf_rfcmp: REASON FOR FRISK - REFUSE TO COMPLY W OFFICER'S DIRECTIONS\n",
    "    - ac_cgdir: ADDITIONAL CIRCUMSTANCES - CHANGE DIRECTION AT SIGHT OF OFFICER\n",
    "    - rf_verbl: REASON FOR FRISK - VERBAL THREATS BY SUSPECT\n",
    "    - cs_vcrim: REASON FOR STOP - ACTIONS OF ENGAGING IN A VIOLENT CRIME\n",
    "    - cs_bulge: REASON FOR STOP - SUSPICIOUS BULGE\n",
    "    - cs_bulge: REASON FOR STOP - OTHER\n",
    "    - ac_incid: ADDITIONAL CIRCUMSTANCES - AREA HAS HIGH CRIME INCIDENCE\n",
    "    - ac_time: ADDITIONAL CIRCUMSTANCES - TIME OF DAY FITS CRIME INCIDENCE\n",
    "    - rf_knowl: REASON FOR FRISK - KNOWLEDGE OF SUSPECT'S PRIOR CRIM BEHAV\n",
    "    - ac_stsnd: ADDITIONAL CIRCUMSTANCES - SIGHTS OR SOUNDS OF CRIMINAL ACTIVITY\n",
    "    - ac_other: ADDITIONAL CIRCUMSTANCES - OTHER\n",
    "    - sb_hdobj: BASIS OF SEARCH - HARD OBJECT\n",
    "    - sb_outln: BASIS OF SEARCH - OUTLINE OF WEAPON\n",
    "    - sb_admis: BASIS OF SEARCH - ADMISSION BY SUSPECT\n",
    "    - sb_other: BASIS OF SEARCH - OTHER\n",
    "    - repcmd: REPORTING OFFICER'S COMMAND (1 TO 999)\n",
    "    - revcmd: REVIEWING OFFICER'S COMMAND (1 TO 999)\n",
    "    - rf_furt: REASON FOR FRISK - FURTIVE MOVEMENTS\n",
    "    - rf_bulg: REASON FOR FRISK - SUSPICIOUS BULGE\n",
    "    - offverb: VERBAL STATEMENT PROVIDED BY OFFICER (IF NOT IN UNIFORM)\n",
    "    - offshld: SHIELD PROVIDED BY OFFICER (IF NOT IN UNIFORM)\n",
    "    - forceuse: REASON FORCE USED\n",
    "    - dob: SUSPECT'S DATE OF BIRTH (CCYY-MM-DD)\n",
    "    - ht_feet: SUSPECT'S HEIGHT (FEET)\n",
    "    - ht_inch: SUSPECT'S HEIGHT (INCHES)\n",
    "    - weight: SUSPECT'S WEIGHT\n",
    "    - haircolr: SUSPECT'S HAIRCOLOR\n",
    "    - eyecolor: SUSPECT'S EYE COLOR\n",
    "    - build: SUSPECT'S BUILD\n",
    "    - othfeatr: SUSPECT'S OTHER FEATURES (SCARS, TATOOS ETC.)\n",
    "    - addrtyp: LOCATION OF STOP ADDRESS TYPE\n",
    "    - rescode: LOCATION OF STOP RESIDENT CODE\n",
    "    - premtype: LOCATION OF STOP PREMISE TYPE\n",
    "    - premname: LOCATION OF STOP PREMISE NAME\n",
    "    - addrnum: LOCATION OF STOP ADDRESS NUMBER\n",
    "    - stname: LOCATION OF STOP STREET NAME\n",
    "    - stinter: LOCATION OF STOP INTERSECTION\n",
    "    - crossst: LOCATION OF STOP CROSS STREET\n",
    "    - aptnum: LOCATION OF STOP APT NUMBER\n",
    "    - state: LOCATION OF STOP STATE\n",
    "    - zip: LOCATION OF STOP ZIP CODE\n",
    "    - addrpct: LOCATION OF STOP ADDRESS PRECINCT\n",
    "    - sector: LOCATION OF STOP SECTOR\n",
    "    - beat: LOCATION OF STOP BEAT\n",
    "    - post: LOCATION OF STOP POST\n",
    "    - xcoord: LOCATION OF STOP X COORD\n",
    "    - ycoord: LOCATION OF STOP Y COORD\n",
    "    - dettypCM: DETAILS TYPES CODE\n",
    "    - lineCM: COUNT >1 ADDITIONAL DETAILS\n",
    "    \n",
    "- After dropping these columns, the remaining columns are\n",
    "    - year: YEAR OF STOP (CCYY)\n",
    "    - datestop: DATE OF STOP (MM-DD-YYYY)\n",
    "    - timestop: TIME OF STOP (HH:MM)\n",
    "    - perobs: PERIOD OF OBSERVATION (MMM)\n",
    "    - crimsusp: CRIME SUSPECTED\n",
    "    - perstop: PERIOD OF STOP (MMM)\n",
    "    - explnstp: DID OFFICER EXPLAIN REASON FOR STOP?\n",
    "    - othpers: WERE OTHER PERSONS STOPPED, QUESTIONED OR FRISKED?\n",
    "    - arstmade: WAS AN ARREST MADE?\n",
    "    - arstoffn: OFFENSE SUSPECT ARRESTED FOR\n",
    "    - sumissue: WAS A SUMMONS ISSUED?\n",
    "    - frisked: WAS SUSPECT FRISKED?\n",
    "    - searched: WAS SUSPECT SEARCHED?\n",
    "    - contrabn: WAS CONTRABAND FOUND ON SUSPECT?\n",
    "    - pistol: WAS A PISTOL FOUND ON SUSPECT?\n",
    "    - riflshot: WAS A RIFLE FOUND ON SUSPECT?\n",
    "    - asltweap: WAS AN ASSAULT WEAPON FOUND ON SUSPECT?\n",
    "    - knifcuti: WAS A KNIFE OR CUTTING INSTRUMENT FOUND ON SUSPECT?\n",
    "    - machgun: WAS A MACHINE GUN FOUND ON SUSPECT?\n",
    "    - othrweap: WAS ANOTHER TYPE OF WEAPON FOUND ON SUSPECT\n",
    "    - pf_hands: PHYSICAL FORCE USED BY OFFICER - HANDS\n",
    "    - pf_wall: PHYSICAL FORCE USED BY OFFICER - SUSPECT AGAINST WALL\n",
    "    - pf_grnd: PHYSICAL FORCE USED BY OFFICER - SUSPECT ON GROUND\n",
    "    - pf_drwep: PHYSICAL FORCE USED BY OFFICER - WEAPON DRAWN\n",
    "    - pf_ptwep: PHYSICAL FORCE USED BY OFFICER - WEAPON POINTED\n",
    "    - pf_baton: PHYSICAL FORCE USED BY OFFICER - BATON\n",
    "    - pf_hcuff: PHYSICAL FORCE USED BY OFFICER - HANDCUFFS\n",
    "    - pf_pepsp: PHYSICAL FORCE USED BY OFFICER - PEPPER SPRAY\n",
    "    - pf_other: PHYSICAL FORCE USED BY OFFICER - OTHER\n",
    "    - sex: SUSPECT'S SEX\n",
    "    - race: SUSPECT'S RACE\n",
    "    - age: SUSPECT'S AGE\n",
    "    - city: LOCATION OF STOP CITY\n",
    "    - detailCM: CRIME CODE DESCRIPTION"
   ]
  },
  {
   "cell_type": "markdown",
   "metadata": {},
   "source": [
    "2. The next step is to rename the remaining columns with a standardized naming method that will be applied to both the 2011 and 2019 Stop and Frisk datasets. Here is the list of renamed columns:\n",
    "    - datestop -> date\n",
    "    - timestop -> time\n",
    "    - perobs -> obs_duration\n",
    "    - perstop -> stop_duration\n",
    "    - explnstp -> off_explain\n",
    "    - othpers -> other_stop\n",
    "    - contrabn -> contraband\n",
    "    - knifcuti -> knife\n",
    "    - othrweap -> other_weapon\n",
    "    - city -> boro\n",
    "    - detailcm -> crime_sus"
   ]
  },
  {
   "cell_type": "markdown",
   "metadata": {},
   "source": [
    "3. The Stop, Question, and Frisk dataset has multiple columns dedicated to whether weapons were found on the subject. These columns include:\n",
    "    - pistol: WAS A PISTOL FOUND ON SUSPECT?\n",
    "    - riflshot: WAS A RIFLE FOUND ON SUSPECT?\n",
    "    - asltweap: WAS AN ASSAULT WEAPON FOUND ON SUSPECT?\n",
    "    - knifcuti: WAS A KNIFE OR CUTTING INSTRUMENT FOUND ON SUSPECT?\n",
    "    - machgun: WAS A MACHINE GUN FOUND ON SUSPECT?\n",
    "    - othrweap: WAS ANOTHER TYPE OF WEAPON FOUND ON SUSPECT\n",
    "\n",
    "The methods in which weapons data was recorded in the 2011 dataset differ from the methods used in the 2019 dataset. To resolve these differentiations, the weapons data is condensed into 3 columns: firearm, knife, and other_weapon."
   ]
  },
  {
   "cell_type": "markdown",
   "metadata": {},
   "source": [
    "4. When an officer uses physical force on a suspect, there are many categories that the physical force can be classified into: hands, suspect against wall, suspect on ground, weapon drawn, weapon pointed, baton, handcuffs, pepper spray, and other. We are mainly interested in whether or not a weapon was drawn and / or pointed. In order to condense the physical force data, we made a general physical force column that records whether or not any physical force was used during the encounter, but will be keeping a separate column specifying if a weapon was drawn and / or pointed during the encounter. These two columns are named phys_force, and pt_draw_force."
   ]
  },
  {
   "cell_type": "markdown",
   "metadata": {},
   "source": [
    "Another aspect of the dataset that we have to account for is the age column. In the age column, it seems that if an officer did not know the age of the suspect, the age was coded as a number far above what is humanly possible - anywhere from ~145 to 999. Part of this error could also be due to typos. For example, when entering the police report into the dataset, an officer could have added an extra 0 to '15' to make it '150'. We made the executive decision to drop any rows that had an age listed above 110, because it is not realistic to analyze this when we do not know the real age of the suspect. In addition, we will be using age data a lot in out analysis, so these errors would disrupt later analysis.\n",
    "\n",
    "There is also prevalence of instances with a remarkably low age, such as 0 or 1. These could be real ages of suspects who were stopped - perhaps they were infants accompanyed by an adult and both were stopped and searched - but we also considered that these ages were due to typos as well. Because of this, we made another executive decision to drop any instances of people below the age of 13.\n",
    "\n",
    "5. After dropping the low ages and high ages, the subset we will be looking at will be inclusive of teenagers (ages 13-17) and adults (ages 18-110)."
   ]
  },
  {
   "cell_type": "markdown",
   "metadata": {},
   "source": [
    "6. Boro data will be an important part of our analysis, so we checked for any instances where Boro contained an empty value. For all of the instances where Boro was empty, we dropped the row."
   ]
  },
  {
   "cell_type": "markdown",
   "metadata": {},
   "source": [
    "7. The Race data in 2011 was coded using codes that differed from the 2019 dataset. To resolve this, we recoded the race data in 2011 with the full names of each racial category. A similar recoding step was done to the Sex data as well."
   ]
  },
  {
   "cell_type": "markdown",
   "metadata": {},
   "source": [
    "8. The Observation Duration data and Stop Duration data seemed to have encoded 'dummy' values of 999 when the Stop Duration and/or Observation Duration was unknown. There is no documentation of this practice in the dataset's specifications, so there was an element of inference our group had to make to come to this conclusion. However, it is likely that 999 is code for unknown because there are a handful of 999 values in these columns, and it is the max value present in both columns. If we were to keep these 999 values, they would definitely cause issues with analysis later because they are extreme outliers in the datasets. For these reasons, we dropped all instances of Observation Duration and Stop Duration that contained a value of 999."
   ]
  },
  {
   "cell_type": "markdown",
   "metadata": {},
   "source": [
    "9. All columns whose data can be represented by True/False values were recoded as boolean values. The columns that were coverted to boolean data include\n",
    "    - off_explain\n",
    "    - other_stop\n",
    "    - arstmade\n",
    "    - sumissue\n",
    "    - frisked\n",
    "    - searched\n",
    "    - contraband\n",
    "    - knife\n",
    "    - other_weapon"
   ]
  },
  {
   "cell_type": "markdown",
   "metadata": {},
   "source": [
    "10. The last step is to convert the date and time columns into datetime objects."
   ]
  },
  {
   "cell_type": "markdown",
   "metadata": {},
   "source": [
    "Now, the Stop, Question, and Frisk (2011) dataset cleaning has been completed."
   ]
  },
  {
   "cell_type": "markdown",
   "metadata": {},
   "source": [
    "#### Dataset #2: Stop, Question, and Frisk (2019)"
   ]
  },
  {
   "cell_type": "markdown",
   "metadata": {},
   "source": [
    "The Stop, Question, and Frisk (2019) dataset went through similar data cleaning steps as the 2011 dataset. Steps 1-6 were relatively similar as listed above, except that the Weapons and Physical Force data was stored using different methods than the 2011 dataset. For example, the 2019 dataset only contained one column indicating whether a suspect carried a firearm on them, labeled firearm. The 2011 dataset, on the other hand, differentiated between pistols, rifles, assault weapons, and machine guns. After cleaning these columns, though, both datasets' data is recorded using the same parameters so the data can be compared for analysis.\n",
    "\n",
    "Step 7 was unnecessary for the 2019 dataset because race data was already coded using the racial categories' full names. The only necessary modification to the race data was to recode races from '(null)' to 'UNKNOWN'.\n",
    "\n",
    "Step 8 was also unnecessary because the 2019 dataset did not contain any 999 values for Observation Duration or Stop Duration.\n",
    "\n",
    "Steps 9 and 10 were applied to the 2019 dataset, completing the data cleaning for the Stop, Question, and Frisk (2019) dataset."
   ]
  },
  {
   "cell_type": "markdown",
   "metadata": {},
   "source": [
    "#### Dataset #3: New York City Crime Data (2009-2019)"
   ]
  },
  {
   "cell_type": "code",
   "execution_count": null,
   "metadata": {},
   "outputs": [],
   "source": []
  }
 ],
 "metadata": {
  "kernelspec": {
   "display_name": "Python 3",
   "language": "python",
   "name": "python3"
  },
  "language_info": {
   "codemirror_mode": {
    "name": "ipython",
    "version": 3
   },
   "file_extension": ".py",
   "mimetype": "text/x-python",
   "name": "python",
   "nbconvert_exporter": "python",
   "pygments_lexer": "ipython3",
   "version": "3.8.5"
  }
 },
 "nbformat": 4,
 "nbformat_minor": 4
}
