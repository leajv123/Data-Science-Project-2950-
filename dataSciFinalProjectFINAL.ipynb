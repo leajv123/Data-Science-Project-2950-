{
 "cells": [
  {
   "cell_type": "markdown",
   "metadata": {},
   "source": [
    "# INFO 2950 Final Project\n",
    "\n",
    "## Phase II: Data Cleaning"
   ]
  },
  {
   "cell_type": "markdown",
   "metadata": {},
   "source": [
    "### (a) Research Question(s)\n",
    "\n",
    "We are interested in evaluating crime in New York City over a 10 year period. How has crime changed in New York City from 2009 to 2019? How has the prevalence of certain crimes transformed over this timespan?\n",
    "\n",
    "We are also interested in how implementation of certain policing programs has potentially influenced the crime statistics we find. In particular, we are interested in how the Stop, Question, and Frisk program influenced crime statistics during this period.\n"
   ]
  },
  {
   "cell_type": "markdown",
   "metadata": {},
   "source": [
    "### (b) Data Cleaning\n",
    "\n",
    "In this Notebook, we will be cleaning our datasets and performing relevant summary statistics and plots. We have 4 datasets in total: New York City Seven Major Felony Offenses (2000-2020), New York City Non-Seven Major Felony Offenses (2000-2020). Stop, Question, and Frisk (2011), and Stop, Question, and Frisk (2019)."
   ]
  },
  {
   "cell_type": "code",
   "execution_count": 1,
   "metadata": {},
   "outputs": [],
   "source": [
    "# Load libraries.\n",
    "import pandas as pd\n",
    "import numpy as np\n",
    "import matplotlib.pyplot as plt\n",
    "from scipy import stats"
   ]
  },
  {
   "cell_type": "markdown",
   "metadata": {},
   "source": [
    "#### Dataset #1: Stop, Question, and Frisk (2011)\n",
    "\n",
    "---"
   ]
  },
  {
   "cell_type": "markdown",
   "metadata": {},
   "source": [
    "Load in the Stop, Question, and Frisk (2011) raw dataset:"
   ]
  },
  {
   "cell_type": "code",
   "execution_count": 2,
   "metadata": {},
   "outputs": [
    {
     "name": "stderr",
     "output_type": "stream",
     "text": [
      "/Users/leajih-vieira/opt/anaconda3/lib/python3.8/site-packages/IPython/core/interactiveshell.py:3146: DtypeWarning: Columns (73,103) have mixed types.Specify dtype option on import or set low_memory=False.\n",
      "  has_raised = await self.run_ast_nodes(code_ast.body, cell_name,\n"
     ]
    }
   ],
   "source": [
    "sqf2011_raw = pd.read_csv('/Users/leajih-vieira/Downloads/Data Science Project/2011.csv', encoding = 'latin1')"
   ]
  },
  {
   "cell_type": "markdown",
   "metadata": {},
   "source": [
    "Because we are using multiple Stop, Question, and Frisk datasets, we must match columns to each other and assign them identical column names for ease of analysis. We also must identify columns that are unable to be used since the data were only recorded in one dataset and not the other, etc. The following steps deal with this process."
   ]
  },
  {
   "cell_type": "markdown",
   "metadata": {},
   "source": [
    "Create a list of the column names that will be dropped from the sqf2011 dataset titled drop_cols_for_2011. Drop the columns in this list that are unnecessary for our project:"
   ]
  },
  {
   "cell_type": "code",
   "execution_count": 3,
   "metadata": {},
   "outputs": [],
   "source": [
    "drop_cols_for_2011 = ['pct', 'ser_num', 'recstat', 'crimsusp', 'inout', 'trhsloc', 'typeofid', 'sumoffen', 'compyear', 'comppct', 'offunif', 'officrid', 'adtlrept', 'radio', 'ac_rept', 'ac_inves', 'ac_proxm', 'ac_evasv', 'ac_assoc', 'ac_cgdir', 'ac_incid', 'ac_time', 'ac_stsnd', 'ac_other', 'repcmd', 'revcmd', 'offverb', 'offshld', 'forceuse', 'dob', 'ht_feet', 'ht_inch', 'weight', 'haircolr', 'eyecolor', 'build', 'othfeatr', 'addrtyp', 'rescode', 'premtype', 'premname', 'addrnum', 'stname', 'stinter', 'crossst', 'aptnum', 'state', 'zip', 'addrpct', 'sector', 'beat', 'post', 'xcoord', 'ycoord', 'dettypcm', 'linecm']\n",
    "\n",
    "sqf2011_copy1 = sqf2011_raw.drop(labels = drop_cols_for_2011, axis = 1)\n"
   ]
  },
  {
   "cell_type": "markdown",
   "metadata": {},
   "source": [
    "Another aspect of the data that we are not interested in that is included in this dataset is the reason a suspect was stopped, the reason a suspect was frisked, and the basis of the search (if any). Because we are analyzing crime statistics in New York City as a whole, we are not interested in understanding why a suspect was stopped, frisked, searched, etc. If we were analyzing the Stop and Frisk program and its efficacy, this might be more relevant information to determine if the program had any effects on crime rate. Since we are more interested in whether or not a person was stopped, frisked, arrested, etc., knowing the underlying reason(s) why they were stopped is irrelevant to this analysis."
   ]
  },
  {
   "cell_type": "code",
   "execution_count": 4,
   "metadata": {},
   "outputs": [],
   "source": [
    "drop_reasons_cols_for_2011 = ['rf_vcrim', 'rf_othsw', 'rf_attir', 'cs_objcs', 'cs_descr', 'cs_casng', 'cs_lkout', 'rf_vcact', 'cs_cloth', 'cs_drgtr', 'cs_furtv', 'rf_rfcmp', 'rf_verbl', 'cs_vcrim', 'cs_bulge', 'rf_knowl', 'sb_hdobj', 'sb_outln', 'sb_admis', 'sb_other', 'rf_furt', 'rf_bulg', 'cs_other']\n",
    "\n",
    "sqf2011_copy2 = sqf2011_copy1.drop(labels = drop_reasons_cols_for_2011, axis = 1)\n"
   ]
  },
  {
   "cell_type": "markdown",
   "metadata": {},
   "source": [
    "Rename the remaining columns so that they have more easily understandable names:"
   ]
  },
  {
   "cell_type": "code",
   "execution_count": 5,
   "metadata": {},
   "outputs": [],
   "source": [
    "sqf2011_copy3 = sqf2011_copy2.rename(columns={\"datestop\": \"date\", \"timestop\": \"time\", \"perobs\": \"obs_duration\", \"perstop\": \"stop_duration\", \"explnstp\": \"off_explain\", \"othpers\": \"other_stop\", \"contrabn\": \"contraband\", \"knifcuti\": \"knife\", \"othrweap\": \"other_weapon\", \"city\": \"boro\", \"detailcm\": \"crime_sus\"})\n"
   ]
  },
  {
   "cell_type": "markdown",
   "metadata": {},
   "source": [
    "The Stop, Question, and Frisk (2011) dataset has data recorded on if weapons were found on the supsect, and if so, what kind of weapon it was. The categories used to record this data have many differences from the other datasets' categories for weapons found on suspects. To solve this difference between datasets, we decided to reorganize the weapons columns into three categories: firearm, knife, and other weapon. The following cell reformats the weapons categories and renames them. "
   ]
  },
  {
   "cell_type": "code",
   "execution_count": 6,
   "metadata": {},
   "outputs": [],
   "source": [
    "sus_firearm_str = sqf2011_copy3.pistol + sqf2011_copy3.riflshot + sqf2011_copy3.asltweap + sqf2011_copy3.machgun\n",
    "\n",
    "sus_firearm = sus_firearm_str.str.contains(pat = 'Y')\n",
    "\n",
    "# Add the firearms column to the sqf2011 DataFrame.\n",
    "sqf2011_copy3['firearm'] = sus_firearm\n",
    "\n",
    "# Drop the unnecessary firearms columns.\n",
    "drop_cols_firearm = ['pistol', 'riflshot', 'asltweap', 'machgun']\n",
    "\n",
    "sqf2011_copy4 = sqf2011_copy3.drop(labels = drop_cols_firearm, axis = 1)\n"
   ]
  },
  {
   "cell_type": "markdown",
   "metadata": {},
   "source": [
    "When an officer uses physical force on a suspect, there are many categories that the physical force can be classified into: hands, suspect against wall, suspect on ground, weapon drawn, weapon pointed, baton, handcuffs, pepper spray, and other. We are mainly interested in whether or not a weapon was drawn and / or pointed. In order to condense the physical force data, we made a general physical force column that records whether or not any physical force was used during the encounter, but will be keeping a separate column specifying if a weapon was drawn and / or pointed during the encounter. These edits are done in the cell below:"
   ]
  },
  {
   "cell_type": "code",
   "execution_count": 7,
   "metadata": {},
   "outputs": [],
   "source": [
    "# Condense the 'Point Weapon' column and the 'draw weapon' column into one - 'Point and / or Draw Weapon'.\n",
    "pt_draw_weapon_str = sqf2011_copy4.pf_drwep + sqf2011_copy4.pf_ptwep\n",
    "\n",
    "pt_draw_force = pt_draw_weapon_str.str.contains(pat = 'Y')\n",
    "\n",
    "# Add Point and / or Draw Weapon column to the SandF_2011 DataFrame.\n",
    "sqf2011_copy4['pt_draw_force'] = pt_draw_force\n",
    "\n",
    "# Condense all use of physical force into one column.\n",
    "phys_force_str = sqf2011_copy4.pf_hands + sqf2011_copy4.pf_wall + sqf2011_copy4.pf_grnd + sqf2011_copy4.pf_drwep + sqf2011_copy4.pf_ptwep + sqf2011_copy4.pf_baton + sqf2011_copy4.pf_hcuff + sqf2011_copy4.pf_pepsp + sqf2011_copy4.pf_other\n",
    "\n",
    "phys_force = phys_force_str.str.contains(pat = 'Y')\n",
    "\n",
    "# Add the physical force column to the SandF_2011 DataFrame.\n",
    "sqf2011_copy4['phys_force'] = phys_force\n",
    "\n",
    "# Drop the unnecessary physical force columns.\n",
    "drop_cols_phys_force = ['pf_hands', 'pf_wall', 'pf_grnd', 'pf_drwep', 'pf_ptwep', 'pf_baton', 'pf_hcuff', 'pf_pepsp', 'pf_other']\n",
    "\n",
    "sqf2011_copy5 = sqf2011_copy4.drop(labels = drop_cols_phys_force, axis = 1)\n"
   ]
  },
  {
   "cell_type": "markdown",
   "metadata": {},
   "source": [
    "Another aspect of the dataset that we have to account for is the age column. In the age column, it seems that if an officer did not know the age of the suspect, the age was coded as a number far above what is humanly possible - anywhere from ~145 to 999. Part of this error could also be due to typos. For example, when entering the police report into the dataset, an officer could have added an extra 0 to '15' to make it '150'. We made the executive decision to drop any rows that had an age listed above 110, because it is not realistic to analyze this when we do not know the real age of the suspect. In addition, we will be using age data a lot in out analysis, so these errors would disrupt later analysis.\n",
    "\n",
    "There is also prevalence of instances with a remarkably low age, such as 0 or 1. These could be real ages of suspects who were stopped - perhaps they were infants accompanyed by an adult and both were stopped and searched - but we also considered that these ages were due to typos as well. Because of this, we made another executive decision to drop any instances of people below the age of 13.\n",
    "\n",
    "The subset we will be looking at will be inclusive of teenagers (ages 13-17) and adults (ages 18-110)."
   ]
  },
  {
   "cell_type": "code",
   "execution_count": 8,
   "metadata": {},
   "outputs": [],
   "source": [
    "sqf2011_copy6 = sqf2011_copy5.sort_values(by = 'age', ascending = False)\n",
    "sqf2011_copy7 = sqf2011_copy6.loc[sqf2011_copy6['age'] <= 110]\n",
    "\n",
    "sqf2011_copy8 = sqf2011_copy7.sort_values(by = 'age', ascending = True)\n",
    "sqf2011_copy9 = sqf2011_copy8.loc[sqf2011_copy6['age'] >= 13]\n"
   ]
  },
  {
   "cell_type": "markdown",
   "metadata": {},
   "source": [
    "Next, reformat the race column. The race column is currently organized by codes, but we would like to recode the entries to say the actual race of suspects. The cell below does this."
   ]
  },
  {
   "cell_type": "code",
   "execution_count": 9,
   "metadata": {},
   "outputs": [],
   "source": [
    "curr_race_codes = ['', 'A', 'B', 'I', 'P', 'Q', 'W', 'X', 'Z', 'U']\n",
    "new_race_codes = ['UNKNOWN', 'ASIAN/PACIFIC ISLANDER', 'BLACK', 'AMERICAN INDIAN/ALASKAN NATIVE', 'BLACK HISPANIC', 'WHITE HISPANIC', 'WHITE', 'UNKNOWN', 'UNKNOWN', 'UNKNOWN']\n",
    "\n",
    "sqf2011_copy10 = sqf2011_copy9.copy()\n",
    "\n",
    "sqf2011_copy10['race'] = sqf2011_copy9.race.replace(to_replace = curr_race_codes, value = new_race_codes)\n"
   ]
  },
  {
   "cell_type": "markdown",
   "metadata": {},
   "source": [
    "We also reformat the sex column to match the other dataset(s)."
   ]
  },
  {
   "cell_type": "code",
   "execution_count": 10,
   "metadata": {},
   "outputs": [],
   "source": [
    "curr_sex_codes = ['M', 'F', 'Z']\n",
    "new_sex_codes = ['MALE', 'FEMALE', 'UNKNOWN']\n",
    "\n",
    "sqf2011_copy11 = sqf2011_copy10.copy()\n",
    "\n",
    "sqf2011_copy11['sex'] = sqf2011_copy10.sex.replace(to_replace = curr_sex_codes, value = new_sex_codes)\n"
   ]
  },
  {
   "cell_type": "markdown",
   "metadata": {},
   "source": [
    "The columns observation duration and stop duration seem to be similar to the age column in that they have 999 entered for unknown times. Drop all instances that have these unknown time values."
   ]
  },
  {
   "cell_type": "code",
   "execution_count": 11,
   "metadata": {},
   "outputs": [],
   "source": [
    "sqf2011_copy12 = sqf2011_copy11.sort_values(by = 'obs_duration', ascending = False)\n",
    "sqf2011_copy13 = sqf2011_copy12.loc[sqf2011_copy6['obs_duration'] < 999]\n",
    "\n",
    "sqf2011_copy14 = sqf2011_copy13.sort_values(by = 'stop_duration', ascending = False)\n",
    "sqf2011_copy15 = sqf2011_copy14.loc[sqf2011_copy6['stop_duration'] < 999]\n"
   ]
  },
  {
   "cell_type": "markdown",
   "metadata": {},
   "source": [
    "Now, take a random sample of 0.10 (10% of the dataset)."
   ]
  },
  {
   "cell_type": "code",
   "execution_count": 12,
   "metadata": {},
   "outputs": [],
   "source": [
    "sqf2011_sample = sqf2011_copy15.sample(frac = 0.10)\n",
    "sqf2011_sample = sqf2011_sample.reset_index(drop=True)\n"
   ]
  },
  {
   "cell_type": "markdown",
   "metadata": {},
   "source": [
    "Now that we are working with a sample, it will be easier to prep each column for analysis. First, convert each column with Yes / No data to boolean values to make it easier to analyze."
   ]
  },
  {
   "cell_type": "code",
   "execution_count": 13,
   "metadata": {},
   "outputs": [],
   "source": [
    "def convert_yn_to_bool(series):\n",
    "    \"\"\" Convert a given series of Y/N string to boolean values. Yes being True, and No being False. \"\"\"\n",
    "    return series.str.contains(pat = 'Y')\n",
    "\n",
    "col_labels = ('off_explain', 'other_stop', 'arstmade', 'sumissue', 'frisked', 'searched', 'contraband', 'knife', 'other_weapon')\n",
    "\n",
    "sqf2011_sample1 = sqf2011_sample\n",
    "\n",
    "for col in col_labels:\n",
    "    sqf2011_sample1[col] = convert_yn_to_bool(sqf2011_sample[col])\n"
   ]
  },
  {
   "cell_type": "markdown",
   "metadata": {},
   "source": [
    "Reformat the date column to be date objects."
   ]
  },
  {
   "cell_type": "code",
   "execution_count": 14,
   "metadata": {},
   "outputs": [],
   "source": [
    "def zeroPad_for_date (string):\n",
    "    \"\"\" Convert a given date to zero-padded date. \"\"\"\n",
    "    return \"0\" + string\n",
    "\n",
    "dates_str = [str(i) for i in sqf2011_sample1['date']]\n",
    "\n",
    "padded_dates = [zeroPad_for_date(date) if len(date) != 8 else date for date in dates_str]\n",
    "\n",
    "sqf2011_sample2 = sqf2011_sample1.copy()\n",
    "\n",
    "sqf2011_sample1['date'] = padded_dates\n",
    "sqf2011_sample2['date'] = pd.to_datetime(sqf2011_sample1['date'], format = \"%m%d%Y\")\n"
   ]
  },
  {
   "cell_type": "markdown",
   "metadata": {},
   "source": [
    "Next, reformat the time column to be time objects."
   ]
  },
  {
   "cell_type": "code",
   "execution_count": 15,
   "metadata": {},
   "outputs": [],
   "source": [
    "def zeroPad_for_time (string):\n",
    "    \"\"\" Convert a string of time to a zero-padded time. \"\"\"\n",
    "    if (len(string) == 1):\n",
    "        return \"000\" + string\n",
    "    elif (len(string) == 2):\n",
    "        return \"00\" + string\n",
    "    else:\n",
    "        return \"0\" + string\n",
    "\n",
    "times_str = [str(i) for i in sqf2011_sample2['time']]\n",
    "\n",
    "padded_times = [zeroPad_for_time(time) if len(time) != 4 else time for time in times_str]\n",
    "\n",
    "sqf2011_sample2['time'] = padded_times\n",
    "\n",
    "sqf2011_sample3 = sqf2011_sample2.copy()\n",
    "\n",
    "sqf2011_sample3['time'] = pd.to_datetime(sqf2011_sample2['time'], format = \"%H%M\")\n"
   ]
  },
  {
   "cell_type": "code",
   "execution_count": 16,
   "metadata": {},
   "outputs": [],
   "source": [
    "times_only = [i.time() for i in sqf2011_sample3['time']]\n",
    "sqf2011_sample3['time'] = times_only\n"
   ]
  },
  {
   "cell_type": "markdown",
   "metadata": {},
   "source": [
    "Now, the data cleaning for the Stop, Question, and Frisk dataset is complete!"
   ]
  },
  {
   "cell_type": "code",
   "execution_count": 17,
   "metadata": {},
   "outputs": [
    {
     "data": {
      "text/html": [
       "<div>\n",
       "<style scoped>\n",
       "    .dataframe tbody tr th:only-of-type {\n",
       "        vertical-align: middle;\n",
       "    }\n",
       "\n",
       "    .dataframe tbody tr th {\n",
       "        vertical-align: top;\n",
       "    }\n",
       "\n",
       "    .dataframe thead th {\n",
       "        text-align: right;\n",
       "    }\n",
       "</style>\n",
       "<table border=\"1\" class=\"dataframe\">\n",
       "  <thead>\n",
       "    <tr style=\"text-align: right;\">\n",
       "      <th></th>\n",
       "      <th>year</th>\n",
       "      <th>date</th>\n",
       "      <th>time</th>\n",
       "      <th>obs_duration</th>\n",
       "      <th>stop_duration</th>\n",
       "      <th>off_explain</th>\n",
       "      <th>other_stop</th>\n",
       "      <th>arstmade</th>\n",
       "      <th>arstoffn</th>\n",
       "      <th>sumissue</th>\n",
       "      <th>frisked</th>\n",
       "      <th>searched</th>\n",
       "      <th>contraband</th>\n",
       "      <th>knife</th>\n",
       "      <th>other_weapon</th>\n",
       "      <th>sex</th>\n",
       "      <th>race</th>\n",
       "      <th>age</th>\n",
       "      <th>boro</th>\n",
       "      <th>crime_sus</th>\n",
       "      <th>firearm</th>\n",
       "      <th>pt_draw_force</th>\n",
       "      <th>phys_force</th>\n",
       "    </tr>\n",
       "  </thead>\n",
       "  <tbody>\n",
       "    <tr>\n",
       "      <th>0</th>\n",
       "      <td>2011</td>\n",
       "      <td>2011-10-20</td>\n",
       "      <td>13:10:00</td>\n",
       "      <td>1</td>\n",
       "      <td>5</td>\n",
       "      <td>True</td>\n",
       "      <td>True</td>\n",
       "      <td>False</td>\n",
       "      <td></td>\n",
       "      <td>False</td>\n",
       "      <td>False</td>\n",
       "      <td>False</td>\n",
       "      <td>False</td>\n",
       "      <td>False</td>\n",
       "      <td>False</td>\n",
       "      <td>MALE</td>\n",
       "      <td>WHITE HISPANIC</td>\n",
       "      <td>22</td>\n",
       "      <td>MANHATTAN</td>\n",
       "      <td>20</td>\n",
       "      <td>False</td>\n",
       "      <td>False</td>\n",
       "      <td>False</td>\n",
       "    </tr>\n",
       "    <tr>\n",
       "      <th>1</th>\n",
       "      <td>2011</td>\n",
       "      <td>2011-12-22</td>\n",
       "      <td>14:00:00</td>\n",
       "      <td>0</td>\n",
       "      <td>10</td>\n",
       "      <td>True</td>\n",
       "      <td>True</td>\n",
       "      <td>False</td>\n",
       "      <td></td>\n",
       "      <td>False</td>\n",
       "      <td>True</td>\n",
       "      <td>False</td>\n",
       "      <td>False</td>\n",
       "      <td>False</td>\n",
       "      <td>False</td>\n",
       "      <td>MALE</td>\n",
       "      <td>BLACK</td>\n",
       "      <td>18</td>\n",
       "      <td>BRONX</td>\n",
       "      <td>20</td>\n",
       "      <td>False</td>\n",
       "      <td>False</td>\n",
       "      <td>False</td>\n",
       "    </tr>\n",
       "    <tr>\n",
       "      <th>2</th>\n",
       "      <td>2011</td>\n",
       "      <td>2011-06-22</td>\n",
       "      <td>01:00:00</td>\n",
       "      <td>2</td>\n",
       "      <td>10</td>\n",
       "      <td>True</td>\n",
       "      <td>False</td>\n",
       "      <td>False</td>\n",
       "      <td></td>\n",
       "      <td>False</td>\n",
       "      <td>True</td>\n",
       "      <td>False</td>\n",
       "      <td>False</td>\n",
       "      <td>False</td>\n",
       "      <td>False</td>\n",
       "      <td>MALE</td>\n",
       "      <td>BLACK HISPANIC</td>\n",
       "      <td>19</td>\n",
       "      <td>QUEENS</td>\n",
       "      <td>85</td>\n",
       "      <td>False</td>\n",
       "      <td>False</td>\n",
       "      <td>True</td>\n",
       "    </tr>\n",
       "    <tr>\n",
       "      <th>3</th>\n",
       "      <td>2011</td>\n",
       "      <td>2011-01-05</td>\n",
       "      <td>20:20:00</td>\n",
       "      <td>1</td>\n",
       "      <td>5</td>\n",
       "      <td>True</td>\n",
       "      <td>False</td>\n",
       "      <td>False</td>\n",
       "      <td></td>\n",
       "      <td>False</td>\n",
       "      <td>False</td>\n",
       "      <td>False</td>\n",
       "      <td>False</td>\n",
       "      <td>False</td>\n",
       "      <td>False</td>\n",
       "      <td>MALE</td>\n",
       "      <td>BLACK</td>\n",
       "      <td>39</td>\n",
       "      <td>BROOKLYN</td>\n",
       "      <td>31</td>\n",
       "      <td>False</td>\n",
       "      <td>False</td>\n",
       "      <td>False</td>\n",
       "    </tr>\n",
       "    <tr>\n",
       "      <th>4</th>\n",
       "      <td>2011</td>\n",
       "      <td>2011-06-11</td>\n",
       "      <td>21:50:00</td>\n",
       "      <td>1</td>\n",
       "      <td>10</td>\n",
       "      <td>True</td>\n",
       "      <td>True</td>\n",
       "      <td>False</td>\n",
       "      <td></td>\n",
       "      <td>True</td>\n",
       "      <td>True</td>\n",
       "      <td>False</td>\n",
       "      <td>False</td>\n",
       "      <td>False</td>\n",
       "      <td>False</td>\n",
       "      <td>MALE</td>\n",
       "      <td>WHITE HISPANIC</td>\n",
       "      <td>21</td>\n",
       "      <td>BRONX</td>\n",
       "      <td>27</td>\n",
       "      <td>False</td>\n",
       "      <td>False</td>\n",
       "      <td>True</td>\n",
       "    </tr>\n",
       "  </tbody>\n",
       "</table>\n",
       "</div>"
      ],
      "text/plain": [
       "   year       date      time  obs_duration  stop_duration  off_explain  \\\n",
       "0  2011 2011-10-20  13:10:00             1              5         True   \n",
       "1  2011 2011-12-22  14:00:00             0             10         True   \n",
       "2  2011 2011-06-22  01:00:00             2             10         True   \n",
       "3  2011 2011-01-05  20:20:00             1              5         True   \n",
       "4  2011 2011-06-11  21:50:00             1             10         True   \n",
       "\n",
       "   other_stop  arstmade arstoffn  sumissue  frisked  searched  contraband  \\\n",
       "0        True     False              False    False     False       False   \n",
       "1        True     False              False     True     False       False   \n",
       "2       False     False              False     True     False       False   \n",
       "3       False     False              False    False     False       False   \n",
       "4        True     False               True     True     False       False   \n",
       "\n",
       "   knife  other_weapon   sex            race  age       boro  crime_sus  \\\n",
       "0  False         False  MALE  WHITE HISPANIC   22  MANHATTAN         20   \n",
       "1  False         False  MALE           BLACK   18      BRONX         20   \n",
       "2  False         False  MALE  BLACK HISPANIC   19     QUEENS         85   \n",
       "3  False         False  MALE           BLACK   39   BROOKLYN         31   \n",
       "4  False         False  MALE  WHITE HISPANIC   21      BRONX         27   \n",
       "\n",
       "   firearm  pt_draw_force  phys_force  \n",
       "0    False          False       False  \n",
       "1    False          False       False  \n",
       "2    False          False        True  \n",
       "3    False          False       False  \n",
       "4    False          False        True  "
      ]
     },
     "execution_count": 17,
     "metadata": {},
     "output_type": "execute_result"
    }
   ],
   "source": [
    "pd.set_option('display.max_columns', None)\n",
    "\n",
    "sqf2011_final = sqf2011_sample3\n",
    "\n",
    "sqf2011_final.head()\n"
   ]
  },
  {
   "cell_type": "markdown",
   "metadata": {},
   "source": [
    "The final step is the export the analysis-ready data:"
   ]
  },
  {
   "cell_type": "code",
   "execution_count": 18,
   "metadata": {},
   "outputs": [],
   "source": [
    "#sqf2011_final.to_csv(path_or_buf = 'sqf2011_sample_size_test')"
   ]
  },
  {
   "cell_type": "markdown",
   "metadata": {},
   "source": [
    "#### Dataset #2: Stop, Question, and Frisk (2019)\n",
    "\n",
    "---"
   ]
  },
  {
   "cell_type": "markdown",
   "metadata": {},
   "source": [
    "Load in the Stop, Question, and Frisk (2019) raw dataset:"
   ]
  },
  {
   "cell_type": "code",
   "execution_count": 19,
   "metadata": {},
   "outputs": [],
   "source": [
    "sqf2019_raw = pd.read_csv(\"sqf-2019.csv\")"
   ]
  },
  {
   "cell_type": "markdown",
   "metadata": {},
   "source": [
    "Keep only these columns from the Stop, Question, and Frisk (2019) data:"
   ]
  },
  {
   "cell_type": "code",
   "execution_count": 20,
   "metadata": {},
   "outputs": [],
   "source": [
    "#keep only these columns from the 2019 stop and frisk data\n",
    "sqf2019_copy1=sqf2019_raw[['STOP_FRISK_DATE', 'STOP_FRISK_TIME', 'YEAR2', 'OBSERVED_DURATION_MINUTES', 'SUSPECTED_CRIME_DESCRIPTION',\n",
    "       'STOP_DURATION_MINUTES', 'OFFICER_EXPLAINED_STOP_FLAG', 'OTHER_PERSON_STOPPED_FLAG',\n",
    "       'SUSPECT_ARRESTED_FLAG', 'SUSPECT_ARREST_OFFENSE','SUMMONS_ISSUED_FLAG', 'FRISKED_FLAG', 'SEARCHED_FLAG', 'OTHER_CONTRABAND_FLAG', 'FIREARM_FLAG',\n",
    "       'KNIFE_CUTTER_FLAG', 'OTHER_WEAPON_FLAG', 'WEAPON_FOUND_FLAG',\n",
    "       'PHYSICAL_FORCE_CEW_FLAG', 'PHYSICAL_FORCE_DRAW_POINT_FIREARM_FLAG',\n",
    "       'PHYSICAL_FORCE_HANDCUFF_SUSPECT_FLAG',\n",
    "       'PHYSICAL_FORCE_OC_SPRAY_USED_FLAG', 'PHYSICAL_FORCE_OTHER_FLAG',\n",
    "       'PHYSICAL_FORCE_RESTRAINT_USED_FLAG',\n",
    "       'PHYSICAL_FORCE_VERBAL_INSTRUCTION_FLAG',\n",
    "       'PHYSICAL_FORCE_WEAPON_IMPACT_FLAG', 'SUSPECT_REPORTED_AGE', 'SUSPECT_SEX',\n",
    "       'SUSPECT_RACE_DESCRIPTION', 'STOP_LOCATION_BORO_NAME']]"
   ]
  },
  {
   "cell_type": "markdown",
   "metadata": {},
   "source": [
    "Renaming columns from the 2019 Stop and Frisk data"
   ]
  },
  {
   "cell_type": "code",
   "execution_count": 21,
   "metadata": {},
   "outputs": [],
   "source": [
    "#renaming columns from the 2019 Stop and Frisk data\n",
    "sqf2019_copy2=sqf2019_copy1.rename(columns={'STOP_FRISK_DATE':'date','STOP_FRISK_TIME' : 'time', 'YEAR2' :'year', 'OBSERVED_DURATION_MINUTES' : 'obs_duration', 'SUSPECTED_CRIME_DESCRIPTION': 'crime_sus',\n",
    "       'STOP_DURATION_MINUTES' : 'stop_duration', 'OFFICER_EXPLAINED_STOP_FLAG' : 'off_explain', 'OTHER_PERSON_STOPPED_FLAG':'other_stop',\n",
    "       'SUSPECT_ARRESTED_FLAG':'arstmade', 'SUSPECT_ARREST_OFFENSE':'arstoffn', 'SUMMONS_ISSUED_FLAG': 'sumissue','FRISKED_FLAG':'frisked', 'SEARCHED_FLAG':'searched', 'OTHER_CONTRABAND_FLAG':'contraband', 'FIREARM_FLAG':'firearm',\n",
    "       'KNIFE_CUTTER_FLAG':'knife',\n",
    "         'SUSPECT_REPORTED_AGE': 'age', 'SUSPECT_SEX':'sex',\n",
    "       'SUSPECT_RACE_DESCRIPTION':'race', 'STOP_LOCATION_BORO_NAME':'boro'})"
   ]
  },
  {
   "cell_type": "markdown",
   "metadata": {},
   "source": [
    "The Stop, Question, and Frisk (2019) dataset has columns labeled \"weapons_found_flag\" and \"other_weapon_flag\" separate from firearm and knife cutter categories. The 2011 dataset has a category for just other weapons. To give the two datasets a common other weapons column, the following cell combined data to just one column named \"other_weapon\"."
   ]
  },
  {
   "cell_type": "code",
   "execution_count": 22,
   "metadata": {},
   "outputs": [],
   "source": [
    "#combine other weapon and weapon to just 1 weapon column:\n",
    "weaponstr= sqf2019_copy2.OTHER_WEAPON_FLAG + sqf2019_copy2.WEAPON_FOUND_FLAG\n",
    "weapon = weaponstr.str.contains(pat = 'Y')\n",
    "sqf2019_copy2['other_weapon']=weapon\n",
    "# Drop the unnecessary weapons columns.\n",
    "drop_cols_weapons = ['OTHER_WEAPON_FLAG', 'WEAPON_FOUND_FLAG']\n",
    "sqf2019_copy3 = sqf2019_copy2.drop(labels = drop_cols_weapons, axis = 1)\n",
    "sqf2019_copy3['firearm']=sqf2019_copy3.firearm.str.contains(pat='Y')\n",
    "sqf2019_copy3['knife']=sqf2019_copy3.knife.str.contains(pat='Y')"
   ]
  },
  {
   "cell_type": "markdown",
   "metadata": {},
   "source": [
    "The same reformatting for physical force columns is done in the following cell to the Stop, Question, and Frisk (2019) dataset."
   ]
  },
  {
   "cell_type": "code",
   "execution_count": 23,
   "metadata": {},
   "outputs": [],
   "source": [
    "#combine physical forces into one\n",
    "physforcestr= sqf2019_copy3.PHYSICAL_FORCE_CEW_FLAG + sqf2019_copy3.PHYSICAL_FORCE_DRAW_POINT_FIREARM_FLAG+ sqf2019_copy3.PHYSICAL_FORCE_HANDCUFF_SUSPECT_FLAG + sqf2019_copy3.PHYSICAL_FORCE_OC_SPRAY_USED_FLAG + sqf2019_copy3.PHYSICAL_FORCE_OTHER_FLAG + sqf2019_copy3.PHYSICAL_FORCE_RESTRAINT_USED_FLAG + sqf2019_copy3.PHYSICAL_FORCE_VERBAL_INSTRUCTION_FLAG +sqf2019_copy3.PHYSICAL_FORCE_WEAPON_IMPACT_FLAG \n",
    "physforce = physforcestr.str.contains(pat = 'Y')\n",
    "sqf2019_copy3['phys_force']= physforce\n",
    "\n",
    "# Drop the unnecessary physforce columns. \n",
    "#keep'PHYSICAL_FORCE_DRAW_POINT_FIREARM_FLAG' even though it is in phys_force\n",
    "pt_drawforce= sqf2019_copy3.PHYSICAL_FORCE_DRAW_POINT_FIREARM_FLAG.str.contains(pat='Y')\n",
    "sqf2019_copy3['pt_draw_force']= pt_drawforce\n",
    "\n",
    "sqf2019_copy4= sqf2019_copy3.drop(labels= 'PHYSICAL_FORCE_DRAW_POINT_FIREARM_FLAG', axis=1)\n",
    "drop_cols_pf = ['PHYSICAL_FORCE_CEW_FLAG', 'PHYSICAL_FORCE_HANDCUFF_SUSPECT_FLAG','PHYSICAL_FORCE_OC_SPRAY_USED_FLAG', 'PHYSICAL_FORCE_OTHER_FLAG','PHYSICAL_FORCE_RESTRAINT_USED_FLAG', 'PHYSICAL_FORCE_VERBAL_INSTRUCTION_FLAG','PHYSICAL_FORCE_WEAPON_IMPACT_FLAG']\n",
    "sqf2019_copy5 = sqf2019_copy4.drop(labels = drop_cols_pf, axis = 1)"
   ]
  },
  {
   "cell_type": "markdown",
   "metadata": {},
   "source": [
    "Changing inputs Y to True and N to False in order to stay consistent with other boolean rows."
   ]
  },
  {
   "cell_type": "code",
   "execution_count": 24,
   "metadata": {},
   "outputs": [],
   "source": [
    "sqf2019_copy5['off_explain']= sqf2019_copy5.off_explain.str.contains(pat='Y')\n",
    "sqf2019_copy5['other_stop']= sqf2019_copy5.other_stop.str.contains(pat='Y')\n",
    "sqf2019_copy5['arstmade']= sqf2019_copy5.arstmade.str.contains(pat='Y')\n",
    "sqf2019_copy5['contraband']=sqf2019_copy5.contraband.str.contains(pat='Y')\n",
    "sqf2019_copy5['frisked']=sqf2019_copy5.frisked.str.contains(pat='Y')\n",
    "sqf2019_copy5['sumissue']=sqf2019_copy5.sumissue.str.contains(pat='Y')\n",
    "sqf2019_copy5['searched']=sqf2019_copy5.searched.str.contains(pat='Y')"
   ]
  },
  {
   "cell_type": "markdown",
   "metadata": {},
   "source": [
    "Drop ages that are null."
   ]
  },
  {
   "cell_type": "code",
   "execution_count": 25,
   "metadata": {},
   "outputs": [],
   "source": [
    "sqf2019_copy5.drop(sqf2019_copy5[sqf2019_copy5['age'] == \"(null)\"].index, inplace = True) \n",
    "sqf2019_copy5.drop(sqf2019_copy5[sqf2019_copy5['age'] == \"0\"].index, inplace = True) \n",
    "#sqf2019_copy5.drop(sqf2019_copy5[sqf2019_copy5['stop_duration'] >= 500].index, inplace = True) "
   ]
  },
  {
   "cell_type": "markdown",
   "metadata": {},
   "source": [
    "Convert age to type int."
   ]
  },
  {
   "cell_type": "code",
   "execution_count": 26,
   "metadata": {},
   "outputs": [],
   "source": [
    "sqf2019_copy6 = sqf2019_copy5.copy()\n",
    "sqf2019_copy6['age'] = sqf2019_copy6['age'].astype(int)"
   ]
  },
  {
   "cell_type": "markdown",
   "metadata": {},
   "source": [
    "Drop any ages below 13 and above 110."
   ]
  },
  {
   "cell_type": "code",
   "execution_count": 27,
   "metadata": {},
   "outputs": [],
   "source": [
    "sqf2019_copy7 = sqf2019_copy6.sort_values(by = 'age', ascending = False)\n",
    "sqf2019_copy8 = sqf2019_copy7.loc[sqf2019_copy7['age'] >= 13]"
   ]
  },
  {
   "cell_type": "markdown",
   "metadata": {},
   "source": [
    "For anyone who's sex was entered as null, recode it to 'UNKNOWN'."
   ]
  },
  {
   "cell_type": "code",
   "execution_count": 28,
   "metadata": {},
   "outputs": [],
   "source": [
    "sqf2019_copy9 = sqf2019_copy8.copy()\n",
    "sqf2019_copy9['sex'] = sqf2019_copy8.sex.replace(to_replace = '(null)', value = 'UNKNOWN')"
   ]
  },
  {
   "cell_type": "markdown",
   "metadata": {},
   "source": [
    "For anyone who's race was recorded as null, recode it to 'UNKNOWN' also."
   ]
  },
  {
   "cell_type": "code",
   "execution_count": 29,
   "metadata": {},
   "outputs": [],
   "source": [
    "sqf2019_copy10 = sqf2019_copy9.copy()\n",
    "sqf2019_copy10['race'] = sqf2019_copy9.race.replace(to_replace = '(null)', value = 'UNKNOWN')"
   ]
  },
  {
   "cell_type": "markdown",
   "metadata": {},
   "source": [
    "For any suspect who was not arrested, change the entry from null to empty."
   ]
  },
  {
   "cell_type": "code",
   "execution_count": 30,
   "metadata": {},
   "outputs": [],
   "source": [
    "sqf2019_copy11 = sqf2019_copy10.copy()\n",
    "sqf2019_copy11['arstoffn'] = sqf2019_copy10.arstoffn.replace(to_replace = '(null)', value = '')"
   ]
  },
  {
   "cell_type": "markdown",
   "metadata": {},
   "source": [
    "Now, take a random sample of  of 25% of the dataset."
   ]
  },
  {
   "cell_type": "code",
   "execution_count": 31,
   "metadata": {},
   "outputs": [],
   "source": [
    "sqf2019_sample = sqf2019_copy11.sample(frac = 0.25)\n",
    "sqf2019_sample = sqf2019_sample.reset_index(drop=True)"
   ]
  },
  {
   "cell_type": "markdown",
   "metadata": {},
   "source": [
    "Convert time to datetime objects."
   ]
  },
  {
   "cell_type": "code",
   "execution_count": 32,
   "metadata": {},
   "outputs": [],
   "source": [
    "sqf2019_sample2 = sqf2019_sample.copy()\n",
    "sqf2019_sample2['time'] = pd.to_datetime(sqf2019_sample['time'], format = \"%H:%M:%S\")\n",
    "times_only19 = [i.time() for i in sqf2019_sample2['time']]\n",
    "sqf2019_sample2['time'] = times_only19"
   ]
  },
  {
   "cell_type": "markdown",
   "metadata": {},
   "source": [
    "Convert date to datetime objects."
   ]
  },
  {
   "cell_type": "code",
   "execution_count": 33,
   "metadata": {},
   "outputs": [
    {
     "data": {
      "text/html": [
       "<div>\n",
       "<style scoped>\n",
       "    .dataframe tbody tr th:only-of-type {\n",
       "        vertical-align: middle;\n",
       "    }\n",
       "\n",
       "    .dataframe tbody tr th {\n",
       "        vertical-align: top;\n",
       "    }\n",
       "\n",
       "    .dataframe thead th {\n",
       "        text-align: right;\n",
       "    }\n",
       "</style>\n",
       "<table border=\"1\" class=\"dataframe\">\n",
       "  <thead>\n",
       "    <tr style=\"text-align: right;\">\n",
       "      <th></th>\n",
       "      <th>date</th>\n",
       "      <th>time</th>\n",
       "      <th>year</th>\n",
       "      <th>obs_duration</th>\n",
       "      <th>crime_sus</th>\n",
       "      <th>stop_duration</th>\n",
       "      <th>off_explain</th>\n",
       "      <th>other_stop</th>\n",
       "      <th>arstmade</th>\n",
       "      <th>arstoffn</th>\n",
       "      <th>sumissue</th>\n",
       "      <th>frisked</th>\n",
       "      <th>searched</th>\n",
       "      <th>contraband</th>\n",
       "      <th>firearm</th>\n",
       "      <th>knife</th>\n",
       "      <th>age</th>\n",
       "      <th>sex</th>\n",
       "      <th>race</th>\n",
       "      <th>boro</th>\n",
       "      <th>other_weapon</th>\n",
       "      <th>phys_force</th>\n",
       "      <th>pt_draw_force</th>\n",
       "    </tr>\n",
       "  </thead>\n",
       "  <tbody>\n",
       "    <tr>\n",
       "      <th>0</th>\n",
       "      <td>2019-04-15</td>\n",
       "      <td>17:46:00</td>\n",
       "      <td>2019</td>\n",
       "      <td>1</td>\n",
       "      <td>ASSAULT</td>\n",
       "      <td>5</td>\n",
       "      <td>True</td>\n",
       "      <td>True</td>\n",
       "      <td>False</td>\n",
       "      <td></td>\n",
       "      <td>False</td>\n",
       "      <td>False</td>\n",
       "      <td>False</td>\n",
       "      <td>False</td>\n",
       "      <td>False</td>\n",
       "      <td>False</td>\n",
       "      <td>52</td>\n",
       "      <td>FEMALE</td>\n",
       "      <td>BLACK</td>\n",
       "      <td>MANHATTAN</td>\n",
       "      <td>False</td>\n",
       "      <td>True</td>\n",
       "      <td>False</td>\n",
       "    </tr>\n",
       "    <tr>\n",
       "      <th>1</th>\n",
       "      <td>2019-06-01</td>\n",
       "      <td>10:10:00</td>\n",
       "      <td>2019</td>\n",
       "      <td>2</td>\n",
       "      <td>CPW</td>\n",
       "      <td>20</td>\n",
       "      <td>True</td>\n",
       "      <td>True</td>\n",
       "      <td>False</td>\n",
       "      <td></td>\n",
       "      <td>False</td>\n",
       "      <td>True</td>\n",
       "      <td>False</td>\n",
       "      <td>False</td>\n",
       "      <td>False</td>\n",
       "      <td>False</td>\n",
       "      <td>25</td>\n",
       "      <td>MALE</td>\n",
       "      <td>BLACK</td>\n",
       "      <td>BROOKLYN</td>\n",
       "      <td>False</td>\n",
       "      <td>True</td>\n",
       "      <td>True</td>\n",
       "    </tr>\n",
       "    <tr>\n",
       "      <th>2</th>\n",
       "      <td>2019-04-03</td>\n",
       "      <td>23:24:00</td>\n",
       "      <td>2019</td>\n",
       "      <td>1</td>\n",
       "      <td>BURGLARY</td>\n",
       "      <td>56</td>\n",
       "      <td>True</td>\n",
       "      <td>True</td>\n",
       "      <td>False</td>\n",
       "      <td></td>\n",
       "      <td>False</td>\n",
       "      <td>False</td>\n",
       "      <td>False</td>\n",
       "      <td>False</td>\n",
       "      <td>False</td>\n",
       "      <td>False</td>\n",
       "      <td>19</td>\n",
       "      <td>MALE</td>\n",
       "      <td>WHITE</td>\n",
       "      <td>QUEENS</td>\n",
       "      <td>False</td>\n",
       "      <td>True</td>\n",
       "      <td>False</td>\n",
       "    </tr>\n",
       "    <tr>\n",
       "      <th>3</th>\n",
       "      <td>2019-10-13</td>\n",
       "      <td>02:00:00</td>\n",
       "      <td>2019</td>\n",
       "      <td>3</td>\n",
       "      <td>OTHER</td>\n",
       "      <td>5</td>\n",
       "      <td>True</td>\n",
       "      <td>False</td>\n",
       "      <td>False</td>\n",
       "      <td></td>\n",
       "      <td>False</td>\n",
       "      <td>True</td>\n",
       "      <td>False</td>\n",
       "      <td>False</td>\n",
       "      <td>False</td>\n",
       "      <td>False</td>\n",
       "      <td>39</td>\n",
       "      <td>MALE</td>\n",
       "      <td>BLACK</td>\n",
       "      <td>QUEENS</td>\n",
       "      <td>False</td>\n",
       "      <td>True</td>\n",
       "      <td>False</td>\n",
       "    </tr>\n",
       "    <tr>\n",
       "      <th>4</th>\n",
       "      <td>2019-07-26</td>\n",
       "      <td>13:19:00</td>\n",
       "      <td>2019</td>\n",
       "      <td>1</td>\n",
       "      <td>PETIT LARCENY</td>\n",
       "      <td>10</td>\n",
       "      <td>True</td>\n",
       "      <td>True</td>\n",
       "      <td>True</td>\n",
       "      <td>PETIT LARCENY</td>\n",
       "      <td>False</td>\n",
       "      <td>False</td>\n",
       "      <td>True</td>\n",
       "      <td>False</td>\n",
       "      <td>False</td>\n",
       "      <td>False</td>\n",
       "      <td>17</td>\n",
       "      <td>MALE</td>\n",
       "      <td>BLACK</td>\n",
       "      <td>QUEENS</td>\n",
       "      <td>False</td>\n",
       "      <td>True</td>\n",
       "      <td>False</td>\n",
       "    </tr>\n",
       "  </tbody>\n",
       "</table>\n",
       "</div>"
      ],
      "text/plain": [
       "        date      time  year  obs_duration      crime_sus  stop_duration  \\\n",
       "0 2019-04-15  17:46:00  2019             1        ASSAULT              5   \n",
       "1 2019-06-01  10:10:00  2019             2            CPW             20   \n",
       "2 2019-04-03  23:24:00  2019             1       BURGLARY             56   \n",
       "3 2019-10-13  02:00:00  2019             3          OTHER              5   \n",
       "4 2019-07-26  13:19:00  2019             1  PETIT LARCENY             10   \n",
       "\n",
       "   off_explain  other_stop  arstmade       arstoffn  sumissue  frisked  \\\n",
       "0         True        True     False                    False    False   \n",
       "1         True        True     False                    False     True   \n",
       "2         True        True     False                    False    False   \n",
       "3         True       False     False                    False     True   \n",
       "4         True        True      True  PETIT LARCENY     False    False   \n",
       "\n",
       "   searched  contraband  firearm  knife  age     sex   race       boro  \\\n",
       "0     False       False    False  False   52  FEMALE  BLACK  MANHATTAN   \n",
       "1     False       False    False  False   25    MALE  BLACK   BROOKLYN   \n",
       "2     False       False    False  False   19    MALE  WHITE     QUEENS   \n",
       "3     False       False    False  False   39    MALE  BLACK     QUEENS   \n",
       "4      True       False    False  False   17    MALE  BLACK     QUEENS   \n",
       "\n",
       "   other_weapon  phys_force  pt_draw_force  \n",
       "0         False        True          False  \n",
       "1         False        True           True  \n",
       "2         False        True          False  \n",
       "3         False        True          False  \n",
       "4         False        True          False  "
      ]
     },
     "execution_count": 33,
     "metadata": {},
     "output_type": "execute_result"
    }
   ],
   "source": [
    "sqf2019_sample3=sqf2019_sample2.copy()\n",
    "sqf2019_sample3['date'] = pd.to_datetime(sqf2019_sample2['date'], format = \"%m/%d/%Y\")\n",
    "sqf2019_sample3.head() #it is in year-month-date"
   ]
  },
  {
   "cell_type": "markdown",
   "metadata": {},
   "source": [
    "The final step is the export the analysis-ready data:"
   ]
  },
  {
   "cell_type": "code",
   "execution_count": 34,
   "metadata": {},
   "outputs": [],
   "source": [
    "#sqf2019_sample3.to_csv(path_or_buf='sqf2019_size_test')"
   ]
  },
  {
   "cell_type": "markdown",
   "metadata": {},
   "source": [
    "#### Dataset #3: New York City Crime Data (2009-2019)\n",
    "\n",
    "---"
   ]
  },
  {
   "cell_type": "markdown",
   "metadata": {},
   "source": [
    "This dataset was composed from four individual datasets created by the New York Police Department (NYPD) for the public. The four original datasets consisted of data regarding the Seven Major Felony Offenses, Non Major Felony Offenses, Misdemeanor Offenses, and Violation Offenses. First, we cleaned each of the four datasets. After, we combined them as one final dataset that is ready for analysis, New York City Crime Data (2009-2019)."
   ]
  },
  {
   "cell_type": "markdown",
   "metadata": {},
   "source": [
    "##### Dataset #3.1: Seven Major Felony Offenses Data (2000-2020)\n",
    "\n",
    "---"
   ]
  },
  {
   "cell_type": "markdown",
   "metadata": {},
   "source": [
    "First, we will be cleaning the Seven Major Felony Offenses (2000-2020) dataset individually."
   ]
  },
  {
   "cell_type": "code",
   "execution_count": 35,
   "metadata": {},
   "outputs": [],
   "source": [
    "# Load raw dataset\n",
    "major_felony_raw = pd.read_csv('seven-major-felony-offenses-2000-2020.csv')"
   ]
  },
  {
   "cell_type": "markdown",
   "metadata": {},
   "source": [
    "Column names did not import properly (they imported as a row in the data), so we renamed the Columns and dropped that row along with NaN values"
   ]
  },
  {
   "cell_type": "code",
   "execution_count": 36,
   "metadata": {},
   "outputs": [],
   "source": [
    "major_felony = major_felony_raw.copy().drop([0, 1, 2])\n",
    "new_colnames_major = [i for i in major_felony_raw.iloc[3]]\n",
    "major_felony.columns = new_colnames_major\n",
    "major_felony = major_felony.drop([3])\n",
    "\n",
    "# Drop Statistical Notes and NaN values\n",
    "major_felony = major_felony.drop([12, 13, 14, 15, 16, 17, 18, 19])"
   ]
  },
  {
   "cell_type": "markdown",
   "metadata": {},
   "source": [
    "Columns from 2000-2008 (inclusive), and 2020 are not relevant to our analysis. Thus, we drop these columns."
   ]
  },
  {
   "cell_type": "code",
   "execution_count": 37,
   "metadata": {},
   "outputs": [],
   "source": [
    "major_felony = major_felony.drop(['2000', '2001', '2002', '2003', '2004', '2005', '2006', '2007', '2008', 2020.0], axis=1)\n",
    "\n",
    "# Reset Indices\n",
    "major_felony = major_felony.reset_index(drop=True)"
   ]
  },
  {
   "cell_type": "markdown",
   "metadata": {},
   "source": [
    "Reformat the dataset by renaming columns, casting all numerical entries as ints, and renaming the entries within the offenses column."
   ]
  },
  {
   "cell_type": "code",
   "execution_count": 38,
   "metadata": {},
   "outputs": [],
   "source": [
    "# Rename Columns\n",
    "major_felony = major_felony.rename(columns={\"OFFENSE\": \"offense\", '2009': 2009, '2010': 2010, '2011': 2011, '2012': 2012, '2013': 2013, '2014': 2014, '2015': 2015, '2016': 2016, '2017': 2017, '2018': 2018, 2019.0: 2019})\n",
    "\n",
    "# Make All Data Entries the Same Type (Int)\n",
    "major_felony[2019.0] = [int(i) for i in major_felony[2019.0]] \n",
    "major_felony.iloc[7, 1:11] = [int(i.replace(',', '')) for i in major_felony.iloc[7, 1:11]] \n",
    "for x in range(0, 7):\n",
    "    major_felony.iloc[x, 1:11] = [int(i) for i in major_felony.iloc[x, 1:11]]\n",
    "\n",
    "# Make Offense Types Lowercase\n",
    "major_felony.loc[:, \"offense\"] = major_felony.loc[:, \"offense\"].str.lower()\n",
    "\n",
    "# Rename Offenses\n",
    "major_felony.loc[0, 'offense'] = 'murder'\n",
    "major_felony.loc[:, 'offense'] = [i.replace(\" \",\"_\") for i in major_felony.loc[:, 'offense']]"
   ]
  },
  {
   "cell_type": "markdown",
   "metadata": {},
   "source": [
    "Drop the Totals row."
   ]
  },
  {
   "cell_type": "code",
   "execution_count": 39,
   "metadata": {},
   "outputs": [],
   "source": [
    "# Drop Totals Row \n",
    "major_felony = major_felony.drop([7])"
   ]
  },
  {
   "cell_type": "markdown",
   "metadata": {},
   "source": [
    "Finally, add a column to indicate the category of the offenses (Major Felony) for later reference in the final dataset."
   ]
  },
  {
   "cell_type": "code",
   "execution_count": 40,
   "metadata": {},
   "outputs": [
    {
     "data": {
      "text/html": [
       "<div>\n",
       "<style scoped>\n",
       "    .dataframe tbody tr th:only-of-type {\n",
       "        vertical-align: middle;\n",
       "    }\n",
       "\n",
       "    .dataframe tbody tr th {\n",
       "        vertical-align: top;\n",
       "    }\n",
       "\n",
       "    .dataframe thead th {\n",
       "        text-align: right;\n",
       "    }\n",
       "</style>\n",
       "<table border=\"1\" class=\"dataframe\">\n",
       "  <thead>\n",
       "    <tr style=\"text-align: right;\">\n",
       "      <th></th>\n",
       "      <th>offense</th>\n",
       "      <th>2009</th>\n",
       "      <th>2010</th>\n",
       "      <th>2011</th>\n",
       "      <th>2012</th>\n",
       "      <th>2013</th>\n",
       "      <th>2014</th>\n",
       "      <th>2015</th>\n",
       "      <th>2016</th>\n",
       "      <th>2017</th>\n",
       "      <th>2018</th>\n",
       "      <th>2019</th>\n",
       "      <th>status</th>\n",
       "    </tr>\n",
       "  </thead>\n",
       "  <tbody>\n",
       "    <tr>\n",
       "      <th>0</th>\n",
       "      <td>murder</td>\n",
       "      <td>471</td>\n",
       "      <td>536</td>\n",
       "      <td>515</td>\n",
       "      <td>419</td>\n",
       "      <td>335</td>\n",
       "      <td>333</td>\n",
       "      <td>352</td>\n",
       "      <td>335</td>\n",
       "      <td>292</td>\n",
       "      <td>295</td>\n",
       "      <td>319</td>\n",
       "      <td>major_felony</td>\n",
       "    </tr>\n",
       "    <tr>\n",
       "      <th>1</th>\n",
       "      <td>rape</td>\n",
       "      <td>1205</td>\n",
       "      <td>1373</td>\n",
       "      <td>1420</td>\n",
       "      <td>1445</td>\n",
       "      <td>1378</td>\n",
       "      <td>1352</td>\n",
       "      <td>1438</td>\n",
       "      <td>1438</td>\n",
       "      <td>1449</td>\n",
       "      <td>1794</td>\n",
       "      <td>1755</td>\n",
       "      <td>major_felony</td>\n",
       "    </tr>\n",
       "    <tr>\n",
       "      <th>2</th>\n",
       "      <td>robbery</td>\n",
       "      <td>18601</td>\n",
       "      <td>19486</td>\n",
       "      <td>19717</td>\n",
       "      <td>20144</td>\n",
       "      <td>19128</td>\n",
       "      <td>16539</td>\n",
       "      <td>16931</td>\n",
       "      <td>15500</td>\n",
       "      <td>13956</td>\n",
       "      <td>12913</td>\n",
       "      <td>13371</td>\n",
       "      <td>major_felony</td>\n",
       "    </tr>\n",
       "    <tr>\n",
       "      <th>3</th>\n",
       "      <td>felony_assault</td>\n",
       "      <td>16773</td>\n",
       "      <td>16956</td>\n",
       "      <td>18482</td>\n",
       "      <td>19381</td>\n",
       "      <td>20297</td>\n",
       "      <td>20207</td>\n",
       "      <td>20270</td>\n",
       "      <td>20847</td>\n",
       "      <td>20052</td>\n",
       "      <td>20208</td>\n",
       "      <td>20698</td>\n",
       "      <td>major_felony</td>\n",
       "    </tr>\n",
       "    <tr>\n",
       "      <th>4</th>\n",
       "      <td>burglary</td>\n",
       "      <td>19430</td>\n",
       "      <td>18600</td>\n",
       "      <td>18720</td>\n",
       "      <td>19168</td>\n",
       "      <td>17429</td>\n",
       "      <td>16765</td>\n",
       "      <td>15125</td>\n",
       "      <td>12990</td>\n",
       "      <td>12083</td>\n",
       "      <td>11687</td>\n",
       "      <td>10783</td>\n",
       "      <td>major_felony</td>\n",
       "    </tr>\n",
       "    <tr>\n",
       "      <th>5</th>\n",
       "      <td>grand_larceny</td>\n",
       "      <td>39580</td>\n",
       "      <td>37835</td>\n",
       "      <td>38501</td>\n",
       "      <td>42497</td>\n",
       "      <td>45368</td>\n",
       "      <td>43862</td>\n",
       "      <td>44005</td>\n",
       "      <td>44279</td>\n",
       "      <td>43150</td>\n",
       "      <td>43558</td>\n",
       "      <td>43250</td>\n",
       "      <td>major_felony</td>\n",
       "    </tr>\n",
       "    <tr>\n",
       "      <th>6</th>\n",
       "      <td>grand_larceny_of_motor_vehicle</td>\n",
       "      <td>10670</td>\n",
       "      <td>10329</td>\n",
       "      <td>9314</td>\n",
       "      <td>8093</td>\n",
       "      <td>7400</td>\n",
       "      <td>7664</td>\n",
       "      <td>7332</td>\n",
       "      <td>6327</td>\n",
       "      <td>5676</td>\n",
       "      <td>5428</td>\n",
       "      <td>5430</td>\n",
       "      <td>major_felony</td>\n",
       "    </tr>\n",
       "  </tbody>\n",
       "</table>\n",
       "</div>"
      ],
      "text/plain": [
       "                          offense   2009   2010   2011   2012   2013   2014  \\\n",
       "0                          murder    471    536    515    419    335    333   \n",
       "1                            rape   1205   1373   1420   1445   1378   1352   \n",
       "2                         robbery  18601  19486  19717  20144  19128  16539   \n",
       "3                  felony_assault  16773  16956  18482  19381  20297  20207   \n",
       "4                        burglary  19430  18600  18720  19168  17429  16765   \n",
       "5                   grand_larceny  39580  37835  38501  42497  45368  43862   \n",
       "6  grand_larceny_of_motor_vehicle  10670  10329   9314   8093   7400   7664   \n",
       "\n",
       "    2015   2016   2017   2018   2019        status  \n",
       "0    352    335    292    295    319  major_felony  \n",
       "1   1438   1438   1449   1794   1755  major_felony  \n",
       "2  16931  15500  13956  12913  13371  major_felony  \n",
       "3  20270  20847  20052  20208  20698  major_felony  \n",
       "4  15125  12990  12083  11687  10783  major_felony  \n",
       "5  44005  44279  43150  43558  43250  major_felony  \n",
       "6   7332   6327   5676   5428   5430  major_felony  "
      ]
     },
     "execution_count": 40,
     "metadata": {},
     "output_type": "execute_result"
    }
   ],
   "source": [
    "# Add column \"status\" (as a felony crime) for later\n",
    "major_felony['status'] = ['major_felony' for i in major_felony['offense']]\n",
    "\n",
    "major_felony"
   ]
  },
  {
   "cell_type": "markdown",
   "metadata": {},
   "source": [
    "##### Dataset #3.2:  Non-Major Felony Offenses Data (2000-2020)\n",
    "\n",
    "---"
   ]
  },
  {
   "cell_type": "markdown",
   "metadata": {},
   "source": [
    "Second, we will be cleaning the Non-Major Felony Offenses (2000-2020) dataset individually."
   ]
  },
  {
   "cell_type": "code",
   "execution_count": 41,
   "metadata": {},
   "outputs": [],
   "source": [
    "# Load raw dataset\n",
    "nonmajor_felony_raw = pd.read_csv('non-seven-major-felony-offenses-2000-2020.csv')"
   ]
  },
  {
   "cell_type": "markdown",
   "metadata": {},
   "source": [
    "Column names did not import properly (they imported as a row in the data), so we renamed the Columns and dropped that row along with NaN values."
   ]
  },
  {
   "cell_type": "code",
   "execution_count": 42,
   "metadata": {},
   "outputs": [],
   "source": [
    "nonmajor_felony = nonmajor_felony_raw.copy().drop([0, 1])\n",
    "new_colnames_nonmajor = [i for i in nonmajor_felony_raw.iloc[2]]\n",
    "nonmajor_felony.columns = new_colnames_nonmajor\n",
    "nonmajor_felony = nonmajor_felony.drop([2])\n",
    "\n",
    "# Drop Statistical Notes and NaN values\n",
    "nonmajor_felony = nonmajor_felony.drop([12, 13, 14, 15, 16, 17, 18, 19, 20, 21, 22, 23, 24, 25, 26, 27, 28, 29, 30, 31])"
   ]
  },
  {
   "cell_type": "markdown",
   "metadata": {},
   "source": [
    "Columns from 2000-2008 (inclusive), and 2020 are not relevant to our analysis. Thus, we drop these columns."
   ]
  },
  {
   "cell_type": "code",
   "execution_count": 43,
   "metadata": {},
   "outputs": [],
   "source": [
    "# Drop Columns 2000 - 2009 and 2020\n",
    "nonmajor_felony = nonmajor_felony.drop([2000.0, 2001.0, 2002.0, 2003.0, 2004.0, 2005.0, 2006.0, 2007.0, 2008.0, 2020.0], axis=1)\n",
    "\n",
    "# Reset Indices\n",
    "nonmajor_felony = nonmajor_felony.reset_index(drop=True)"
   ]
  },
  {
   "cell_type": "markdown",
   "metadata": {},
   "source": [
    "Reformat the dataset by renaming columns, casting all numerical entries as ints, and renaming the entries within the offenses column."
   ]
  },
  {
   "cell_type": "code",
   "execution_count": 44,
   "metadata": {},
   "outputs": [],
   "source": [
    "# Rename Columns\n",
    "nonmajor_felony = nonmajor_felony.rename(columns={\"OFFENSE\": \"offense\"})\n",
    "nonmajor_felony = nonmajor_felony.rename(columns={2009.0: 2009, 2010.0: 2010, 2011.0: 2011, 2012.0: 2012, 2013.0: 2013, 2014.0: 2014, 2015.0: 2015, 2016.0: 2016, 2017.0: 2017, 2018.0: 2018, 2019.0: 2019})\n",
    "\n",
    "# Make All Data Entries the Same Type (Int)\n",
    "nonmajor_felony[2009] = nonmajor_felony[2009].astype(int)\n",
    "nonmajor_felony[2010] = nonmajor_felony[2010].astype(int)\n",
    "nonmajor_felony[2011] = nonmajor_felony[2011].astype(int)\n",
    "nonmajor_felony[2012] = nonmajor_felony[2012].astype(int)\n",
    "nonmajor_felony[2013] = nonmajor_felony[2013].astype(int)\n",
    "nonmajor_felony[2014] = nonmajor_felony[2014].astype(int)\n",
    "nonmajor_felony[2015] = nonmajor_felony[2015].astype(int)\n",
    "nonmajor_felony[2016] = nonmajor_felony[2016].astype(int)\n",
    "nonmajor_felony[2017] = nonmajor_felony[2017].astype(int)\n",
    "nonmajor_felony[2018] = nonmajor_felony[2018].astype(int)\n",
    "nonmajor_felony[2019] = nonmajor_felony[2019].astype(int)\n",
    "\n",
    "# Make Offense Types Lowercase\n",
    "nonmajor_felony.loc[:, \"offense\"] = nonmajor_felony.loc[:, \"offense\"].str.lower()\n",
    "\n",
    "# Rename Offenses\n",
    "nonmajor_felony.loc[0, 'offense'] = 'stolen property'\n",
    "nonmajor_felony.loc[1, 'offense'] = 'forgery fraud identity theft'\n",
    "nonmajor_felony.loc[3, 'offense'] = 'sex crimes'\n",
    "nonmajor_felony.loc[4, 'offense'] = 'drugs'\n",
    "nonmajor_felony.loc[5, 'offense'] = 'weapons'\n",
    "nonmajor_felony.loc[6, 'offense'] = 'criminal mischief'\n",
    "nonmajor_felony.loc[7, 'offense'] = 'other felonies'\n",
    "nonmajor_felony.loc[:, 'offense'] = [i.replace(\" \",\"_\") for i in nonmajor_felony.loc[:, 'offense']]"
   ]
  },
  {
   "cell_type": "markdown",
   "metadata": {},
   "source": [
    "Drop the Totals row."
   ]
  },
  {
   "cell_type": "code",
   "execution_count": 45,
   "metadata": {},
   "outputs": [],
   "source": [
    "# Drop Totals Row \n",
    "nonmajor_felony = nonmajor_felony.drop([8])"
   ]
  },
  {
   "cell_type": "markdown",
   "metadata": {},
   "source": [
    "Finally, add a column to indicate the category of the offenses (Non-Major Felony) for later reference in the final dataset."
   ]
  },
  {
   "cell_type": "code",
   "execution_count": 46,
   "metadata": {},
   "outputs": [
    {
     "data": {
      "text/html": [
       "<div>\n",
       "<style scoped>\n",
       "    .dataframe tbody tr th:only-of-type {\n",
       "        vertical-align: middle;\n",
       "    }\n",
       "\n",
       "    .dataframe tbody tr th {\n",
       "        vertical-align: top;\n",
       "    }\n",
       "\n",
       "    .dataframe thead th {\n",
       "        text-align: right;\n",
       "    }\n",
       "</style>\n",
       "<table border=\"1\" class=\"dataframe\">\n",
       "  <thead>\n",
       "    <tr style=\"text-align: right;\">\n",
       "      <th></th>\n",
       "      <th>offense</th>\n",
       "      <th>2009</th>\n",
       "      <th>2010</th>\n",
       "      <th>2011</th>\n",
       "      <th>2012</th>\n",
       "      <th>2013</th>\n",
       "      <th>2014</th>\n",
       "      <th>2015</th>\n",
       "      <th>2016</th>\n",
       "      <th>2017</th>\n",
       "      <th>2018</th>\n",
       "      <th>2019</th>\n",
       "      <th>status</th>\n",
       "    </tr>\n",
       "  </thead>\n",
       "  <tbody>\n",
       "    <tr>\n",
       "      <th>0</th>\n",
       "      <td>stolen_property</td>\n",
       "      <td>823</td>\n",
       "      <td>864</td>\n",
       "      <td>823</td>\n",
       "      <td>711</td>\n",
       "      <td>689</td>\n",
       "      <td>1090</td>\n",
       "      <td>904</td>\n",
       "      <td>769</td>\n",
       "      <td>1019</td>\n",
       "      <td>951</td>\n",
       "      <td>733</td>\n",
       "      <td>nonmajor_felony</td>\n",
       "    </tr>\n",
       "    <tr>\n",
       "      <th>1</th>\n",
       "      <td>forgery_fraud_identity_theft</td>\n",
       "      <td>10225</td>\n",
       "      <td>10055</td>\n",
       "      <td>9876</td>\n",
       "      <td>10233</td>\n",
       "      <td>9493</td>\n",
       "      <td>9520</td>\n",
       "      <td>10400</td>\n",
       "      <td>11079</td>\n",
       "      <td>10063</td>\n",
       "      <td>9413</td>\n",
       "      <td>8684</td>\n",
       "      <td>nonmajor_felony</td>\n",
       "    </tr>\n",
       "    <tr>\n",
       "      <th>2</th>\n",
       "      <td>arson</td>\n",
       "      <td>1474</td>\n",
       "      <td>1467</td>\n",
       "      <td>1264</td>\n",
       "      <td>1253</td>\n",
       "      <td>1187</td>\n",
       "      <td>1205</td>\n",
       "      <td>1026</td>\n",
       "      <td>802</td>\n",
       "      <td>680</td>\n",
       "      <td>741</td>\n",
       "      <td>711</td>\n",
       "      <td>nonmajor_felony</td>\n",
       "    </tr>\n",
       "    <tr>\n",
       "      <th>3</th>\n",
       "      <td>sex_crimes</td>\n",
       "      <td>914</td>\n",
       "      <td>1053</td>\n",
       "      <td>1028</td>\n",
       "      <td>1380</td>\n",
       "      <td>1073</td>\n",
       "      <td>1135</td>\n",
       "      <td>1152</td>\n",
       "      <td>1336</td>\n",
       "      <td>1367</td>\n",
       "      <td>1615</td>\n",
       "      <td>1562</td>\n",
       "      <td>nonmajor_felony</td>\n",
       "    </tr>\n",
       "    <tr>\n",
       "      <th>4</th>\n",
       "      <td>drugs</td>\n",
       "      <td>26025</td>\n",
       "      <td>22913</td>\n",
       "      <td>21305</td>\n",
       "      <td>19680</td>\n",
       "      <td>19571</td>\n",
       "      <td>17113</td>\n",
       "      <td>15279</td>\n",
       "      <td>14712</td>\n",
       "      <td>13348</td>\n",
       "      <td>11236</td>\n",
       "      <td>9587</td>\n",
       "      <td>nonmajor_felony</td>\n",
       "    </tr>\n",
       "    <tr>\n",
       "      <th>5</th>\n",
       "      <td>weapons</td>\n",
       "      <td>5952</td>\n",
       "      <td>5413</td>\n",
       "      <td>5037</td>\n",
       "      <td>4979</td>\n",
       "      <td>5155</td>\n",
       "      <td>4605</td>\n",
       "      <td>4848</td>\n",
       "      <td>5465</td>\n",
       "      <td>4843</td>\n",
       "      <td>4639</td>\n",
       "      <td>4219</td>\n",
       "      <td>nonmajor_felony</td>\n",
       "    </tr>\n",
       "    <tr>\n",
       "      <th>6</th>\n",
       "      <td>criminal_mischief</td>\n",
       "      <td>6397</td>\n",
       "      <td>6006</td>\n",
       "      <td>6374</td>\n",
       "      <td>6737</td>\n",
       "      <td>7468</td>\n",
       "      <td>8466</td>\n",
       "      <td>9253</td>\n",
       "      <td>9966</td>\n",
       "      <td>10073</td>\n",
       "      <td>10427</td>\n",
       "      <td>11302</td>\n",
       "      <td>nonmajor_felony</td>\n",
       "    </tr>\n",
       "    <tr>\n",
       "      <th>7</th>\n",
       "      <td>other_felonies</td>\n",
       "      <td>11950</td>\n",
       "      <td>11616</td>\n",
       "      <td>11533</td>\n",
       "      <td>11929</td>\n",
       "      <td>13014</td>\n",
       "      <td>13735</td>\n",
       "      <td>13658</td>\n",
       "      <td>14217</td>\n",
       "      <td>13514</td>\n",
       "      <td>13645</td>\n",
       "      <td>14686</td>\n",
       "      <td>nonmajor_felony</td>\n",
       "    </tr>\n",
       "  </tbody>\n",
       "</table>\n",
       "</div>"
      ],
      "text/plain": [
       "                        offense   2009   2010   2011   2012   2013   2014  \\\n",
       "0               stolen_property    823    864    823    711    689   1090   \n",
       "1  forgery_fraud_identity_theft  10225  10055   9876  10233   9493   9520   \n",
       "2                         arson   1474   1467   1264   1253   1187   1205   \n",
       "3                    sex_crimes    914   1053   1028   1380   1073   1135   \n",
       "4                         drugs  26025  22913  21305  19680  19571  17113   \n",
       "5                       weapons   5952   5413   5037   4979   5155   4605   \n",
       "6             criminal_mischief   6397   6006   6374   6737   7468   8466   \n",
       "7                other_felonies  11950  11616  11533  11929  13014  13735   \n",
       "\n",
       "    2015   2016   2017   2018   2019           status  \n",
       "0    904    769   1019    951    733  nonmajor_felony  \n",
       "1  10400  11079  10063   9413   8684  nonmajor_felony  \n",
       "2   1026    802    680    741    711  nonmajor_felony  \n",
       "3   1152   1336   1367   1615   1562  nonmajor_felony  \n",
       "4  15279  14712  13348  11236   9587  nonmajor_felony  \n",
       "5   4848   5465   4843   4639   4219  nonmajor_felony  \n",
       "6   9253   9966  10073  10427  11302  nonmajor_felony  \n",
       "7  13658  14217  13514  13645  14686  nonmajor_felony  "
      ]
     },
     "execution_count": 46,
     "metadata": {},
     "output_type": "execute_result"
    }
   ],
   "source": [
    "# Add column \"status\" (as a non-major felony crime) for later\n",
    "nonmajor_felony['status'] = ['nonmajor_felony' for i in nonmajor_felony['offense']]\n",
    "\n",
    "nonmajor_felony"
   ]
  },
  {
   "cell_type": "markdown",
   "metadata": {},
   "source": [
    "##### Dataset #3.3:  Misdemeanor Offenses Data (2000-2020)\n",
    "\n",
    "---"
   ]
  },
  {
   "cell_type": "markdown",
   "metadata": {},
   "source": [
    "Third, we will be cleaning the Misdemeanor Offenses (2000-2020) dataset individually."
   ]
  },
  {
   "cell_type": "code",
   "execution_count": 47,
   "metadata": {},
   "outputs": [],
   "source": [
    "# Load raw dataset\n",
    "misdemeanor_raw = pd.read_csv('misdemeanor-offenses-2000-2020.csv')"
   ]
  },
  {
   "cell_type": "markdown",
   "metadata": {},
   "source": [
    "Column names did not import properly (they imported as a row in the data), so we renamed the Columns and dropped that row along with NaN values."
   ]
  },
  {
   "cell_type": "code",
   "execution_count": 48,
   "metadata": {},
   "outputs": [],
   "source": [
    "# Column names did not import properly (they imported as a row in the data), so we renamed the Columns and dropped that row along with NaN values\n",
    "misdemeanor = misdemeanor_raw.copy().drop([0, 1])\n",
    "new_colnames_misdemeanor = [i for i in misdemeanor_raw.iloc[2]]\n",
    "misdemeanor.columns = new_colnames_misdemeanor\n",
    "misdemeanor = misdemeanor.drop([2])\n",
    "\n",
    "# Drop Statistical Notes and NaN values\n",
    "misdemeanor = misdemeanor.drop([21, 22, 23, 24, 25, 26, 27, 28, 29, 30, 31, 32, 33, 34, 35, 36, 37, 38, 39, 40])"
   ]
  },
  {
   "cell_type": "markdown",
   "metadata": {},
   "source": [
    "Columns from 2000-2008 (inclusive), and 2020 are not relevant to our analysis. Thus, we drop these columns."
   ]
  },
  {
   "cell_type": "code",
   "execution_count": 49,
   "metadata": {},
   "outputs": [],
   "source": [
    "# Drop Columns 2000 - 2009 and 2020\n",
    "misdemeanor = misdemeanor.drop([2000.0, 2001.0, 2002.0, 2003.0, 2004.0, 2005.0, 2006.0, 2007.0, 2008.0, 2020.0], axis=1)\n",
    "\n",
    "# Reset Indeces\n",
    "misdemeanor = misdemeanor.reset_index(drop=True)"
   ]
  },
  {
   "cell_type": "markdown",
   "metadata": {},
   "source": [
    "Reformat the dataset by renaming columns, casting all numerical entries as ints, and renaming the entries within the offenses column."
   ]
  },
  {
   "cell_type": "code",
   "execution_count": 50,
   "metadata": {},
   "outputs": [],
   "source": [
    "# Rename Columns\n",
    "misdemeanor = misdemeanor.rename(columns={\"OFFENSE\": \"offense\"})\n",
    "misdemeanor = misdemeanor.rename(columns={2009.0: 2009, 2010.0: 2010, 2011.0: 2011, 2012.0: 2012, 2013.0: 2013, 2014.0: 2014, 2015.0: 2015, 2016.0: 2016, 2017.0: 2017, 2018.0: 2018, 2019.0: 2019})\n",
    "\n",
    "# Make All Data Entries the Same Type (Int)\n",
    "misdemeanor[2009] = misdemeanor[2009].astype(int)\n",
    "misdemeanor[2010] = misdemeanor[2010].astype(int)\n",
    "misdemeanor[2011] = misdemeanor[2011].astype(int)\n",
    "misdemeanor[2012] = misdemeanor[2012].astype(int)\n",
    "misdemeanor[2013] = misdemeanor[2013].astype(int)\n",
    "misdemeanor[2014] = misdemeanor[2014].astype(int)\n",
    "misdemeanor[2015] = misdemeanor[2015].astype(int)\n",
    "misdemeanor[2016] = misdemeanor[2016].astype(int)\n",
    "misdemeanor[2017] = misdemeanor[2017].astype(int)\n",
    "misdemeanor[2018] = misdemeanor[2018].astype(int)\n",
    "misdemeanor[2019] = misdemeanor[2019].astype(int)\n",
    "\n",
    "# Make Offense Types Lowercase\n",
    "misdemeanor.loc[:, \"offense\"] = misdemeanor.loc[:, \"offense\"].str.lower()\n",
    "\n",
    "# Rename Offenses\n",
    "misdemeanor.loc[0, 'offense'] = 'stolen property'\n",
    "misdemeanor.loc[1, 'offense'] = 'sex crimes'\n",
    "misdemeanor.loc[2, 'offense'] = 'drugs'\n",
    "misdemeanor.loc[3, 'offense'] = 'weapons'\n",
    "misdemeanor.loc[5, 'offense'] = 'assault3'\n",
    "misdemeanor.loc[6, 'offense'] = 'dui'\n",
    "misdemeanor.loc[8, 'offense'] = 'criminal mischief'\n",
    "misdemeanor.loc[9, 'offense'] = 'trespass'\n",
    "misdemeanor.loc[10, 'offense'] = 'unauthorized use of vehicle'\n",
    "misdemeanor.loc[11, 'offense'] = 'offenses against person'\n",
    "misdemeanor.loc[12, 'offense'] = 'offenses against public administration'\n",
    "misdemeanor.loc[13, 'offense'] = 'administrative code'\n",
    "misdemeanor.loc[14, 'offense'] = 'fraud'\n",
    "misdemeanor.loc[15, 'offense'] = 'aggravated harassment'\n",
    "misdemeanor.loc[16, 'offense'] = 'other'\n",
    "misdemeanor.loc[:, 'offense'] = [i.replace(\" \",\"_\") for i in misdemeanor.loc[:, 'offense']]"
   ]
  },
  {
   "cell_type": "markdown",
   "metadata": {},
   "source": [
    "Drop the Totals row."
   ]
  },
  {
   "cell_type": "code",
   "execution_count": 51,
   "metadata": {},
   "outputs": [],
   "source": [
    "# Drop Totals Row \n",
    "misdemeanor = misdemeanor.drop([17])"
   ]
  },
  {
   "cell_type": "markdown",
   "metadata": {},
   "source": [
    "Finally, add a column to indicate the category of the offenses (Misdemeanor) for later reference in the final dataset."
   ]
  },
  {
   "cell_type": "code",
   "execution_count": 52,
   "metadata": {},
   "outputs": [
    {
     "data": {
      "text/html": [
       "<div>\n",
       "<style scoped>\n",
       "    .dataframe tbody tr th:only-of-type {\n",
       "        vertical-align: middle;\n",
       "    }\n",
       "\n",
       "    .dataframe tbody tr th {\n",
       "        vertical-align: top;\n",
       "    }\n",
       "\n",
       "    .dataframe thead th {\n",
       "        text-align: right;\n",
       "    }\n",
       "</style>\n",
       "<table border=\"1\" class=\"dataframe\">\n",
       "  <thead>\n",
       "    <tr style=\"text-align: right;\">\n",
       "      <th></th>\n",
       "      <th>offense</th>\n",
       "      <th>2009</th>\n",
       "      <th>2010</th>\n",
       "      <th>2011</th>\n",
       "      <th>2012</th>\n",
       "      <th>2013</th>\n",
       "      <th>2014</th>\n",
       "      <th>2015</th>\n",
       "      <th>2016</th>\n",
       "      <th>2017</th>\n",
       "      <th>2018</th>\n",
       "      <th>2019</th>\n",
       "      <th>status</th>\n",
       "    </tr>\n",
       "  </thead>\n",
       "  <tbody>\n",
       "    <tr>\n",
       "      <th>0</th>\n",
       "      <td>stolen_property</td>\n",
       "      <td>2023</td>\n",
       "      <td>2240</td>\n",
       "      <td>2853</td>\n",
       "      <td>2662</td>\n",
       "      <td>2337</td>\n",
       "      <td>1469</td>\n",
       "      <td>1145</td>\n",
       "      <td>932</td>\n",
       "      <td>957</td>\n",
       "      <td>835</td>\n",
       "      <td>679</td>\n",
       "      <td>misdemeanor</td>\n",
       "    </tr>\n",
       "    <tr>\n",
       "      <th>1</th>\n",
       "      <td>sex_crimes</td>\n",
       "      <td>4459</td>\n",
       "      <td>4512</td>\n",
       "      <td>4632</td>\n",
       "      <td>4480</td>\n",
       "      <td>4064</td>\n",
       "      <td>4246</td>\n",
       "      <td>4555</td>\n",
       "      <td>4947</td>\n",
       "      <td>5424</td>\n",
       "      <td>5827</td>\n",
       "      <td>5805</td>\n",
       "      <td>misdemeanor</td>\n",
       "    </tr>\n",
       "    <tr>\n",
       "      <th>2</th>\n",
       "      <td>drugs</td>\n",
       "      <td>79302</td>\n",
       "      <td>79908</td>\n",
       "      <td>80462</td>\n",
       "      <td>67898</td>\n",
       "      <td>55529</td>\n",
       "      <td>52835</td>\n",
       "      <td>38471</td>\n",
       "      <td>35982</td>\n",
       "      <td>33686</td>\n",
       "      <td>19943</td>\n",
       "      <td>10854</td>\n",
       "      <td>misdemeanor</td>\n",
       "    </tr>\n",
       "    <tr>\n",
       "      <th>3</th>\n",
       "      <td>weapons</td>\n",
       "      <td>8367</td>\n",
       "      <td>8716</td>\n",
       "      <td>8601</td>\n",
       "      <td>7136</td>\n",
       "      <td>6522</td>\n",
       "      <td>6166</td>\n",
       "      <td>5685</td>\n",
       "      <td>5006</td>\n",
       "      <td>3844</td>\n",
       "      <td>3259</td>\n",
       "      <td>2078</td>\n",
       "      <td>misdemeanor</td>\n",
       "    </tr>\n",
       "    <tr>\n",
       "      <th>4</th>\n",
       "      <td>petit_larceny</td>\n",
       "      <td>80928</td>\n",
       "      <td>81522</td>\n",
       "      <td>81160</td>\n",
       "      <td>82947</td>\n",
       "      <td>85602</td>\n",
       "      <td>85121</td>\n",
       "      <td>81598</td>\n",
       "      <td>81274</td>\n",
       "      <td>83569</td>\n",
       "      <td>86489</td>\n",
       "      <td>89314</td>\n",
       "      <td>misdemeanor</td>\n",
       "    </tr>\n",
       "    <tr>\n",
       "      <th>5</th>\n",
       "      <td>assault3</td>\n",
       "      <td>50216</td>\n",
       "      <td>52716</td>\n",
       "      <td>50972</td>\n",
       "      <td>54495</td>\n",
       "      <td>53738</td>\n",
       "      <td>53847</td>\n",
       "      <td>42654</td>\n",
       "      <td>42422</td>\n",
       "      <td>41665</td>\n",
       "      <td>43126</td>\n",
       "      <td>42529</td>\n",
       "      <td>misdemeanor</td>\n",
       "    </tr>\n",
       "    <tr>\n",
       "      <th>6</th>\n",
       "      <td>dui</td>\n",
       "      <td>7700</td>\n",
       "      <td>6691</td>\n",
       "      <td>6027</td>\n",
       "      <td>6723</td>\n",
       "      <td>8238</td>\n",
       "      <td>7875</td>\n",
       "      <td>5933</td>\n",
       "      <td>5964</td>\n",
       "      <td>5652</td>\n",
       "      <td>4987</td>\n",
       "      <td>4369</td>\n",
       "      <td>misdemeanor</td>\n",
       "    </tr>\n",
       "    <tr>\n",
       "      <th>7</th>\n",
       "      <td>vehicle_and_traffic_laws</td>\n",
       "      <td>6178</td>\n",
       "      <td>6624</td>\n",
       "      <td>5802</td>\n",
       "      <td>5577</td>\n",
       "      <td>6106</td>\n",
       "      <td>5841</td>\n",
       "      <td>6266</td>\n",
       "      <td>6580</td>\n",
       "      <td>6457</td>\n",
       "      <td>6722</td>\n",
       "      <td>6777</td>\n",
       "      <td>misdemeanor</td>\n",
       "    </tr>\n",
       "    <tr>\n",
       "      <th>8</th>\n",
       "      <td>criminal_mischief</td>\n",
       "      <td>45770</td>\n",
       "      <td>44930</td>\n",
       "      <td>42995</td>\n",
       "      <td>41024</td>\n",
       "      <td>36765</td>\n",
       "      <td>38793</td>\n",
       "      <td>39606</td>\n",
       "      <td>38893</td>\n",
       "      <td>39289</td>\n",
       "      <td>36835</td>\n",
       "      <td>35876</td>\n",
       "      <td>misdemeanor</td>\n",
       "    </tr>\n",
       "    <tr>\n",
       "      <th>9</th>\n",
       "      <td>trespass</td>\n",
       "      <td>20904</td>\n",
       "      <td>19858</td>\n",
       "      <td>18297</td>\n",
       "      <td>15719</td>\n",
       "      <td>13459</td>\n",
       "      <td>14540</td>\n",
       "      <td>11473</td>\n",
       "      <td>9799</td>\n",
       "      <td>8218</td>\n",
       "      <td>6445</td>\n",
       "      <td>5405</td>\n",
       "      <td>misdemeanor</td>\n",
       "    </tr>\n",
       "    <tr>\n",
       "      <th>10</th>\n",
       "      <td>unauthorized_use_of_vehicle</td>\n",
       "      <td>1181</td>\n",
       "      <td>1274</td>\n",
       "      <td>1285</td>\n",
       "      <td>1416</td>\n",
       "      <td>1491</td>\n",
       "      <td>1704</td>\n",
       "      <td>1601</td>\n",
       "      <td>1809</td>\n",
       "      <td>1668</td>\n",
       "      <td>1640</td>\n",
       "      <td>1604</td>\n",
       "      <td>misdemeanor</td>\n",
       "    </tr>\n",
       "    <tr>\n",
       "      <th>11</th>\n",
       "      <td>offenses_against_person</td>\n",
       "      <td>1122</td>\n",
       "      <td>1205</td>\n",
       "      <td>1207</td>\n",
       "      <td>1248</td>\n",
       "      <td>1380</td>\n",
       "      <td>1334</td>\n",
       "      <td>1293</td>\n",
       "      <td>1225</td>\n",
       "      <td>1354</td>\n",
       "      <td>1150</td>\n",
       "      <td>1266</td>\n",
       "      <td>misdemeanor</td>\n",
       "    </tr>\n",
       "    <tr>\n",
       "      <th>12</th>\n",
       "      <td>offenses_against_public_administration</td>\n",
       "      <td>11217</td>\n",
       "      <td>11129</td>\n",
       "      <td>11067</td>\n",
       "      <td>10728</td>\n",
       "      <td>10687</td>\n",
       "      <td>10303</td>\n",
       "      <td>9405</td>\n",
       "      <td>8929</td>\n",
       "      <td>8021</td>\n",
       "      <td>7554</td>\n",
       "      <td>7640</td>\n",
       "      <td>misdemeanor</td>\n",
       "    </tr>\n",
       "    <tr>\n",
       "      <th>13</th>\n",
       "      <td>administrative_code</td>\n",
       "      <td>1010</td>\n",
       "      <td>975</td>\n",
       "      <td>982</td>\n",
       "      <td>1003</td>\n",
       "      <td>1019</td>\n",
       "      <td>1011</td>\n",
       "      <td>985</td>\n",
       "      <td>942</td>\n",
       "      <td>830</td>\n",
       "      <td>961</td>\n",
       "      <td>1045</td>\n",
       "      <td>misdemeanor</td>\n",
       "    </tr>\n",
       "    <tr>\n",
       "      <th>14</th>\n",
       "      <td>fraud</td>\n",
       "      <td>5155</td>\n",
       "      <td>5422</td>\n",
       "      <td>5180</td>\n",
       "      <td>5254</td>\n",
       "      <td>4936</td>\n",
       "      <td>5331</td>\n",
       "      <td>4788</td>\n",
       "      <td>4640</td>\n",
       "      <td>4017</td>\n",
       "      <td>3775</td>\n",
       "      <td>3180</td>\n",
       "      <td>misdemeanor</td>\n",
       "    </tr>\n",
       "    <tr>\n",
       "      <th>15</th>\n",
       "      <td>aggravated_harassment</td>\n",
       "      <td>30852</td>\n",
       "      <td>30037</td>\n",
       "      <td>27819</td>\n",
       "      <td>27240</td>\n",
       "      <td>26972</td>\n",
       "      <td>19725</td>\n",
       "      <td>20511</td>\n",
       "      <td>21328</td>\n",
       "      <td>20325</td>\n",
       "      <td>19375</td>\n",
       "      <td>18120</td>\n",
       "      <td>misdemeanor</td>\n",
       "    </tr>\n",
       "    <tr>\n",
       "      <th>16</th>\n",
       "      <td>other</td>\n",
       "      <td>30381</td>\n",
       "      <td>34133</td>\n",
       "      <td>33767</td>\n",
       "      <td>38814</td>\n",
       "      <td>40505</td>\n",
       "      <td>38230</td>\n",
       "      <td>46879</td>\n",
       "      <td>44253</td>\n",
       "      <td>35378</td>\n",
       "      <td>22707</td>\n",
       "      <td>19497</td>\n",
       "      <td>misdemeanor</td>\n",
       "    </tr>\n",
       "  </tbody>\n",
       "</table>\n",
       "</div>"
      ],
      "text/plain": [
       "                                   offense   2009   2010   2011   2012   2013  \\\n",
       "0                          stolen_property   2023   2240   2853   2662   2337   \n",
       "1                               sex_crimes   4459   4512   4632   4480   4064   \n",
       "2                                    drugs  79302  79908  80462  67898  55529   \n",
       "3                                  weapons   8367   8716   8601   7136   6522   \n",
       "4                            petit_larceny  80928  81522  81160  82947  85602   \n",
       "5                                 assault3  50216  52716  50972  54495  53738   \n",
       "6                                      dui   7700   6691   6027   6723   8238   \n",
       "7                 vehicle_and_traffic_laws   6178   6624   5802   5577   6106   \n",
       "8                        criminal_mischief  45770  44930  42995  41024  36765   \n",
       "9                                 trespass  20904  19858  18297  15719  13459   \n",
       "10             unauthorized_use_of_vehicle   1181   1274   1285   1416   1491   \n",
       "11                 offenses_against_person   1122   1205   1207   1248   1380   \n",
       "12  offenses_against_public_administration  11217  11129  11067  10728  10687   \n",
       "13                     administrative_code   1010    975    982   1003   1019   \n",
       "14                                   fraud   5155   5422   5180   5254   4936   \n",
       "15                   aggravated_harassment  30852  30037  27819  27240  26972   \n",
       "16                                   other  30381  34133  33767  38814  40505   \n",
       "\n",
       "     2014   2015   2016   2017   2018   2019       status  \n",
       "0    1469   1145    932    957    835    679  misdemeanor  \n",
       "1    4246   4555   4947   5424   5827   5805  misdemeanor  \n",
       "2   52835  38471  35982  33686  19943  10854  misdemeanor  \n",
       "3    6166   5685   5006   3844   3259   2078  misdemeanor  \n",
       "4   85121  81598  81274  83569  86489  89314  misdemeanor  \n",
       "5   53847  42654  42422  41665  43126  42529  misdemeanor  \n",
       "6    7875   5933   5964   5652   4987   4369  misdemeanor  \n",
       "7    5841   6266   6580   6457   6722   6777  misdemeanor  \n",
       "8   38793  39606  38893  39289  36835  35876  misdemeanor  \n",
       "9   14540  11473   9799   8218   6445   5405  misdemeanor  \n",
       "10   1704   1601   1809   1668   1640   1604  misdemeanor  \n",
       "11   1334   1293   1225   1354   1150   1266  misdemeanor  \n",
       "12  10303   9405   8929   8021   7554   7640  misdemeanor  \n",
       "13   1011    985    942    830    961   1045  misdemeanor  \n",
       "14   5331   4788   4640   4017   3775   3180  misdemeanor  \n",
       "15  19725  20511  21328  20325  19375  18120  misdemeanor  \n",
       "16  38230  46879  44253  35378  22707  19497  misdemeanor  "
      ]
     },
     "execution_count": 52,
     "metadata": {},
     "output_type": "execute_result"
    }
   ],
   "source": [
    "# Add column \"status\" (as a misdemeanor) for later\n",
    "misdemeanor['status'] = ['misdemeanor' for i in misdemeanor['offense']]\n",
    "\n",
    "misdemeanor"
   ]
  },
  {
   "cell_type": "markdown",
   "metadata": {},
   "source": [
    "##### Dataset #3.4:  Violation Offenses Data (2000-2020)\n",
    "\n",
    "---"
   ]
  },
  {
   "cell_type": "markdown",
   "metadata": {},
   "source": [
    "Fourth and last, we will be cleaning the Misdemeanor Offenses (2000-2020) dataset individually."
   ]
  },
  {
   "cell_type": "code",
   "execution_count": 53,
   "metadata": {},
   "outputs": [],
   "source": [
    "# Load the raw dataset\n",
    "violation_raw = pd.read_csv('violation-offenses-2000-2020.csv')"
   ]
  },
  {
   "cell_type": "markdown",
   "metadata": {},
   "source": [
    "Column names did not import properly (they imported as a row in the data), so we renamed the Columns and dropped that row along with NaN values."
   ]
  },
  {
   "cell_type": "code",
   "execution_count": 54,
   "metadata": {},
   "outputs": [],
   "source": [
    "# Column names did not import properly (they imported as a row in the data), so we renamed the Columns and dropped that row along with NaN values\n",
    "violation = violation_raw.copy().drop([0, 1])\n",
    "new_colnames_violation = [i for i in violation_raw.iloc[2]]\n",
    "violation.columns = new_colnames_violation\n",
    "violation = violation.drop([2])\n",
    "\n",
    "# Drop Statistical Notes and NaN values\n",
    "violation = violation.drop([6, 7, 8, 9, 10, 11, 12, 13, 14, 15])"
   ]
  },
  {
   "cell_type": "markdown",
   "metadata": {},
   "source": [
    "Columns from 2000-2008 (inclusive), and 2020 are not relevant to our analysis. Thus, we drop these columns."
   ]
  },
  {
   "cell_type": "code",
   "execution_count": 55,
   "metadata": {},
   "outputs": [],
   "source": [
    "# Drop Columns 2000 - 2009 and 2020\n",
    "violation = violation.drop([2000.0, 2001.0, 2002.0, 2003.0, 2004.0, 2005.0, 2006.0, 2007.0, 2008.0, 2020.0], axis=1)\n",
    "\n",
    "# Reset Indeces\n",
    "violation = violation.reset_index(drop=True)"
   ]
  },
  {
   "cell_type": "markdown",
   "metadata": {},
   "source": [
    "Reformat the dataset by renaming columns, casting all numerical entries as ints, and renaming the entries within the offenses column."
   ]
  },
  {
   "cell_type": "code",
   "execution_count": 56,
   "metadata": {},
   "outputs": [],
   "source": [
    "# Rename Columns\n",
    "violation = violation.rename(columns={\"OFFENSE\": \"offense\"})\n",
    "violation = violation.rename(columns={2009.0: 2009, 2010.0: 2010, 2011.0: 2011, 2012.0: 2012, 2013.0: 2013, 2014.0: 2014, 2015.0: 2015, 2016.0: 2016, 2017.0: 2017, 2018.0: 2018, 2019.0: 2019})\n",
    "\n",
    "# Make All Data Entries the Same Type (Int)\n",
    "violation[2009] = violation[2009].astype(int)\n",
    "violation[2010] = violation[2010].astype(int)\n",
    "violation[2011] = violation[2011].astype(int)\n",
    "violation[2012] = violation[2012].astype(int)\n",
    "violation[2013] = violation[2013].astype(int)\n",
    "violation[2014] = violation[2014].astype(int)\n",
    "violation[2015] = violation[2015].astype(int)\n",
    "violation[2016] = violation[2016].astype(int)\n",
    "violation[2017] = violation[2017].astype(int)\n",
    "violation[2018] = violation[2018].astype(int)\n",
    "violation[2019] = violation[2019].astype(int)\n",
    "\n",
    "# Make Offense Types Lowercase\n",
    "violation.loc[:, \"offense\"] = violation.loc[:, \"offense\"].str.lower()\n",
    "\n",
    "# Rename Offenses\n",
    "violation.loc[0, 'offense'] = 'harassment'\n",
    "violation.loc[1, 'offense'] = 'other'"
   ]
  },
  {
   "cell_type": "markdown",
   "metadata": {},
   "source": [
    "Drop the Totals row."
   ]
  },
  {
   "cell_type": "code",
   "execution_count": 57,
   "metadata": {},
   "outputs": [],
   "source": [
    "# Drop Totals Row \n",
    "violation = violation.drop([2])"
   ]
  },
  {
   "cell_type": "markdown",
   "metadata": {},
   "source": [
    "Finally, add a column to indicate the category of the offenses (Violation) for later reference in the final dataset."
   ]
  },
  {
   "cell_type": "code",
   "execution_count": 58,
   "metadata": {},
   "outputs": [
    {
     "data": {
      "text/html": [
       "<div>\n",
       "<style scoped>\n",
       "    .dataframe tbody tr th:only-of-type {\n",
       "        vertical-align: middle;\n",
       "    }\n",
       "\n",
       "    .dataframe tbody tr th {\n",
       "        vertical-align: top;\n",
       "    }\n",
       "\n",
       "    .dataframe thead th {\n",
       "        text-align: right;\n",
       "    }\n",
       "</style>\n",
       "<table border=\"1\" class=\"dataframe\">\n",
       "  <thead>\n",
       "    <tr style=\"text-align: right;\">\n",
       "      <th></th>\n",
       "      <th>offense</th>\n",
       "      <th>2009</th>\n",
       "      <th>2010</th>\n",
       "      <th>2011</th>\n",
       "      <th>2012</th>\n",
       "      <th>2013</th>\n",
       "      <th>2014</th>\n",
       "      <th>2015</th>\n",
       "      <th>2016</th>\n",
       "      <th>2017</th>\n",
       "      <th>2018</th>\n",
       "      <th>2019</th>\n",
       "      <th>status</th>\n",
       "    </tr>\n",
       "  </thead>\n",
       "  <tbody>\n",
       "    <tr>\n",
       "      <th>0</th>\n",
       "      <td>harassment</td>\n",
       "      <td>58600</td>\n",
       "      <td>57376</td>\n",
       "      <td>54216</td>\n",
       "      <td>57045</td>\n",
       "      <td>57654</td>\n",
       "      <td>61972</td>\n",
       "      <td>62121</td>\n",
       "      <td>65938</td>\n",
       "      <td>66522</td>\n",
       "      <td>70421</td>\n",
       "      <td>72031</td>\n",
       "      <td>violation</td>\n",
       "    </tr>\n",
       "    <tr>\n",
       "      <th>1</th>\n",
       "      <td>other</td>\n",
       "      <td>5094</td>\n",
       "      <td>4291</td>\n",
       "      <td>4582</td>\n",
       "      <td>4086</td>\n",
       "      <td>3383</td>\n",
       "      <td>3125</td>\n",
       "      <td>2213</td>\n",
       "      <td>1661</td>\n",
       "      <td>1532</td>\n",
       "      <td>1100</td>\n",
       "      <td>1446</td>\n",
       "      <td>violation</td>\n",
       "    </tr>\n",
       "  </tbody>\n",
       "</table>\n",
       "</div>"
      ],
      "text/plain": [
       "      offense   2009   2010   2011   2012   2013   2014   2015   2016   2017  \\\n",
       "0  harassment  58600  57376  54216  57045  57654  61972  62121  65938  66522   \n",
       "1       other   5094   4291   4582   4086   3383   3125   2213   1661   1532   \n",
       "\n",
       "    2018   2019     status  \n",
       "0  70421  72031  violation  \n",
       "1   1100   1446  violation  "
      ]
     },
     "execution_count": 58,
     "metadata": {},
     "output_type": "execute_result"
    }
   ],
   "source": [
    "# Add column \"status\" (as a violation) for later\n",
    "violation['status'] = ['violation' for i in violation['offense']]\n",
    "\n",
    "violation"
   ]
  },
  {
   "cell_type": "markdown",
   "metadata": {},
   "source": [
    "##### Combining all Crime for New York City\n",
    "___"
   ]
  },
  {
   "cell_type": "markdown",
   "metadata": {},
   "source": [
    "Finally, combine the Seven Major Felony Offenses (2000-2020) dataset and the Non-Seven Major Felony Offenses (2000-2020) dataset"
   ]
  },
  {
   "cell_type": "code",
   "execution_count": 59,
   "metadata": {},
   "outputs": [
    {
     "data": {
      "text/html": [
       "<div>\n",
       "<style scoped>\n",
       "    .dataframe tbody tr th:only-of-type {\n",
       "        vertical-align: middle;\n",
       "    }\n",
       "\n",
       "    .dataframe tbody tr th {\n",
       "        vertical-align: top;\n",
       "    }\n",
       "\n",
       "    .dataframe thead th {\n",
       "        text-align: right;\n",
       "    }\n",
       "</style>\n",
       "<table border=\"1\" class=\"dataframe\">\n",
       "  <thead>\n",
       "    <tr style=\"text-align: right;\">\n",
       "      <th></th>\n",
       "      <th>offense</th>\n",
       "      <th>2009</th>\n",
       "      <th>2010</th>\n",
       "      <th>2011</th>\n",
       "      <th>2012</th>\n",
       "      <th>2013</th>\n",
       "      <th>2014</th>\n",
       "      <th>2015</th>\n",
       "      <th>2016</th>\n",
       "      <th>2017</th>\n",
       "      <th>2018</th>\n",
       "      <th>2019</th>\n",
       "      <th>status</th>\n",
       "    </tr>\n",
       "  </thead>\n",
       "  <tbody>\n",
       "    <tr>\n",
       "      <th>0</th>\n",
       "      <td>murder</td>\n",
       "      <td>471</td>\n",
       "      <td>536</td>\n",
       "      <td>515</td>\n",
       "      <td>419</td>\n",
       "      <td>335</td>\n",
       "      <td>333</td>\n",
       "      <td>352</td>\n",
       "      <td>335</td>\n",
       "      <td>292</td>\n",
       "      <td>295</td>\n",
       "      <td>319</td>\n",
       "      <td>major_felony</td>\n",
       "    </tr>\n",
       "    <tr>\n",
       "      <th>1</th>\n",
       "      <td>rape</td>\n",
       "      <td>1205</td>\n",
       "      <td>1373</td>\n",
       "      <td>1420</td>\n",
       "      <td>1445</td>\n",
       "      <td>1378</td>\n",
       "      <td>1352</td>\n",
       "      <td>1438</td>\n",
       "      <td>1438</td>\n",
       "      <td>1449</td>\n",
       "      <td>1794</td>\n",
       "      <td>1755</td>\n",
       "      <td>major_felony</td>\n",
       "    </tr>\n",
       "    <tr>\n",
       "      <th>2</th>\n",
       "      <td>robbery</td>\n",
       "      <td>18601</td>\n",
       "      <td>19486</td>\n",
       "      <td>19717</td>\n",
       "      <td>20144</td>\n",
       "      <td>19128</td>\n",
       "      <td>16539</td>\n",
       "      <td>16931</td>\n",
       "      <td>15500</td>\n",
       "      <td>13956</td>\n",
       "      <td>12913</td>\n",
       "      <td>13371</td>\n",
       "      <td>major_felony</td>\n",
       "    </tr>\n",
       "    <tr>\n",
       "      <th>3</th>\n",
       "      <td>felony_assault</td>\n",
       "      <td>16773</td>\n",
       "      <td>16956</td>\n",
       "      <td>18482</td>\n",
       "      <td>19381</td>\n",
       "      <td>20297</td>\n",
       "      <td>20207</td>\n",
       "      <td>20270</td>\n",
       "      <td>20847</td>\n",
       "      <td>20052</td>\n",
       "      <td>20208</td>\n",
       "      <td>20698</td>\n",
       "      <td>major_felony</td>\n",
       "    </tr>\n",
       "    <tr>\n",
       "      <th>4</th>\n",
       "      <td>burglary</td>\n",
       "      <td>19430</td>\n",
       "      <td>18600</td>\n",
       "      <td>18720</td>\n",
       "      <td>19168</td>\n",
       "      <td>17429</td>\n",
       "      <td>16765</td>\n",
       "      <td>15125</td>\n",
       "      <td>12990</td>\n",
       "      <td>12083</td>\n",
       "      <td>11687</td>\n",
       "      <td>10783</td>\n",
       "      <td>major_felony</td>\n",
       "    </tr>\n",
       "  </tbody>\n",
       "</table>\n",
       "</div>"
      ],
      "text/plain": [
       "          offense   2009   2010   2011   2012   2013   2014   2015   2016  \\\n",
       "0          murder    471    536    515    419    335    333    352    335   \n",
       "1            rape   1205   1373   1420   1445   1378   1352   1438   1438   \n",
       "2         robbery  18601  19486  19717  20144  19128  16539  16931  15500   \n",
       "3  felony_assault  16773  16956  18482  19381  20297  20207  20270  20847   \n",
       "4        burglary  19430  18600  18720  19168  17429  16765  15125  12990   \n",
       "\n",
       "    2017   2018   2019        status  \n",
       "0    292    295    319  major_felony  \n",
       "1   1449   1794   1755  major_felony  \n",
       "2  13956  12913  13371  major_felony  \n",
       "3  20052  20208  20698  major_felony  \n",
       "4  12083  11687  10783  major_felony  "
      ]
     },
     "execution_count": 59,
     "metadata": {},
     "output_type": "execute_result"
    }
   ],
   "source": [
    "# Combine the four datasets\n",
    "\n",
    "crime_data = major_felony.copy().append(nonmajor_felony.copy(), ignore_index = True)\n",
    "crime_data = crime_data.append(misdemeanor.copy(), ignore_index = True)\n",
    "crime_data = crime_data.append(violation.copy(), ignore_index = True)\n",
    "\n",
    "crime_data.head()"
   ]
  },
  {
   "cell_type": "markdown",
   "metadata": {},
   "source": [
    "### (c) Data Description\n",
    "\n",
    "Description of each analysis-ready dataset."
   ]
  },
  {
   "cell_type": "markdown",
   "metadata": {},
   "source": [
    "#### Dataset #1: Stop, Question, and Frisk (2011)\n",
    "\n",
    "**Motivation**\n",
    "\n",
    "This dataset was created to document every police-civilian encounter that falls under the NYPD Stop, Question, and Frisk program. The New York City Police Department (NYPD) created the dataset for their records; it is also available for public use. The dataset was funded by the government via taxpayer dollars.\n",
    "\n",
    "**Composition**\n",
    "\n",
    "Each instance (row) of this dataset is a recorded stop of a civilian during 2011. After removing irrelevant columns of data, the dimensions of this dataset was 685,724 x 23. 2011 was the height of the Stop, Question, and Frisk program, which provides an explanation as to why this dataset is so large.\n",
    "\n",
    "Each column represents a different datum regarding the stop recorded for that row. We kept a total of 23 data points regarding a single stop. Those 23 points were about a suspect’s race, age, sex, if an arrest was made, how long they were observed for, how long they were stopped for, the borough the stop was made in, whether a weapon was found on them, if the officer used physical force, and whether a summons was issued to them.\n",
    "\n",
    "This dataset contains all possible instances of people who were stopped during the Stop, Question, and Frisk program. There is the chance that some stops were not recorded in this dataset for reasons outside of our control (ex: an officer did not report it), but if the dataset stays true to its original purpose, it should contain every instance of a stop during the Stop, Question, and Frisk program in 2011.\n",
    "\n",
    "Each instance (row) of this dataset is a recorded stop of a civilian during 2011. Each instance consists of information on the suspect’s race, age, sex, if an arrest was made, how long they were observed for, how long they were stopped for, the borough the stop was made in, whether a weapon was found on them, if the officer used physical force, and whether a summons was issued to them.\n",
    "\n",
    "Each row is assigned an index, starting from count 0. These indices can be used to identify each instance. \n",
    "\n",
    "There are null inputs for some columns but we can generally assume that null means none or no. For example, if no arrest was made, the input for an arrest offense may be null and in this case, null means there is no arrest offense. Relationships between individual instances are not made explicit. One column does record if another person(s) present at the scene of the encounter were also searched, but does not indicate the specific person(s), if any.\n",
    "\n",
    "There are no recommended data splits provided. There are no errors or redundancies in the dataset itself. In the raw dataset, there were definitely values that could be interpreted as redundant, but those were dealt with during the cleaning process. This dataset is self-contained. It does not link to external sources or other datasets.\n",
    "\n",
    "There does not seem to be any confidential data. In addition, for those who are arrested for possession of illegal items, it goes on their record which is a public record. There are no identifying markers of any instances.\n",
    "\n",
    "The dataset may cause some anxiety for those who have lived experience with the Stop, Question, and Frisk program, or those who have negative feelings regarding policing, etc. This dataset does relate to people. This dataset records those who are stopped by police on suspicion of possessing illegal firearms, knives, contraband, etc. It should not be possible to identify individuals from this data after our cleaning process.\n",
    "\n",
    "**Collection Process**\n",
    "\n",
    "The data was collected through the police reports written after a police stop of a civilian was made. This dataset relied on police officers to report and record instances to collect the data. The NYPD was involved in the data collection process. This data was collected in part for the Stop, Question, and Frisk Database that the NYPD maintains. The timeframe of thsi dataset was the year 2011. No ethical review processes were conducted to our knowledge. Each instance of this dataset represents a person.\n",
    "\n",
    "\n",
    "**Pre-Processing / Cleaning / Labeling**\n",
    "\n",
    "There was no pre-processing done to the data prior to our data cleaning. The steps of our processing / cleaning process are outlined above in Section (a).\n",
    "\n",
    "**Uses**\n",
    "\n",
    "We are unaware if this data has been used for any tasks already. This dataset could definitely be used for an in-depth analysis of the Stop, Question, and Frisk program as a whole, or an analysis of different NYPD-implemented policing programs. I am unaware of any tasks this data should not be used for; if the task is relevant to the Stop, Question, and Frisk Program, this dataset is definitely abundant enough to be used for it."
   ]
  },
  {
   "cell_type": "markdown",
   "metadata": {},
   "source": [
    "#### Dataset #2: Stop, Question, and Frisk (2019)\n",
    "\n",
    "**Motivation**\n",
    "\n",
    "The dataset was created to record the stops made under New York City Police Department’s Stop, Question, and Frisk program in 2019. The dataset was created by the NYPD. The dataset is funded by taxpayer dollars.\n",
    "\n",
    "**Composition**\n",
    "\n",
    "The instances that comprise the dataset represent every person that was stopped under the Stop, Question, and Frisk program. There are 13,460 instances, meaning 13,460 people were stopped in 2019. The dataset contains all instances of stops in the year 2019. Each instance consists of data on the person’s race, age, sex, if an arrest was made, how long they were observed for, how long they were stopped for, the borough the stop was made in, whether a weapon was found on them, if the officer used physical force, and whether a summons was issued to them. The label associated with each instance is the index of the row that represents that instance.\n",
    "There are null inputs for some columns but we can generally assume that null means none or no. For example, if no arrest was made, the input for an arrest offense may be null and in this case, null means there is no arrest offense. No, they are not made explicit. One of the observations for each instance is if another person was also stopped along with them but the data is either N for no or Y for yes. Therefore, we do not know exactly who the other person that was stopped is. There are no recommended data splits. There are no errors, sources of noise, or redundancies in the dataset. The dataset is self-contained. No, the dataset does not contain data that might be considered confidential. The dataset may cause some anxiety if the person viewing has had a similar experience to being subject to the stop and frisk program. Yes, the dataset contains data on the people who were stopped.\n",
    "The dataset does identify subpopulations by age, sex, and race. There are significantly more males who were stopped in 2019 than females. The most frequently stopped race was Black, with White being the second most stopped race. Asian/Pacific Islander was the least stopped race, excluding the null race category. The most frequently stopped age group was 20-30 year olds with 30-40 year olds as the second most stopped age group. It is not possible to identify individuals based on our cleaned dataset. The dataset contains data on racial origins.\n",
    "\n",
    "**Collection Process**\n",
    "\n",
    "The data associated with each instance was acquired by the officer who initiated the stop. Police reports were used to collect data. The NYPD was involved in the data collection process, compensated by taxpayer dollars. The data was collected from the start to end of 2019. To our knowledge, no ethical review processes were conducted. Yes, the dataset relates to people who were stopped.\n",
    "\n",
    "**Pre-Processing / Cleaning / Labeling**\n",
    "\n",
    "No cleaning, preprocessing, or labeling of the data was done.\n",
    "\n",
    "**Uses**\n",
    "\n",
    "To our knowledge, the dataset has not been used for any tasks already. The dataset could be used for further research into stop and frisk incidents in 2019 or could be compared to other years. There are no tasks for which the dataset should not be used. There is nothing about the composition of the dataset or the way it was collected and preprocessed that might impact future uses."
   ]
  },
  {
   "cell_type": "markdown",
   "metadata": {},
   "source": [
    "#### Dataset #3: Criminal Offense Data (2009-2019)\n",
    "\n",
    "**Motivation:**\n",
    "\n",
    "This dataset was created in order to aggregate the annual crime data in New York City, including felony, misdemeanor, and violation offenses from 2009 to 2019. \n",
    "\n",
    "This dataset was composed from four individual datasets created by the New York Police Department (NYPD) for the public. The four original datasets consisted of data regarding the Seven Major Felony Offenses, Non Major Felony Offenses, Misdemeanor Offenses, and Violation Offenses. \n",
    "\n",
    "The creation of the four individual datasets were funded by the government via taxpayer dollars allocated to the NYPD.\n",
    "\n",
    "**Composition:**\n",
    "\n",
    "The instances that comprise the dataset represent the aggregate counts of each type of criminal offense within the categories of Major Felonies, Nonmajor Felonies, Misdemeanors, and Violations reported in NYC by the NYPD by year (2009-2019). There are 374 instances in total in the dataset, indexed by type of offense and year of occurrence. Under each year, there are entries consistent with 34 types of offenses, each of which are considered either a Major Felony, Nonmajor Felony, Misdemeanor, or Violation Offense under New York state and/or Federal Law. For each type of offense, there are 11 entries, one for each year from 2009 to 2019. The dataset is not a sample and contains all possible instances. However, the four datasets from which this one was composed were likely created by aggregating data on each individual criminal offense reported by the NYPD in the relevant time period. Each instance in the dataset consists of an aggregated count for each type of criminal offense reported by the NYPD by year (2009-2019). Each instance is labeled by type of criminal offense, category of offense (Major Felony, Nonmajor Felony, Misdemeanor, or Violation) and year. No information is missing from individual instances. Each instance of data includes the necessary information and context. However, each instance is merely the count per type of criminal offense per year, not the individual instances of crime themselves. The relationship between individual instances is made explicit. The count of each type of criminal offense can be compared across years (2000-2020). Likewise, the count of each type of criminal offense can be compared within each year.\n",
    "\n",
    "There are no recommended data splits. There are no errors, sources of noise, or redundancies in the dataset. This dataset is concise and clean. The dataset is not self-contained. The dataset was created by combining four other datasets, each of which linked to external datasets as sources of information.\n",
    "\n",
    "The dataset does not contain data that might be considered confidential. All the information in the dataset is public NYPD data. The dataset does not contain data that would likely be perceived as offensive, insulting, threatening, or anxiety-inducing if viewed directly. However, given that the data pertains to violent crimes, one could possibly have an emotional response to the data, though it is unlikely. The dataset does not relate to people.\n",
    "\n",
    "**Collection Process**\n",
    "\n",
    "The data associated with each instance is not directly observable, as it was acquired by aggregating data collected from external datasets. The four dataset used to compose this one were produced by the NYPD from their own reporting, so the data was likely validated internally. The data was collected by aggregating individual instances of criminal offenses collected by manual human curation via NYPD reports. The police officers who collected this data did so as part of the crime-reporting operations and public disclosure. These officials of the NYPD were likely compensated in their capacity as a state employee. The data was collected over the course of roughly a decade, 2009-2019.\n",
    "\n",
    "No ethical review processes were conducted as the data collected is the direct byproduct of NYPD operations. The dataset does not relate to people, as each instance of criminal activity is merely one point in an aggregate count and is removed from any individually identifying factors.\n",
    "\n",
    "**Pre-Processing / Cleaning / Labeling**\n",
    "\n",
    "The four datasets used to create the final dataset were likely pre-processed by the NYPD to produce such clean data. Even still, in the process of combining the four datasets, each one had to first be cleaned to eliminate data from years that do not pertain to the timeline of interest within the guiding research question. The four datasets also had to be cleaned to be properly formatted, which included renaming the columns, removing missing values, renaming the offense types, and casting all numbers as ints. Finally, a column was added to indicate the category of offense (Major Felony, Nonmajor Felony, Misdemeanor, or Violation) for reference in the final dataset.\n",
    "\n",
    "The raw data was saved both in the original file formats and as DataFrames (major_felony_raw, nonmajor_felony_raw, misdemeanor_raw, and violation_raw). The dataset was cleaned using Python within a Jupyter Lab Notebook. \n",
    "\n",
    "\n",
    "**Uses**\n",
    "\n",
    "This dataset has not been used for any tasks already. However, the four datasets from which it was composed may have been used for other purposes, though the website in which these datasets were found (ny.gov) does not provide any information regarding any prior use. The dataset could possibly be used for other analyses that pertain to the changes in felony crimes rates in NYC over the last decade. \n",
    "\n",
    "Unfortunately, the provider of the four datasets used to create this one (the NYPD) does not specifically detail their process of collecting and preprocessing the data, so we cannot infer how future users may be impacted by their decisions. In the process of cleaning the final dataset, certain offense types were renamed for ease and consistency. While minimal context was lost, future users would benefit from examining the four datasets from which the final was composed in order to see the offense types as listed by the NYPD."
   ]
  },
  {
   "cell_type": "markdown",
   "metadata": {},
   "source": [
    "### (d) Data Limitations"
   ]
  },
  {
   "cell_type": "markdown",
   "metadata": {},
   "source": [
    "Write answers here..."
   ]
  },
  {
   "cell_type": "markdown",
   "metadata": {},
   "source": [
    "### (e) Exploratory Data Analysis"
   ]
  },
  {
   "cell_type": "markdown",
   "metadata": {},
   "source": [
    "#### Dataset #1: Stop, Question, and Frisk (2011)\n",
    "\n",
    "---"
   ]
  },
  {
   "cell_type": "markdown",
   "metadata": {},
   "source": [
    "First, I am reloading the finalized Stop, Question, and Frisk 2011 dataset to get a visual of its contents."
   ]
  },
  {
   "cell_type": "code",
   "execution_count": 60,
   "metadata": {},
   "outputs": [
    {
     "data": {
      "text/html": [
       "<div>\n",
       "<style scoped>\n",
       "    .dataframe tbody tr th:only-of-type {\n",
       "        vertical-align: middle;\n",
       "    }\n",
       "\n",
       "    .dataframe tbody tr th {\n",
       "        vertical-align: top;\n",
       "    }\n",
       "\n",
       "    .dataframe thead th {\n",
       "        text-align: right;\n",
       "    }\n",
       "</style>\n",
       "<table border=\"1\" class=\"dataframe\">\n",
       "  <thead>\n",
       "    <tr style=\"text-align: right;\">\n",
       "      <th></th>\n",
       "      <th>year</th>\n",
       "      <th>date</th>\n",
       "      <th>time</th>\n",
       "      <th>obs_duration</th>\n",
       "      <th>stop_duration</th>\n",
       "      <th>off_explain</th>\n",
       "      <th>other_stop</th>\n",
       "      <th>arstmade</th>\n",
       "      <th>arstoffn</th>\n",
       "      <th>sumissue</th>\n",
       "      <th>frisked</th>\n",
       "      <th>searched</th>\n",
       "      <th>contraband</th>\n",
       "      <th>knife</th>\n",
       "      <th>other_weapon</th>\n",
       "      <th>sex</th>\n",
       "      <th>race</th>\n",
       "      <th>age</th>\n",
       "      <th>boro</th>\n",
       "      <th>crime_sus</th>\n",
       "      <th>firearm</th>\n",
       "      <th>pt_draw_force</th>\n",
       "      <th>phys_force</th>\n",
       "    </tr>\n",
       "  </thead>\n",
       "  <tbody>\n",
       "    <tr>\n",
       "      <th>0</th>\n",
       "      <td>2011</td>\n",
       "      <td>2011-10-20</td>\n",
       "      <td>13:10:00</td>\n",
       "      <td>1</td>\n",
       "      <td>5</td>\n",
       "      <td>True</td>\n",
       "      <td>True</td>\n",
       "      <td>False</td>\n",
       "      <td></td>\n",
       "      <td>False</td>\n",
       "      <td>False</td>\n",
       "      <td>False</td>\n",
       "      <td>False</td>\n",
       "      <td>False</td>\n",
       "      <td>False</td>\n",
       "      <td>MALE</td>\n",
       "      <td>WHITE HISPANIC</td>\n",
       "      <td>22</td>\n",
       "      <td>MANHATTAN</td>\n",
       "      <td>20</td>\n",
       "      <td>False</td>\n",
       "      <td>False</td>\n",
       "      <td>False</td>\n",
       "    </tr>\n",
       "    <tr>\n",
       "      <th>1</th>\n",
       "      <td>2011</td>\n",
       "      <td>2011-12-22</td>\n",
       "      <td>14:00:00</td>\n",
       "      <td>0</td>\n",
       "      <td>10</td>\n",
       "      <td>True</td>\n",
       "      <td>True</td>\n",
       "      <td>False</td>\n",
       "      <td></td>\n",
       "      <td>False</td>\n",
       "      <td>True</td>\n",
       "      <td>False</td>\n",
       "      <td>False</td>\n",
       "      <td>False</td>\n",
       "      <td>False</td>\n",
       "      <td>MALE</td>\n",
       "      <td>BLACK</td>\n",
       "      <td>18</td>\n",
       "      <td>BRONX</td>\n",
       "      <td>20</td>\n",
       "      <td>False</td>\n",
       "      <td>False</td>\n",
       "      <td>False</td>\n",
       "    </tr>\n",
       "    <tr>\n",
       "      <th>2</th>\n",
       "      <td>2011</td>\n",
       "      <td>2011-06-22</td>\n",
       "      <td>01:00:00</td>\n",
       "      <td>2</td>\n",
       "      <td>10</td>\n",
       "      <td>True</td>\n",
       "      <td>False</td>\n",
       "      <td>False</td>\n",
       "      <td></td>\n",
       "      <td>False</td>\n",
       "      <td>True</td>\n",
       "      <td>False</td>\n",
       "      <td>False</td>\n",
       "      <td>False</td>\n",
       "      <td>False</td>\n",
       "      <td>MALE</td>\n",
       "      <td>BLACK HISPANIC</td>\n",
       "      <td>19</td>\n",
       "      <td>QUEENS</td>\n",
       "      <td>85</td>\n",
       "      <td>False</td>\n",
       "      <td>False</td>\n",
       "      <td>True</td>\n",
       "    </tr>\n",
       "    <tr>\n",
       "      <th>3</th>\n",
       "      <td>2011</td>\n",
       "      <td>2011-01-05</td>\n",
       "      <td>20:20:00</td>\n",
       "      <td>1</td>\n",
       "      <td>5</td>\n",
       "      <td>True</td>\n",
       "      <td>False</td>\n",
       "      <td>False</td>\n",
       "      <td></td>\n",
       "      <td>False</td>\n",
       "      <td>False</td>\n",
       "      <td>False</td>\n",
       "      <td>False</td>\n",
       "      <td>False</td>\n",
       "      <td>False</td>\n",
       "      <td>MALE</td>\n",
       "      <td>BLACK</td>\n",
       "      <td>39</td>\n",
       "      <td>BROOKLYN</td>\n",
       "      <td>31</td>\n",
       "      <td>False</td>\n",
       "      <td>False</td>\n",
       "      <td>False</td>\n",
       "    </tr>\n",
       "    <tr>\n",
       "      <th>4</th>\n",
       "      <td>2011</td>\n",
       "      <td>2011-06-11</td>\n",
       "      <td>21:50:00</td>\n",
       "      <td>1</td>\n",
       "      <td>10</td>\n",
       "      <td>True</td>\n",
       "      <td>True</td>\n",
       "      <td>False</td>\n",
       "      <td></td>\n",
       "      <td>True</td>\n",
       "      <td>True</td>\n",
       "      <td>False</td>\n",
       "      <td>False</td>\n",
       "      <td>False</td>\n",
       "      <td>False</td>\n",
       "      <td>MALE</td>\n",
       "      <td>WHITE HISPANIC</td>\n",
       "      <td>21</td>\n",
       "      <td>BRONX</td>\n",
       "      <td>27</td>\n",
       "      <td>False</td>\n",
       "      <td>False</td>\n",
       "      <td>True</td>\n",
       "    </tr>\n",
       "  </tbody>\n",
       "</table>\n",
       "</div>"
      ],
      "text/plain": [
       "   year       date      time  obs_duration  stop_duration  off_explain  \\\n",
       "0  2011 2011-10-20  13:10:00             1              5         True   \n",
       "1  2011 2011-12-22  14:00:00             0             10         True   \n",
       "2  2011 2011-06-22  01:00:00             2             10         True   \n",
       "3  2011 2011-01-05  20:20:00             1              5         True   \n",
       "4  2011 2011-06-11  21:50:00             1             10         True   \n",
       "\n",
       "   other_stop  arstmade arstoffn  sumissue  frisked  searched  contraband  \\\n",
       "0        True     False              False    False     False       False   \n",
       "1        True     False              False     True     False       False   \n",
       "2       False     False              False     True     False       False   \n",
       "3       False     False              False    False     False       False   \n",
       "4        True     False               True     True     False       False   \n",
       "\n",
       "   knife  other_weapon   sex            race  age       boro  crime_sus  \\\n",
       "0  False         False  MALE  WHITE HISPANIC   22  MANHATTAN         20   \n",
       "1  False         False  MALE           BLACK   18      BRONX         20   \n",
       "2  False         False  MALE  BLACK HISPANIC   19     QUEENS         85   \n",
       "3  False         False  MALE           BLACK   39   BROOKLYN         31   \n",
       "4  False         False  MALE  WHITE HISPANIC   21      BRONX         27   \n",
       "\n",
       "   firearm  pt_draw_force  phys_force  \n",
       "0    False          False       False  \n",
       "1    False          False       False  \n",
       "2    False          False        True  \n",
       "3    False          False       False  \n",
       "4    False          False        True  "
      ]
     },
     "execution_count": 60,
     "metadata": {},
     "output_type": "execute_result"
    }
   ],
   "source": [
    "sqf2011_final.head()"
   ]
  },
  {
   "cell_type": "markdown",
   "metadata": {},
   "source": [
    "For the continuous variables in this dataset, we used the describe() method to get descriptive statistics. These descriptive statistics include count, mean, standard deviation, minimum, 25th percentile, 50th percentile, 75th percentile, and the maximum value."
   ]
  },
  {
   "cell_type": "code",
   "execution_count": 61,
   "metadata": {},
   "outputs": [
    {
     "data": {
      "text/html": [
       "<div>\n",
       "<style scoped>\n",
       "    .dataframe tbody tr th:only-of-type {\n",
       "        vertical-align: middle;\n",
       "    }\n",
       "\n",
       "    .dataframe tbody tr th {\n",
       "        vertical-align: top;\n",
       "    }\n",
       "\n",
       "    .dataframe thead th {\n",
       "        text-align: right;\n",
       "    }\n",
       "</style>\n",
       "<table border=\"1\" class=\"dataframe\">\n",
       "  <thead>\n",
       "    <tr style=\"text-align: right;\">\n",
       "      <th></th>\n",
       "      <th>obs_duration</th>\n",
       "      <th>stop_duration</th>\n",
       "      <th>age</th>\n",
       "    </tr>\n",
       "  </thead>\n",
       "  <tbody>\n",
       "    <tr>\n",
       "      <th>count</th>\n",
       "      <td>68163.000000</td>\n",
       "      <td>68163.000000</td>\n",
       "      <td>68163.000000</td>\n",
       "    </tr>\n",
       "    <tr>\n",
       "      <th>mean</th>\n",
       "      <td>2.355824</td>\n",
       "      <td>5.427651</td>\n",
       "      <td>27.934803</td>\n",
       "    </tr>\n",
       "    <tr>\n",
       "      <th>std</th>\n",
       "      <td>3.765207</td>\n",
       "      <td>5.554225</td>\n",
       "      <td>11.760238</td>\n",
       "    </tr>\n",
       "    <tr>\n",
       "      <th>min</th>\n",
       "      <td>0.000000</td>\n",
       "      <td>0.000000</td>\n",
       "      <td>13.000000</td>\n",
       "    </tr>\n",
       "    <tr>\n",
       "      <th>25%</th>\n",
       "      <td>1.000000</td>\n",
       "      <td>3.000000</td>\n",
       "      <td>19.000000</td>\n",
       "    </tr>\n",
       "    <tr>\n",
       "      <th>50%</th>\n",
       "      <td>1.000000</td>\n",
       "      <td>5.000000</td>\n",
       "      <td>24.000000</td>\n",
       "    </tr>\n",
       "    <tr>\n",
       "      <th>75%</th>\n",
       "      <td>2.000000</td>\n",
       "      <td>5.000000</td>\n",
       "      <td>34.000000</td>\n",
       "    </tr>\n",
       "    <tr>\n",
       "      <th>max</th>\n",
       "      <td>340.000000</td>\n",
       "      <td>774.000000</td>\n",
       "      <td>100.000000</td>\n",
       "    </tr>\n",
       "  </tbody>\n",
       "</table>\n",
       "</div>"
      ],
      "text/plain": [
       "       obs_duration  stop_duration           age\n",
       "count  68163.000000   68163.000000  68163.000000\n",
       "mean       2.355824       5.427651     27.934803\n",
       "std        3.765207       5.554225     11.760238\n",
       "min        0.000000       0.000000     13.000000\n",
       "25%        1.000000       3.000000     19.000000\n",
       "50%        1.000000       5.000000     24.000000\n",
       "75%        2.000000       5.000000     34.000000\n",
       "max      340.000000     774.000000    100.000000"
      ]
     },
     "execution_count": 61,
     "metadata": {},
     "output_type": "execute_result"
    }
   ],
   "source": [
    "sqf2011_describe = sqf2011_final.describe().drop(labels = ['year', 'crime_sus'], axis = 1)\n",
    "sqf2011_describe"
   ]
  },
  {
   "cell_type": "markdown",
   "metadata": {},
   "source": [
    "The descriptive statistics we've calculated for observation duration (obs_duration), stop duration (stop_duration), and age (age) shed some light on the sample we are working with and the nature of the stops present in this sample:"
   ]
  },
  {
   "cell_type": "code",
   "execution_count": 62,
   "metadata": {},
   "outputs": [
    {
     "name": "stdout",
     "output_type": "stream",
     "text": [
      "The average duration that a police officer observes a suspect before stopping them is 2.356 minutes, with a standard deviation of 3.765 minutes.\n",
      "The average stop lasts 5.428 minutes, with a standard deviation of 5.554 minutes.\n",
      "The average age of people who were stopped is 28, with a standard deviation of 11.760.\n"
     ]
    }
   ],
   "source": [
    "obs_avg_2011 = \"The average duration that a police officer observes a suspect before stopping them is {:.3f} minutes, with a standard deviation of {:.3f} minutes.\".format(sqf2011_describe.loc[\"mean\", \"obs_duration\"], sqf2011_describe.loc[\"std\", \"obs_duration\"])\n",
    "\n",
    "stop_avg_2011 = \"The average stop lasts {:.3f} minutes, with a standard deviation of {:.3f} minutes.\".format(sqf2011_describe.loc[\"mean\", \"stop_duration\"], sqf2011_describe.loc[\"std\", \"stop_duration\"])\n",
    "\n",
    "age = \"The average age of people who were stopped is {:.0f}, with a standard deviation of {:.3f}.\".format(sqf2011_describe.loc[\"mean\", \"age\"], sqf2011_describe.loc[\"std\", \"age\"])\n",
    "\n",
    "print(obs_avg_2011)\n",
    "print(stop_avg_2011)\n",
    "print(age)\n"
   ]
  },
  {
   "cell_type": "code",
   "execution_count": 63,
   "metadata": {},
   "outputs": [
    {
     "data": {
      "image/png": "[encoded data removed]",
      "text/plain": [
       "<Figure size 1080x432 with 1 Axes>"
      ]
     },
     "metadata": {
      "needs_background": "light"
     },
     "output_type": "display_data"
    }
   ],
   "source": [
    "plt.figure(figsize=(15,6))\n",
    "plt.hist(sqf2011_final['age'])\n",
    "plt.xlabel('Age')\n",
    "plt.ylabel('Count')\n",
    "plt.title('Number of Stops per Age Group in Stop, Question, and Frisk Sample (2011)')\n",
    "plt.show()"
   ]
  },
  {
   "cell_type": "markdown",
   "metadata": {},
   "source": [
    "Based on this histogram of the ages of people stopped in 2011, it seems that most of the stops in our sample occurred between ages 15 and 80. There seem to be some outliers of people stopped who were around age 100."
   ]
  },
  {
   "cell_type": "code",
   "execution_count": 64,
   "metadata": {},
   "outputs": [
    {
     "data": {
      "image/png": "[encoded data removed]",
      "text/plain": [
       "<Figure size 1080x432 with 1 Axes>"
      ]
     },
     "metadata": {
      "needs_background": "light"
     },
     "output_type": "display_data"
    }
   ],
   "source": [
    "plt.figure(figsize=(15,6))\n",
    "plt.scatter(sqf2011_final['age'], sqf2011_final['stop_duration'], alpha = 0.3)\n",
    "plt.xlabel('Age')\n",
    "plt.ylabel('Stop Duration')\n",
    "plt.title('Scatterplot of Stop Duration by Age in Stop, Question, and Frisk Sample (2011)')\n",
    "plt.show()\n"
   ]
  },
  {
   "cell_type": "markdown",
   "metadata": {},
   "source": [
    "This scatterplot indicates a trend in the length of stop duration. The concentration of data points below 200 minutes suggest that most of the stops do not last more than ~150 minutes regardless of age. However, there are some outliers that seem to last hours that occur more with younger suspects than older suspects."
   ]
  },
  {
   "cell_type": "code",
   "execution_count": 65,
   "metadata": {},
   "outputs": [
    {
     "data": {
      "image/png": "[encoded data removed]",
      "text/plain": [
       "<Figure size 1440x576 with 1 Axes>"
      ]
     },
     "metadata": {
      "needs_background": "light"
     },
     "output_type": "display_data"
    }
   ],
   "source": [
    "plt.figure(figsize=(20, 8))\n",
    "plt.hist(sqf2011_final['race'],histtype='bar')\n",
    "plt.xlabel('Race')\n",
    "plt.ylabel('Count')\n",
    "plt.title('Histogram of Race in Stop, Question, and Frisk Sample (2011)')\n",
    "plt.xticks(rotation=50)\n",
    "plt.show()"
   ]
  },
  {
   "cell_type": "markdown",
   "metadata": {},
   "source": [
    "This bar chart of frequency by race shows that Black people were stopped the most in 2011 and American Indian/Alaskan Native were stopped the least. One thing that would be interesting to explore based on this distribution is what the demographics in New York City looked like during this year. Perhaps Black stops look more prevalent because there was a greater proportion of Black residents in New York City. With American Indian/Alaskan Natives, perhaps they look like they were stopped the least because there is simply less American Indian/Alaskan Natives living in New York City. For future analysis, it will definitely be necessary to identify if these different proportions were due to chance, or were statistically significant."
   ]
  },
  {
   "cell_type": "code",
   "execution_count": 66,
   "metadata": {},
   "outputs": [
    {
     "data": {
      "image/png": "[encoded data removed]",
      "text/plain": [
       "<Figure size 1440x576 with 1 Axes>"
      ]
     },
     "metadata": {
      "needs_background": "light"
     },
     "output_type": "display_data"
    }
   ],
   "source": [
    "sqf2011_final.boxplot(column=['stop_duration'], by= ['race'], figsize=(20,8))\n",
    "plt.xlabel('Race')\n",
    "plt.ylabel('Stop Duration')\n",
    "plt.title('Boxplot of Stop Duration Grouped by Race in Stop, Question, and Frisk Sample (2011)')\n",
    "plt.show()"
   ]
  },
  {
   "cell_type": "markdown",
   "metadata": {},
   "source": [
    "Because of the abundance of outliers present in this sample, it is hard to get a good look at the boxplots; they are very smushed. Let's zoom in so we can see the boxplots themselves:"
   ]
  },
  {
   "cell_type": "code",
   "execution_count": 67,
   "metadata": {},
   "outputs": [
    {
     "data": {
      "image/png": "[encoded data removed]",
      "text/plain": [
       "<Figure size 1440x576 with 1 Axes>"
      ]
     },
     "metadata": {
      "needs_background": "light"
     },
     "output_type": "display_data"
    }
   ],
   "source": [
    "boxplot_zoomIn_race_stop = sqf2011_final.sort_values(by = 'stop_duration', ascending = False)\n",
    "\n",
    "boxplot_zoomIn_race_stop.loc[boxplot_zoomIn_race_stop['stop_duration'] < 20].boxplot(column=['stop_duration'], by= ['race'], figsize=(20,8))\n",
    "plt.xlabel('Race')\n",
    "plt.ylabel('Stop Duration')\n",
    "plt.title('Boxplot of Stop Duration Grouped by Race in Stop, Question, and Frisk Sample (2011)')\n",
    "plt.show()"
   ]
  },
  {
   "cell_type": "markdown",
   "metadata": {},
   "source": [
    "What is interesting about the boxplots is that the median stop duration is the same across race. The 25th and 75th percentiles vary across race. What is interesting to not is that for many race categories, the 75th percentile is equal to the median. This is probably because of the abundance of outliers in the sample."
   ]
  },
  {
   "cell_type": "code",
   "execution_count": 68,
   "metadata": {},
   "outputs": [
    {
     "data": {
      "image/png": "[encoded data removed]",
      "text/plain": [
       "<Figure size 1440x432 with 1 Axes>"
      ]
     },
     "metadata": {
      "needs_background": "light"
     },
     "output_type": "display_data"
    }
   ],
   "source": [
    "plt.figure(figsize=(20, 6))\n",
    "plt.hist(sqf2011_final['sex'])\n",
    "plt.xlabel('Sex')\n",
    "plt.ylabel('Count')\n",
    "plt.title('Histogram of Sex in Stop, Question, and Frisk Sample (2011)')\n",
    "plt.show()"
   ]
  },
  {
   "cell_type": "markdown",
   "metadata": {},
   "source": [
    "There are many more males than females present in this sample."
   ]
  },
  {
   "cell_type": "code",
   "execution_count": 69,
   "metadata": {},
   "outputs": [
    {
     "data": {
      "image/png": "[encoded data removed]",
      "text/plain": [
       "<Figure size 1440x576 with 1 Axes>"
      ]
     },
     "metadata": {
      "needs_background": "light"
     },
     "output_type": "display_data"
    }
   ],
   "source": [
    "sqf2011_final.boxplot(column=['stop_duration'], by= ['sex'], figsize=(20,8))\n",
    "plt.xlabel('Sex')\n",
    "plt.ylabel('Stop Duration')\n",
    "plt.title('Boxplot of Stop Duration Grouped by Sex in Stop, Question, and Frisk Sample (2011)')\n",
    "plt.show()"
   ]
  },
  {
   "cell_type": "markdown",
   "metadata": {},
   "source": [
    "Again, it is hard to see the boxplots of stop duration grouped by sex. Let's zoom in again:"
   ]
  },
  {
   "cell_type": "code",
   "execution_count": 70,
   "metadata": {},
   "outputs": [
    {
     "data": {
      "image/png": "[encoded data removed]",
      "text/plain": [
       "<Figure size 1440x576 with 1 Axes>"
      ]
     },
     "metadata": {
      "needs_background": "light"
     },
     "output_type": "display_data"
    }
   ],
   "source": [
    "boxplot_zoomIn_sex_stop = sqf2011_final.sort_values(by = 'stop_duration', ascending = False)\n",
    "\n",
    "boxplot_zoomIn_sex_stop.loc[boxplot_zoomIn_sex_stop['stop_duration'] < 20].boxplot(column=['stop_duration'], by= ['sex'], figsize=(20,8))\n",
    "plt.xlabel('Sex')\n",
    "plt.ylabel('Stop Duration')\n",
    "plt.title('Boxplot of Stop Duration Grouped by Sex in Stop, Question, and Frisk Sample (2011)')\n",
    "plt.show()"
   ]
  },
  {
   "cell_type": "markdown",
   "metadata": {},
   "source": [
    "The IQR looks to be about the same across sex, meaning the median stop duration, the 25th percentile stop duration, and the 75th stop duration across sex is roughly the same."
   ]
  },
  {
   "cell_type": "markdown",
   "metadata": {},
   "source": [
    "Further analysis is needed, but these visuals of the Stop, Question, and Frisk (2011) dataset gives us a good idea what we are working with."
   ]
  },
  {
   "cell_type": "markdown",
   "metadata": {},
   "source": [
    "#### Dataset #2: Stop, Question, and Frisk (2019)\n",
    "\n",
    "---"
   ]
  },
  {
   "cell_type": "markdown",
   "metadata": {},
   "source": [
    "First, I am reloading the finalized Stop, Question, and Frisk 2019 dataset to get a visual of its contents."
   ]
  },
  {
   "cell_type": "code",
   "execution_count": 71,
   "metadata": {},
   "outputs": [
    {
     "data": {
      "text/html": [
       "<div>\n",
       "<style scoped>\n",
       "    .dataframe tbody tr th:only-of-type {\n",
       "        vertical-align: middle;\n",
       "    }\n",
       "\n",
       "    .dataframe tbody tr th {\n",
       "        vertical-align: top;\n",
       "    }\n",
       "\n",
       "    .dataframe thead th {\n",
       "        text-align: right;\n",
       "    }\n",
       "</style>\n",
       "<table border=\"1\" class=\"dataframe\">\n",
       "  <thead>\n",
       "    <tr style=\"text-align: right;\">\n",
       "      <th></th>\n",
       "      <th>date</th>\n",
       "      <th>time</th>\n",
       "      <th>year</th>\n",
       "      <th>obs_duration</th>\n",
       "      <th>crime_sus</th>\n",
       "      <th>stop_duration</th>\n",
       "      <th>off_explain</th>\n",
       "      <th>other_stop</th>\n",
       "      <th>arstmade</th>\n",
       "      <th>arstoffn</th>\n",
       "      <th>sumissue</th>\n",
       "      <th>frisked</th>\n",
       "      <th>searched</th>\n",
       "      <th>contraband</th>\n",
       "      <th>firearm</th>\n",
       "      <th>knife</th>\n",
       "      <th>age</th>\n",
       "      <th>sex</th>\n",
       "      <th>race</th>\n",
       "      <th>boro</th>\n",
       "      <th>other_weapon</th>\n",
       "      <th>phys_force</th>\n",
       "      <th>pt_draw_force</th>\n",
       "    </tr>\n",
       "  </thead>\n",
       "  <tbody>\n",
       "    <tr>\n",
       "      <th>0</th>\n",
       "      <td>2019-04-15</td>\n",
       "      <td>17:46:00</td>\n",
       "      <td>2019</td>\n",
       "      <td>1</td>\n",
       "      <td>ASSAULT</td>\n",
       "      <td>5</td>\n",
       "      <td>True</td>\n",
       "      <td>True</td>\n",
       "      <td>False</td>\n",
       "      <td></td>\n",
       "      <td>False</td>\n",
       "      <td>False</td>\n",
       "      <td>False</td>\n",
       "      <td>False</td>\n",
       "      <td>False</td>\n",
       "      <td>False</td>\n",
       "      <td>52</td>\n",
       "      <td>FEMALE</td>\n",
       "      <td>BLACK</td>\n",
       "      <td>MANHATTAN</td>\n",
       "      <td>False</td>\n",
       "      <td>True</td>\n",
       "      <td>False</td>\n",
       "    </tr>\n",
       "    <tr>\n",
       "      <th>1</th>\n",
       "      <td>2019-06-01</td>\n",
       "      <td>10:10:00</td>\n",
       "      <td>2019</td>\n",
       "      <td>2</td>\n",
       "      <td>CPW</td>\n",
       "      <td>20</td>\n",
       "      <td>True</td>\n",
       "      <td>True</td>\n",
       "      <td>False</td>\n",
       "      <td></td>\n",
       "      <td>False</td>\n",
       "      <td>True</td>\n",
       "      <td>False</td>\n",
       "      <td>False</td>\n",
       "      <td>False</td>\n",
       "      <td>False</td>\n",
       "      <td>25</td>\n",
       "      <td>MALE</td>\n",
       "      <td>BLACK</td>\n",
       "      <td>BROOKLYN</td>\n",
       "      <td>False</td>\n",
       "      <td>True</td>\n",
       "      <td>True</td>\n",
       "    </tr>\n",
       "    <tr>\n",
       "      <th>2</th>\n",
       "      <td>2019-04-03</td>\n",
       "      <td>23:24:00</td>\n",
       "      <td>2019</td>\n",
       "      <td>1</td>\n",
       "      <td>BURGLARY</td>\n",
       "      <td>56</td>\n",
       "      <td>True</td>\n",
       "      <td>True</td>\n",
       "      <td>False</td>\n",
       "      <td></td>\n",
       "      <td>False</td>\n",
       "      <td>False</td>\n",
       "      <td>False</td>\n",
       "      <td>False</td>\n",
       "      <td>False</td>\n",
       "      <td>False</td>\n",
       "      <td>19</td>\n",
       "      <td>MALE</td>\n",
       "      <td>WHITE</td>\n",
       "      <td>QUEENS</td>\n",
       "      <td>False</td>\n",
       "      <td>True</td>\n",
       "      <td>False</td>\n",
       "    </tr>\n",
       "    <tr>\n",
       "      <th>3</th>\n",
       "      <td>2019-10-13</td>\n",
       "      <td>02:00:00</td>\n",
       "      <td>2019</td>\n",
       "      <td>3</td>\n",
       "      <td>OTHER</td>\n",
       "      <td>5</td>\n",
       "      <td>True</td>\n",
       "      <td>False</td>\n",
       "      <td>False</td>\n",
       "      <td></td>\n",
       "      <td>False</td>\n",
       "      <td>True</td>\n",
       "      <td>False</td>\n",
       "      <td>False</td>\n",
       "      <td>False</td>\n",
       "      <td>False</td>\n",
       "      <td>39</td>\n",
       "      <td>MALE</td>\n",
       "      <td>BLACK</td>\n",
       "      <td>QUEENS</td>\n",
       "      <td>False</td>\n",
       "      <td>True</td>\n",
       "      <td>False</td>\n",
       "    </tr>\n",
       "    <tr>\n",
       "      <th>4</th>\n",
       "      <td>2019-07-26</td>\n",
       "      <td>13:19:00</td>\n",
       "      <td>2019</td>\n",
       "      <td>1</td>\n",
       "      <td>PETIT LARCENY</td>\n",
       "      <td>10</td>\n",
       "      <td>True</td>\n",
       "      <td>True</td>\n",
       "      <td>True</td>\n",
       "      <td>PETIT LARCENY</td>\n",
       "      <td>False</td>\n",
       "      <td>False</td>\n",
       "      <td>True</td>\n",
       "      <td>False</td>\n",
       "      <td>False</td>\n",
       "      <td>False</td>\n",
       "      <td>17</td>\n",
       "      <td>MALE</td>\n",
       "      <td>BLACK</td>\n",
       "      <td>QUEENS</td>\n",
       "      <td>False</td>\n",
       "      <td>True</td>\n",
       "      <td>False</td>\n",
       "    </tr>\n",
       "  </tbody>\n",
       "</table>\n",
       "</div>"
      ],
      "text/plain": [
       "        date      time  year  obs_duration      crime_sus  stop_duration  \\\n",
       "0 2019-04-15  17:46:00  2019             1        ASSAULT              5   \n",
       "1 2019-06-01  10:10:00  2019             2            CPW             20   \n",
       "2 2019-04-03  23:24:00  2019             1       BURGLARY             56   \n",
       "3 2019-10-13  02:00:00  2019             3          OTHER              5   \n",
       "4 2019-07-26  13:19:00  2019             1  PETIT LARCENY             10   \n",
       "\n",
       "   off_explain  other_stop  arstmade       arstoffn  sumissue  frisked  \\\n",
       "0         True        True     False                    False    False   \n",
       "1         True        True     False                    False     True   \n",
       "2         True        True     False                    False    False   \n",
       "3         True       False     False                    False     True   \n",
       "4         True        True      True  PETIT LARCENY     False    False   \n",
       "\n",
       "   searched  contraband  firearm  knife  age     sex   race       boro  \\\n",
       "0     False       False    False  False   52  FEMALE  BLACK  MANHATTAN   \n",
       "1     False       False    False  False   25    MALE  BLACK   BROOKLYN   \n",
       "2     False       False    False  False   19    MALE  WHITE     QUEENS   \n",
       "3     False       False    False  False   39    MALE  BLACK     QUEENS   \n",
       "4      True       False    False  False   17    MALE  BLACK     QUEENS   \n",
       "\n",
       "   other_weapon  phys_force  pt_draw_force  \n",
       "0         False        True          False  \n",
       "1         False        True           True  \n",
       "2         False        True          False  \n",
       "3         False        True          False  \n",
       "4         False        True          False  "
      ]
     },
     "execution_count": 71,
     "metadata": {},
     "output_type": "execute_result"
    }
   ],
   "source": [
    "sqf2019_final=sqf2019_sample3.copy()\n",
    "sqf2019_final.head()"
   ]
  },
  {
   "cell_type": "markdown",
   "metadata": {},
   "source": [
    "For the continuous variables in this dataset, we used the describe() method to get descriptive statistics. These descriptive statistics include count, mean, standard deviation, minimum, 25th percentile, 50th percentile, 75th percentile, and the maximum value."
   ]
  },
  {
   "cell_type": "code",
   "execution_count": 72,
   "metadata": {},
   "outputs": [
    {
     "data": {
      "text/html": [
       "<div>\n",
       "<style scoped>\n",
       "    .dataframe tbody tr th:only-of-type {\n",
       "        vertical-align: middle;\n",
       "    }\n",
       "\n",
       "    .dataframe tbody tr th {\n",
       "        vertical-align: top;\n",
       "    }\n",
       "\n",
       "    .dataframe thead th {\n",
       "        text-align: right;\n",
       "    }\n",
       "</style>\n",
       "<table border=\"1\" class=\"dataframe\">\n",
       "  <thead>\n",
       "    <tr style=\"text-align: right;\">\n",
       "      <th></th>\n",
       "      <th>obs_duration</th>\n",
       "      <th>stop_duration</th>\n",
       "      <th>age</th>\n",
       "    </tr>\n",
       "  </thead>\n",
       "  <tbody>\n",
       "    <tr>\n",
       "      <th>count</th>\n",
       "      <td>3078.000000</td>\n",
       "      <td>3078.000000</td>\n",
       "      <td>3078.000000</td>\n",
       "    </tr>\n",
       "    <tr>\n",
       "      <th>mean</th>\n",
       "      <td>3.730669</td>\n",
       "      <td>11.524691</td>\n",
       "      <td>28.215724</td>\n",
       "    </tr>\n",
       "    <tr>\n",
       "      <th>std</th>\n",
       "      <td>50.938331</td>\n",
       "      <td>18.577523</td>\n",
       "      <td>12.135578</td>\n",
       "    </tr>\n",
       "    <tr>\n",
       "      <th>min</th>\n",
       "      <td>0.000000</td>\n",
       "      <td>0.000000</td>\n",
       "      <td>13.000000</td>\n",
       "    </tr>\n",
       "    <tr>\n",
       "      <th>25%</th>\n",
       "      <td>1.000000</td>\n",
       "      <td>5.000000</td>\n",
       "      <td>19.000000</td>\n",
       "    </tr>\n",
       "    <tr>\n",
       "      <th>50%</th>\n",
       "      <td>1.000000</td>\n",
       "      <td>8.000000</td>\n",
       "      <td>25.000000</td>\n",
       "    </tr>\n",
       "    <tr>\n",
       "      <th>75%</th>\n",
       "      <td>2.000000</td>\n",
       "      <td>14.000000</td>\n",
       "      <td>35.000000</td>\n",
       "    </tr>\n",
       "    <tr>\n",
       "      <th>max</th>\n",
       "      <td>1819.000000</td>\n",
       "      <td>645.000000</td>\n",
       "      <td>78.000000</td>\n",
       "    </tr>\n",
       "  </tbody>\n",
       "</table>\n",
       "</div>"
      ],
      "text/plain": [
       "       obs_duration  stop_duration          age\n",
       "count   3078.000000    3078.000000  3078.000000\n",
       "mean       3.730669      11.524691    28.215724\n",
       "std       50.938331      18.577523    12.135578\n",
       "min        0.000000       0.000000    13.000000\n",
       "25%        1.000000       5.000000    19.000000\n",
       "50%        1.000000       8.000000    25.000000\n",
       "75%        2.000000      14.000000    35.000000\n",
       "max     1819.000000     645.000000    78.000000"
      ]
     },
     "execution_count": 72,
     "metadata": {},
     "output_type": "execute_result"
    }
   ],
   "source": [
    "sqf2019_describe = sqf2019_final.describe().drop(labels = ['year'], axis = 1)\n",
    "sqf2019_describe"
   ]
  },
  {
   "cell_type": "markdown",
   "metadata": {},
   "source": [
    "The descriptive statistics we've calculated for observation duration (obs_duration), stop duration (stop_duration), and age (age) shed some light on the sample we are working with and the nature of the stops present in this sample:"
   ]
  },
  {
   "cell_type": "code",
   "execution_count": 73,
   "metadata": {},
   "outputs": [
    {
     "name": "stdout",
     "output_type": "stream",
     "text": [
      "The average duration that a police officer observes a suspect before stopping them is 3.731 minutes, with a standard deviation of 50.938 minutes.\n",
      "The average stop lasts 11.525 minutes, with a standard deviation of 18.578 minutes.\n",
      "The average age of people who were stopped is 28, with a standard deviation of 12.136.\n"
     ]
    }
   ],
   "source": [
    "obs_avg2019 = \"The average duration that a police officer observes a suspect before stopping them is {:.3f} minutes, with a standard deviation of {:.3f} minutes.\".format(sqf2019_describe.loc[\"mean\", \"obs_duration\"], sqf2019_describe.loc[\"std\", \"obs_duration\"])\n",
    "stop_avg2019 = \"The average stop lasts {:.3f} minutes, with a standard deviation of {:.3f} minutes.\".format(sqf2019_describe.loc[\"mean\", \"stop_duration\"], sqf2019_describe.loc[\"std\", \"stop_duration\"])\n",
    "age_avg2019 = \"The average age of people who were stopped is {:.0f}, with a standard deviation of {:.3f}.\".format(sqf2019_describe.loc[\"mean\", \"age\"], sqf2019_describe.loc[\"std\", \"age\"])\n",
    "print(obs_avg2019)\n",
    "print(stop_avg2019)\n",
    "print(age_avg2019)"
   ]
  },
  {
   "cell_type": "code",
   "execution_count": 84,
   "metadata": {},
   "outputs": [
    {
     "data": {
      "image/png": "[encoded data removed]",
      "text/plain": [
       "<Figure size 1440x432 with 1 Axes>"
      ]
     },
     "metadata": {
      "needs_background": "light"
     },
     "output_type": "display_data"
    }
   ],
   "source": [
    "#Histogram of age\n",
    "plt.figure(figsize=(20, 6))\n",
    "plt.hist(sqf2019_final['age'])\n",
    "plt.xlabel('Age')\n",
    "plt.ylabel('Frequency')\n",
    "plt.title('Histogram of Age in Stop, Question, and Frisk Sample (2019)')\n",
    "plt.show()"
   ]
  },
  {
   "cell_type": "markdown",
   "metadata": {},
   "source": [
    "The age at which most stops in 2019 were made is between ~15-30 years old. The least stopped age groups in 2019 are 70-80 year olds."
   ]
  },
  {
   "cell_type": "code",
   "execution_count": 85,
   "metadata": {},
   "outputs": [
    {
     "data": {
      "image/png": "[encoded data removed]",
      "text/plain": [
       "<Figure size 1080x576 with 1 Axes>"
      ]
     },
     "metadata": {
      "needs_background": "light"
     },
     "output_type": "display_data"
    }
   ],
   "source": [
    "#scatter plot of age and stop duration\n",
    "plt.figure(figsize=(15,8))\n",
    "plt.scatter(sqf2019_final['age'], sqf2019_final['stop_duration'], alpha = 0.3)\n",
    "plt.xlabel('Age')\n",
    "plt.ylabel('Stop Duration')\n",
    "plt.title('Scatter plot of Age and Stop Duration in Stop, Question, and Frisk Sample (2019)')\n",
    "plt.show()"
   ]
  },
  {
   "cell_type": "markdown",
   "metadata": {},
   "source": [
    "According to the scatter plot, most stop durations are less than 50 minutes long no matter the age. There does not seem to be a strong correlation in the data between age and stop duration."
   ]
  },
  {
   "cell_type": "code",
   "execution_count": 86,
   "metadata": {},
   "outputs": [
    {
     "data": {
      "image/png": "[encoded data removed]",
      "text/plain": [
       "<Figure size 1440x576 with 1 Axes>"
      ]
     },
     "metadata": {
      "needs_background": "light"
     },
     "output_type": "display_data"
    }
   ],
   "source": [
    "#Histogram of Race ///should be bar graph but but bar graph function is weird!!!!\n",
    "plt.figure(figsize=(20,8))\n",
    "plt.hist(sqf2019_final['race'],histtype='bar')#idk how to make this look prettier\n",
    "plt.xlabel('Race')\n",
    "plt.ylabel('Frequency')\n",
    "plt.title('Histogram of Race in Stop, Question, and Frisk Sample (2019)')\n",
    "\n",
    "plt.show()"
   ]
  },
  {
   "cell_type": "markdown",
   "metadata": {},
   "source": [
    "The histogram of races show that out of all races in the sample, Black people were stopped the most in 2019 and American Indian/Alaskan the least, excluding the unknown race category."
   ]
  },
  {
   "cell_type": "code",
   "execution_count": 87,
   "metadata": {},
   "outputs": [
    {
     "data": {
      "image/png": "[encoded data removed]",
      "text/plain": [
       "<Figure size 1440x720 with 1 Axes>"
      ]
     },
     "metadata": {
      "needs_background": "light"
     },
     "output_type": "display_data"
    }
   ],
   "source": [
    "#Boxplot of race and stop duration\n",
    "sqf2019_final.boxplot(column=['stop_duration'], by= ['race'], figsize=(20,10))\n",
    "plt.ylabel('Stop Duration')\n",
    "plt.tight_layout()\n",
    "plt.show()"
   ]
  },
  {
   "cell_type": "markdown",
   "metadata": {},
   "source": [
    "According to the boxplot, the median stop durations are about the same no matter the race. The interquartile ranges for each race are close as well. However, the range of stop times with Black and Black Hispanic having the greatest ranges in this sample."
   ]
  },
  {
   "cell_type": "code",
   "execution_count": 88,
   "metadata": {},
   "outputs": [
    {
     "data": {
      "image/png": "[encoded data removed]",
      "text/plain": [
       "<Figure size 1440x576 with 1 Axes>"
      ]
     },
     "metadata": {
      "needs_background": "light"
     },
     "output_type": "display_data"
    }
   ],
   "source": [
    "#Histogram of sex\n",
    "plt.figure(figsize=(20,8))\n",
    "plt.hist(sqf2019_final['sex'])\n",
    "plt.xlabel('Sex')\n",
    "plt.ylabel('Frequency')\n",
    "plt.title('Histogram of Sex')\n",
    "plt.show()"
   ]
  },
  {
   "cell_type": "code",
   "execution_count": 89,
   "metadata": {},
   "outputs": [
    {
     "data": {
      "image/png": "[encoded data removed]",
      "text/plain": [
       "<Figure size 720x432 with 1 Axes>"
      ]
     },
     "metadata": {
      "needs_background": "light"
     },
     "output_type": "display_data"
    }
   ],
   "source": [
    "#stop duration by sex\n",
    "sqf2019_final.boxplot(column=['stop_duration'], by= ['sex'], figsize=(10,6))\n",
    "plt.ylabel('Stop Duration')\n",
    "plt.tight_layout()\n",
    "plt.show()"
   ]
  },
  {
   "cell_type": "markdown",
   "metadata": {},
   "source": [
    "The graph above shows that a lot more males were stopped than females in 2019. The boxplot shows that the range and IQR of stop durations for females and males is about the same. However, more males have longer stop durations than females."
   ]
  },
  {
   "cell_type": "markdown",
   "metadata": {},
   "source": [
    "#### Dataset #3: Criminal Offense Data (2009-2019)\n",
    "\n",
    "---"
   ]
  },
  {
   "cell_type": "code",
   "execution_count": 80,
   "metadata": {},
   "outputs": [
    {
     "data": {
      "image/png": "[encoded data removed]",
      "text/plain": [
       "<Figure size 432x288 with 1 Axes>"
      ]
     },
     "metadata": {
      "needs_background": "light"
     },
     "output_type": "display_data"
    }
   ],
   "source": [
    "# Drug Misdemeanor count over the years\n",
    "plt.plot(crime_data.iloc[11,1:12], label = 'Non-Major Felony Drug Offense')\n",
    "plt.plot(crime_data.iloc[17,1:12], label = 'Misdemeanor Drug Offense')\n",
    "\n",
    "plt.title('Drug Offense Count per Year')\n",
    "plt.xlabel('Year')\n",
    "plt.ylabel('Count (# of drug offenses)')\n",
    "plt.legend(loc='upper right')\n",
    "plt.show()"
   ]
  },
  {
   "cell_type": "markdown",
   "metadata": {},
   "source": [
    "The graph above shows the count of Non-Major Felony Drug Offenses and Misdemeanor Drug Offenses, respectively, from 2009 to 2019. Both variables decreased dramatically over the given time period. Non-Major Felony Drug Offenses fell 63.16%, from 26,025 to 9,587. Misdemeanor Felony Drug Offenses fell 86.31%, from 79,302 to 10,854. "
   ]
  },
  {
   "cell_type": "code",
   "execution_count": 81,
   "metadata": {},
   "outputs": [],
   "source": [
    "# Calculations Used in Above Description:\n",
    "nm_2009 = crime_data.iloc[11,1]\n",
    "#print(nm_2009)\n",
    "nm_2019 = crime_data.iloc[11,11]\n",
    "#print(nm_2019)\n",
    "nm_change = (1 - (nm_2019/nm_2009)) * 100\n",
    "#print(nm_change)\n",
    "\n",
    "m_2009 = crime_data.iloc[17,1]\n",
    "#print(m_2009)\n",
    "m_2019 = crime_data.iloc[17,11]\n",
    "#print(m_2019)\n",
    "m_change = (1 - (m_2019/m_2009)) * 100\n",
    "#print(m_change)"
   ]
  },
  {
   "cell_type": "code",
   "execution_count": 82,
   "metadata": {},
   "outputs": [
    {
     "data": {
      "image/png": "[encoded data removed]",
      "text/plain": [
       "<Figure size 1440x576 with 1 Axes>"
      ]
     },
     "metadata": {
      "needs_background": "light"
     },
     "output_type": "display_data"
    }
   ],
   "source": [
    "#Bar Graph of 2009 Felony Offenses\n",
    "\n",
    "plt.figure(figsize=(20,8))\n",
    "plt.bar(crime_data[crime_data['status'] == 'major_felony'].offense, crime_data[crime_data['status'] == 'major_felony'][2009])\n",
    "plt.title('Count of Each Type of Major Felony Offense in 2009')\n",
    "plt.xlabel('Felony Offense Type')\n",
    "plt.ylabel('Count')\n",
    "plt.show()"
   ]
  },
  {
   "cell_type": "markdown",
   "metadata": {},
   "source": [
    "The bar graph above shows that in 2009 grand larceny was the most popular felony offense reported by the NYPD (39,580). The number of felony robberies (18,601), assaults (16,773), and burglaries (19430) were roughly half the count of felony grand larceny offenses, respectively. The counts of murder (471) and rape (1205) are both minimal relative to the number other felony offenses in 2009, though they are much more serious crimes."
   ]
  },
  {
   "cell_type": "code",
   "execution_count": 83,
   "metadata": {},
   "outputs": [
    {
     "data": {
      "image/png": "[encoded data removed]",
      "text/plain": [
       "<Figure size 1440x576 with 1 Axes>"
      ]
     },
     "metadata": {
      "needs_background": "light"
     },
     "output_type": "display_data"
    }
   ],
   "source": [
    "#Bar Graph of 2011 Felony Offenses\n",
    "\n",
    "plt.figure(figsize=(20,8))\n",
    "plt.bar(crime_data[crime_data['status'] == 'major_felony'].offense, crime_data[crime_data['status'] == 'major_felony'][2011])\n",
    "plt.title('Count of Each Type of Major Felony Offense in 2011')\n",
    "plt.xlabel('Felony Offense Type')\n",
    "plt.ylabel('Count')\n",
    "plt.show()"
   ]
  },
  {
   "cell_type": "markdown",
   "metadata": {},
   "source": [
    "The bar graph above shows the distribution of felony offenses in 2011 as nearly identical to the distribution in 2009 (see previous bar graph)."
   ]
  },
  {
   "cell_type": "code",
   "execution_count": null,
   "metadata": {},
   "outputs": [],
   "source": []
  }
 ],
 "metadata": {
  "kernelspec": {
   "display_name": "Python 3",
   "language": "python",
   "name": "python3"
  },
  "language_info": {
   "codemirror_mode": {
    "name": "ipython",
    "version": 3
   },
   "file_extension": ".py",
   "mimetype": "text/x-python",
   "name": "python",
   "nbconvert_exporter": "python",
   "pygments_lexer": "ipython3",
   "version": "3.8.5"
  }
 },
 "nbformat": 4,
 "nbformat_minor": 4
}
